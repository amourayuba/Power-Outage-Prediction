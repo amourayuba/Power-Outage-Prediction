{
 "cells": [
  {
   "cell_type": "code",
   "execution_count": 2,
   "id": "62dc53ae-ef4d-4e1f-a930-f929b32190da",
   "metadata": {},
   "outputs": [],
   "source": [
    "# import useful libraries\n",
    "import pandas as pd\n",
    "import numpy as np\n",
    "import matplotlib.pyplot as plt\n",
    "import matplotlib as mpl \n",
    "mpl.rcParams[\"figure.dpi\"] = 150\n",
    "import seaborn as sns\n",
    "import os\n",
    "import datetime as dt\n",
    "# enable copy on write (default in pandas 3.0)\n",
    "pd.options.mode.copy_on_write = True"
   ]
  },
  {
   "cell_type": "code",
   "execution_count": 3,
   "id": "ec7da558-b12e-4c77-ae48-afd376479fc2",
   "metadata": {},
   "outputs": [],
   "source": [
    "def read_merged(weather, year):\n",
    "    return pd.read_csv('../merged/merged_{}_{}.csv.gz'.format(weather, year))\n"
   ]
  },
  {
   "cell_type": "code",
   "execution_count": 3,
   "id": "78627921-404f-4dd2-90cb-4ac284717936",
   "metadata": {},
   "outputs": [],
   "source": [
    "light_2019 = read_merged('lightning', 2019)"
   ]
  },
  {
   "cell_type": "code",
   "execution_count": 4,
   "id": "a9cd865f-48ec-4b36-a281-811d629ba61e",
   "metadata": {},
   "outputs": [],
   "source": [
    "del light_2019['#ZDAY']\n",
    "del light_2019['Unnamed: 0']"
   ]
  },
  {
   "cell_type": "code",
   "execution_count": 5,
   "id": "394d2f55-ef1c-4834-9d01-854f2f6b5803",
   "metadata": {},
   "outputs": [
    {
     "name": "stdout",
     "output_type": "stream",
     "text": [
      "<class 'pandas.core.frame.DataFrame'>\n",
      "RangeIndex: 2493781 entries, 0 to 2493780\n",
      "Data columns (total 7 columns):\n",
      " #   Column        Dtype  \n",
      "---  ------        -----  \n",
      " 0   CENTERLON     float64\n",
      " 1   CENTERLAT     float64\n",
      " 2   TOTAL_COUNT   int64  \n",
      " 3   DATE          object \n",
      " 4   county        object \n",
      " 5   state         object \n",
      " 6   power_outage  bool   \n",
      "dtypes: bool(1), float64(2), int64(1), object(3)\n",
      "memory usage: 116.5+ MB\n"
     ]
    }
   ],
   "source": [
    "light_2019.info()"
   ]
  },
  {
   "cell_type": "code",
   "execution_count": 6,
   "id": "0a4860a4-aebe-42bc-91ec-af443338906e",
   "metadata": {},
   "outputs": [],
   "source": [
    "light_2019['log_total_count'] = np.log10(light_2019['TOTAL_COUNT'])\n",
    "light_2019['DATE'] = pd.to_datetime(light_2019['DATE'])\n",
    "light_2019['Month'] = light_2019['DATE'].dt.month"
   ]
  },
  {
   "cell_type": "code",
   "execution_count": 26,
   "id": "bca099b5-cc38-479a-b224-a6f0df1bce4a",
   "metadata": {},
   "outputs": [
    {
     "data": {
      "text/plain": [
       "Index(['CENTERLON', 'CENTERLAT', 'TOTAL_COUNT', 'DATE', 'county', 'state',\n",
       "       'power_outage', 'log_total_count', 'Month'],\n",
       "      dtype='object')"
      ]
     },
     "execution_count": 26,
     "metadata": {},
     "output_type": "execute_result"
    }
   ],
   "source": [
    "light_2019.columns"
   ]
  },
  {
   "cell_type": "code",
   "execution_count": 18,
   "id": "3230ae96-0908-4b53-bdaa-35d57bacc0dc",
   "metadata": {},
   "outputs": [
    {
     "data": {
      "text/plain": [
       "False    0.980163\n",
       "True     0.019837\n",
       "Name: power_outage, dtype: float64"
      ]
     },
     "execution_count": 18,
     "metadata": {},
     "output_type": "execute_result"
    }
   ],
   "source": [
    "light_2019['power_outage'].value_counts(normalize=True)"
   ]
  },
  {
   "cell_type": "markdown",
   "id": "b50e7df1-37e7-4b94-a3de-efa46114603e",
   "metadata": {},
   "source": [
    "### Let's try XGBOOST"
   ]
  },
  {
   "cell_type": "code",
   "execution_count": 7,
   "id": "5a0471d9-f3b1-48ca-b4f2-e899e5065103",
   "metadata": {},
   "outputs": [],
   "source": [
    "import xgboost\n",
    "from sklearn.model_selection import train_test_split\n",
    "from sklearn.model_selection import GridSearchCV\n",
    "from sklearn.model_selection import StratifiedKFold\n",
    "from sklearn.metrics import accuracy_score, precision_score, recall_score\n",
    "from sklearn.metrics import f1_score, make_scorer\n"
   ]
  },
  {
   "cell_type": "code",
   "execution_count": 8,
   "id": "cffce649-71a2-4f6f-81c2-d5da402d04d2",
   "metadata": {},
   "outputs": [],
   "source": [
    "light_train, light_test = train_test_split(light_2019.copy(), shuffle=True, test_size=0.2, stratify=light_2019.power_outage)"
   ]
  },
  {
   "cell_type": "code",
   "execution_count": 32,
   "id": "973d34d4-347d-4d96-a2ab-4aa45a0005f2",
   "metadata": {},
   "outputs": [],
   "source": [
    "xgb_clas1 = xgboost.XGBClassifier(learning_rate=.1,\n",
    "                                   max_depth=3,\n",
    "                                   n_estimators=200, objective='binary:logistic')"
   ]
  },
  {
   "cell_type": "code",
   "execution_count": 28,
   "id": "7dc807ce-9982-4de1-8607-37a2690ccd74",
   "metadata": {},
   "outputs": [],
   "source": [
    "features = ['CENTERLON', 'CENTERLAT', 'log_total_count', 'Month', 'TOTAL_COUNT']"
   ]
  },
  {
   "cell_type": "code",
   "execution_count": null,
   "id": "2db63599-fee7-4eb8-95b5-21a2b7a63af8",
   "metadata": {},
   "outputs": [],
   "source": []
  },
  {
   "cell_type": "code",
   "execution_count": 33,
   "id": "e9a88aec-b6c5-43fa-9d24-d9cd5d58718b",
   "metadata": {},
   "outputs": [
    {
     "data": {
      "text/html": [
       "<style>#sk-container-id-2 {color: black;background-color: white;}#sk-container-id-2 pre{padding: 0;}#sk-container-id-2 div.sk-toggleable {background-color: white;}#sk-container-id-2 label.sk-toggleable__label {cursor: pointer;display: block;width: 100%;margin-bottom: 0;padding: 0.3em;box-sizing: border-box;text-align: center;}#sk-container-id-2 label.sk-toggleable__label-arrow:before {content: \"▸\";float: left;margin-right: 0.25em;color: #696969;}#sk-container-id-2 label.sk-toggleable__label-arrow:hover:before {color: black;}#sk-container-id-2 div.sk-estimator:hover label.sk-toggleable__label-arrow:before {color: black;}#sk-container-id-2 div.sk-toggleable__content {max-height: 0;max-width: 0;overflow: hidden;text-align: left;background-color: #f0f8ff;}#sk-container-id-2 div.sk-toggleable__content pre {margin: 0.2em;color: black;border-radius: 0.25em;background-color: #f0f8ff;}#sk-container-id-2 input.sk-toggleable__control:checked~div.sk-toggleable__content {max-height: 200px;max-width: 100%;overflow: auto;}#sk-container-id-2 input.sk-toggleable__control:checked~label.sk-toggleable__label-arrow:before {content: \"▾\";}#sk-container-id-2 div.sk-estimator input.sk-toggleable__control:checked~label.sk-toggleable__label {background-color: #d4ebff;}#sk-container-id-2 div.sk-label input.sk-toggleable__control:checked~label.sk-toggleable__label {background-color: #d4ebff;}#sk-container-id-2 input.sk-hidden--visually {border: 0;clip: rect(1px 1px 1px 1px);clip: rect(1px, 1px, 1px, 1px);height: 1px;margin: -1px;overflow: hidden;padding: 0;position: absolute;width: 1px;}#sk-container-id-2 div.sk-estimator {font-family: monospace;background-color: #f0f8ff;border: 1px dotted black;border-radius: 0.25em;box-sizing: border-box;margin-bottom: 0.5em;}#sk-container-id-2 div.sk-estimator:hover {background-color: #d4ebff;}#sk-container-id-2 div.sk-parallel-item::after {content: \"\";width: 100%;border-bottom: 1px solid gray;flex-grow: 1;}#sk-container-id-2 div.sk-label:hover label.sk-toggleable__label {background-color: #d4ebff;}#sk-container-id-2 div.sk-serial::before {content: \"\";position: absolute;border-left: 1px solid gray;box-sizing: border-box;top: 0;bottom: 0;left: 50%;z-index: 0;}#sk-container-id-2 div.sk-serial {display: flex;flex-direction: column;align-items: center;background-color: white;padding-right: 0.2em;padding-left: 0.2em;position: relative;}#sk-container-id-2 div.sk-item {position: relative;z-index: 1;}#sk-container-id-2 div.sk-parallel {display: flex;align-items: stretch;justify-content: center;background-color: white;position: relative;}#sk-container-id-2 div.sk-item::before, #sk-container-id-2 div.sk-parallel-item::before {content: \"\";position: absolute;border-left: 1px solid gray;box-sizing: border-box;top: 0;bottom: 0;left: 50%;z-index: -1;}#sk-container-id-2 div.sk-parallel-item {display: flex;flex-direction: column;z-index: 1;position: relative;background-color: white;}#sk-container-id-2 div.sk-parallel-item:first-child::after {align-self: flex-end;width: 50%;}#sk-container-id-2 div.sk-parallel-item:last-child::after {align-self: flex-start;width: 50%;}#sk-container-id-2 div.sk-parallel-item:only-child::after {width: 0;}#sk-container-id-2 div.sk-dashed-wrapped {border: 1px dashed gray;margin: 0 0.4em 0.5em 0.4em;box-sizing: border-box;padding-bottom: 0.4em;background-color: white;}#sk-container-id-2 div.sk-label label {font-family: monospace;font-weight: bold;display: inline-block;line-height: 1.2em;}#sk-container-id-2 div.sk-label-container {text-align: center;}#sk-container-id-2 div.sk-container {/* jupyter's `normalize.less` sets `[hidden] { display: none; }` but bootstrap.min.css set `[hidden] { display: none !important; }` so we also need the `!important` here to be able to override the default hidden behavior on the sphinx rendered scikit-learn.org. See: https://github.com/scikit-learn/scikit-learn/issues/21755 */display: inline-block !important;position: relative;}#sk-container-id-2 div.sk-text-repr-fallback {display: none;}</style><div id=\"sk-container-id-2\" class=\"sk-top-container\"><div class=\"sk-text-repr-fallback\"><pre>XGBClassifier(base_score=None, booster=None, callbacks=None,\n",
       "              colsample_bylevel=None, colsample_bynode=None,\n",
       "              colsample_bytree=None, device=None, early_stopping_rounds=None,\n",
       "              enable_categorical=False, eval_metric=None, feature_types=None,\n",
       "              gamma=None, grow_policy=None, importance_type=None,\n",
       "              interaction_constraints=None, learning_rate=0.1, max_bin=None,\n",
       "              max_cat_threshold=None, max_cat_to_onehot=None,\n",
       "              max_delta_step=None, max_depth=3, max_leaves=None,\n",
       "              min_child_weight=None, missing=nan, monotone_constraints=None,\n",
       "              multi_strategy=None, n_estimators=200, n_jobs=None,\n",
       "              num_parallel_tree=None, random_state=None, ...)</pre><b>In a Jupyter environment, please rerun this cell to show the HTML representation or trust the notebook. <br />On GitHub, the HTML representation is unable to render, please try loading this page with nbviewer.org.</b></div><div class=\"sk-container\" hidden><div class=\"sk-item\"><div class=\"sk-estimator sk-toggleable\"><input class=\"sk-toggleable__control sk-hidden--visually\" id=\"sk-estimator-id-2\" type=\"checkbox\" checked><label for=\"sk-estimator-id-2\" class=\"sk-toggleable__label sk-toggleable__label-arrow\">XGBClassifier</label><div class=\"sk-toggleable__content\"><pre>XGBClassifier(base_score=None, booster=None, callbacks=None,\n",
       "              colsample_bylevel=None, colsample_bynode=None,\n",
       "              colsample_bytree=None, device=None, early_stopping_rounds=None,\n",
       "              enable_categorical=False, eval_metric=None, feature_types=None,\n",
       "              gamma=None, grow_policy=None, importance_type=None,\n",
       "              interaction_constraints=None, learning_rate=0.1, max_bin=None,\n",
       "              max_cat_threshold=None, max_cat_to_onehot=None,\n",
       "              max_delta_step=None, max_depth=3, max_leaves=None,\n",
       "              min_child_weight=None, missing=nan, monotone_constraints=None,\n",
       "              multi_strategy=None, n_estimators=200, n_jobs=None,\n",
       "              num_parallel_tree=None, random_state=None, ...)</pre></div></div></div></div></div>"
      ],
      "text/plain": [
       "XGBClassifier(base_score=None, booster=None, callbacks=None,\n",
       "              colsample_bylevel=None, colsample_bynode=None,\n",
       "              colsample_bytree=None, device=None, early_stopping_rounds=None,\n",
       "              enable_categorical=False, eval_metric=None, feature_types=None,\n",
       "              gamma=None, grow_policy=None, importance_type=None,\n",
       "              interaction_constraints=None, learning_rate=0.1, max_bin=None,\n",
       "              max_cat_threshold=None, max_cat_to_onehot=None,\n",
       "              max_delta_step=None, max_depth=3, max_leaves=None,\n",
       "              min_child_weight=None, missing=nan, monotone_constraints=None,\n",
       "              multi_strategy=None, n_estimators=200, n_jobs=None,\n",
       "              num_parallel_tree=None, random_state=None, ...)"
      ]
     },
     "execution_count": 33,
     "metadata": {},
     "output_type": "execute_result"
    }
   ],
   "source": [
    "xgb_clas1.fit(light_train[features],light_train['power_outage'])"
   ]
  },
  {
   "cell_type": "code",
   "execution_count": 35,
   "id": "e790675f-0c1a-4300-b51f-419dbb76b2ac",
   "metadata": {},
   "outputs": [],
   "source": [
    "pred = xgb_clas1.predict(light_train[features])\n",
    "acc, prec, recall = accuracy_score(pred, light_train.power_outage), precision_score(pred, light_train.power_outage), recall_score(pred, light_train.power_outage)"
   ]
  },
  {
   "cell_type": "code",
   "execution_count": 14,
   "id": "58698b4f-a97f-4bb6-b1b5-857585d28832",
   "metadata": {},
   "outputs": [],
   "source": [
    "model = xgboost.XGBClassifier(\n",
    "    objective= 'binary:logistic',\n",
    "    nthread=4,\n",
    "    seed=42)\n",
    "\n",
    "parameters = {\n",
    "    'max_depth': range (14, 16,  1),\n",
    "    'n_estimators': range(300, 380, 20),\n",
    "    'learning_rate': [0.25, 0.35]\n",
    "}\n",
    "\n",
    "grid_search = GridSearchCV(model,\n",
    "    param_grid=parameters,\n",
    "    scoring='f1',\n",
    "    cv = 5,\n",
    "    n_jobs = 10,\n",
    "    verbose=True)\n"
   ]
  },
  {
   "cell_type": "code",
   "execution_count": 15,
   "id": "40d5ec13-c4f7-4cee-b7fe-eced60721ee6",
   "metadata": {},
   "outputs": [
    {
     "name": "stdout",
     "output_type": "stream",
     "text": [
      "Fitting 5 folds for each of 16 candidates, totalling 80 fits\n"
     ]
    },
    {
     "name": "stderr",
     "output_type": "stream",
     "text": [
      "/home/painchess/.local/lib/python3.11/site-packages/joblib/externals/loky/process_executor.py:700: UserWarning: A worker stopped while some jobs were given to the executor. This can be caused by a too short worker timeout or by a memory leak.\n",
      "  warnings.warn(\n"
     ]
    },
    {
     "data": {
      "text/html": [
       "<style>#sk-container-id-3 {color: black;background-color: white;}#sk-container-id-3 pre{padding: 0;}#sk-container-id-3 div.sk-toggleable {background-color: white;}#sk-container-id-3 label.sk-toggleable__label {cursor: pointer;display: block;width: 100%;margin-bottom: 0;padding: 0.3em;box-sizing: border-box;text-align: center;}#sk-container-id-3 label.sk-toggleable__label-arrow:before {content: \"▸\";float: left;margin-right: 0.25em;color: #696969;}#sk-container-id-3 label.sk-toggleable__label-arrow:hover:before {color: black;}#sk-container-id-3 div.sk-estimator:hover label.sk-toggleable__label-arrow:before {color: black;}#sk-container-id-3 div.sk-toggleable__content {max-height: 0;max-width: 0;overflow: hidden;text-align: left;background-color: #f0f8ff;}#sk-container-id-3 div.sk-toggleable__content pre {margin: 0.2em;color: black;border-radius: 0.25em;background-color: #f0f8ff;}#sk-container-id-3 input.sk-toggleable__control:checked~div.sk-toggleable__content {max-height: 200px;max-width: 100%;overflow: auto;}#sk-container-id-3 input.sk-toggleable__control:checked~label.sk-toggleable__label-arrow:before {content: \"▾\";}#sk-container-id-3 div.sk-estimator input.sk-toggleable__control:checked~label.sk-toggleable__label {background-color: #d4ebff;}#sk-container-id-3 div.sk-label input.sk-toggleable__control:checked~label.sk-toggleable__label {background-color: #d4ebff;}#sk-container-id-3 input.sk-hidden--visually {border: 0;clip: rect(1px 1px 1px 1px);clip: rect(1px, 1px, 1px, 1px);height: 1px;margin: -1px;overflow: hidden;padding: 0;position: absolute;width: 1px;}#sk-container-id-3 div.sk-estimator {font-family: monospace;background-color: #f0f8ff;border: 1px dotted black;border-radius: 0.25em;box-sizing: border-box;margin-bottom: 0.5em;}#sk-container-id-3 div.sk-estimator:hover {background-color: #d4ebff;}#sk-container-id-3 div.sk-parallel-item::after {content: \"\";width: 100%;border-bottom: 1px solid gray;flex-grow: 1;}#sk-container-id-3 div.sk-label:hover label.sk-toggleable__label {background-color: #d4ebff;}#sk-container-id-3 div.sk-serial::before {content: \"\";position: absolute;border-left: 1px solid gray;box-sizing: border-box;top: 0;bottom: 0;left: 50%;z-index: 0;}#sk-container-id-3 div.sk-serial {display: flex;flex-direction: column;align-items: center;background-color: white;padding-right: 0.2em;padding-left: 0.2em;position: relative;}#sk-container-id-3 div.sk-item {position: relative;z-index: 1;}#sk-container-id-3 div.sk-parallel {display: flex;align-items: stretch;justify-content: center;background-color: white;position: relative;}#sk-container-id-3 div.sk-item::before, #sk-container-id-3 div.sk-parallel-item::before {content: \"\";position: absolute;border-left: 1px solid gray;box-sizing: border-box;top: 0;bottom: 0;left: 50%;z-index: -1;}#sk-container-id-3 div.sk-parallel-item {display: flex;flex-direction: column;z-index: 1;position: relative;background-color: white;}#sk-container-id-3 div.sk-parallel-item:first-child::after {align-self: flex-end;width: 50%;}#sk-container-id-3 div.sk-parallel-item:last-child::after {align-self: flex-start;width: 50%;}#sk-container-id-3 div.sk-parallel-item:only-child::after {width: 0;}#sk-container-id-3 div.sk-dashed-wrapped {border: 1px dashed gray;margin: 0 0.4em 0.5em 0.4em;box-sizing: border-box;padding-bottom: 0.4em;background-color: white;}#sk-container-id-3 div.sk-label label {font-family: monospace;font-weight: bold;display: inline-block;line-height: 1.2em;}#sk-container-id-3 div.sk-label-container {text-align: center;}#sk-container-id-3 div.sk-container {/* jupyter's `normalize.less` sets `[hidden] { display: none; }` but bootstrap.min.css set `[hidden] { display: none !important; }` so we also need the `!important` here to be able to override the default hidden behavior on the sphinx rendered scikit-learn.org. See: https://github.com/scikit-learn/scikit-learn/issues/21755 */display: inline-block !important;position: relative;}#sk-container-id-3 div.sk-text-repr-fallback {display: none;}</style><div id=\"sk-container-id-3\" class=\"sk-top-container\"><div class=\"sk-text-repr-fallback\"><pre>GridSearchCV(cv=5,\n",
       "             estimator=XGBClassifier(base_score=None, booster=None,\n",
       "                                     callbacks=None, colsample_bylevel=None,\n",
       "                                     colsample_bynode=None,\n",
       "                                     colsample_bytree=None, device=None,\n",
       "                                     early_stopping_rounds=None,\n",
       "                                     enable_categorical=False, eval_metric=None,\n",
       "                                     feature_types=None, gamma=None,\n",
       "                                     grow_policy=None, importance_type=None,\n",
       "                                     interaction_constraints=None,\n",
       "                                     learning_rate=None,...\n",
       "                                     max_cat_to_onehot=None,\n",
       "                                     max_delta_step=None, max_depth=None,\n",
       "                                     max_leaves=None, min_child_weight=None,\n",
       "                                     missing=nan, monotone_constraints=None,\n",
       "                                     multi_strategy=None, n_estimators=None,\n",
       "                                     n_jobs=None, nthread=4,\n",
       "                                     num_parallel_tree=None, ...),\n",
       "             n_jobs=10,\n",
       "             param_grid={&#x27;learning_rate&#x27;: [0.25, 0.35],\n",
       "                         &#x27;max_depth&#x27;: range(14, 16),\n",
       "                         &#x27;n_estimators&#x27;: range(300, 380, 20)},\n",
       "             scoring=&#x27;f1&#x27;, verbose=True)</pre><b>In a Jupyter environment, please rerun this cell to show the HTML representation or trust the notebook. <br />On GitHub, the HTML representation is unable to render, please try loading this page with nbviewer.org.</b></div><div class=\"sk-container\" hidden><div class=\"sk-item sk-dashed-wrapped\"><div class=\"sk-label-container\"><div class=\"sk-label sk-toggleable\"><input class=\"sk-toggleable__control sk-hidden--visually\" id=\"sk-estimator-id-5\" type=\"checkbox\" ><label for=\"sk-estimator-id-5\" class=\"sk-toggleable__label sk-toggleable__label-arrow\">GridSearchCV</label><div class=\"sk-toggleable__content\"><pre>GridSearchCV(cv=5,\n",
       "             estimator=XGBClassifier(base_score=None, booster=None,\n",
       "                                     callbacks=None, colsample_bylevel=None,\n",
       "                                     colsample_bynode=None,\n",
       "                                     colsample_bytree=None, device=None,\n",
       "                                     early_stopping_rounds=None,\n",
       "                                     enable_categorical=False, eval_metric=None,\n",
       "                                     feature_types=None, gamma=None,\n",
       "                                     grow_policy=None, importance_type=None,\n",
       "                                     interaction_constraints=None,\n",
       "                                     learning_rate=None,...\n",
       "                                     max_cat_to_onehot=None,\n",
       "                                     max_delta_step=None, max_depth=None,\n",
       "                                     max_leaves=None, min_child_weight=None,\n",
       "                                     missing=nan, monotone_constraints=None,\n",
       "                                     multi_strategy=None, n_estimators=None,\n",
       "                                     n_jobs=None, nthread=4,\n",
       "                                     num_parallel_tree=None, ...),\n",
       "             n_jobs=10,\n",
       "             param_grid={&#x27;learning_rate&#x27;: [0.25, 0.35],\n",
       "                         &#x27;max_depth&#x27;: range(14, 16),\n",
       "                         &#x27;n_estimators&#x27;: range(300, 380, 20)},\n",
       "             scoring=&#x27;f1&#x27;, verbose=True)</pre></div></div></div><div class=\"sk-parallel\"><div class=\"sk-parallel-item\"><div class=\"sk-item\"><div class=\"sk-label-container\"><div class=\"sk-label sk-toggleable\"><input class=\"sk-toggleable__control sk-hidden--visually\" id=\"sk-estimator-id-6\" type=\"checkbox\" ><label for=\"sk-estimator-id-6\" class=\"sk-toggleable__label sk-toggleable__label-arrow\">estimator: XGBClassifier</label><div class=\"sk-toggleable__content\"><pre>XGBClassifier(base_score=None, booster=None, callbacks=None,\n",
       "              colsample_bylevel=None, colsample_bynode=None,\n",
       "              colsample_bytree=None, device=None, early_stopping_rounds=None,\n",
       "              enable_categorical=False, eval_metric=None, feature_types=None,\n",
       "              gamma=None, grow_policy=None, importance_type=None,\n",
       "              interaction_constraints=None, learning_rate=None, max_bin=None,\n",
       "              max_cat_threshold=None, max_cat_to_onehot=None,\n",
       "              max_delta_step=None, max_depth=None, max_leaves=None,\n",
       "              min_child_weight=None, missing=nan, monotone_constraints=None,\n",
       "              multi_strategy=None, n_estimators=None, n_jobs=None, nthread=4,\n",
       "              num_parallel_tree=None, ...)</pre></div></div></div><div class=\"sk-serial\"><div class=\"sk-item\"><div class=\"sk-estimator sk-toggleable\"><input class=\"sk-toggleable__control sk-hidden--visually\" id=\"sk-estimator-id-7\" type=\"checkbox\" ><label for=\"sk-estimator-id-7\" class=\"sk-toggleable__label sk-toggleable__label-arrow\">XGBClassifier</label><div class=\"sk-toggleable__content\"><pre>XGBClassifier(base_score=None, booster=None, callbacks=None,\n",
       "              colsample_bylevel=None, colsample_bynode=None,\n",
       "              colsample_bytree=None, device=None, early_stopping_rounds=None,\n",
       "              enable_categorical=False, eval_metric=None, feature_types=None,\n",
       "              gamma=None, grow_policy=None, importance_type=None,\n",
       "              interaction_constraints=None, learning_rate=None, max_bin=None,\n",
       "              max_cat_threshold=None, max_cat_to_onehot=None,\n",
       "              max_delta_step=None, max_depth=None, max_leaves=None,\n",
       "              min_child_weight=None, missing=nan, monotone_constraints=None,\n",
       "              multi_strategy=None, n_estimators=None, n_jobs=None, nthread=4,\n",
       "              num_parallel_tree=None, ...)</pre></div></div></div></div></div></div></div></div></div></div>"
      ],
      "text/plain": [
       "GridSearchCV(cv=5,\n",
       "             estimator=XGBClassifier(base_score=None, booster=None,\n",
       "                                     callbacks=None, colsample_bylevel=None,\n",
       "                                     colsample_bynode=None,\n",
       "                                     colsample_bytree=None, device=None,\n",
       "                                     early_stopping_rounds=None,\n",
       "                                     enable_categorical=False, eval_metric=None,\n",
       "                                     feature_types=None, gamma=None,\n",
       "                                     grow_policy=None, importance_type=None,\n",
       "                                     interaction_constraints=None,\n",
       "                                     learning_rate=None,...\n",
       "                                     max_cat_to_onehot=None,\n",
       "                                     max_delta_step=None, max_depth=None,\n",
       "                                     max_leaves=None, min_child_weight=None,\n",
       "                                     missing=nan, monotone_constraints=None,\n",
       "                                     multi_strategy=None, n_estimators=None,\n",
       "                                     n_jobs=None, nthread=4,\n",
       "                                     num_parallel_tree=None, ...),\n",
       "             n_jobs=10,\n",
       "             param_grid={'learning_rate': [0.25, 0.35],\n",
       "                         'max_depth': range(14, 16),\n",
       "                         'n_estimators': range(300, 380, 20)},\n",
       "             scoring='f1', verbose=True)"
      ]
     },
     "execution_count": 15,
     "metadata": {},
     "output_type": "execute_result"
    }
   ],
   "source": [
    "grid_search.fit(light_train[features],light_train['power_outage'])"
   ]
  },
  {
   "cell_type": "code",
   "execution_count": 17,
   "id": "39c8c816-7496-49f4-81f2-99d645831ed8",
   "metadata": {},
   "outputs": [
    {
     "data": {
      "text/html": [
       "<style>#sk-container-id-4 {color: black;background-color: white;}#sk-container-id-4 pre{padding: 0;}#sk-container-id-4 div.sk-toggleable {background-color: white;}#sk-container-id-4 label.sk-toggleable__label {cursor: pointer;display: block;width: 100%;margin-bottom: 0;padding: 0.3em;box-sizing: border-box;text-align: center;}#sk-container-id-4 label.sk-toggleable__label-arrow:before {content: \"▸\";float: left;margin-right: 0.25em;color: #696969;}#sk-container-id-4 label.sk-toggleable__label-arrow:hover:before {color: black;}#sk-container-id-4 div.sk-estimator:hover label.sk-toggleable__label-arrow:before {color: black;}#sk-container-id-4 div.sk-toggleable__content {max-height: 0;max-width: 0;overflow: hidden;text-align: left;background-color: #f0f8ff;}#sk-container-id-4 div.sk-toggleable__content pre {margin: 0.2em;color: black;border-radius: 0.25em;background-color: #f0f8ff;}#sk-container-id-4 input.sk-toggleable__control:checked~div.sk-toggleable__content {max-height: 200px;max-width: 100%;overflow: auto;}#sk-container-id-4 input.sk-toggleable__control:checked~label.sk-toggleable__label-arrow:before {content: \"▾\";}#sk-container-id-4 div.sk-estimator input.sk-toggleable__control:checked~label.sk-toggleable__label {background-color: #d4ebff;}#sk-container-id-4 div.sk-label input.sk-toggleable__control:checked~label.sk-toggleable__label {background-color: #d4ebff;}#sk-container-id-4 input.sk-hidden--visually {border: 0;clip: rect(1px 1px 1px 1px);clip: rect(1px, 1px, 1px, 1px);height: 1px;margin: -1px;overflow: hidden;padding: 0;position: absolute;width: 1px;}#sk-container-id-4 div.sk-estimator {font-family: monospace;background-color: #f0f8ff;border: 1px dotted black;border-radius: 0.25em;box-sizing: border-box;margin-bottom: 0.5em;}#sk-container-id-4 div.sk-estimator:hover {background-color: #d4ebff;}#sk-container-id-4 div.sk-parallel-item::after {content: \"\";width: 100%;border-bottom: 1px solid gray;flex-grow: 1;}#sk-container-id-4 div.sk-label:hover label.sk-toggleable__label {background-color: #d4ebff;}#sk-container-id-4 div.sk-serial::before {content: \"\";position: absolute;border-left: 1px solid gray;box-sizing: border-box;top: 0;bottom: 0;left: 50%;z-index: 0;}#sk-container-id-4 div.sk-serial {display: flex;flex-direction: column;align-items: center;background-color: white;padding-right: 0.2em;padding-left: 0.2em;position: relative;}#sk-container-id-4 div.sk-item {position: relative;z-index: 1;}#sk-container-id-4 div.sk-parallel {display: flex;align-items: stretch;justify-content: center;background-color: white;position: relative;}#sk-container-id-4 div.sk-item::before, #sk-container-id-4 div.sk-parallel-item::before {content: \"\";position: absolute;border-left: 1px solid gray;box-sizing: border-box;top: 0;bottom: 0;left: 50%;z-index: -1;}#sk-container-id-4 div.sk-parallel-item {display: flex;flex-direction: column;z-index: 1;position: relative;background-color: white;}#sk-container-id-4 div.sk-parallel-item:first-child::after {align-self: flex-end;width: 50%;}#sk-container-id-4 div.sk-parallel-item:last-child::after {align-self: flex-start;width: 50%;}#sk-container-id-4 div.sk-parallel-item:only-child::after {width: 0;}#sk-container-id-4 div.sk-dashed-wrapped {border: 1px dashed gray;margin: 0 0.4em 0.5em 0.4em;box-sizing: border-box;padding-bottom: 0.4em;background-color: white;}#sk-container-id-4 div.sk-label label {font-family: monospace;font-weight: bold;display: inline-block;line-height: 1.2em;}#sk-container-id-4 div.sk-label-container {text-align: center;}#sk-container-id-4 div.sk-container {/* jupyter's `normalize.less` sets `[hidden] { display: none; }` but bootstrap.min.css set `[hidden] { display: none !important; }` so we also need the `!important` here to be able to override the default hidden behavior on the sphinx rendered scikit-learn.org. See: https://github.com/scikit-learn/scikit-learn/issues/21755 */display: inline-block !important;position: relative;}#sk-container-id-4 div.sk-text-repr-fallback {display: none;}</style><div id=\"sk-container-id-4\" class=\"sk-top-container\"><div class=\"sk-text-repr-fallback\"><pre>XGBClassifier(base_score=None, booster=None, callbacks=None,\n",
       "              colsample_bylevel=None, colsample_bynode=None,\n",
       "              colsample_bytree=None, device=None, early_stopping_rounds=None,\n",
       "              enable_categorical=False, eval_metric=None, feature_types=None,\n",
       "              gamma=None, grow_policy=None, importance_type=None,\n",
       "              interaction_constraints=None, learning_rate=0.35, max_bin=None,\n",
       "              max_cat_threshold=None, max_cat_to_onehot=None,\n",
       "              max_delta_step=None, max_depth=14, max_leaves=None,\n",
       "              min_child_weight=None, missing=nan, monotone_constraints=None,\n",
       "              multi_strategy=None, n_estimators=300, n_jobs=None, nthread=4,\n",
       "              num_parallel_tree=None, ...)</pre><b>In a Jupyter environment, please rerun this cell to show the HTML representation or trust the notebook. <br />On GitHub, the HTML representation is unable to render, please try loading this page with nbviewer.org.</b></div><div class=\"sk-container\" hidden><div class=\"sk-item\"><div class=\"sk-estimator sk-toggleable\"><input class=\"sk-toggleable__control sk-hidden--visually\" id=\"sk-estimator-id-8\" type=\"checkbox\" checked><label for=\"sk-estimator-id-8\" class=\"sk-toggleable__label sk-toggleable__label-arrow\">XGBClassifier</label><div class=\"sk-toggleable__content\"><pre>XGBClassifier(base_score=None, booster=None, callbacks=None,\n",
       "              colsample_bylevel=None, colsample_bynode=None,\n",
       "              colsample_bytree=None, device=None, early_stopping_rounds=None,\n",
       "              enable_categorical=False, eval_metric=None, feature_types=None,\n",
       "              gamma=None, grow_policy=None, importance_type=None,\n",
       "              interaction_constraints=None, learning_rate=0.35, max_bin=None,\n",
       "              max_cat_threshold=None, max_cat_to_onehot=None,\n",
       "              max_delta_step=None, max_depth=14, max_leaves=None,\n",
       "              min_child_weight=None, missing=nan, monotone_constraints=None,\n",
       "              multi_strategy=None, n_estimators=300, n_jobs=None, nthread=4,\n",
       "              num_parallel_tree=None, ...)</pre></div></div></div></div></div>"
      ],
      "text/plain": [
       "XGBClassifier(base_score=None, booster=None, callbacks=None,\n",
       "              colsample_bylevel=None, colsample_bynode=None,\n",
       "              colsample_bytree=None, device=None, early_stopping_rounds=None,\n",
       "              enable_categorical=False, eval_metric=None, feature_types=None,\n",
       "              gamma=None, grow_policy=None, importance_type=None,\n",
       "              interaction_constraints=None, learning_rate=0.35, max_bin=None,\n",
       "              max_cat_threshold=None, max_cat_to_onehot=None,\n",
       "              max_delta_step=None, max_depth=14, max_leaves=None,\n",
       "              min_child_weight=None, missing=nan, monotone_constraints=None,\n",
       "              multi_strategy=None, n_estimators=300, n_jobs=None, nthread=4,\n",
       "              num_parallel_tree=None, ...)"
      ]
     },
     "execution_count": 17,
     "metadata": {},
     "output_type": "execute_result"
    }
   ],
   "source": [
    "grid_search.best_estimator_"
   ]
  },
  {
   "cell_type": "code",
   "execution_count": 16,
   "id": "6c72759a-3337-40b6-8310-728c94c1875d",
   "metadata": {},
   "outputs": [
    {
     "data": {
      "text/plain": [
       "{(0.25, 14, 300): 0.2857932269483647,\n",
       " (0.25, 14, 320): 0.28781746197011815,\n",
       " (0.25, 14, 340): 0.28768882580160365,\n",
       " (0.25, 14, 360): 0.28699956266677995,\n",
       " (0.25, 15, 300): 0.2880848635984533,\n",
       " (0.25, 15, 320): 0.2874323866628078,\n",
       " (0.25, 15, 340): 0.2874634334101201,\n",
       " (0.25, 15, 360): 0.28750286100023736,\n",
       " (0.35, 14, 300): 0.28877211261110314,\n",
       " (0.35, 14, 320): 0.2886573734693859,\n",
       " (0.35, 14, 340): 0.28832402840806853,\n",
       " (0.35, 14, 360): 0.28830745853437034,\n",
       " (0.35, 15, 300): 0.28860761820983016,\n",
       " (0.35, 15, 320): 0.2879830032876731,\n",
       " (0.35, 15, 340): 0.2882661314676719,\n",
       " (0.35, 15, 360): 0.2879115381839682}"
      ]
     },
     "execution_count": 16,
     "metadata": {},
     "output_type": "execute_result"
    }
   ],
   "source": [
    "res = grid_search.cv_results_\n",
    "pars = [tuple(par.values()) for par in res['params']]\n",
    "scores = np.array(res['mean_test_score'])\n",
    "param_scores = dict(zip(pars, scores))\n",
    "param_scores"
   ]
  },
  {
   "cell_type": "code",
   "execution_count": 117,
   "id": "3aa77f80-dfe5-426b-8103-05ee4a9f0dd8",
   "metadata": {},
   "outputs": [],
   "source": [
    "best_param = pars[np.argmax(scores)]"
   ]
  },
  {
   "cell_type": "code",
   "execution_count": 118,
   "id": "25f7960e-2069-4b2e-b751-f95b78fd1ed4",
   "metadata": {},
   "outputs": [
    {
     "data": {
      "text/plain": [
       "(0.2, 10, 180)"
      ]
     },
     "execution_count": 118,
     "metadata": {},
     "output_type": "execute_result"
    }
   ],
   "source": [
    "best_param"
   ]
  },
  {
   "cell_type": "code",
   "execution_count": 40,
   "id": "7a606bd6-8176-441e-abf2-3e9a1f95d2b5",
   "metadata": {},
   "outputs": [],
   "source": [
    "best_model = xgboost.XGBClassifier(\n",
    "    objective= 'binary:logistic',\n",
    "   learning_rate=.3,\n",
    "    max_depth=14,\n",
    "    n_estimators=300) "
   ]
  },
  {
   "cell_type": "code",
   "execution_count": 41,
   "id": "8dd4eda2-653c-44cc-bed1-41d8c3d54228",
   "metadata": {},
   "outputs": [
    {
     "data": {
      "text/html": [
       "<style>#sk-container-id-11 {color: black;background-color: white;}#sk-container-id-11 pre{padding: 0;}#sk-container-id-11 div.sk-toggleable {background-color: white;}#sk-container-id-11 label.sk-toggleable__label {cursor: pointer;display: block;width: 100%;margin-bottom: 0;padding: 0.3em;box-sizing: border-box;text-align: center;}#sk-container-id-11 label.sk-toggleable__label-arrow:before {content: \"▸\";float: left;margin-right: 0.25em;color: #696969;}#sk-container-id-11 label.sk-toggleable__label-arrow:hover:before {color: black;}#sk-container-id-11 div.sk-estimator:hover label.sk-toggleable__label-arrow:before {color: black;}#sk-container-id-11 div.sk-toggleable__content {max-height: 0;max-width: 0;overflow: hidden;text-align: left;background-color: #f0f8ff;}#sk-container-id-11 div.sk-toggleable__content pre {margin: 0.2em;color: black;border-radius: 0.25em;background-color: #f0f8ff;}#sk-container-id-11 input.sk-toggleable__control:checked~div.sk-toggleable__content {max-height: 200px;max-width: 100%;overflow: auto;}#sk-container-id-11 input.sk-toggleable__control:checked~label.sk-toggleable__label-arrow:before {content: \"▾\";}#sk-container-id-11 div.sk-estimator input.sk-toggleable__control:checked~label.sk-toggleable__label {background-color: #d4ebff;}#sk-container-id-11 div.sk-label input.sk-toggleable__control:checked~label.sk-toggleable__label {background-color: #d4ebff;}#sk-container-id-11 input.sk-hidden--visually {border: 0;clip: rect(1px 1px 1px 1px);clip: rect(1px, 1px, 1px, 1px);height: 1px;margin: -1px;overflow: hidden;padding: 0;position: absolute;width: 1px;}#sk-container-id-11 div.sk-estimator {font-family: monospace;background-color: #f0f8ff;border: 1px dotted black;border-radius: 0.25em;box-sizing: border-box;margin-bottom: 0.5em;}#sk-container-id-11 div.sk-estimator:hover {background-color: #d4ebff;}#sk-container-id-11 div.sk-parallel-item::after {content: \"\";width: 100%;border-bottom: 1px solid gray;flex-grow: 1;}#sk-container-id-11 div.sk-label:hover label.sk-toggleable__label {background-color: #d4ebff;}#sk-container-id-11 div.sk-serial::before {content: \"\";position: absolute;border-left: 1px solid gray;box-sizing: border-box;top: 0;bottom: 0;left: 50%;z-index: 0;}#sk-container-id-11 div.sk-serial {display: flex;flex-direction: column;align-items: center;background-color: white;padding-right: 0.2em;padding-left: 0.2em;position: relative;}#sk-container-id-11 div.sk-item {position: relative;z-index: 1;}#sk-container-id-11 div.sk-parallel {display: flex;align-items: stretch;justify-content: center;background-color: white;position: relative;}#sk-container-id-11 div.sk-item::before, #sk-container-id-11 div.sk-parallel-item::before {content: \"\";position: absolute;border-left: 1px solid gray;box-sizing: border-box;top: 0;bottom: 0;left: 50%;z-index: -1;}#sk-container-id-11 div.sk-parallel-item {display: flex;flex-direction: column;z-index: 1;position: relative;background-color: white;}#sk-container-id-11 div.sk-parallel-item:first-child::after {align-self: flex-end;width: 50%;}#sk-container-id-11 div.sk-parallel-item:last-child::after {align-self: flex-start;width: 50%;}#sk-container-id-11 div.sk-parallel-item:only-child::after {width: 0;}#sk-container-id-11 div.sk-dashed-wrapped {border: 1px dashed gray;margin: 0 0.4em 0.5em 0.4em;box-sizing: border-box;padding-bottom: 0.4em;background-color: white;}#sk-container-id-11 div.sk-label label {font-family: monospace;font-weight: bold;display: inline-block;line-height: 1.2em;}#sk-container-id-11 div.sk-label-container {text-align: center;}#sk-container-id-11 div.sk-container {/* jupyter's `normalize.less` sets `[hidden] { display: none; }` but bootstrap.min.css set `[hidden] { display: none !important; }` so we also need the `!important` here to be able to override the default hidden behavior on the sphinx rendered scikit-learn.org. See: https://github.com/scikit-learn/scikit-learn/issues/21755 */display: inline-block !important;position: relative;}#sk-container-id-11 div.sk-text-repr-fallback {display: none;}</style><div id=\"sk-container-id-11\" class=\"sk-top-container\"><div class=\"sk-text-repr-fallback\"><pre>XGBClassifier(base_score=None, booster=None, callbacks=None,\n",
       "              colsample_bylevel=None, colsample_bynode=None,\n",
       "              colsample_bytree=None, device=None, early_stopping_rounds=None,\n",
       "              enable_categorical=False, eval_metric=None, feature_types=None,\n",
       "              gamma=None, grow_policy=None, importance_type=None,\n",
       "              interaction_constraints=None, learning_rate=0.3, max_bin=None,\n",
       "              max_cat_threshold=None, max_cat_to_onehot=None,\n",
       "              max_delta_step=None, max_depth=14, max_leaves=None,\n",
       "              min_child_weight=None, missing=nan, monotone_constraints=None,\n",
       "              multi_strategy=None, n_estimators=300, n_jobs=None,\n",
       "              num_parallel_tree=None, random_state=None, ...)</pre><b>In a Jupyter environment, please rerun this cell to show the HTML representation or trust the notebook. <br />On GitHub, the HTML representation is unable to render, please try loading this page with nbviewer.org.</b></div><div class=\"sk-container\" hidden><div class=\"sk-item\"><div class=\"sk-estimator sk-toggleable\"><input class=\"sk-toggleable__control sk-hidden--visually\" id=\"sk-estimator-id-15\" type=\"checkbox\" checked><label for=\"sk-estimator-id-15\" class=\"sk-toggleable__label sk-toggleable__label-arrow\">XGBClassifier</label><div class=\"sk-toggleable__content\"><pre>XGBClassifier(base_score=None, booster=None, callbacks=None,\n",
       "              colsample_bylevel=None, colsample_bynode=None,\n",
       "              colsample_bytree=None, device=None, early_stopping_rounds=None,\n",
       "              enable_categorical=False, eval_metric=None, feature_types=None,\n",
       "              gamma=None, grow_policy=None, importance_type=None,\n",
       "              interaction_constraints=None, learning_rate=0.3, max_bin=None,\n",
       "              max_cat_threshold=None, max_cat_to_onehot=None,\n",
       "              max_delta_step=None, max_depth=14, max_leaves=None,\n",
       "              min_child_weight=None, missing=nan, monotone_constraints=None,\n",
       "              multi_strategy=None, n_estimators=300, n_jobs=None,\n",
       "              num_parallel_tree=None, random_state=None, ...)</pre></div></div></div></div></div>"
      ],
      "text/plain": [
       "XGBClassifier(base_score=None, booster=None, callbacks=None,\n",
       "              colsample_bylevel=None, colsample_bynode=None,\n",
       "              colsample_bytree=None, device=None, early_stopping_rounds=None,\n",
       "              enable_categorical=False, eval_metric=None, feature_types=None,\n",
       "              gamma=None, grow_policy=None, importance_type=None,\n",
       "              interaction_constraints=None, learning_rate=0.3, max_bin=None,\n",
       "              max_cat_threshold=None, max_cat_to_onehot=None,\n",
       "              max_delta_step=None, max_depth=14, max_leaves=None,\n",
       "              min_child_weight=None, missing=nan, monotone_constraints=None,\n",
       "              multi_strategy=None, n_estimators=300, n_jobs=None,\n",
       "              num_parallel_tree=None, random_state=None, ...)"
      ]
     },
     "execution_count": 41,
     "metadata": {},
     "output_type": "execute_result"
    }
   ],
   "source": [
    "best_model.fit(light_train[features],light_train['power_outage'])"
   ]
  },
  {
   "cell_type": "code",
   "execution_count": 42,
   "id": "0d64f0b8-7a30-4193-9b50-6ee221e8e9d5",
   "metadata": {},
   "outputs": [
    {
     "name": "stdout",
     "output_type": "stream",
     "text": [
      "precision:  0.5012381866882296\n",
      "recall:  0.8653695140040136\n"
     ]
    }
   ],
   "source": [
    "prec = precision_score(best_model.predict(light_train[features]), light_train['power_outage'])\n",
    "recall = recall_score(best_model.predict(light_train[features]), light_train['power_outage'])\n",
    "print(\"precision: \", prec)\n",
    "print(\"recall: \", recall)"
   ]
  },
  {
   "cell_type": "code",
   "execution_count": 145,
   "id": "93c030ea-b593-4212-9a6c-65c0ea752bab",
   "metadata": {},
   "outputs": [
    {
     "name": "stdout",
     "output_type": "stream",
     "text": [
      "precision:  0.6274321524233082\n",
      "recall:  0.8734039185338914\n"
     ]
    }
   ],
   "source": [
    "prec = precision_score(best_model.predict(light_train[features]), light_train['power_outage'])\n",
    "recall = recall_score(best_model.predict(light_train[features]), light_train['power_outage'])\n",
    "print(\"precision: \", prec)\n",
    "print(\"recall: \", recall)"
   ]
  },
  {
   "cell_type": "code",
   "execution_count": 151,
   "id": "b925a5b3-47ae-46e2-8ac4-288ec361f8ad",
   "metadata": {},
   "outputs": [
    {
     "data": {
      "text/plain": [
       "{'CENTERLON': 0.7193518280982971,\n",
       " 'CENTERLAT': 0.6461976766586304,\n",
       " 'log_total_count': 0.36021170020103455,\n",
       " 'Month': 4.358182907104492}"
      ]
     },
     "execution_count": 151,
     "metadata": {},
     "output_type": "execute_result"
    }
   ],
   "source": [
    "best_model.get_booster().get_score(importance_type='gain')"
   ]
  },
  {
   "cell_type": "code",
   "execution_count": 142,
   "id": "60e3a7b0-0101-4d72-8114-850c781903d8",
   "metadata": {},
   "outputs": [
    {
     "data": {
      "image/png": "[encoded data removed]",
      "text/plain": [
       "<Figure size 900x600 with 1 Axes>"
      ]
     },
     "metadata": {
      "needs_background": "light"
     },
     "output_type": "display_data"
    }
   ],
   "source": [
    "from sklearn.metrics import PrecisionRecallDisplay\n",
    "\n",
    "display = PrecisionRecallDisplay.from_estimator(\n",
    "    best_model, light_train[features], light_train['power_outage'], name=\"xGBoost\")\n",
    "_ = display.ax_.set_title(\"2-class Precision-Recall curve\")"
   ]
  },
  {
   "cell_type": "markdown",
   "id": "61bb6f65-10f0-4e15-994d-daa291194107",
   "metadata": {},
   "source": [
    "## Work on the Balanced Dataset"
   ]
  },
  {
   "cell_type": "code",
   "execution_count": 44,
   "id": "9234f272-9768-4cb0-98a5-78055c54e9c5",
   "metadata": {},
   "outputs": [],
   "source": [
    "outage = light_train[light_train['power_outage']==True]\n",
    "no_outage = light_train[light_train['power_outage']==False]\n",
    "no_outage= no_outage.sample(n=3*len(outage), random_state=101)\n",
    "balanced = pd.concat([outage,no_outage],axis=0)"
   ]
  },
  {
   "cell_type": "code",
   "execution_count": 45,
   "id": "6358db67-d563-40e2-8af1-50ea3fc12c18",
   "metadata": {},
   "outputs": [
    {
     "name": "stdout",
     "output_type": "stream",
     "text": [
      "<class 'pandas.core.frame.DataFrame'>\n",
      "Int64Index: 158296 entries, 2080128 to 1658115\n",
      "Data columns (total 9 columns):\n",
      " #   Column           Non-Null Count   Dtype         \n",
      "---  ------           --------------   -----         \n",
      " 0   CENTERLON        158296 non-null  float64       \n",
      " 1   CENTERLAT        158296 non-null  float64       \n",
      " 2   TOTAL_COUNT      158296 non-null  int64         \n",
      " 3   DATE             158296 non-null  datetime64[ns]\n",
      " 4   county           158296 non-null  object        \n",
      " 5   state            158296 non-null  object        \n",
      " 6   power_outage     158296 non-null  bool          \n",
      " 7   log_total_count  158296 non-null  float64       \n",
      " 8   Month            158296 non-null  int64         \n",
      "dtypes: bool(1), datetime64[ns](1), float64(3), int64(2), object(2)\n",
      "memory usage: 11.0+ MB\n"
     ]
    }
   ],
   "source": [
    "balanced.info()"
   ]
  },
  {
   "cell_type": "code",
   "execution_count": 46,
   "id": "de0823d5-9927-4513-a731-3ab9d5f4af00",
   "metadata": {},
   "outputs": [],
   "source": [
    "features = ['CENTERLON', 'CENTERLAT', 'log_total_count', 'Month']"
   ]
  },
  {
   "cell_type": "code",
   "execution_count": 47,
   "id": "f43813e7-18cd-4868-bc5d-a7d942e96eeb",
   "metadata": {},
   "outputs": [],
   "source": [
    "model = xgboost.XGBClassifier(\n",
    "    objective= 'binary:logistic',\n",
    "    nthread=4,\n",
    "    seed=42)\n",
    "\n",
    "parameters = {\n",
    "    'max_depth': range (1, 16,  2),\n",
    "    'n_estimators': range(100, 500, 40),\n",
    "    'learning_rate': [0.01, 0.03, 0.1, 0.3]\n",
    "}\n",
    "\n",
    "grid_search = GridSearchCV(model,\n",
    "    param_grid=parameters,\n",
    "    scoring='f1',\n",
    "    cv = 5,\n",
    "    n_jobs = 10,\n",
    "    verbose=True)"
   ]
  },
  {
   "cell_type": "code",
   "execution_count": 48,
   "id": "40d725b1-26f3-4c99-ba1d-6244c2461fb0",
   "metadata": {},
   "outputs": [
    {
     "name": "stdout",
     "output_type": "stream",
     "text": [
      "Fitting 5 folds for each of 320 candidates, totalling 1600 fits\n"
     ]
    },
    {
     "name": "stderr",
     "output_type": "stream",
     "text": [
      "/home/painchess/.local/lib/python3.11/site-packages/joblib/externals/loky/process_executor.py:700: UserWarning: A worker stopped while some jobs were given to the executor. This can be caused by a too short worker timeout or by a memory leak.\n",
      "  warnings.warn(\n"
     ]
    },
    {
     "data": {
      "text/html": [
       "<style>#sk-container-id-12 {color: black;background-color: white;}#sk-container-id-12 pre{padding: 0;}#sk-container-id-12 div.sk-toggleable {background-color: white;}#sk-container-id-12 label.sk-toggleable__label {cursor: pointer;display: block;width: 100%;margin-bottom: 0;padding: 0.3em;box-sizing: border-box;text-align: center;}#sk-container-id-12 label.sk-toggleable__label-arrow:before {content: \"▸\";float: left;margin-right: 0.25em;color: #696969;}#sk-container-id-12 label.sk-toggleable__label-arrow:hover:before {color: black;}#sk-container-id-12 div.sk-estimator:hover label.sk-toggleable__label-arrow:before {color: black;}#sk-container-id-12 div.sk-toggleable__content {max-height: 0;max-width: 0;overflow: hidden;text-align: left;background-color: #f0f8ff;}#sk-container-id-12 div.sk-toggleable__content pre {margin: 0.2em;color: black;border-radius: 0.25em;background-color: #f0f8ff;}#sk-container-id-12 input.sk-toggleable__control:checked~div.sk-toggleable__content {max-height: 200px;max-width: 100%;overflow: auto;}#sk-container-id-12 input.sk-toggleable__control:checked~label.sk-toggleable__label-arrow:before {content: \"▾\";}#sk-container-id-12 div.sk-estimator input.sk-toggleable__control:checked~label.sk-toggleable__label {background-color: #d4ebff;}#sk-container-id-12 div.sk-label input.sk-toggleable__control:checked~label.sk-toggleable__label {background-color: #d4ebff;}#sk-container-id-12 input.sk-hidden--visually {border: 0;clip: rect(1px 1px 1px 1px);clip: rect(1px, 1px, 1px, 1px);height: 1px;margin: -1px;overflow: hidden;padding: 0;position: absolute;width: 1px;}#sk-container-id-12 div.sk-estimator {font-family: monospace;background-color: #f0f8ff;border: 1px dotted black;border-radius: 0.25em;box-sizing: border-box;margin-bottom: 0.5em;}#sk-container-id-12 div.sk-estimator:hover {background-color: #d4ebff;}#sk-container-id-12 div.sk-parallel-item::after {content: \"\";width: 100%;border-bottom: 1px solid gray;flex-grow: 1;}#sk-container-id-12 div.sk-label:hover label.sk-toggleable__label {background-color: #d4ebff;}#sk-container-id-12 div.sk-serial::before {content: \"\";position: absolute;border-left: 1px solid gray;box-sizing: border-box;top: 0;bottom: 0;left: 50%;z-index: 0;}#sk-container-id-12 div.sk-serial {display: flex;flex-direction: column;align-items: center;background-color: white;padding-right: 0.2em;padding-left: 0.2em;position: relative;}#sk-container-id-12 div.sk-item {position: relative;z-index: 1;}#sk-container-id-12 div.sk-parallel {display: flex;align-items: stretch;justify-content: center;background-color: white;position: relative;}#sk-container-id-12 div.sk-item::before, #sk-container-id-12 div.sk-parallel-item::before {content: \"\";position: absolute;border-left: 1px solid gray;box-sizing: border-box;top: 0;bottom: 0;left: 50%;z-index: -1;}#sk-container-id-12 div.sk-parallel-item {display: flex;flex-direction: column;z-index: 1;position: relative;background-color: white;}#sk-container-id-12 div.sk-parallel-item:first-child::after {align-self: flex-end;width: 50%;}#sk-container-id-12 div.sk-parallel-item:last-child::after {align-self: flex-start;width: 50%;}#sk-container-id-12 div.sk-parallel-item:only-child::after {width: 0;}#sk-container-id-12 div.sk-dashed-wrapped {border: 1px dashed gray;margin: 0 0.4em 0.5em 0.4em;box-sizing: border-box;padding-bottom: 0.4em;background-color: white;}#sk-container-id-12 div.sk-label label {font-family: monospace;font-weight: bold;display: inline-block;line-height: 1.2em;}#sk-container-id-12 div.sk-label-container {text-align: center;}#sk-container-id-12 div.sk-container {/* jupyter's `normalize.less` sets `[hidden] { display: none; }` but bootstrap.min.css set `[hidden] { display: none !important; }` so we also need the `!important` here to be able to override the default hidden behavior on the sphinx rendered scikit-learn.org. See: https://github.com/scikit-learn/scikit-learn/issues/21755 */display: inline-block !important;position: relative;}#sk-container-id-12 div.sk-text-repr-fallback {display: none;}</style><div id=\"sk-container-id-12\" class=\"sk-top-container\"><div class=\"sk-text-repr-fallback\"><pre>GridSearchCV(cv=5,\n",
       "             estimator=XGBClassifier(base_score=None, booster=None,\n",
       "                                     callbacks=None, colsample_bylevel=None,\n",
       "                                     colsample_bynode=None,\n",
       "                                     colsample_bytree=None, device=None,\n",
       "                                     early_stopping_rounds=None,\n",
       "                                     enable_categorical=False, eval_metric=None,\n",
       "                                     feature_types=None, gamma=None,\n",
       "                                     grow_policy=None, importance_type=None,\n",
       "                                     interaction_constraints=None,\n",
       "                                     learning_rate=None,...\n",
       "                                     max_cat_to_onehot=None,\n",
       "                                     max_delta_step=None, max_depth=None,\n",
       "                                     max_leaves=None, min_child_weight=None,\n",
       "                                     missing=nan, monotone_constraints=None,\n",
       "                                     multi_strategy=None, n_estimators=None,\n",
       "                                     n_jobs=None, nthread=4,\n",
       "                                     num_parallel_tree=None, ...),\n",
       "             n_jobs=10,\n",
       "             param_grid={&#x27;learning_rate&#x27;: [0.01, 0.03, 0.1, 0.3],\n",
       "                         &#x27;max_depth&#x27;: range(1, 16, 2),\n",
       "                         &#x27;n_estimators&#x27;: range(100, 500, 40)},\n",
       "             scoring=&#x27;f1&#x27;, verbose=True)</pre><b>In a Jupyter environment, please rerun this cell to show the HTML representation or trust the notebook. <br />On GitHub, the HTML representation is unable to render, please try loading this page with nbviewer.org.</b></div><div class=\"sk-container\" hidden><div class=\"sk-item sk-dashed-wrapped\"><div class=\"sk-label-container\"><div class=\"sk-label sk-toggleable\"><input class=\"sk-toggleable__control sk-hidden--visually\" id=\"sk-estimator-id-16\" type=\"checkbox\" ><label for=\"sk-estimator-id-16\" class=\"sk-toggleable__label sk-toggleable__label-arrow\">GridSearchCV</label><div class=\"sk-toggleable__content\"><pre>GridSearchCV(cv=5,\n",
       "             estimator=XGBClassifier(base_score=None, booster=None,\n",
       "                                     callbacks=None, colsample_bylevel=None,\n",
       "                                     colsample_bynode=None,\n",
       "                                     colsample_bytree=None, device=None,\n",
       "                                     early_stopping_rounds=None,\n",
       "                                     enable_categorical=False, eval_metric=None,\n",
       "                                     feature_types=None, gamma=None,\n",
       "                                     grow_policy=None, importance_type=None,\n",
       "                                     interaction_constraints=None,\n",
       "                                     learning_rate=None,...\n",
       "                                     max_cat_to_onehot=None,\n",
       "                                     max_delta_step=None, max_depth=None,\n",
       "                                     max_leaves=None, min_child_weight=None,\n",
       "                                     missing=nan, monotone_constraints=None,\n",
       "                                     multi_strategy=None, n_estimators=None,\n",
       "                                     n_jobs=None, nthread=4,\n",
       "                                     num_parallel_tree=None, ...),\n",
       "             n_jobs=10,\n",
       "             param_grid={&#x27;learning_rate&#x27;: [0.01, 0.03, 0.1, 0.3],\n",
       "                         &#x27;max_depth&#x27;: range(1, 16, 2),\n",
       "                         &#x27;n_estimators&#x27;: range(100, 500, 40)},\n",
       "             scoring=&#x27;f1&#x27;, verbose=True)</pre></div></div></div><div class=\"sk-parallel\"><div class=\"sk-parallel-item\"><div class=\"sk-item\"><div class=\"sk-label-container\"><div class=\"sk-label sk-toggleable\"><input class=\"sk-toggleable__control sk-hidden--visually\" id=\"sk-estimator-id-17\" type=\"checkbox\" ><label for=\"sk-estimator-id-17\" class=\"sk-toggleable__label sk-toggleable__label-arrow\">estimator: XGBClassifier</label><div class=\"sk-toggleable__content\"><pre>XGBClassifier(base_score=None, booster=None, callbacks=None,\n",
       "              colsample_bylevel=None, colsample_bynode=None,\n",
       "              colsample_bytree=None, device=None, early_stopping_rounds=None,\n",
       "              enable_categorical=False, eval_metric=None, feature_types=None,\n",
       "              gamma=None, grow_policy=None, importance_type=None,\n",
       "              interaction_constraints=None, learning_rate=None, max_bin=None,\n",
       "              max_cat_threshold=None, max_cat_to_onehot=None,\n",
       "              max_delta_step=None, max_depth=None, max_leaves=None,\n",
       "              min_child_weight=None, missing=nan, monotone_constraints=None,\n",
       "              multi_strategy=None, n_estimators=None, n_jobs=None, nthread=4,\n",
       "              num_parallel_tree=None, ...)</pre></div></div></div><div class=\"sk-serial\"><div class=\"sk-item\"><div class=\"sk-estimator sk-toggleable\"><input class=\"sk-toggleable__control sk-hidden--visually\" id=\"sk-estimator-id-18\" type=\"checkbox\" ><label for=\"sk-estimator-id-18\" class=\"sk-toggleable__label sk-toggleable__label-arrow\">XGBClassifier</label><div class=\"sk-toggleable__content\"><pre>XGBClassifier(base_score=None, booster=None, callbacks=None,\n",
       "              colsample_bylevel=None, colsample_bynode=None,\n",
       "              colsample_bytree=None, device=None, early_stopping_rounds=None,\n",
       "              enable_categorical=False, eval_metric=None, feature_types=None,\n",
       "              gamma=None, grow_policy=None, importance_type=None,\n",
       "              interaction_constraints=None, learning_rate=None, max_bin=None,\n",
       "              max_cat_threshold=None, max_cat_to_onehot=None,\n",
       "              max_delta_step=None, max_depth=None, max_leaves=None,\n",
       "              min_child_weight=None, missing=nan, monotone_constraints=None,\n",
       "              multi_strategy=None, n_estimators=None, n_jobs=None, nthread=4,\n",
       "              num_parallel_tree=None, ...)</pre></div></div></div></div></div></div></div></div></div></div>"
      ],
      "text/plain": [
       "GridSearchCV(cv=5,\n",
       "             estimator=XGBClassifier(base_score=None, booster=None,\n",
       "                                     callbacks=None, colsample_bylevel=None,\n",
       "                                     colsample_bynode=None,\n",
       "                                     colsample_bytree=None, device=None,\n",
       "                                     early_stopping_rounds=None,\n",
       "                                     enable_categorical=False, eval_metric=None,\n",
       "                                     feature_types=None, gamma=None,\n",
       "                                     grow_policy=None, importance_type=None,\n",
       "                                     interaction_constraints=None,\n",
       "                                     learning_rate=None,...\n",
       "                                     max_cat_to_onehot=None,\n",
       "                                     max_delta_step=None, max_depth=None,\n",
       "                                     max_leaves=None, min_child_weight=None,\n",
       "                                     missing=nan, monotone_constraints=None,\n",
       "                                     multi_strategy=None, n_estimators=None,\n",
       "                                     n_jobs=None, nthread=4,\n",
       "                                     num_parallel_tree=None, ...),\n",
       "             n_jobs=10,\n",
       "             param_grid={'learning_rate': [0.01, 0.03, 0.1, 0.3],\n",
       "                         'max_depth': range(1, 16, 2),\n",
       "                         'n_estimators': range(100, 500, 40)},\n",
       "             scoring='f1', verbose=True)"
      ]
     },
     "execution_count": 48,
     "metadata": {},
     "output_type": "execute_result"
    }
   ],
   "source": [
    "grid_search.fit(balanced[features], balanced['power_outage'])"
   ]
  },
  {
   "cell_type": "code",
   "execution_count": 49,
   "id": "9f28669c-433d-467a-918a-ef3c9fb02f27",
   "metadata": {},
   "outputs": [
    {
     "data": {
      "text/html": [
       "<style>#sk-container-id-13 {color: black;background-color: white;}#sk-container-id-13 pre{padding: 0;}#sk-container-id-13 div.sk-toggleable {background-color: white;}#sk-container-id-13 label.sk-toggleable__label {cursor: pointer;display: block;width: 100%;margin-bottom: 0;padding: 0.3em;box-sizing: border-box;text-align: center;}#sk-container-id-13 label.sk-toggleable__label-arrow:before {content: \"▸\";float: left;margin-right: 0.25em;color: #696969;}#sk-container-id-13 label.sk-toggleable__label-arrow:hover:before {color: black;}#sk-container-id-13 div.sk-estimator:hover label.sk-toggleable__label-arrow:before {color: black;}#sk-container-id-13 div.sk-toggleable__content {max-height: 0;max-width: 0;overflow: hidden;text-align: left;background-color: #f0f8ff;}#sk-container-id-13 div.sk-toggleable__content pre {margin: 0.2em;color: black;border-radius: 0.25em;background-color: #f0f8ff;}#sk-container-id-13 input.sk-toggleable__control:checked~div.sk-toggleable__content {max-height: 200px;max-width: 100%;overflow: auto;}#sk-container-id-13 input.sk-toggleable__control:checked~label.sk-toggleable__label-arrow:before {content: \"▾\";}#sk-container-id-13 div.sk-estimator input.sk-toggleable__control:checked~label.sk-toggleable__label {background-color: #d4ebff;}#sk-container-id-13 div.sk-label input.sk-toggleable__control:checked~label.sk-toggleable__label {background-color: #d4ebff;}#sk-container-id-13 input.sk-hidden--visually {border: 0;clip: rect(1px 1px 1px 1px);clip: rect(1px, 1px, 1px, 1px);height: 1px;margin: -1px;overflow: hidden;padding: 0;position: absolute;width: 1px;}#sk-container-id-13 div.sk-estimator {font-family: monospace;background-color: #f0f8ff;border: 1px dotted black;border-radius: 0.25em;box-sizing: border-box;margin-bottom: 0.5em;}#sk-container-id-13 div.sk-estimator:hover {background-color: #d4ebff;}#sk-container-id-13 div.sk-parallel-item::after {content: \"\";width: 100%;border-bottom: 1px solid gray;flex-grow: 1;}#sk-container-id-13 div.sk-label:hover label.sk-toggleable__label {background-color: #d4ebff;}#sk-container-id-13 div.sk-serial::before {content: \"\";position: absolute;border-left: 1px solid gray;box-sizing: border-box;top: 0;bottom: 0;left: 50%;z-index: 0;}#sk-container-id-13 div.sk-serial {display: flex;flex-direction: column;align-items: center;background-color: white;padding-right: 0.2em;padding-left: 0.2em;position: relative;}#sk-container-id-13 div.sk-item {position: relative;z-index: 1;}#sk-container-id-13 div.sk-parallel {display: flex;align-items: stretch;justify-content: center;background-color: white;position: relative;}#sk-container-id-13 div.sk-item::before, #sk-container-id-13 div.sk-parallel-item::before {content: \"\";position: absolute;border-left: 1px solid gray;box-sizing: border-box;top: 0;bottom: 0;left: 50%;z-index: -1;}#sk-container-id-13 div.sk-parallel-item {display: flex;flex-direction: column;z-index: 1;position: relative;background-color: white;}#sk-container-id-13 div.sk-parallel-item:first-child::after {align-self: flex-end;width: 50%;}#sk-container-id-13 div.sk-parallel-item:last-child::after {align-self: flex-start;width: 50%;}#sk-container-id-13 div.sk-parallel-item:only-child::after {width: 0;}#sk-container-id-13 div.sk-dashed-wrapped {border: 1px dashed gray;margin: 0 0.4em 0.5em 0.4em;box-sizing: border-box;padding-bottom: 0.4em;background-color: white;}#sk-container-id-13 div.sk-label label {font-family: monospace;font-weight: bold;display: inline-block;line-height: 1.2em;}#sk-container-id-13 div.sk-label-container {text-align: center;}#sk-container-id-13 div.sk-container {/* jupyter's `normalize.less` sets `[hidden] { display: none; }` but bootstrap.min.css set `[hidden] { display: none !important; }` so we also need the `!important` here to be able to override the default hidden behavior on the sphinx rendered scikit-learn.org. See: https://github.com/scikit-learn/scikit-learn/issues/21755 */display: inline-block !important;position: relative;}#sk-container-id-13 div.sk-text-repr-fallback {display: none;}</style><div id=\"sk-container-id-13\" class=\"sk-top-container\"><div class=\"sk-text-repr-fallback\"><pre>XGBClassifier(base_score=None, booster=None, callbacks=None,\n",
       "              colsample_bylevel=None, colsample_bynode=None,\n",
       "              colsample_bytree=None, device=None, early_stopping_rounds=None,\n",
       "              enable_categorical=False, eval_metric=None, feature_types=None,\n",
       "              gamma=None, grow_policy=None, importance_type=None,\n",
       "              interaction_constraints=None, learning_rate=0.03, max_bin=None,\n",
       "              max_cat_threshold=None, max_cat_to_onehot=None,\n",
       "              max_delta_step=None, max_depth=15, max_leaves=None,\n",
       "              min_child_weight=None, missing=nan, monotone_constraints=None,\n",
       "              multi_strategy=None, n_estimators=220, n_jobs=None, nthread=4,\n",
       "              num_parallel_tree=None, ...)</pre><b>In a Jupyter environment, please rerun this cell to show the HTML representation or trust the notebook. <br />On GitHub, the HTML representation is unable to render, please try loading this page with nbviewer.org.</b></div><div class=\"sk-container\" hidden><div class=\"sk-item\"><div class=\"sk-estimator sk-toggleable\"><input class=\"sk-toggleable__control sk-hidden--visually\" id=\"sk-estimator-id-19\" type=\"checkbox\" checked><label for=\"sk-estimator-id-19\" class=\"sk-toggleable__label sk-toggleable__label-arrow\">XGBClassifier</label><div class=\"sk-toggleable__content\"><pre>XGBClassifier(base_score=None, booster=None, callbacks=None,\n",
       "              colsample_bylevel=None, colsample_bynode=None,\n",
       "              colsample_bytree=None, device=None, early_stopping_rounds=None,\n",
       "              enable_categorical=False, eval_metric=None, feature_types=None,\n",
       "              gamma=None, grow_policy=None, importance_type=None,\n",
       "              interaction_constraints=None, learning_rate=0.03, max_bin=None,\n",
       "              max_cat_threshold=None, max_cat_to_onehot=None,\n",
       "              max_delta_step=None, max_depth=15, max_leaves=None,\n",
       "              min_child_weight=None, missing=nan, monotone_constraints=None,\n",
       "              multi_strategy=None, n_estimators=220, n_jobs=None, nthread=4,\n",
       "              num_parallel_tree=None, ...)</pre></div></div></div></div></div>"
      ],
      "text/plain": [
       "XGBClassifier(base_score=None, booster=None, callbacks=None,\n",
       "              colsample_bylevel=None, colsample_bynode=None,\n",
       "              colsample_bytree=None, device=None, early_stopping_rounds=None,\n",
       "              enable_categorical=False, eval_metric=None, feature_types=None,\n",
       "              gamma=None, grow_policy=None, importance_type=None,\n",
       "              interaction_constraints=None, learning_rate=0.03, max_bin=None,\n",
       "              max_cat_threshold=None, max_cat_to_onehot=None,\n",
       "              max_delta_step=None, max_depth=15, max_leaves=None,\n",
       "              min_child_weight=None, missing=nan, monotone_constraints=None,\n",
       "              multi_strategy=None, n_estimators=220, n_jobs=None, nthread=4,\n",
       "              num_parallel_tree=None, ...)"
      ]
     },
     "execution_count": 49,
     "metadata": {},
     "output_type": "execute_result"
    }
   ],
   "source": [
    "grid_search.best_estimator_"
   ]
  },
  {
   "cell_type": "code",
   "execution_count": 50,
   "id": "cb95f63f-78d5-41f5-a8b0-b7f47944f6e6",
   "metadata": {},
   "outputs": [
    {
     "data": {
      "text/plain": [
       "{(0.01, 1, 100): 0.0,\n",
       " (0.01, 1, 140): 0.0,\n",
       " (0.01, 1, 180): 0.0,\n",
       " (0.01, 1, 220): 0.0,\n",
       " (0.01, 1, 260): 0.0,\n",
       " (0.01, 1, 300): 0.0,\n",
       " (0.01, 1, 340): 0.0,\n",
       " (0.01, 1, 380): 0.4765303851717809,\n",
       " (0.01, 1, 420): 0.47707877837421486,\n",
       " (0.01, 1, 460): 0.4778025499834393,\n",
       " (0.01, 3, 100): 0.5513286853625339,\n",
       " (0.01, 3, 140): 0.5967548220046444,\n",
       " (0.01, 3, 180): 0.6150658400337424,\n",
       " (0.01, 3, 220): 0.6223016932049033,\n",
       " (0.01, 3, 260): 0.6247301276975412,\n",
       " (0.01, 3, 300): 0.6261994117351053,\n",
       " (0.01, 3, 340): 0.628065099637196,\n",
       " (0.01, 3, 380): 0.6304139298277663,\n",
       " (0.01, 3, 420): 0.6308131389583826,\n",
       " (0.01, 3, 460): 0.6317235340012335,\n",
       " (0.01, 5, 100): 0.6148430457112651,\n",
       " (0.01, 5, 140): 0.6364700078110934,\n",
       " (0.01, 5, 180): 0.663963446018123,\n",
       " (0.01, 5, 220): 0.6721251834079072,\n",
       " (0.01, 5, 260): 0.7114563785561988,\n",
       " (0.01, 5, 300): 0.7141352525672536,\n",
       " (0.01, 5, 340): 0.7233300215700851,\n",
       " (0.01, 5, 380): 0.7272615743676011,\n",
       " (0.01, 5, 420): 0.7318742186337636,\n",
       " (0.01, 5, 460): 0.7441008287074098,\n",
       " (0.01, 7, 100): 0.7283994155151454,\n",
       " (0.01, 7, 140): 0.7627778992991437,\n",
       " (0.01, 7, 180): 0.7799197914064474,\n",
       " (0.01, 7, 220): 0.7793211368893124,\n",
       " (0.01, 7, 260): 0.784599147658555,\n",
       " (0.01, 7, 300): 0.7885107381141494,\n",
       " (0.01, 7, 340): 0.789607475820598,\n",
       " (0.01, 7, 380): 0.7902968045736417,\n",
       " (0.01, 7, 420): 0.7912535144484212,\n",
       " (0.01, 7, 460): 0.7921528182253772,\n",
       " (0.01, 9, 100): 0.7681141625065886,\n",
       " (0.01, 9, 140): 0.8014649429642164,\n",
       " (0.01, 9, 180): 0.810032200553386,\n",
       " (0.01, 9, 220): 0.8159694340863766,\n",
       " (0.01, 9, 260): 0.8183246981365002,\n",
       " (0.01, 9, 300): 0.8243162567726701,\n",
       " (0.01, 9, 340): 0.835707064280047,\n",
       " (0.01, 9, 380): 0.8391962319731789,\n",
       " (0.01, 9, 420): 0.8407683827565238,\n",
       " (0.01, 9, 460): 0.8420936560790123,\n",
       " (0.01, 11, 100): 0.8168898860017885,\n",
       " (0.01, 11, 140): 0.8442173652756765,\n",
       " (0.01, 11, 180): 0.8504012629454033,\n",
       " (0.01, 11, 220): 0.8543407721743014,\n",
       " (0.01, 11, 260): 0.856871207737418,\n",
       " (0.01, 11, 300): 0.8579889406568784,\n",
       " (0.01, 11, 340): 0.8591658393189151,\n",
       " (0.01, 11, 380): 0.8619998123933943,\n",
       " (0.01, 11, 420): 0.8635012120121972,\n",
       " (0.01, 11, 460): 0.8639318820043507,\n",
       " (0.01, 13, 100): 0.8456227688577111,\n",
       " (0.01, 13, 140): 0.860752419195698,\n",
       " (0.01, 13, 180): 0.8667515829890535,\n",
       " (0.01, 13, 220): 0.8697376032229656,\n",
       " (0.01, 13, 260): 0.8712570435498621,\n",
       " (0.01, 13, 300): 0.872609977104917,\n",
       " (0.01, 13, 340): 0.8733258408345007,\n",
       " (0.01, 13, 380): 0.8732386338654192,\n",
       " (0.01, 13, 420): 0.8734291420844205,\n",
       " (0.01, 13, 460): 0.8736858607162532,\n",
       " (0.01, 15, 100): 0.8511386954797284,\n",
       " (0.01, 15, 140): 0.8652195575638683,\n",
       " (0.01, 15, 180): 0.8700031609275684,\n",
       " (0.01, 15, 220): 0.8723792600404241,\n",
       " (0.01, 15, 260): 0.8741202444056009,\n",
       " (0.01, 15, 300): 0.875063893076103,\n",
       " (0.01, 15, 340): 0.8758131536810845,\n",
       " (0.01, 15, 380): 0.8762511658101259,\n",
       " (0.01, 15, 420): 0.8763946765648767,\n",
       " (0.01, 15, 460): 0.8765001192267613,\n",
       " (0.03, 1, 100): 0.0,\n",
       " (0.03, 1, 140): 0.47755569864363884,\n",
       " (0.03, 1, 180): 0.47971610462790554,\n",
       " (0.03, 1, 220): 0.5273993137301181,\n",
       " (0.03, 1, 260): 0.5447895876477025,\n",
       " (0.03, 1, 300): 0.549063229736492,\n",
       " (0.03, 1, 340): 0.5805700117513444,\n",
       " (0.03, 1, 380): 0.6028094050622835,\n",
       " (0.03, 1, 420): 0.6031066452537901,\n",
       " (0.03, 1, 460): 0.6038343008844137,\n",
       " (0.03, 3, 100): 0.6263210333766753,\n",
       " (0.03, 3, 140): 0.6311941464068221,\n",
       " (0.03, 3, 180): 0.634683305714882,\n",
       " (0.03, 3, 220): 0.6696140404843398,\n",
       " (0.03, 3, 260): 0.6773720755516218,\n",
       " (0.03, 3, 300): 0.6806161536440187,\n",
       " (0.03, 3, 340): 0.6861994746807285,\n",
       " (0.03, 3, 380): 0.6958678690188669,\n",
       " (0.03, 3, 420): 0.7027670686240978,\n",
       " (0.03, 3, 460): 0.7076228897962761,\n",
       " (0.03, 5, 100): 0.7162453374313814,\n",
       " (0.03, 5, 140): 0.739910913596914,\n",
       " (0.03, 5, 180): 0.7558140406538251,\n",
       " (0.03, 5, 220): 0.7622184997781634,\n",
       " (0.03, 5, 260): 0.769412728238521,\n",
       " (0.03, 5, 300): 0.7763000062680027,\n",
       " (0.03, 5, 340): 0.7793785064557591,\n",
       " (0.03, 5, 380): 0.7815611862097096,\n",
       " (0.03, 5, 420): 0.785711196833283,\n",
       " (0.03, 5, 460): 0.7916516215643676,\n",
       " (0.03, 7, 100): 0.7889078563010009,\n",
       " (0.03, 7, 140): 0.7913650445350087,\n",
       " (0.03, 7, 180): 0.7999049693360518,\n",
       " (0.03, 7, 220): 0.810085074147557,\n",
       " (0.03, 7, 260): 0.819634866275397,\n",
       " (0.03, 7, 300): 0.8286914624107922,\n",
       " (0.03, 7, 340): 0.8351621707513927,\n",
       " (0.03, 7, 380): 0.8394340930797419,\n",
       " (0.03, 7, 420): 0.8436495978194996,\n",
       " (0.03, 7, 460): 0.84753243262992,\n",
       " (0.03, 9, 100): 0.8263477823277444,\n",
       " (0.03, 9, 140): 0.8406259415771691,\n",
       " (0.03, 9, 180): 0.8440950851391854,\n",
       " (0.03, 9, 220): 0.8488710979698716,\n",
       " (0.03, 9, 260): 0.8538785801512644,\n",
       " (0.03, 9, 300): 0.8566530718089174,\n",
       " (0.03, 9, 340): 0.8609482884493973,\n",
       " (0.03, 9, 380): 0.8634156782075119,\n",
       " (0.03, 9, 420): 0.8649493904833646,\n",
       " (0.03, 9, 460): 0.8658178025963668,\n",
       " (0.03, 11, 100): 0.8582024732341212,\n",
       " (0.03, 11, 140): 0.8635817055683781,\n",
       " (0.03, 11, 180): 0.8651810167179412,\n",
       " (0.03, 11, 220): 0.8662346711108725,\n",
       " (0.03, 11, 260): 0.8670674392619524,\n",
       " (0.03, 11, 300): 0.8688155160756544,\n",
       " (0.03, 11, 340): 0.8698859498051428,\n",
       " (0.03, 11, 380): 0.8708743290480042,\n",
       " (0.03, 11, 420): 0.8719999760325832,\n",
       " (0.03, 11, 460): 0.8726265492181762,\n",
       " (0.03, 13, 100): 0.8723450831060303,\n",
       " (0.03, 13, 140): 0.8731668845860145,\n",
       " (0.03, 13, 180): 0.8740581242957447,\n",
       " (0.03, 13, 220): 0.8745545116803044,\n",
       " (0.03, 13, 260): 0.874936506642246,\n",
       " (0.03, 13, 300): 0.8750562090646958,\n",
       " (0.03, 13, 340): 0.8754885978145236,\n",
       " (0.03, 13, 380): 0.8757297962133486,\n",
       " (0.03, 13, 420): 0.8756055804998626,\n",
       " (0.03, 13, 460): 0.8755009472883414,\n",
       " (0.03, 15, 100): 0.8751971863819957,\n",
       " (0.03, 15, 140): 0.8762565169261898,\n",
       " (0.03, 15, 180): 0.8769686650308908,\n",
       " (0.03, 15, 220): 0.8773632837536851,\n",
       " (0.03, 15, 260): 0.8770599473501506,\n",
       " (0.03, 15, 300): 0.8767049639623685,\n",
       " (0.03, 15, 340): 0.8764796246296772,\n",
       " (0.03, 15, 380): 0.8762903761606726,\n",
       " (0.03, 15, 420): 0.8760959141795663,\n",
       " (0.03, 15, 460): 0.876049723062121,\n",
       " (0.1, 1, 100): 0.6028393736783364,\n",
       " (0.1, 1, 140): 0.6049930599014937,\n",
       " (0.1, 1, 180): 0.6070751743705387,\n",
       " (0.1, 1, 220): 0.6085120880084001,\n",
       " (0.1, 1, 260): 0.6094710397040555,\n",
       " (0.1, 1, 300): 0.6112756700800086,\n",
       " (0.1, 1, 340): 0.6117258154908531,\n",
       " (0.1, 1, 380): 0.6143387673079334,\n",
       " (0.1, 1, 420): 0.6149501844006064,\n",
       " (0.1, 1, 460): 0.6157144699879945,\n",
       " (0.1, 3, 100): 0.6861344810155845,\n",
       " (0.1, 3, 140): 0.7136462056561681,\n",
       " (0.1, 3, 180): 0.7399383036022389,\n",
       " (0.1, 3, 220): 0.7541087071434751,\n",
       " (0.1, 3, 260): 0.7596219523916777,\n",
       " (0.1, 3, 300): 0.7644747822827658,\n",
       " (0.1, 3, 340): 0.7668474966133181,\n",
       " (0.1, 3, 380): 0.7698696792069496,\n",
       " (0.1, 3, 420): 0.7718472383836438,\n",
       " (0.1, 3, 460): 0.7737889256047649,\n",
       " (0.1, 5, 100): 0.7789327086900278,\n",
       " (0.1, 5, 140): 0.7944758931031731,\n",
       " (0.1, 5, 180): 0.8135881485269989,\n",
       " (0.1, 5, 220): 0.8244019738833328,\n",
       " (0.1, 5, 260): 0.8345828005096724,\n",
       " (0.1, 5, 300): 0.84126261316948,\n",
       " (0.1, 5, 340): 0.8462870637911472,\n",
       " (0.1, 5, 380): 0.8493842960979805,\n",
       " (0.1, 5, 420): 0.8534616420693878,\n",
       " (0.1, 5, 460): 0.8548660896544436,\n",
       " (0.1, 7, 100): 0.8399672716743346,\n",
       " (0.1, 7, 140): 0.8503964776684642,\n",
       " (0.1, 7, 180): 0.8579418821641157,\n",
       " (0.1, 7, 220): 0.8612274800362665,\n",
       " (0.1, 7, 260): 0.8638065575044909,\n",
       " (0.1, 7, 300): 0.8658070358476753,\n",
       " (0.1, 7, 340): 0.8669308643791702,\n",
       " (0.1, 7, 380): 0.8683220950891922,\n",
       " (0.1, 7, 420): 0.8691481327824431,\n",
       " (0.1, 7, 460): 0.8698403146188041,\n",
       " (0.1, 9, 100): 0.8620203217214508,\n",
       " (0.1, 9, 140): 0.8668035530007664,\n",
       " (0.1, 9, 180): 0.8699466467325909,\n",
       " (0.1, 9, 220): 0.8712724925499471,\n",
       " (0.1, 9, 260): 0.8723162571618209,\n",
       " (0.1, 9, 300): 0.8727170226427695,\n",
       " (0.1, 9, 340): 0.8723044079088934,\n",
       " (0.1, 9, 380): 0.872498765524847,\n",
       " (0.1, 9, 420): 0.8725177193667493,\n",
       " (0.1, 9, 460): 0.8725124303260708,\n",
       " (0.1, 11, 100): 0.8711517647806446,\n",
       " (0.1, 11, 140): 0.8727938005346882,\n",
       " (0.1, 11, 180): 0.8737550861203747,\n",
       " (0.1, 11, 220): 0.8742273642501857,\n",
       " (0.1, 11, 260): 0.8736517382749673,\n",
       " (0.1, 11, 300): 0.8730201423171169,\n",
       " (0.1, 11, 340): 0.8728373966224048,\n",
       " (0.1, 11, 380): 0.8722358533163236,\n",
       " (0.1, 11, 420): 0.8718122095893642,\n",
       " (0.1, 11, 460): 0.8708512189855346,\n",
       " (0.1, 13, 100): 0.875360619198618,\n",
       " (0.1, 13, 140): 0.8754560040241797,\n",
       " (0.1, 13, 180): 0.8743460128482873,\n",
       " (0.1, 13, 220): 0.8739311283309679,\n",
       " (0.1, 13, 260): 0.8726373434017966,\n",
       " (0.1, 13, 300): 0.8717334387224771,\n",
       " (0.1, 13, 340): 0.8707225612992995,\n",
       " (0.1, 13, 380): 0.8693488894396701,\n",
       " (0.1, 13, 420): 0.868403105075896,\n",
       " (0.1, 13, 460): 0.8676764279973541,\n",
       " (0.1, 15, 100): 0.8756833009377208,\n",
       " (0.1, 15, 140): 0.8747293831576901,\n",
       " (0.1, 15, 180): 0.8729921377178987,\n",
       " (0.1, 15, 220): 0.8718032180584185,\n",
       " (0.1, 15, 260): 0.8706645488696596,\n",
       " (0.1, 15, 300): 0.869671452344457,\n",
       " (0.1, 15, 340): 0.8685016728244633,\n",
       " (0.1, 15, 380): 0.8671218214204217,\n",
       " (0.1, 15, 420): 0.8659128624167014,\n",
       " (0.1, 15, 460): 0.8650444618367292,\n",
       " (0.3, 1, 100): 0.6149535946808206,\n",
       " (0.3, 1, 140): 0.614504826101722,\n",
       " (0.3, 1, 180): 0.6129744502020331,\n",
       " (0.3, 1, 220): 0.6127824830995001,\n",
       " (0.3, 1, 260): 0.6127038155923186,\n",
       " (0.3, 1, 300): 0.612319190648155,\n",
       " (0.3, 1, 340): 0.6109764713836231,\n",
       " (0.3, 1, 380): 0.6109968148560111,\n",
       " (0.3, 1, 420): 0.6111831009132722,\n",
       " (0.3, 1, 460): 0.6107498656495947,\n",
       " (0.3, 3, 100): 0.7627830556744036,\n",
       " (0.3, 3, 140): 0.7747466539054729,\n",
       " (0.3, 3, 180): 0.7865699889711948,\n",
       " (0.3, 3, 220): 0.8036171313848779,\n",
       " (0.3, 3, 260): 0.8147517552150039,\n",
       " (0.3, 3, 300): 0.8208825317645966,\n",
       " (0.3, 3, 340): 0.8274377488837267,\n",
       " (0.3, 3, 380): 0.8316898486495031,\n",
       " (0.3, 3, 420): 0.8345395599149186,\n",
       " (0.3, 3, 460): 0.837793755582531,\n",
       " (0.3, 5, 100): 0.8446620122512016,\n",
       " (0.3, 5, 140): 0.8541824900542977,\n",
       " (0.3, 5, 180): 0.859872463710299,\n",
       " (0.3, 5, 220): 0.861937258983825,\n",
       " (0.3, 5, 260): 0.8642110005442596,\n",
       " (0.3, 5, 300): 0.8658054084081444,\n",
       " (0.3, 5, 340): 0.8666174002796095,\n",
       " (0.3, 5, 380): 0.8678093075694552,\n",
       " (0.3, 5, 420): 0.8681772797039287,\n",
       " (0.3, 5, 460): 0.8676286401834318,\n",
       " (0.3, 7, 100): 0.8677067703351418,\n",
       " (0.3, 7, 140): 0.8699235911422477,\n",
       " (0.3, 7, 180): 0.8700910114206671,\n",
       " (0.3, 7, 220): 0.8708521613660963,\n",
       " (0.3, 7, 260): 0.8702919065647439,\n",
       " (0.3, 7, 300): 0.8702245175473207,\n",
       " (0.3, 7, 340): 0.8695447571780427,\n",
       " (0.3, 7, 380): 0.8682814178095333,\n",
       " (0.3, 7, 420): 0.8678170478615137,\n",
       " (0.3, 7, 460): 0.867323591214267,\n",
       " (0.3, 9, 100): 0.8724756670400247,\n",
       " (0.3, 9, 140): 0.8708145765006507,\n",
       " (0.3, 9, 180): 0.8697899152247018,\n",
       " (0.3, 9, 220): 0.8678449565927912,\n",
       " (0.3, 9, 260): 0.8669203898172553,\n",
       " (0.3, 9, 300): 0.8661046416856604,\n",
       " (0.3, 9, 340): 0.8652688506999882,\n",
       " (0.3, 9, 380): 0.8637805105061611,\n",
       " (0.3, 9, 420): 0.8630540386566453,\n",
       " (0.3, 9, 460): 0.862244715967944,\n",
       " (0.3, 11, 100): 0.8709468475607363,\n",
       " (0.3, 11, 140): 0.8678873610716421,\n",
       " (0.3, 11, 180): 0.8663081767165706,\n",
       " (0.3, 11, 220): 0.8638117502465897,\n",
       " (0.3, 11, 260): 0.8624510908518488,\n",
       " (0.3, 11, 300): 0.8611502832562993,\n",
       " (0.3, 11, 340): 0.8596572128207921,\n",
       " (0.3, 11, 380): 0.8585080816471748,\n",
       " (0.3, 11, 420): 0.8569116664368185,\n",
       " (0.3, 11, 460): 0.8561985587211959,\n",
       " (0.3, 13, 100): 0.8688969082139456,\n",
       " (0.3, 13, 140): 0.8648496503841934,\n",
       " (0.3, 13, 180): 0.8625643284305816,\n",
       " (0.3, 13, 220): 0.8607121357330408,\n",
       " (0.3, 13, 260): 0.8581578178384645,\n",
       " (0.3, 13, 300): 0.856823048191939,\n",
       " (0.3, 13, 340): 0.855611774980568,\n",
       " (0.3, 13, 380): 0.8548023869934415,\n",
       " (0.3, 13, 420): 0.8540845750902655,\n",
       " (0.3, 13, 460): 0.8533224213860893,\n",
       " (0.3, 15, 100): 0.8662617521030279,\n",
       " (0.3, 15, 140): 0.862831657023337,\n",
       " (0.3, 15, 180): 0.8601313375551941,\n",
       " (0.3, 15, 220): 0.8579984343110674,\n",
       " (0.3, 15, 260): 0.8556845417095584,\n",
       " (0.3, 15, 300): 0.8545147488755751,\n",
       " (0.3, 15, 340): 0.8535322575262724,\n",
       " (0.3, 15, 380): 0.8530797138249708,\n",
       " (0.3, 15, 420): 0.85223987333224,\n",
       " (0.3, 15, 460): 0.851664136128574}"
      ]
     },
     "execution_count": 50,
     "metadata": {},
     "output_type": "execute_result"
    }
   ],
   "source": [
    "res = grid_search.cv_results_\n",
    "pars = [tuple(par.values()) for par in res['params']]\n",
    "scores = np.array(res['mean_test_score'])\n",
    "param_scores = dict(zip(pars, scores))\n",
    "param_scores"
   ]
  },
  {
   "cell_type": "code",
   "execution_count": 52,
   "id": "e7e7f09e-1ec9-4d03-b275-695ef4a50263",
   "metadata": {},
   "outputs": [],
   "source": [
    "best_model = xgboost.XGBClassifier(\n",
    "    objective= 'binary:logistic',\n",
    "   learning_rate=.03,\n",
    "    max_depth=15,\n",
    "    n_estimators=220) "
   ]
  },
  {
   "cell_type": "code",
   "execution_count": 56,
   "id": "c78c72c1-3c1b-4f51-9f13-856d1df7e8fe",
   "metadata": {},
   "outputs": [
    {
     "data": {
      "text/html": [
       "<style>#sk-container-id-15 {color: black;background-color: white;}#sk-container-id-15 pre{padding: 0;}#sk-container-id-15 div.sk-toggleable {background-color: white;}#sk-container-id-15 label.sk-toggleable__label {cursor: pointer;display: block;width: 100%;margin-bottom: 0;padding: 0.3em;box-sizing: border-box;text-align: center;}#sk-container-id-15 label.sk-toggleable__label-arrow:before {content: \"▸\";float: left;margin-right: 0.25em;color: #696969;}#sk-container-id-15 label.sk-toggleable__label-arrow:hover:before {color: black;}#sk-container-id-15 div.sk-estimator:hover label.sk-toggleable__label-arrow:before {color: black;}#sk-container-id-15 div.sk-toggleable__content {max-height: 0;max-width: 0;overflow: hidden;text-align: left;background-color: #f0f8ff;}#sk-container-id-15 div.sk-toggleable__content pre {margin: 0.2em;color: black;border-radius: 0.25em;background-color: #f0f8ff;}#sk-container-id-15 input.sk-toggleable__control:checked~div.sk-toggleable__content {max-height: 200px;max-width: 100%;overflow: auto;}#sk-container-id-15 input.sk-toggleable__control:checked~label.sk-toggleable__label-arrow:before {content: \"▾\";}#sk-container-id-15 div.sk-estimator input.sk-toggleable__control:checked~label.sk-toggleable__label {background-color: #d4ebff;}#sk-container-id-15 div.sk-label input.sk-toggleable__control:checked~label.sk-toggleable__label {background-color: #d4ebff;}#sk-container-id-15 input.sk-hidden--visually {border: 0;clip: rect(1px 1px 1px 1px);clip: rect(1px, 1px, 1px, 1px);height: 1px;margin: -1px;overflow: hidden;padding: 0;position: absolute;width: 1px;}#sk-container-id-15 div.sk-estimator {font-family: monospace;background-color: #f0f8ff;border: 1px dotted black;border-radius: 0.25em;box-sizing: border-box;margin-bottom: 0.5em;}#sk-container-id-15 div.sk-estimator:hover {background-color: #d4ebff;}#sk-container-id-15 div.sk-parallel-item::after {content: \"\";width: 100%;border-bottom: 1px solid gray;flex-grow: 1;}#sk-container-id-15 div.sk-label:hover label.sk-toggleable__label {background-color: #d4ebff;}#sk-container-id-15 div.sk-serial::before {content: \"\";position: absolute;border-left: 1px solid gray;box-sizing: border-box;top: 0;bottom: 0;left: 50%;z-index: 0;}#sk-container-id-15 div.sk-serial {display: flex;flex-direction: column;align-items: center;background-color: white;padding-right: 0.2em;padding-left: 0.2em;position: relative;}#sk-container-id-15 div.sk-item {position: relative;z-index: 1;}#sk-container-id-15 div.sk-parallel {display: flex;align-items: stretch;justify-content: center;background-color: white;position: relative;}#sk-container-id-15 div.sk-item::before, #sk-container-id-15 div.sk-parallel-item::before {content: \"\";position: absolute;border-left: 1px solid gray;box-sizing: border-box;top: 0;bottom: 0;left: 50%;z-index: -1;}#sk-container-id-15 div.sk-parallel-item {display: flex;flex-direction: column;z-index: 1;position: relative;background-color: white;}#sk-container-id-15 div.sk-parallel-item:first-child::after {align-self: flex-end;width: 50%;}#sk-container-id-15 div.sk-parallel-item:last-child::after {align-self: flex-start;width: 50%;}#sk-container-id-15 div.sk-parallel-item:only-child::after {width: 0;}#sk-container-id-15 div.sk-dashed-wrapped {border: 1px dashed gray;margin: 0 0.4em 0.5em 0.4em;box-sizing: border-box;padding-bottom: 0.4em;background-color: white;}#sk-container-id-15 div.sk-label label {font-family: monospace;font-weight: bold;display: inline-block;line-height: 1.2em;}#sk-container-id-15 div.sk-label-container {text-align: center;}#sk-container-id-15 div.sk-container {/* jupyter's `normalize.less` sets `[hidden] { display: none; }` but bootstrap.min.css set `[hidden] { display: none !important; }` so we also need the `!important` here to be able to override the default hidden behavior on the sphinx rendered scikit-learn.org. See: https://github.com/scikit-learn/scikit-learn/issues/21755 */display: inline-block !important;position: relative;}#sk-container-id-15 div.sk-text-repr-fallback {display: none;}</style><div id=\"sk-container-id-15\" class=\"sk-top-container\"><div class=\"sk-text-repr-fallback\"><pre>XGBClassifier(base_score=None, booster=None, callbacks=None,\n",
       "              colsample_bylevel=None, colsample_bynode=None,\n",
       "              colsample_bytree=None, device=None, early_stopping_rounds=None,\n",
       "              enable_categorical=False, eval_metric=None, feature_types=None,\n",
       "              gamma=None, grow_policy=None, importance_type=None,\n",
       "              interaction_constraints=None, learning_rate=0.03, max_bin=None,\n",
       "              max_cat_threshold=None, max_cat_to_onehot=None,\n",
       "              max_delta_step=None, max_depth=15, max_leaves=None,\n",
       "              min_child_weight=None, missing=nan, monotone_constraints=None,\n",
       "              multi_strategy=None, n_estimators=220, n_jobs=None,\n",
       "              num_parallel_tree=None, random_state=None, ...)</pre><b>In a Jupyter environment, please rerun this cell to show the HTML representation or trust the notebook. <br />On GitHub, the HTML representation is unable to render, please try loading this page with nbviewer.org.</b></div><div class=\"sk-container\" hidden><div class=\"sk-item\"><div class=\"sk-estimator sk-toggleable\"><input class=\"sk-toggleable__control sk-hidden--visually\" id=\"sk-estimator-id-21\" type=\"checkbox\" checked><label for=\"sk-estimator-id-21\" class=\"sk-toggleable__label sk-toggleable__label-arrow\">XGBClassifier</label><div class=\"sk-toggleable__content\"><pre>XGBClassifier(base_score=None, booster=None, callbacks=None,\n",
       "              colsample_bylevel=None, colsample_bynode=None,\n",
       "              colsample_bytree=None, device=None, early_stopping_rounds=None,\n",
       "              enable_categorical=False, eval_metric=None, feature_types=None,\n",
       "              gamma=None, grow_policy=None, importance_type=None,\n",
       "              interaction_constraints=None, learning_rate=0.03, max_bin=None,\n",
       "              max_cat_threshold=None, max_cat_to_onehot=None,\n",
       "              max_delta_step=None, max_depth=15, max_leaves=None,\n",
       "              min_child_weight=None, missing=nan, monotone_constraints=None,\n",
       "              multi_strategy=None, n_estimators=220, n_jobs=None,\n",
       "              num_parallel_tree=None, random_state=None, ...)</pre></div></div></div></div></div>"
      ],
      "text/plain": [
       "XGBClassifier(base_score=None, booster=None, callbacks=None,\n",
       "              colsample_bylevel=None, colsample_bynode=None,\n",
       "              colsample_bytree=None, device=None, early_stopping_rounds=None,\n",
       "              enable_categorical=False, eval_metric=None, feature_types=None,\n",
       "              gamma=None, grow_policy=None, importance_type=None,\n",
       "              interaction_constraints=None, learning_rate=0.03, max_bin=None,\n",
       "              max_cat_threshold=None, max_cat_to_onehot=None,\n",
       "              max_delta_step=None, max_depth=15, max_leaves=None,\n",
       "              min_child_weight=None, missing=nan, monotone_constraints=None,\n",
       "              multi_strategy=None, n_estimators=220, n_jobs=None,\n",
       "              num_parallel_tree=None, random_state=None, ...)"
      ]
     },
     "execution_count": 56,
     "metadata": {},
     "output_type": "execute_result"
    }
   ],
   "source": [
    "best_model.fit(balanced[features], balanced['power_outage'])"
   ]
  },
  {
   "cell_type": "code",
   "execution_count": 57,
   "id": "b6379cfb-c46d-457a-be13-4951794b0448",
   "metadata": {},
   "outputs": [
    {
     "name": "stdout",
     "output_type": "stream",
     "text": [
      "precision:  0.9761712235306009\n",
      "recall:  0.22620992534036014\n"
     ]
    }
   ],
   "source": [
    "prec = precision_score(best_model.predict(light_train[features]), light_train['power_outage'])\n",
    "recall = recall_score(best_model.predict(light_train[features]), light_train['power_outage'])\n",
    "print(\"precision: \", prec)\n",
    "print(\"recall: \", recall)"
   ]
  },
  {
   "cell_type": "code",
   "execution_count": null,
   "id": "11a84c4c-f515-4f8a-8c25-eb0bb50fa512",
   "metadata": {},
   "outputs": [],
   "source": [
    "best_model.get_booster().get_score(importance_type='gain')"
   ]
  },
  {
   "cell_type": "code",
   "execution_count": 58,
   "id": "0b2da8d3-f4db-4479-8b16-3ee395d44e71",
   "metadata": {},
   "outputs": [
    {
     "data": {
      "image/png": "[encoded data removed]",
      "text/plain": [
       "<Figure size 432x288 with 1 Axes>"
      ]
     },
     "metadata": {
      "needs_background": "light"
     },
     "output_type": "display_data"
    }
   ],
   "source": [
    "from sklearn.metrics import PrecisionRecallDisplay\n",
    "\n",
    "display = PrecisionRecallDisplay.from_estimator(\n",
    "    best_model, light_train[features], light_train['power_outage'], name=\"xGBoost\")\n",
    "_ = display.ax_.set_title(\"2-class Precision-Recall curve\")"
   ]
  },
  {
   "cell_type": "markdown",
   "id": "3a0ee9d5-5be7-4137-9246-d839adeca8e3",
   "metadata": {},
   "source": [
    "## Using multiple years of lightning"
   ]
  },
  {
   "cell_type": "code",
   "execution_count": 3,
   "id": "e339a16b-49f9-49dd-8268-658e2051370b",
   "metadata": {},
   "outputs": [
    {
     "name": "stderr",
     "output_type": "stream",
     "text": [
      "/tmp/ipykernel_401727/3381521361.py:3: DtypeWarning: Columns (8) have mixed types. Specify dtype option on import or set low_memory=False.\n",
      "  return pd.read_csv('../merged/merged_{}_{}.csv.gz'.format(weather, year))\n",
      "/tmp/ipykernel_401727/3381521361.py:3: DtypeWarning: Columns (8) have mixed types. Specify dtype option on import or set low_memory=False.\n",
      "  return pd.read_csv('../merged/merged_{}_{}.csv.gz'.format(weather, year))\n",
      "/tmp/ipykernel_401727/3381521361.py:3: DtypeWarning: Columns (8) have mixed types. Specify dtype option on import or set low_memory=False.\n",
      "  return pd.read_csv('../merged/merged_{}_{}.csv.gz'.format(weather, year))\n",
      "/tmp/ipykernel_401727/3381521361.py:3: DtypeWarning: Columns (8) have mixed types. Specify dtype option on import or set low_memory=False.\n",
      "  return pd.read_csv('../merged/merged_{}_{}.csv.gz'.format(weather, year))\n",
      "/tmp/ipykernel_401727/3381521361.py:3: DtypeWarning: Columns (8) have mixed types. Specify dtype option on import or set low_memory=False.\n",
      "  return pd.read_csv('../merged/merged_{}_{}.csv.gz'.format(weather, year))\n",
      "/tmp/ipykernel_401727/3381521361.py:3: DtypeWarning: Columns (8) have mixed types. Specify dtype option on import or set low_memory=False.\n",
      "  return pd.read_csv('../merged/merged_{}_{}.csv.gz'.format(weather, year))\n",
      "/tmp/ipykernel_401727/3381521361.py:3: DtypeWarning: Columns (8) have mixed types. Specify dtype option on import or set low_memory=False.\n",
      "  return pd.read_csv('../merged/merged_{}_{}.csv.gz'.format(weather, year))\n",
      "/tmp/ipykernel_401727/3381521361.py:3: DtypeWarning: Columns (8) have mixed types. Specify dtype option on import or set low_memory=False.\n",
      "  return pd.read_csv('../merged/merged_{}_{}.csv.gz'.format(weather, year))\n",
      "/tmp/ipykernel_401727/3381521361.py:3: DtypeWarning: Columns (8) have mixed types. Specify dtype option on import or set low_memory=False.\n",
      "  return pd.read_csv('../merged/merged_{}_{}.csv.gz'.format(weather, year))\n"
     ]
    }
   ],
   "source": [
    "# Download them\n",
    "def read_merged(weather, year):\n",
    "    return pd.read_csv('../merged/merged_{}_{}.csv.gz'.format(weather, year))\n",
    "lightning = [read_merged(\"lightning\", year) for year in range(2015, 2024)]"
   ]
  },
  {
   "cell_type": "code",
   "execution_count": 4,
   "id": "e095bb3e-333f-4e6d-ba8d-6f05942ba74c",
   "metadata": {},
   "outputs": [],
   "source": [
    "light = pd.concat(lightning)\n",
    "del lightning"
   ]
  },
  {
   "cell_type": "code",
   "execution_count": 6,
   "id": "4baa0f2a-9ecd-464f-86ef-be018ece240d",
   "metadata": {},
   "outputs": [
    {
     "name": "stdout",
     "output_type": "stream",
     "text": [
      "<class 'pandas.core.frame.DataFrame'>\n",
      "Int64Index: 23651698 entries, 0 to 2388298\n",
      "Data columns (total 11 columns):\n",
      " #   Column        Dtype  \n",
      "---  ------        -----  \n",
      " 0   Unnamed: 0    int64  \n",
      " 1   #ZDAY         object \n",
      " 2   CENTERLON     float64\n",
      " 3   CENTERLAT     float64\n",
      " 4   TOTAL_COUNT   int64  \n",
      " 5   DATE          object \n",
      " 6   county        object \n",
      " 7   state         object \n",
      " 8   Month         object \n",
      " 9   power_outage  bool   \n",
      " 10  Event Month   object \n",
      "dtypes: bool(1), float64(2), int64(2), object(6)\n",
      "memory usage: 2.0+ GB\n"
     ]
    }
   ],
   "source": [
    "light.info()"
   ]
  },
  {
   "cell_type": "code",
   "execution_count": 5,
   "id": "9ba105a4-eb9c-4dda-b7d0-fa0bc04d0942",
   "metadata": {},
   "outputs": [],
   "source": [
    "del light['#ZDAY']\n",
    "del light['Unnamed: 0']\n",
    "light['log_total_count'] = np.log10(light['TOTAL_COUNT'])\n",
    "light['DATE'] = pd.to_datetime(light['DATE'])\n",
    "light['Month'] = light['DATE'].dt.month"
   ]
  },
  {
   "cell_type": "code",
   "execution_count": 12,
   "id": "0a03b274-8f04-4ed4-b5aa-d650eafee967",
   "metadata": {},
   "outputs": [
    {
     "name": "stdout",
     "output_type": "stream",
     "text": [
      "<class 'pandas.core.frame.DataFrame'>\n",
      "Int64Index: 23651698 entries, 0 to 2388298\n",
      "Data columns (total 10 columns):\n",
      " #   Column           Dtype         \n",
      "---  ------           -----         \n",
      " 0   CENTERLON        float64       \n",
      " 1   CENTERLAT        float64       \n",
      " 2   TOTAL_COUNT      int64         \n",
      " 3   DATE             datetime64[ns]\n",
      " 4   county           object        \n",
      " 5   state            object        \n",
      " 6   Month            int64         \n",
      " 7   power_outage     bool          \n",
      " 8   Event Month      object        \n",
      " 9   log_total_count  float64       \n",
      "dtypes: bool(1), datetime64[ns](1), float64(3), int64(2), object(3)\n",
      "memory usage: 1.8+ GB\n"
     ]
    }
   ],
   "source": [
    "light.info()"
   ]
  },
  {
   "cell_type": "code",
   "execution_count": 13,
   "id": "96962e0c-10ce-4ea9-9499-883d74a04676",
   "metadata": {},
   "outputs": [
    {
     "data": {
      "text/plain": [
       "False    0.987822\n",
       "True     0.012178\n",
       "Name: power_outage, dtype: float64"
      ]
     },
     "execution_count": 13,
     "metadata": {},
     "output_type": "execute_result"
    }
   ],
   "source": [
    "light['power_outage'].value_counts(normalize=True)"
   ]
  },
  {
   "cell_type": "code",
   "execution_count": 6,
   "id": "bea0c010-326c-4dfb-8a69-f2357a318b93",
   "metadata": {},
   "outputs": [],
   "source": [
    "features = ['CENTERLON', 'CENTERLAT', 'log_total_count', 'Month', 'TOTAL_COUNT']"
   ]
  },
  {
   "cell_type": "code",
   "execution_count": 7,
   "id": "2ae8670c-4e2a-4a6d-b991-f5826fdcd081",
   "metadata": {},
   "outputs": [],
   "source": [
    "import xgboost\n",
    "from sklearn.model_selection import train_test_split\n",
    "from sklearn.model_selection import GridSearchCV\n",
    "from sklearn.model_selection import StratifiedKFold\n",
    "from sklearn.metrics import accuracy_score, precision_score, recall_score\n",
    "from sklearn.metrics import f1_score, make_scorer"
   ]
  },
  {
   "cell_type": "code",
   "execution_count": 8,
   "id": "8d13874a-bee0-4d4a-9452-983f76648586",
   "metadata": {},
   "outputs": [],
   "source": [
    "light_train, light_test = train_test_split(light, test_size=0.2, stratify=light.power_outage)\n"
   ]
  },
  {
   "cell_type": "code",
   "execution_count": 9,
   "id": "5a6fab1e-e3f9-4bdb-b3c1-e473d46e3abd",
   "metadata": {},
   "outputs": [],
   "source": [
    "light_tt, light_val = train_test_split(light_train, test_size=0.2, stratify=light_train.power_outage)"
   ]
  },
  {
   "cell_type": "code",
   "execution_count": 17,
   "id": "8c1117af-cf0b-46f9-b22c-12812786ea8e",
   "metadata": {},
   "outputs": [],
   "source": [
    "outage = light_tt[light_tt['power_outage']==True]\n",
    "no_outage = light_tt[light_tt['power_outage']==False]\n",
    "no_outage= no_outage.sample(n=4*len(outage), random_state=101)\n",
    "balanced = pd.concat([outage,no_outage],axis=0)"
   ]
  },
  {
   "cell_type": "code",
   "execution_count": 18,
   "id": "5dd0ac63-6270-4cb5-be29-0205b6c89432",
   "metadata": {},
   "outputs": [
    {
     "name": "stdout",
     "output_type": "stream",
     "text": [
      "Fitting 5 folds for each of 144 candidates, totalling 720 fits\n"
     ]
    },
    {
     "data": {
      "text/html": [
       "<style>#sk-container-id-4 {color: black;background-color: white;}#sk-container-id-4 pre{padding: 0;}#sk-container-id-4 div.sk-toggleable {background-color: white;}#sk-container-id-4 label.sk-toggleable__label {cursor: pointer;display: block;width: 100%;margin-bottom: 0;padding: 0.3em;box-sizing: border-box;text-align: center;}#sk-container-id-4 label.sk-toggleable__label-arrow:before {content: \"▸\";float: left;margin-right: 0.25em;color: #696969;}#sk-container-id-4 label.sk-toggleable__label-arrow:hover:before {color: black;}#sk-container-id-4 div.sk-estimator:hover label.sk-toggleable__label-arrow:before {color: black;}#sk-container-id-4 div.sk-toggleable__content {max-height: 0;max-width: 0;overflow: hidden;text-align: left;background-color: #f0f8ff;}#sk-container-id-4 div.sk-toggleable__content pre {margin: 0.2em;color: black;border-radius: 0.25em;background-color: #f0f8ff;}#sk-container-id-4 input.sk-toggleable__control:checked~div.sk-toggleable__content {max-height: 200px;max-width: 100%;overflow: auto;}#sk-container-id-4 input.sk-toggleable__control:checked~label.sk-toggleable__label-arrow:before {content: \"▾\";}#sk-container-id-4 div.sk-estimator input.sk-toggleable__control:checked~label.sk-toggleable__label {background-color: #d4ebff;}#sk-container-id-4 div.sk-label input.sk-toggleable__control:checked~label.sk-toggleable__label {background-color: #d4ebff;}#sk-container-id-4 input.sk-hidden--visually {border: 0;clip: rect(1px 1px 1px 1px);clip: rect(1px, 1px, 1px, 1px);height: 1px;margin: -1px;overflow: hidden;padding: 0;position: absolute;width: 1px;}#sk-container-id-4 div.sk-estimator {font-family: monospace;background-color: #f0f8ff;border: 1px dotted black;border-radius: 0.25em;box-sizing: border-box;margin-bottom: 0.5em;}#sk-container-id-4 div.sk-estimator:hover {background-color: #d4ebff;}#sk-container-id-4 div.sk-parallel-item::after {content: \"\";width: 100%;border-bottom: 1px solid gray;flex-grow: 1;}#sk-container-id-4 div.sk-label:hover label.sk-toggleable__label {background-color: #d4ebff;}#sk-container-id-4 div.sk-serial::before {content: \"\";position: absolute;border-left: 1px solid gray;box-sizing: border-box;top: 0;bottom: 0;left: 50%;z-index: 0;}#sk-container-id-4 div.sk-serial {display: flex;flex-direction: column;align-items: center;background-color: white;padding-right: 0.2em;padding-left: 0.2em;position: relative;}#sk-container-id-4 div.sk-item {position: relative;z-index: 1;}#sk-container-id-4 div.sk-parallel {display: flex;align-items: stretch;justify-content: center;background-color: white;position: relative;}#sk-container-id-4 div.sk-item::before, #sk-container-id-4 div.sk-parallel-item::before {content: \"\";position: absolute;border-left: 1px solid gray;box-sizing: border-box;top: 0;bottom: 0;left: 50%;z-index: -1;}#sk-container-id-4 div.sk-parallel-item {display: flex;flex-direction: column;z-index: 1;position: relative;background-color: white;}#sk-container-id-4 div.sk-parallel-item:first-child::after {align-self: flex-end;width: 50%;}#sk-container-id-4 div.sk-parallel-item:last-child::after {align-self: flex-start;width: 50%;}#sk-container-id-4 div.sk-parallel-item:only-child::after {width: 0;}#sk-container-id-4 div.sk-dashed-wrapped {border: 1px dashed gray;margin: 0 0.4em 0.5em 0.4em;box-sizing: border-box;padding-bottom: 0.4em;background-color: white;}#sk-container-id-4 div.sk-label label {font-family: monospace;font-weight: bold;display: inline-block;line-height: 1.2em;}#sk-container-id-4 div.sk-label-container {text-align: center;}#sk-container-id-4 div.sk-container {/* jupyter's `normalize.less` sets `[hidden] { display: none; }` but bootstrap.min.css set `[hidden] { display: none !important; }` so we also need the `!important` here to be able to override the default hidden behavior on the sphinx rendered scikit-learn.org. See: https://github.com/scikit-learn/scikit-learn/issues/21755 */display: inline-block !important;position: relative;}#sk-container-id-4 div.sk-text-repr-fallback {display: none;}</style><div id=\"sk-container-id-4\" class=\"sk-top-container\"><div class=\"sk-text-repr-fallback\"><pre>GridSearchCV(cv=5,\n",
       "             estimator=XGBClassifier(base_score=None, booster=None,\n",
       "                                     callbacks=None, colsample_bylevel=None,\n",
       "                                     colsample_bynode=None,\n",
       "                                     colsample_bytree=None, device=None,\n",
       "                                     early_stopping_rounds=None,\n",
       "                                     enable_categorical=False, eval_metric=None,\n",
       "                                     feature_types=None, gamma=None,\n",
       "                                     grow_policy=None, importance_type=None,\n",
       "                                     interaction_constraints=None,\n",
       "                                     learning_rate=None,...\n",
       "                                     max_cat_to_onehot=None,\n",
       "                                     max_delta_step=None, max_depth=None,\n",
       "                                     max_leaves=None, min_child_weight=None,\n",
       "                                     missing=nan, monotone_constraints=None,\n",
       "                                     multi_strategy=None, n_estimators=None,\n",
       "                                     n_jobs=None, num_parallel_tree=None,\n",
       "                                     random_state=None, ...),\n",
       "             param_grid={&#x27;learning_rate&#x27;: [0.01, 0.1, 0.3],\n",
       "                         &#x27;max_depth&#x27;: range(5, 17, 2),\n",
       "                         &#x27;n_estimators&#x27;: range(100, 400, 40)},\n",
       "             scoring=&#x27;f1&#x27;, verbose=True)</pre><b>In a Jupyter environment, please rerun this cell to show the HTML representation or trust the notebook. <br />On GitHub, the HTML representation is unable to render, please try loading this page with nbviewer.org.</b></div><div class=\"sk-container\" hidden><div class=\"sk-item sk-dashed-wrapped\"><div class=\"sk-label-container\"><div class=\"sk-label sk-toggleable\"><input class=\"sk-toggleable__control sk-hidden--visually\" id=\"sk-estimator-id-6\" type=\"checkbox\" ><label for=\"sk-estimator-id-6\" class=\"sk-toggleable__label sk-toggleable__label-arrow\">GridSearchCV</label><div class=\"sk-toggleable__content\"><pre>GridSearchCV(cv=5,\n",
       "             estimator=XGBClassifier(base_score=None, booster=None,\n",
       "                                     callbacks=None, colsample_bylevel=None,\n",
       "                                     colsample_bynode=None,\n",
       "                                     colsample_bytree=None, device=None,\n",
       "                                     early_stopping_rounds=None,\n",
       "                                     enable_categorical=False, eval_metric=None,\n",
       "                                     feature_types=None, gamma=None,\n",
       "                                     grow_policy=None, importance_type=None,\n",
       "                                     interaction_constraints=None,\n",
       "                                     learning_rate=None,...\n",
       "                                     max_cat_to_onehot=None,\n",
       "                                     max_delta_step=None, max_depth=None,\n",
       "                                     max_leaves=None, min_child_weight=None,\n",
       "                                     missing=nan, monotone_constraints=None,\n",
       "                                     multi_strategy=None, n_estimators=None,\n",
       "                                     n_jobs=None, num_parallel_tree=None,\n",
       "                                     random_state=None, ...),\n",
       "             param_grid={&#x27;learning_rate&#x27;: [0.01, 0.1, 0.3],\n",
       "                         &#x27;max_depth&#x27;: range(5, 17, 2),\n",
       "                         &#x27;n_estimators&#x27;: range(100, 400, 40)},\n",
       "             scoring=&#x27;f1&#x27;, verbose=True)</pre></div></div></div><div class=\"sk-parallel\"><div class=\"sk-parallel-item\"><div class=\"sk-item\"><div class=\"sk-label-container\"><div class=\"sk-label sk-toggleable\"><input class=\"sk-toggleable__control sk-hidden--visually\" id=\"sk-estimator-id-7\" type=\"checkbox\" ><label for=\"sk-estimator-id-7\" class=\"sk-toggleable__label sk-toggleable__label-arrow\">estimator: XGBClassifier</label><div class=\"sk-toggleable__content\"><pre>XGBClassifier(base_score=None, booster=None, callbacks=None,\n",
       "              colsample_bylevel=None, colsample_bynode=None,\n",
       "              colsample_bytree=None, device=None, early_stopping_rounds=None,\n",
       "              enable_categorical=False, eval_metric=None, feature_types=None,\n",
       "              gamma=None, grow_policy=None, importance_type=None,\n",
       "              interaction_constraints=None, learning_rate=None, max_bin=None,\n",
       "              max_cat_threshold=None, max_cat_to_onehot=None,\n",
       "              max_delta_step=None, max_depth=None, max_leaves=None,\n",
       "              min_child_weight=None, missing=nan, monotone_constraints=None,\n",
       "              multi_strategy=None, n_estimators=None, n_jobs=None,\n",
       "              num_parallel_tree=None, random_state=None, ...)</pre></div></div></div><div class=\"sk-serial\"><div class=\"sk-item\"><div class=\"sk-estimator sk-toggleable\"><input class=\"sk-toggleable__control sk-hidden--visually\" id=\"sk-estimator-id-8\" type=\"checkbox\" ><label for=\"sk-estimator-id-8\" class=\"sk-toggleable__label sk-toggleable__label-arrow\">XGBClassifier</label><div class=\"sk-toggleable__content\"><pre>XGBClassifier(base_score=None, booster=None, callbacks=None,\n",
       "              colsample_bylevel=None, colsample_bynode=None,\n",
       "              colsample_bytree=None, device=None, early_stopping_rounds=None,\n",
       "              enable_categorical=False, eval_metric=None, feature_types=None,\n",
       "              gamma=None, grow_policy=None, importance_type=None,\n",
       "              interaction_constraints=None, learning_rate=None, max_bin=None,\n",
       "              max_cat_threshold=None, max_cat_to_onehot=None,\n",
       "              max_delta_step=None, max_depth=None, max_leaves=None,\n",
       "              min_child_weight=None, missing=nan, monotone_constraints=None,\n",
       "              multi_strategy=None, n_estimators=None, n_jobs=None,\n",
       "              num_parallel_tree=None, random_state=None, ...)</pre></div></div></div></div></div></div></div></div></div></div>"
      ],
      "text/plain": [
       "GridSearchCV(cv=5,\n",
       "             estimator=XGBClassifier(base_score=None, booster=None,\n",
       "                                     callbacks=None, colsample_bylevel=None,\n",
       "                                     colsample_bynode=None,\n",
       "                                     colsample_bytree=None, device=None,\n",
       "                                     early_stopping_rounds=None,\n",
       "                                     enable_categorical=False, eval_metric=None,\n",
       "                                     feature_types=None, gamma=None,\n",
       "                                     grow_policy=None, importance_type=None,\n",
       "                                     interaction_constraints=None,\n",
       "                                     learning_rate=None,...\n",
       "                                     max_cat_to_onehot=None,\n",
       "                                     max_delta_step=None, max_depth=None,\n",
       "                                     max_leaves=None, min_child_weight=None,\n",
       "                                     missing=nan, monotone_constraints=None,\n",
       "                                     multi_strategy=None, n_estimators=None,\n",
       "                                     n_jobs=None, num_parallel_tree=None,\n",
       "                                     random_state=None, ...),\n",
       "             param_grid={'learning_rate': [0.01, 0.1, 0.3],\n",
       "                         'max_depth': range(5, 17, 2),\n",
       "                         'n_estimators': range(100, 400, 40)},\n",
       "             scoring='f1', verbose=True)"
      ]
     },
     "execution_count": 18,
     "metadata": {},
     "output_type": "execute_result"
    }
   ],
   "source": [
    "model = xgboost.XGBClassifier(\n",
    "    objective= 'binary:logistic',\n",
    "    seed=42)\n",
    "\n",
    "parameters = {\n",
    "    'max_depth': range (5, 17,  2),\n",
    "    'n_estimators': range(100, 400, 40),\n",
    "    'learning_rate': [0.01, 0.1, 0.3]\n",
    "}\n",
    "\n",
    "grid_search = GridSearchCV(model,\n",
    "    param_grid=parameters,\n",
    "    scoring='f1',\n",
    "    cv = 5,\n",
    "    verbose=True)\n",
    "grid_search.fit(balanced[features], balanced['power_outage'])"
   ]
  },
  {
   "cell_type": "code",
   "execution_count": 19,
   "id": "d8f255cb-8c0a-4533-a394-921349cb8ac2",
   "metadata": {},
   "outputs": [
    {
     "data": {
      "text/html": [
       "<style>#sk-container-id-5 {color: black;background-color: white;}#sk-container-id-5 pre{padding: 0;}#sk-container-id-5 div.sk-toggleable {background-color: white;}#sk-container-id-5 label.sk-toggleable__label {cursor: pointer;display: block;width: 100%;margin-bottom: 0;padding: 0.3em;box-sizing: border-box;text-align: center;}#sk-container-id-5 label.sk-toggleable__label-arrow:before {content: \"▸\";float: left;margin-right: 0.25em;color: #696969;}#sk-container-id-5 label.sk-toggleable__label-arrow:hover:before {color: black;}#sk-container-id-5 div.sk-estimator:hover label.sk-toggleable__label-arrow:before {color: black;}#sk-container-id-5 div.sk-toggleable__content {max-height: 0;max-width: 0;overflow: hidden;text-align: left;background-color: #f0f8ff;}#sk-container-id-5 div.sk-toggleable__content pre {margin: 0.2em;color: black;border-radius: 0.25em;background-color: #f0f8ff;}#sk-container-id-5 input.sk-toggleable__control:checked~div.sk-toggleable__content {max-height: 200px;max-width: 100%;overflow: auto;}#sk-container-id-5 input.sk-toggleable__control:checked~label.sk-toggleable__label-arrow:before {content: \"▾\";}#sk-container-id-5 div.sk-estimator input.sk-toggleable__control:checked~label.sk-toggleable__label {background-color: #d4ebff;}#sk-container-id-5 div.sk-label input.sk-toggleable__control:checked~label.sk-toggleable__label {background-color: #d4ebff;}#sk-container-id-5 input.sk-hidden--visually {border: 0;clip: rect(1px 1px 1px 1px);clip: rect(1px, 1px, 1px, 1px);height: 1px;margin: -1px;overflow: hidden;padding: 0;position: absolute;width: 1px;}#sk-container-id-5 div.sk-estimator {font-family: monospace;background-color: #f0f8ff;border: 1px dotted black;border-radius: 0.25em;box-sizing: border-box;margin-bottom: 0.5em;}#sk-container-id-5 div.sk-estimator:hover {background-color: #d4ebff;}#sk-container-id-5 div.sk-parallel-item::after {content: \"\";width: 100%;border-bottom: 1px solid gray;flex-grow: 1;}#sk-container-id-5 div.sk-label:hover label.sk-toggleable__label {background-color: #d4ebff;}#sk-container-id-5 div.sk-serial::before {content: \"\";position: absolute;border-left: 1px solid gray;box-sizing: border-box;top: 0;bottom: 0;left: 50%;z-index: 0;}#sk-container-id-5 div.sk-serial {display: flex;flex-direction: column;align-items: center;background-color: white;padding-right: 0.2em;padding-left: 0.2em;position: relative;}#sk-container-id-5 div.sk-item {position: relative;z-index: 1;}#sk-container-id-5 div.sk-parallel {display: flex;align-items: stretch;justify-content: center;background-color: white;position: relative;}#sk-container-id-5 div.sk-item::before, #sk-container-id-5 div.sk-parallel-item::before {content: \"\";position: absolute;border-left: 1px solid gray;box-sizing: border-box;top: 0;bottom: 0;left: 50%;z-index: -1;}#sk-container-id-5 div.sk-parallel-item {display: flex;flex-direction: column;z-index: 1;position: relative;background-color: white;}#sk-container-id-5 div.sk-parallel-item:first-child::after {align-self: flex-end;width: 50%;}#sk-container-id-5 div.sk-parallel-item:last-child::after {align-self: flex-start;width: 50%;}#sk-container-id-5 div.sk-parallel-item:only-child::after {width: 0;}#sk-container-id-5 div.sk-dashed-wrapped {border: 1px dashed gray;margin: 0 0.4em 0.5em 0.4em;box-sizing: border-box;padding-bottom: 0.4em;background-color: white;}#sk-container-id-5 div.sk-label label {font-family: monospace;font-weight: bold;display: inline-block;line-height: 1.2em;}#sk-container-id-5 div.sk-label-container {text-align: center;}#sk-container-id-5 div.sk-container {/* jupyter's `normalize.less` sets `[hidden] { display: none; }` but bootstrap.min.css set `[hidden] { display: none !important; }` so we also need the `!important` here to be able to override the default hidden behavior on the sphinx rendered scikit-learn.org. See: https://github.com/scikit-learn/scikit-learn/issues/21755 */display: inline-block !important;position: relative;}#sk-container-id-5 div.sk-text-repr-fallback {display: none;}</style><div id=\"sk-container-id-5\" class=\"sk-top-container\"><div class=\"sk-text-repr-fallback\"><pre>XGBClassifier(base_score=None, booster=None, callbacks=None,\n",
       "              colsample_bylevel=None, colsample_bynode=None,\n",
       "              colsample_bytree=None, device=None, early_stopping_rounds=None,\n",
       "              enable_categorical=False, eval_metric=None, feature_types=None,\n",
       "              gamma=None, grow_policy=None, importance_type=None,\n",
       "              interaction_constraints=None, learning_rate=0.1, max_bin=None,\n",
       "              max_cat_threshold=None, max_cat_to_onehot=None,\n",
       "              max_delta_step=None, max_depth=15, max_leaves=None,\n",
       "              min_child_weight=None, missing=nan, monotone_constraints=None,\n",
       "              multi_strategy=None, n_estimators=300, n_jobs=None,\n",
       "              num_parallel_tree=None, random_state=None, ...)</pre><b>In a Jupyter environment, please rerun this cell to show the HTML representation or trust the notebook. <br />On GitHub, the HTML representation is unable to render, please try loading this page with nbviewer.org.</b></div><div class=\"sk-container\" hidden><div class=\"sk-item\"><div class=\"sk-estimator sk-toggleable\"><input class=\"sk-toggleable__control sk-hidden--visually\" id=\"sk-estimator-id-9\" type=\"checkbox\" checked><label for=\"sk-estimator-id-9\" class=\"sk-toggleable__label sk-toggleable__label-arrow\">XGBClassifier</label><div class=\"sk-toggleable__content\"><pre>XGBClassifier(base_score=None, booster=None, callbacks=None,\n",
       "              colsample_bylevel=None, colsample_bynode=None,\n",
       "              colsample_bytree=None, device=None, early_stopping_rounds=None,\n",
       "              enable_categorical=False, eval_metric=None, feature_types=None,\n",
       "              gamma=None, grow_policy=None, importance_type=None,\n",
       "              interaction_constraints=None, learning_rate=0.1, max_bin=None,\n",
       "              max_cat_threshold=None, max_cat_to_onehot=None,\n",
       "              max_delta_step=None, max_depth=15, max_leaves=None,\n",
       "              min_child_weight=None, missing=nan, monotone_constraints=None,\n",
       "              multi_strategy=None, n_estimators=300, n_jobs=None,\n",
       "              num_parallel_tree=None, random_state=None, ...)</pre></div></div></div></div></div>"
      ],
      "text/plain": [
       "XGBClassifier(base_score=None, booster=None, callbacks=None,\n",
       "              colsample_bylevel=None, colsample_bynode=None,\n",
       "              colsample_bytree=None, device=None, early_stopping_rounds=None,\n",
       "              enable_categorical=False, eval_metric=None, feature_types=None,\n",
       "              gamma=None, grow_policy=None, importance_type=None,\n",
       "              interaction_constraints=None, learning_rate=0.1, max_bin=None,\n",
       "              max_cat_threshold=None, max_cat_to_onehot=None,\n",
       "              max_delta_step=None, max_depth=15, max_leaves=None,\n",
       "              min_child_weight=None, missing=nan, monotone_constraints=None,\n",
       "              multi_strategy=None, n_estimators=300, n_jobs=None,\n",
       "              num_parallel_tree=None, random_state=None, ...)"
      ]
     },
     "execution_count": 19,
     "metadata": {},
     "output_type": "execute_result"
    }
   ],
   "source": [
    "best_model = grid_search.best_estimator_\n",
    "best_model"
   ]
  },
  {
   "cell_type": "code",
   "execution_count": 20,
   "id": "c6736dac-5175-4682-9219-b8335e3a9f0e",
   "metadata": {},
   "outputs": [
    {
     "data": {
      "text/plain": [
       "{(0.01, 5, 100): 0.016605882167313245,\n",
       " (0.01, 5, 140): 0.016605790051764734,\n",
       " (0.01, 5, 180): 0.02361595505235175,\n",
       " (0.01, 5, 220): 0.17886048873670615,\n",
       " (0.01, 5, 260): 0.2359953673978048,\n",
       " (0.01, 5, 300): 0.2502994800081213,\n",
       " (0.01, 5, 340): 0.26495734415008854,\n",
       " (0.01, 5, 380): 0.27837217005596016,\n",
       " (0.01, 7, 100): 0.02896457992688678,\n",
       " (0.01, 7, 140): 0.12414344822448378,\n",
       " (0.01, 7, 180): 0.2873488427798051,\n",
       " (0.01, 7, 220): 0.3364969641838372,\n",
       " (0.01, 7, 260): 0.3531496846024763,\n",
       " (0.01, 7, 300): 0.3588592129889718,\n",
       " (0.01, 7, 340): 0.36517616904680555,\n",
       " (0.01, 7, 380): 0.37129379682653385,\n",
       " (0.01, 9, 100): 0.14664753875707826,\n",
       " (0.01, 9, 140): 0.2984301260628549,\n",
       " (0.01, 9, 180): 0.35017127699080286,\n",
       " (0.01, 9, 220): 0.3739505177637511,\n",
       " (0.01, 9, 260): 0.3960633478579511,\n",
       " (0.01, 9, 300): 0.4083668148620232,\n",
       " (0.01, 9, 340): 0.42068231961396163,\n",
       " (0.01, 9, 380): 0.43103616155759134,\n",
       " (0.01, 11, 100): 0.2520971367423045,\n",
       " (0.01, 11, 140): 0.3808075206854455,\n",
       " (0.01, 11, 180): 0.43283793782617747,\n",
       " (0.01, 11, 220): 0.4574524248884269,\n",
       " (0.01, 11, 260): 0.47970811793053925,\n",
       " (0.01, 11, 300): 0.49842343772683007,\n",
       " (0.01, 11, 340): 0.5157326382218574,\n",
       " (0.01, 11, 380): 0.5298111875408736,\n",
       " (0.01, 13, 100): 0.36141570814528934,\n",
       " (0.01, 13, 140): 0.45937064446547815,\n",
       " (0.01, 13, 180): 0.51291627305504,\n",
       " (0.01, 13, 220): 0.5372735504648591,\n",
       " (0.01, 13, 260): 0.5514758782915055,\n",
       " (0.01, 13, 300): 0.5621403251036905,\n",
       " (0.01, 13, 340): 0.5688153868657247,\n",
       " (0.01, 13, 380): 0.5757956123765675,\n",
       " (0.01, 15, 100): 0.4110186210921822,\n",
       " (0.01, 15, 140): 0.5130474739524512,\n",
       " (0.01, 15, 180): 0.5577213627922444,\n",
       " (0.01, 15, 220): 0.5796894046742432,\n",
       " (0.01, 15, 260): 0.5917434196732444,\n",
       " (0.01, 15, 300): 0.6000201460231069,\n",
       " (0.01, 15, 340): 0.606152417064459,\n",
       " (0.01, 15, 380): 0.6100153228549827,\n",
       " (0.1, 5, 100): 0.3926156708878124,\n",
       " (0.1, 5, 140): 0.42420008297586553,\n",
       " (0.1, 5, 180): 0.44892229101419057,\n",
       " (0.1, 5, 220): 0.4711528485118589,\n",
       " (0.1, 5, 260): 0.4872577395167328,\n",
       " (0.1, 5, 300): 0.5005437742127283,\n",
       " (0.1, 5, 340): 0.510549404682675,\n",
       " (0.1, 5, 380): 0.5199110360992176,\n",
       " (0.1, 7, 100): 0.49427783737081094,\n",
       " (0.1, 7, 140): 0.5284270237553255,\n",
       " (0.1, 7, 180): 0.547988432408878,\n",
       " (0.1, 7, 220): 0.5593342850808731,\n",
       " (0.1, 7, 260): 0.5696053229263756,\n",
       " (0.1, 7, 300): 0.5764770355660016,\n",
       " (0.1, 7, 340): 0.5818792262408163,\n",
       " (0.1, 7, 380): 0.5853371003501292,\n",
       " (0.1, 9, 100): 0.5558861700753506,\n",
       " (0.1, 9, 140): 0.5803278579547568,\n",
       " (0.1, 9, 180): 0.5923413619354918,\n",
       " (0.1, 9, 220): 0.5989097066675175,\n",
       " (0.1, 9, 260): 0.6048247106023791,\n",
       " (0.1, 9, 300): 0.6086212636095208,\n",
       " (0.1, 9, 340): 0.6115068316326053,\n",
       " (0.1, 9, 380): 0.6141076873246389,\n",
       " (0.1, 11, 100): 0.5959479941337954,\n",
       " (0.1, 11, 140): 0.6078604564579272,\n",
       " (0.1, 11, 180): 0.6155473035472807,\n",
       " (0.1, 11, 220): 0.6200647506189145,\n",
       " (0.1, 11, 260): 0.6231610882072317,\n",
       " (0.1, 11, 300): 0.6255429040317626,\n",
       " (0.1, 11, 340): 0.6277550378601475,\n",
       " (0.1, 11, 380): 0.6293910503090607,\n",
       " (0.1, 13, 100): 0.6144197876548065,\n",
       " (0.1, 13, 140): 0.6227539202436313,\n",
       " (0.1, 13, 180): 0.6276801070426828,\n",
       " (0.1, 13, 220): 0.6308060814848973,\n",
       " (0.1, 13, 260): 0.6329322612330142,\n",
       " (0.1, 13, 300): 0.6342609372382879,\n",
       " (0.1, 13, 340): 0.6353084635982945,\n",
       " (0.1, 13, 380): 0.6360580354250291,\n",
       " (0.1, 15, 100): 0.6300995342658837,\n",
       " (0.1, 15, 140): 0.6345767384636775,\n",
       " (0.1, 15, 180): 0.6363665524277843,\n",
       " (0.1, 15, 220): 0.6377782255760815,\n",
       " (0.1, 15, 260): 0.6389171991636328,\n",
       " (0.1, 15, 300): 0.6389882196194573,\n",
       " (0.1, 15, 340): 0.6389279089585931,\n",
       " (0.1, 15, 380): 0.6385092738897534,\n",
       " (0.3, 5, 100): 0.5195289947843715,\n",
       " (0.3, 5, 140): 0.540595269820358,\n",
       " (0.3, 5, 180): 0.553503702882437,\n",
       " (0.3, 5, 220): 0.5619880371240434,\n",
       " (0.3, 5, 260): 0.5674817721291429,\n",
       " (0.3, 5, 300): 0.5723227148734371,\n",
       " (0.3, 5, 340): 0.5768869468758411,\n",
       " (0.3, 5, 380): 0.5805534783142292,\n",
       " (0.3, 7, 100): 0.5810516512590207,\n",
       " (0.3, 7, 140): 0.5939349566172782,\n",
       " (0.3, 7, 180): 0.6024104823000804,\n",
       " (0.3, 7, 220): 0.6073108218401881,\n",
       " (0.3, 7, 260): 0.6115811985818075,\n",
       " (0.3, 7, 300): 0.6141366893830371,\n",
       " (0.3, 7, 340): 0.6161861343188401,\n",
       " (0.3, 7, 380): 0.6186779732571106,\n",
       " (0.3, 9, 100): 0.6135729724333816,\n",
       " (0.3, 9, 140): 0.6211291270492596,\n",
       " (0.3, 9, 180): 0.6257629764825232,\n",
       " (0.3, 9, 220): 0.6280975228386645,\n",
       " (0.3, 9, 260): 0.6293159012898821,\n",
       " (0.3, 9, 300): 0.6310350018807311,\n",
       " (0.3, 9, 340): 0.6313648927310084,\n",
       " (0.3, 9, 380): 0.6313949501716629,\n",
       " (0.3, 11, 100): 0.6275918260995204,\n",
       " (0.3, 11, 140): 0.6317119791982194,\n",
       " (0.3, 11, 180): 0.6334191463146214,\n",
       " (0.3, 11, 220): 0.6336085241776537,\n",
       " (0.3, 11, 260): 0.6337511978591576,\n",
       " (0.3, 11, 300): 0.6335139739371094,\n",
       " (0.3, 11, 340): 0.6331928112346896,\n",
       " (0.3, 11, 380): 0.6330120019147095,\n",
       " (0.3, 13, 100): 0.6345847398726068,\n",
       " (0.3, 13, 140): 0.6348827972248061,\n",
       " (0.3, 13, 180): 0.6351652276282754,\n",
       " (0.3, 13, 220): 0.6340295678661535,\n",
       " (0.3, 13, 260): 0.6327077800261747,\n",
       " (0.3, 13, 300): 0.63169661830603,\n",
       " (0.3, 13, 340): 0.6306056328087121,\n",
       " (0.3, 13, 380): 0.6298159202100791,\n",
       " (0.3, 15, 100): 0.6368470476486352,\n",
       " (0.3, 15, 140): 0.6345931949585613,\n",
       " (0.3, 15, 180): 0.6333514480685087,\n",
       " (0.3, 15, 220): 0.6316862135736379,\n",
       " (0.3, 15, 260): 0.63014886147581,\n",
       " (0.3, 15, 300): 0.6291569627242448,\n",
       " (0.3, 15, 340): 0.6280601004428111,\n",
       " (0.3, 15, 380): 0.6271983165294236}"
      ]
     },
     "execution_count": 20,
     "metadata": {},
     "output_type": "execute_result"
    }
   ],
   "source": [
    "res = grid_search.cv_results_\n",
    "pars = [tuple(par.values()) for par in res['params']]\n",
    "scores = np.array(res['mean_test_score'])\n",
    "param_scores = dict(zip(pars, scores))\n",
    "param_scores"
   ]
  },
  {
   "cell_type": "code",
   "execution_count": 21,
   "id": "8c101640-54e9-4fc4-9d72-ba2ebd55c35e",
   "metadata": {},
   "outputs": [
    {
     "name": "stdout",
     "output_type": "stream",
     "text": [
      "precision:  0.618465878268417\n",
      "recall:  0.09378310969550596\n"
     ]
    }
   ],
   "source": [
    "prec = precision_score(best_model.predict(light_val[features]), light_val['power_outage'])\n",
    "recall = recall_score(best_model.predict(light_val[features]), light_val['power_outage'])\n",
    "print(\"precision: \", prec)\n",
    "print(\"recall: \", recall)"
   ]
  },
  {
   "cell_type": "code",
   "execution_count": 22,
   "id": "2a2c0d57-29b3-44cf-9f5b-40aa2baa5f3c",
   "metadata": {},
   "outputs": [
    {
     "data": {
      "image/png": "[encoded data removed]",
      "text/plain": [
       "<Figure size 432x288 with 1 Axes>"
      ]
     },
     "metadata": {
      "needs_background": "light"
     },
     "output_type": "display_data"
    }
   ],
   "source": [
    "from sklearn.metrics import PrecisionRecallDisplay\n",
    "\n",
    "display = PrecisionRecallDisplay.from_estimator(\n",
    "    best_model, light_val[features], light_val['power_outage'], name=\"xGBoost\")\n",
    "_ = display.ax_.set_title(\"2-class Precision-Recall curve\")"
   ]
  },
  {
   "cell_type": "code",
   "execution_count": null,
   "id": "d106f175-2750-4f83-a58e-342692064a51",
   "metadata": {},
   "outputs": [],
   "source": []
  }
 ],
 "metadata": {
  "kernelspec": {
   "display_name": "Python 3 (ipykernel)",
   "language": "python",
   "name": "python3"
  },
  "language_info": {
   "codemirror_mode": {
    "name": "ipython",
    "version": 3
   },
   "file_extension": ".py",
   "mimetype": "text/x-python",
   "name": "python",
   "nbconvert_exporter": "python",
   "pygments_lexer": "ipython3",
   "version": "3.11.6"
  }
 },
 "nbformat": 4,
 "nbformat_minor": 5
}
