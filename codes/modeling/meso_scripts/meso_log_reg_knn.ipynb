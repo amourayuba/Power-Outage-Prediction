{
 "cells": [
  {
   "cell_type": "code",
   "execution_count": 4,
   "metadata": {},
   "outputs": [],
   "source": [
    "# import useful libraries\n",
    "import pandas as pd\n",
    "import numpy as np\n",
    "import matplotlib.pyplot as plt\n",
    "import matplotlib as mpl \n",
    "mpl.rcParams[\"figure.dpi\"] = 150\n",
    "import seaborn as sns\n",
    "import os\n",
    "import datetime as dt\n",
    "# enable copy on write (default in pandas 3.0)\n",
    "pd.options.mode.copy_on_write = True"
   ]
  },
  {
   "cell_type": "code",
   "execution_count": 5,
   "metadata": {},
   "outputs": [],
   "source": [
    "def read_merged(weather, year):\n",
    "    return pd.read_csv('../merged/merged_{}_{}.csv'.format(weather, year))"
   ]
  },
  {
   "cell_type": "code",
   "execution_count": 6,
   "metadata": {},
   "outputs": [],
   "source": [
    "from sklearn.model_selection import train_test_split\n",
    "from sklearn.neighbors import KNeighborsClassifier\n",
    "from sklearn.pipeline import Pipeline\n",
    "from sklearn.preprocessing import StandardScaler\n",
    "from sklearn.metrics import precision_score, recall_score\n",
    "from sklearn.metrics import accuracy_score\n",
    "from sklearn.linear_model import LogisticRegression\n",
    "from sklearn.metrics import accuracy_score\n",
    "from sklearn.model_selection import StratifiedKFold"
   ]
  },
  {
   "cell_type": "code",
   "execution_count": 8,
   "metadata": {},
   "outputs": [],
   "source": [
    "meso = [read_merged(\"meso\", year) for year in range(2015, 2023)]"
   ]
  },
  {
   "cell_type": "code",
   "execution_count": null,
   "metadata": {},
   "outputs": [],
   "source": [
    "data = pd.concat(meso)\n",
    "del meso"
   ]
  },
  {
   "cell_type": "code",
   "execution_count": 11,
   "metadata": {},
   "outputs": [],
   "source": [
    "del data['Unnamed: 0']\n",
    "del data['index']"
   ]
  },
  {
   "cell_type": "code",
   "execution_count": 12,
   "metadata": {},
   "outputs": [],
   "source": [
    "data['TVS_max'] = 1*(data['TVS_max'] == 'Y')\n",
    "data['DATE'] = pd.to_datetime(data['DATE'])\n",
    "data['Month'] = data['DATE'].dt.month"
   ]
  },
  {
   "cell_type": "code",
   "execution_count": 13,
   "metadata": {},
   "outputs": [],
   "source": [
    "data['y'] = 0\n",
    "\n",
    "data.loc[data.power_outage == True, 'y']=1"
   ]
  },
  {
   "cell_type": "code",
   "execution_count": 14,
   "metadata": {},
   "outputs": [],
   "source": [
    "all_features =([data.columns[1], \n",
    "                data.columns[2]] +\n",
    "                data.columns[4:13].tolist() +\n",
    "                [data.columns[16]])"
   ]
  },
  {
   "cell_type": "code",
   "execution_count": 15,
   "metadata": {},
   "outputs": [
    {
     "data": {
      "text/plain": [
       "['LAT_mean',\n",
       " 'LON_mean',\n",
       " 'LL_ROT_VEL_max',\n",
       " 'LL_DV_max',\n",
       " 'LL_BASE_max',\n",
       " 'DEPTH_KFT_max',\n",
       " 'DPTH_STMRL_max',\n",
       " 'MAX_RV_KFT_max',\n",
       " 'MAX_RV_KTS_max',\n",
       " 'TVS_max',\n",
       " 'MSI_max',\n",
       " 'Month']"
      ]
     },
     "execution_count": 15,
     "metadata": {},
     "output_type": "execute_result"
    }
   ],
   "source": [
    "all_features"
   ]
  },
  {
   "cell_type": "code",
   "execution_count": 16,
   "metadata": {},
   "outputs": [],
   "source": [
    "meso_train, meso_test = train_test_split(data.copy(),\n",
    "                                              shuffle=True,\n",
    "                                              random_state=123,\n",
    "                                              test_size=.2,\n",
    "                                              stratify=data.y.values)"
   ]
  },
  {
   "cell_type": "code",
   "execution_count": 17,
   "metadata": {},
   "outputs": [],
   "source": [
    "meso_tt, meso_val = train_test_split(meso_train.copy(),\n",
    "                                              shuffle=True,\n",
    "                                              random_state=123,\n",
    "                                              test_size=.2,\n",
    "                                              stratify=meso_train.y.values)"
   ]
  },
  {
   "cell_type": "code",
   "execution_count": 18,
   "metadata": {},
   "outputs": [],
   "source": [
    "outage = meso_tt[meso_tt['power_outage']==True]\n",
    "no_outage = meso_tt[meso_tt['power_outage']==False]\n",
    "no_outage= no_outage.sample(n=len(outage), random_state=101)\n",
    "meso_tt_balanced = pd.concat([outage,no_outage],axis=0)"
   ]
  },
  {
   "cell_type": "code",
   "execution_count": 19,
   "metadata": {},
   "outputs": [],
   "source": [
    "n_splits = 5\n",
    "\n",
    "kfold = StratifiedKFold(n_splits,\n",
    "                           shuffle=True,\n",
    "                           random_state=498)"
   ]
  },
  {
   "cell_type": "code",
   "execution_count": 20,
   "metadata": {},
   "outputs": [
    {
     "name": "stderr",
     "output_type": "stream",
     "text": [
      "C:\\Users\\squis\\AppData\\Local\\Packages\\PythonSoftwareFoundation.Python.3.12_qbz5n2kfra8p0\\LocalCache\\local-packages\\Python312\\site-packages\\sklearn\\linear_model\\_logistic.py:469: ConvergenceWarning: lbfgs failed to converge (status=1):\n",
      "STOP: TOTAL NO. of ITERATIONS REACHED LIMIT.\n",
      "\n",
      "Increase the number of iterations (max_iter) or scale the data as shown in:\n",
      "    https://scikit-learn.org/stable/modules/preprocessing.html\n",
      "Please also refer to the documentation for alternative solver options:\n",
      "    https://scikit-learn.org/stable/modules/linear_model.html#logistic-regression\n",
      "  n_iter_i = _check_optimize_result(\n",
      "C:\\Users\\squis\\AppData\\Local\\Packages\\PythonSoftwareFoundation.Python.3.12_qbz5n2kfra8p0\\LocalCache\\local-packages\\Python312\\site-packages\\sklearn\\linear_model\\_logistic.py:469: ConvergenceWarning: lbfgs failed to converge (status=1):\n",
      "STOP: TOTAL NO. of ITERATIONS REACHED LIMIT.\n",
      "\n",
      "Increase the number of iterations (max_iter) or scale the data as shown in:\n",
      "    https://scikit-learn.org/stable/modules/preprocessing.html\n",
      "Please also refer to the documentation for alternative solver options:\n",
      "    https://scikit-learn.org/stable/modules/linear_model.html#logistic-regression\n",
      "  n_iter_i = _check_optimize_result(\n",
      "C:\\Users\\squis\\AppData\\Local\\Packages\\PythonSoftwareFoundation.Python.3.12_qbz5n2kfra8p0\\LocalCache\\local-packages\\Python312\\site-packages\\sklearn\\linear_model\\_logistic.py:469: ConvergenceWarning: lbfgs failed to converge (status=1):\n",
      "STOP: TOTAL NO. of ITERATIONS REACHED LIMIT.\n",
      "\n",
      "Increase the number of iterations (max_iter) or scale the data as shown in:\n",
      "    https://scikit-learn.org/stable/modules/preprocessing.html\n",
      "Please also refer to the documentation for alternative solver options:\n",
      "    https://scikit-learn.org/stable/modules/linear_model.html#logistic-regression\n",
      "  n_iter_i = _check_optimize_result(\n",
      "C:\\Users\\squis\\AppData\\Local\\Packages\\PythonSoftwareFoundation.Python.3.12_qbz5n2kfra8p0\\LocalCache\\local-packages\\Python312\\site-packages\\sklearn\\linear_model\\_logistic.py:469: ConvergenceWarning: lbfgs failed to converge (status=1):\n",
      "STOP: TOTAL NO. of ITERATIONS REACHED LIMIT.\n",
      "\n",
      "Increase the number of iterations (max_iter) or scale the data as shown in:\n",
      "    https://scikit-learn.org/stable/modules/preprocessing.html\n",
      "Please also refer to the documentation for alternative solver options:\n",
      "    https://scikit-learn.org/stable/modules/linear_model.html#logistic-regression\n",
      "  n_iter_i = _check_optimize_result(\n",
      "C:\\Users\\squis\\AppData\\Local\\Packages\\PythonSoftwareFoundation.Python.3.12_qbz5n2kfra8p0\\LocalCache\\local-packages\\Python312\\site-packages\\sklearn\\linear_model\\_logistic.py:469: ConvergenceWarning: lbfgs failed to converge (status=1):\n",
      "STOP: TOTAL NO. of ITERATIONS REACHED LIMIT.\n",
      "\n",
      "Increase the number of iterations (max_iter) or scale the data as shown in:\n",
      "    https://scikit-learn.org/stable/modules/preprocessing.html\n",
      "Please also refer to the documentation for alternative solver options:\n",
      "    https://scikit-learn.org/stable/modules/linear_model.html#logistic-regression\n",
      "  n_iter_i = _check_optimize_result(\n"
     ]
    }
   ],
   "source": [
    "log_accs = np.zeros(5)\n",
    "\n",
    "i = 0\n",
    "for train_index, test_index in kfold.split(meso_tt_balanced, meso_tt_balanced.y):\n",
    "    meso_tt_tt = meso_tt_balanced.iloc[train_index]\n",
    "    meso_ho = meso_tt_balanced.iloc[test_index]\n",
    "    \n",
    "    log_reg = LogisticRegression(penalty=None, max_iter = 1000)\n",
    "        \n",
    "    log_reg.fit(meso_tt_tt[all_features].values,\n",
    "                   meso_tt_tt.y.values)\n",
    "        \n",
    "    pred = log_reg.predict(meso_ho[all_features].values)\n",
    "    \n",
    "    log_accs[i] = accuracy_score(meso_ho.y.values,\n",
    "                                              pred)\n",
    "    \n",
    "    i = i + 1"
   ]
  },
  {
   "cell_type": "code",
   "execution_count": 21,
   "metadata": {},
   "outputs": [
    {
     "data": {
      "text/plain": [
       "0.6444063703413615"
      ]
     },
     "execution_count": 21,
     "metadata": {},
     "output_type": "execute_result"
    }
   ],
   "source": [
    "np.mean(log_accs)"
   ]
  },
  {
   "cell_type": "code",
   "execution_count": 22,
   "metadata": {},
   "outputs": [
    {
     "name": "stderr",
     "output_type": "stream",
     "text": [
      "C:\\Users\\squis\\AppData\\Local\\Packages\\PythonSoftwareFoundation.Python.3.12_qbz5n2kfra8p0\\LocalCache\\local-packages\\Python312\\site-packages\\sklearn\\linear_model\\_logistic.py:469: ConvergenceWarning: lbfgs failed to converge (status=1):\n",
      "STOP: TOTAL NO. of ITERATIONS REACHED LIMIT.\n",
      "\n",
      "Increase the number of iterations (max_iter) or scale the data as shown in:\n",
      "    https://scikit-learn.org/stable/modules/preprocessing.html\n",
      "Please also refer to the documentation for alternative solver options:\n",
      "    https://scikit-learn.org/stable/modules/linear_model.html#logistic-regression\n",
      "  n_iter_i = _check_optimize_result(\n",
      "C:\\Users\\squis\\AppData\\Local\\Packages\\PythonSoftwareFoundation.Python.3.12_qbz5n2kfra8p0\\LocalCache\\local-packages\\Python312\\site-packages\\sklearn\\linear_model\\_logistic.py:469: ConvergenceWarning: lbfgs failed to converge (status=1):\n",
      "STOP: TOTAL NO. of ITERATIONS REACHED LIMIT.\n",
      "\n",
      "Increase the number of iterations (max_iter) or scale the data as shown in:\n",
      "    https://scikit-learn.org/stable/modules/preprocessing.html\n",
      "Please also refer to the documentation for alternative solver options:\n",
      "    https://scikit-learn.org/stable/modules/linear_model.html#logistic-regression\n",
      "  n_iter_i = _check_optimize_result(\n",
      "C:\\Users\\squis\\AppData\\Local\\Packages\\PythonSoftwareFoundation.Python.3.12_qbz5n2kfra8p0\\LocalCache\\local-packages\\Python312\\site-packages\\sklearn\\linear_model\\_logistic.py:469: ConvergenceWarning: lbfgs failed to converge (status=1):\n",
      "STOP: TOTAL NO. of ITERATIONS REACHED LIMIT.\n",
      "\n",
      "Increase the number of iterations (max_iter) or scale the data as shown in:\n",
      "    https://scikit-learn.org/stable/modules/preprocessing.html\n",
      "Please also refer to the documentation for alternative solver options:\n",
      "    https://scikit-learn.org/stable/modules/linear_model.html#logistic-regression\n",
      "  n_iter_i = _check_optimize_result(\n",
      "C:\\Users\\squis\\AppData\\Local\\Packages\\PythonSoftwareFoundation.Python.3.12_qbz5n2kfra8p0\\LocalCache\\local-packages\\Python312\\site-packages\\sklearn\\linear_model\\_logistic.py:469: ConvergenceWarning: lbfgs failed to converge (status=1):\n",
      "STOP: TOTAL NO. of ITERATIONS REACHED LIMIT.\n",
      "\n",
      "Increase the number of iterations (max_iter) or scale the data as shown in:\n",
      "    https://scikit-learn.org/stable/modules/preprocessing.html\n",
      "Please also refer to the documentation for alternative solver options:\n",
      "    https://scikit-learn.org/stable/modules/linear_model.html#logistic-regression\n",
      "  n_iter_i = _check_optimize_result(\n",
      "C:\\Users\\squis\\AppData\\Local\\Packages\\PythonSoftwareFoundation.Python.3.12_qbz5n2kfra8p0\\LocalCache\\local-packages\\Python312\\site-packages\\sklearn\\linear_model\\_logistic.py:469: ConvergenceWarning: lbfgs failed to converge (status=1):\n",
      "STOP: TOTAL NO. of ITERATIONS REACHED LIMIT.\n",
      "\n",
      "Increase the number of iterations (max_iter) or scale the data as shown in:\n",
      "    https://scikit-learn.org/stable/modules/preprocessing.html\n",
      "Please also refer to the documentation for alternative solver options:\n",
      "    https://scikit-learn.org/stable/modules/linear_model.html#logistic-regression\n",
      "  n_iter_i = _check_optimize_result(\n"
     ]
    }
   ],
   "source": [
    "log_recs = np.zeros(5)\n",
    "log_precis = np.zeros(5)\n",
    "\n",
    "i = 0\n",
    "for train_index, test_index in kfold.split(meso_tt_balanced, meso_tt_balanced.y):\n",
    "    meso_tt_tt = meso_tt_balanced.iloc[train_index]\n",
    "    meso_ho = meso_tt_balanced.iloc[test_index]\n",
    "    \n",
    "    log_reg = LogisticRegression(penalty=None, max_iter = 1000)\n",
    "        \n",
    "    log_reg.fit(meso_tt_tt[all_features].values,\n",
    "                   meso_tt_tt.y.values)\n",
    "        \n",
    "    pred = log_reg.predict(meso_ho[all_features].values)\n",
    "    \n",
    "    log_recs[i] = recall_score(meso_ho.y.values,\n",
    "                                              pred)\n",
    "    log_precis[i] = precision_score(meso_ho.y.values,\n",
    "                                              pred)\n",
    "    \n",
    "    i = i + 1"
   ]
  },
  {
   "cell_type": "code",
   "execution_count": 23,
   "metadata": {},
   "outputs": [
    {
     "data": {
      "text/plain": [
       "0.7115984596305724"
      ]
     },
     "execution_count": 23,
     "metadata": {},
     "output_type": "execute_result"
    }
   ],
   "source": [
    "np.mean(log_recs)"
   ]
  },
  {
   "cell_type": "code",
   "execution_count": 24,
   "metadata": {},
   "outputs": [
    {
     "data": {
      "text/plain": [
       "0.6272998015779756"
      ]
     },
     "execution_count": 24,
     "metadata": {},
     "output_type": "execute_result"
    }
   ],
   "source": [
    "np.mean(log_precis)"
   ]
  },
  {
   "cell_type": "code",
   "execution_count": 22,
   "metadata": {},
   "outputs": [
    {
     "name": "stdout",
     "output_type": "stream",
     "text": [
      "0 0 1\n",
      "0 1 2\n",
      "0 2 3\n",
      "0 3 4\n",
      "0 4 5\n",
      "0 5 6\n",
      "0 6 7\n",
      "0 7 8\n",
      "0 8 9\n",
      "0 9 10\n",
      "0 10 11\n",
      "0 11 12\n",
      "0 12 13\n",
      "0 13 14\n",
      "0 14 15\n",
      "0 15 16\n",
      "0 16 17\n",
      "0 17 18\n",
      "0 18 19\n",
      "0 19 20\n",
      "0 20 21\n",
      "0 21 22\n",
      "0 22 23\n",
      "0 23 24\n",
      "0 24 25\n",
      "0 25 26\n",
      "0 26 27\n",
      "0 27 28\n",
      "0 28 29\n",
      "0 29 30\n",
      "0 30 31\n",
      "0 31 32\n",
      "0 32 33\n",
      "0 33 34\n",
      "0 34 35\n",
      "0 35 36\n",
      "0 36 37\n",
      "0 37 38\n",
      "0 38 39\n",
      "0 39 40\n",
      "0 40 41\n",
      "0 41 42\n",
      "0 42 43\n",
      "0 43 44\n",
      "0 44 45\n",
      "0 45 46\n",
      "0 46 47\n",
      "0 47 48\n",
      "0 48 49\n",
      "0 49 50\n",
      "0 50 51\n",
      "0 51 52\n",
      "0 52 53\n",
      "0 53 54\n",
      "0 54 55\n",
      "1 0 1\n",
      "1 1 2\n",
      "1 2 3\n",
      "1 3 4\n",
      "1 4 5\n",
      "1 5 6\n",
      "1 6 7\n",
      "1 7 8\n",
      "1 8 9\n",
      "1 9 10\n",
      "1 10 11\n",
      "1 11 12\n",
      "1 12 13\n",
      "1 13 14\n",
      "1 14 15\n",
      "1 15 16\n",
      "1 16 17\n",
      "1 17 18\n",
      "1 18 19\n",
      "1 19 20\n",
      "1 20 21\n",
      "1 21 22\n",
      "1 22 23\n",
      "1 23 24\n",
      "1 24 25\n",
      "1 25 26\n",
      "1 26 27\n",
      "1 27 28\n",
      "1 28 29\n",
      "1 29 30\n",
      "1 30 31\n",
      "1 31 32\n",
      "1 32 33\n",
      "1 33 34\n",
      "1 34 35\n",
      "1 35 36\n",
      "1 36 37\n",
      "1 37 38\n",
      "1 38 39\n",
      "1 39 40\n",
      "1 40 41\n",
      "1 41 42\n",
      "1 42 43\n",
      "1 43 44\n",
      "1 44 45\n",
      "1 45 46\n",
      "1 46 47\n",
      "1 47 48\n",
      "1 48 49\n",
      "1 49 50\n",
      "1 50 51\n",
      "1 51 52\n",
      "1 52 53\n",
      "1 53 54\n",
      "1 54 55\n",
      "2 0 1\n",
      "2 1 2\n",
      "2 2 3\n",
      "2 3 4\n",
      "2 4 5\n",
      "2 5 6\n",
      "2 6 7\n",
      "2 7 8\n",
      "2 8 9\n",
      "2 9 10\n",
      "2 10 11\n",
      "2 11 12\n",
      "2 12 13\n",
      "2 13 14\n",
      "2 14 15\n",
      "2 15 16\n",
      "2 16 17\n",
      "2 17 18\n",
      "2 18 19\n",
      "2 19 20\n",
      "2 20 21\n",
      "2 21 22\n",
      "2 22 23\n",
      "2 23 24\n",
      "2 24 25\n",
      "2 25 26\n",
      "2 26 27\n",
      "2 27 28\n",
      "2 28 29\n",
      "2 29 30\n",
      "2 30 31\n",
      "2 31 32\n",
      "2 32 33\n",
      "2 33 34\n",
      "2 34 35\n",
      "2 35 36\n",
      "2 36 37\n",
      "2 37 38\n",
      "2 38 39\n",
      "2 39 40\n",
      "2 40 41\n",
      "2 41 42\n",
      "2 42 43\n",
      "2 43 44\n",
      "2 44 45\n",
      "2 45 46\n",
      "2 46 47\n",
      "2 47 48\n",
      "2 48 49\n",
      "2 49 50\n",
      "2 50 51\n",
      "2 51 52\n",
      "2 52 53\n",
      "2 53 54\n",
      "2 54 55\n",
      "3 0 1\n",
      "3 1 2\n",
      "3 2 3\n",
      "3 3 4\n",
      "3 4 5\n",
      "3 5 6\n",
      "3 6 7\n",
      "3 7 8\n",
      "3 8 9\n",
      "3 9 10\n",
      "3 10 11\n",
      "3 11 12\n",
      "3 12 13\n",
      "3 13 14\n",
      "3 14 15\n",
      "3 15 16\n",
      "3 16 17\n",
      "3 17 18\n",
      "3 18 19\n",
      "3 19 20\n",
      "3 20 21\n",
      "3 21 22\n",
      "3 22 23\n",
      "3 23 24\n",
      "3 24 25\n",
      "3 25 26\n",
      "3 26 27\n",
      "3 27 28\n",
      "3 28 29\n",
      "3 29 30\n",
      "3 30 31\n",
      "3 31 32\n",
      "3 32 33\n",
      "3 33 34\n",
      "3 34 35\n",
      "3 35 36\n",
      "3 36 37\n",
      "3 37 38\n",
      "3 38 39\n",
      "3 39 40\n"
     ]
    }
   ],
   "source": [
    "ks = range(1,56)\n",
    "\n",
    "\n",
    "k_all_accs = np.zeros((5, len(ks)))\n",
    "k_all_recs = np.zeros((5, len(ks))) \n",
    "k_all_precis = np.zeros((5, len(ks))) \n",
    "\n",
    "i = 0\n",
    "for train_index, test_index in kfold.split(meso_tt_balanced, meso_tt_balanced.y):\n",
    "    meso_bal_tt = meso_tt_balanced.iloc[train_index]\n",
    "    meso_ho = meso_tt_balanced.iloc[test_index]\n",
    "    \n",
    "    j = 0\n",
    "    for k in ks:\n",
    "        print(i,j,k)\n",
    "        knn = Pipeline([('scale', StandardScaler()),('knn_cls', KNeighborsClassifier(k))])\n",
    "        \n",
    "        knn.fit(meso_bal_tt[all_features].values,\n",
    "                   meso_bal_tt.y.values)\n",
    "        \n",
    "        pred = knn.predict(meso_ho[all_features].values)\n",
    "        \n",
    "        k_all_accs[i,j] = accuracy_score(meso_ho.y.values, pred)\n",
    "\n",
    "        k_all_recs[i] = recall_score(meso_ho.y.values,\n",
    "                                              pred)\n",
    "        \n",
    "        k_all_precis[i] = precision_score(meso_ho.y.values,\n",
    "                                              pred)\n",
    "        \n",
    "        j = j + 1\n",
    "    i = i + 1"
   ]
  },
  {
   "cell_type": "code",
   "execution_count": null,
   "metadata": {},
   "outputs": [
    {
     "data": {
      "text/plain": [
       "0.8189735537426536"
      ]
     },
     "execution_count": 80,
     "metadata": {},
     "output_type": "execute_result"
    }
   ],
   "source": [
    "np.mean(k_all_accs)"
   ]
  },
  {
   "cell_type": "code",
   "execution_count": null,
   "metadata": {},
   "outputs": [
    {
     "data": {
      "text/plain": [
       "0.8745816973261702"
      ]
     },
     "execution_count": 81,
     "metadata": {},
     "output_type": "execute_result"
    }
   ],
   "source": [
    "np.mean(k_all_recs)"
   ]
  },
  {
   "cell_type": "code",
   "execution_count": null,
   "metadata": {},
   "outputs": [
    {
     "data": {
      "text/plain": [
       "0.7719033184046648"
      ]
     },
     "execution_count": 82,
     "metadata": {},
     "output_type": "execute_result"
    }
   ],
   "source": [
    "np.mean(k_all_precis)"
   ]
  },
  {
   "cell_type": "code",
   "execution_count": null,
   "metadata": {},
   "outputs": [
    {
     "name": "stdout",
     "output_type": "stream",
     "text": [
      "The optimal value of k was 10 which achieved a mean CV accuracy of  0.8311241046820271\n"
     ]
    }
   ],
   "source": [
    "best_k = np.argmax(np.mean(k_all_accs, axis=0))\n",
    "best_k_acc = np.mean(k_all_accs, axis=0)[best_k]\n",
    "\n",
    "print(\"The optimal value of k was\", best_k + 1, \"which achieved a mean CV accuracy of \", best_k_acc)"
   ]
  },
  {
   "cell_type": "code",
   "execution_count": null,
   "metadata": {},
   "outputs": [],
   "source": [
    "knn_best = KNeighborsClassifier(n_neighbors = best_k + 1)"
   ]
  },
  {
   "cell_type": "code",
   "execution_count": null,
   "metadata": {},
   "outputs": [],
   "source": [
    "knn_best.fit(meso_tt_balanced[all_features].values,\n",
    "                   meso_tt_balanced.y.values)\n",
    "\n",
    "pred_best = knn_best.predict(meso_val[all_features].values)"
   ]
  },
  {
   "cell_type": "code",
   "execution_count": null,
   "metadata": {},
   "outputs": [
    {
     "name": "stdout",
     "output_type": "stream",
     "text": [
      "accuracy score: 0.6655794722800352\n",
      "recall score: 0.6207177814029364\n",
      "precision score: 0.07708202499848064\n"
     ]
    }
   ],
   "source": [
    "print(\"accuracy score:\", accuracy_score(meso_val.y.values, pred_best))\n",
    "print(\"recall score:\", recall_score(meso_val.y.values, pred_best))\n",
    "print(\"precision score:\", precision_score(meso_val.y.values, pred_best))"
   ]
  }
 ],
 "metadata": {
  "kernelspec": {
   "display_name": "Python 3",
   "language": "python",
   "name": "python3"
  },
  "language_info": {
   "codemirror_mode": {
    "name": "ipython",
    "version": 3
   },
   "file_extension": ".py",
   "mimetype": "text/x-python",
   "name": "python",
   "nbconvert_exporter": "python",
   "pygments_lexer": "ipython3",
   "version": "3.12.3"
  }
 },
 "nbformat": 4,
 "nbformat_minor": 2
}
