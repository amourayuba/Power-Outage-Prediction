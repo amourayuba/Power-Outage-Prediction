{
 "cells": [
  {
   "cell_type": "code",
   "execution_count": 1,
   "id": "62dc53ae-ef4d-4e1f-a930-f929b32190da",
   "metadata": {},
   "outputs": [
    {
     "name": "stdout",
     "output_type": "stream",
     "text": [
      "The history saving thread hit an unexpected error (OperationalError('attempt to write a readonly database')).History will not be written to the database.\n"
     ]
    }
   ],
   "source": [
    "# import useful libraries\n",
    "import pandas as pd\n",
    "import numpy as np\n",
    "import matplotlib.pyplot as plt\n",
    "import matplotlib as mpl \n",
    "mpl.rcParams[\"figure.dpi\"] = 150\n",
    "import seaborn as sns\n",
    "import os\n",
    "import datetime as dt\n",
    "# enable copy on write (default in pandas 3.0)\n",
    "pd.options.mode.copy_on_write = True"
   ]
  },
  {
   "cell_type": "code",
   "execution_count": 67,
   "id": "ec7da558-b12e-4c77-ae48-afd376479fc2",
   "metadata": {},
   "outputs": [],
   "source": [
    "def read_merged(weather, year):\n",
    "    return pd.read_csv('../merged/merged_{}_{}.csv.gz'.format(weather, year))\n"
   ]
  },
  {
   "cell_type": "code",
   "execution_count": 3,
   "id": "78627921-404f-4dd2-90cb-4ac284717936",
   "metadata": {},
   "outputs": [],
   "source": [
    "tor_2019 = read_merged('tornados', 2019)"
   ]
  },
  {
   "cell_type": "code",
   "execution_count": 4,
   "id": "aef8c82b-2535-4eec-baed-1e138782152a",
   "metadata": {},
   "outputs": [
    {
     "name": "stdout",
     "output_type": "stream",
     "text": [
      "<class 'pandas.core.frame.DataFrame'>\n",
      "RangeIndex: 58403 entries, 0 to 58402\n",
      "Data columns (total 14 columns):\n",
      " #   Column                Non-Null Count  Dtype  \n",
      "---  ------                --------------  -----  \n",
      " 0   Unnamed: 0            58403 non-null  int64  \n",
      " 1   DATE                  58403 non-null  object \n",
      " 2   LAT_mean              58403 non-null  float64\n",
      " 3   LON_mean              58403 non-null  float64\n",
      " 4   AVGDV_max             58403 non-null  int64  \n",
      " 5   LLDV_max              58403 non-null  int64  \n",
      " 6   MXDV_max              58403 non-null  int64  \n",
      " 7   MXDV_HEIGHT_max       58403 non-null  int64  \n",
      " 8   DEPTH_max             58403 non-null  float64\n",
      " 9   MAX_SHEAR_max         58403 non-null  int64  \n",
      " 10  MAX_SHEAR_HEIGHT_max  58403 non-null  float64\n",
      " 11  county                58403 non-null  object \n",
      " 12  state                 58403 non-null  object \n",
      " 13  power_outage          58403 non-null  bool   \n",
      "dtypes: bool(1), float64(4), int64(6), object(3)\n",
      "memory usage: 5.8+ MB\n"
     ]
    }
   ],
   "source": [
    "tor_2019.info()"
   ]
  },
  {
   "cell_type": "code",
   "execution_count": 5,
   "id": "a9cd865f-48ec-4b36-a281-811d629ba61e",
   "metadata": {},
   "outputs": [],
   "source": [
    "#del light_2019['#ZDAY']\n"
   ]
  },
  {
   "cell_type": "code",
   "execution_count": 6,
   "id": "0a4860a4-aebe-42bc-91ec-af443338906e",
   "metadata": {},
   "outputs": [],
   "source": [
    "del tor_2019['Unnamed: 0']\n",
    "tor_2019['DATE'] = pd.to_datetime(tor_2019['DATE'])\n",
    "tor_2019['Month'] = tor_2019['DATE'].dt.month"
   ]
  },
  {
   "cell_type": "code",
   "execution_count": 7,
   "id": "bca099b5-cc38-479a-b224-a6f0df1bce4a",
   "metadata": {},
   "outputs": [
    {
     "data": {
      "text/plain": [
       "Index(['DATE', 'LAT_mean', 'LON_mean', 'AVGDV_max', 'LLDV_max', 'MXDV_max',\n",
       "       'MXDV_HEIGHT_max', 'DEPTH_max', 'MAX_SHEAR_max', 'MAX_SHEAR_HEIGHT_max',\n",
       "       'county', 'state', 'power_outage', 'Month'],\n",
       "      dtype='object')"
      ]
     },
     "execution_count": 7,
     "metadata": {},
     "output_type": "execute_result"
    }
   ],
   "source": [
    "tor_2019.columns"
   ]
  },
  {
   "cell_type": "code",
   "execution_count": 8,
   "id": "3230ae96-0908-4b53-bdaa-35d57bacc0dc",
   "metadata": {},
   "outputs": [
    {
     "data": {
      "text/plain": [
       "False    0.957297\n",
       "True     0.042703\n",
       "Name: power_outage, dtype: float64"
      ]
     },
     "execution_count": 8,
     "metadata": {},
     "output_type": "execute_result"
    }
   ],
   "source": [
    "tor_2019['power_outage'].value_counts(normalize=True)"
   ]
  },
  {
   "cell_type": "markdown",
   "id": "b50e7df1-37e7-4b94-a3de-efa46114603e",
   "metadata": {},
   "source": [
    "### Let's try XGBOOST"
   ]
  },
  {
   "cell_type": "code",
   "execution_count": 9,
   "id": "5a0471d9-f3b1-48ca-b4f2-e899e5065103",
   "metadata": {},
   "outputs": [],
   "source": [
    "import xgboost\n",
    "from sklearn.model_selection import train_test_split\n",
    "from sklearn.model_selection import GridSearchCV\n",
    "from sklearn.model_selection import StratifiedKFold\n",
    "from sklearn.metrics import accuracy_score, precision_score, recall_score\n",
    "from sklearn.metrics import f1_score, make_scorer\n"
   ]
  },
  {
   "cell_type": "code",
   "execution_count": 11,
   "id": "cffce649-71a2-4f6f-81c2-d5da402d04d2",
   "metadata": {},
   "outputs": [],
   "source": [
    "tor_train, tor_test = train_test_split(tor_2019.copy(), shuffle=True, test_size=0.2, stratify=tor_2019.power_outage)"
   ]
  },
  {
   "cell_type": "code",
   "execution_count": 12,
   "id": "973d34d4-347d-4d96-a2ab-4aa45a0005f2",
   "metadata": {},
   "outputs": [],
   "source": [
    "xgb_clas1 = xgboost.XGBClassifier(learning_rate=.1,\n",
    "                                   max_depth=3,\n",
    "                                   n_estimators=200, objective='binary:logistic')"
   ]
  },
  {
   "cell_type": "code",
   "execution_count": 13,
   "id": "7dc807ce-9982-4de1-8607-37a2690ccd74",
   "metadata": {},
   "outputs": [],
   "source": [
    "features = ['LAT_mean', 'LON_mean', 'AVGDV_max', 'LLDV_max', 'MXDV_max',\n",
    "       'MXDV_HEIGHT_max', 'DEPTH_max', 'MAX_SHEAR_max', 'MAX_SHEAR_HEIGHT_max', 'Month']"
   ]
  },
  {
   "cell_type": "code",
   "execution_count": 14,
   "id": "e9a88aec-b6c5-43fa-9d24-d9cd5d58718b",
   "metadata": {},
   "outputs": [
    {
     "data": {
      "text/html": [
       "<style>#sk-container-id-1 {color: black;background-color: white;}#sk-container-id-1 pre{padding: 0;}#sk-container-id-1 div.sk-toggleable {background-color: white;}#sk-container-id-1 label.sk-toggleable__label {cursor: pointer;display: block;width: 100%;margin-bottom: 0;padding: 0.3em;box-sizing: border-box;text-align: center;}#sk-container-id-1 label.sk-toggleable__label-arrow:before {content: \"▸\";float: left;margin-right: 0.25em;color: #696969;}#sk-container-id-1 label.sk-toggleable__label-arrow:hover:before {color: black;}#sk-container-id-1 div.sk-estimator:hover label.sk-toggleable__label-arrow:before {color: black;}#sk-container-id-1 div.sk-toggleable__content {max-height: 0;max-width: 0;overflow: hidden;text-align: left;background-color: #f0f8ff;}#sk-container-id-1 div.sk-toggleable__content pre {margin: 0.2em;color: black;border-radius: 0.25em;background-color: #f0f8ff;}#sk-container-id-1 input.sk-toggleable__control:checked~div.sk-toggleable__content {max-height: 200px;max-width: 100%;overflow: auto;}#sk-container-id-1 input.sk-toggleable__control:checked~label.sk-toggleable__label-arrow:before {content: \"▾\";}#sk-container-id-1 div.sk-estimator input.sk-toggleable__control:checked~label.sk-toggleable__label {background-color: #d4ebff;}#sk-container-id-1 div.sk-label input.sk-toggleable__control:checked~label.sk-toggleable__label {background-color: #d4ebff;}#sk-container-id-1 input.sk-hidden--visually {border: 0;clip: rect(1px 1px 1px 1px);clip: rect(1px, 1px, 1px, 1px);height: 1px;margin: -1px;overflow: hidden;padding: 0;position: absolute;width: 1px;}#sk-container-id-1 div.sk-estimator {font-family: monospace;background-color: #f0f8ff;border: 1px dotted black;border-radius: 0.25em;box-sizing: border-box;margin-bottom: 0.5em;}#sk-container-id-1 div.sk-estimator:hover {background-color: #d4ebff;}#sk-container-id-1 div.sk-parallel-item::after {content: \"\";width: 100%;border-bottom: 1px solid gray;flex-grow: 1;}#sk-container-id-1 div.sk-label:hover label.sk-toggleable__label {background-color: #d4ebff;}#sk-container-id-1 div.sk-serial::before {content: \"\";position: absolute;border-left: 1px solid gray;box-sizing: border-box;top: 0;bottom: 0;left: 50%;z-index: 0;}#sk-container-id-1 div.sk-serial {display: flex;flex-direction: column;align-items: center;background-color: white;padding-right: 0.2em;padding-left: 0.2em;position: relative;}#sk-container-id-1 div.sk-item {position: relative;z-index: 1;}#sk-container-id-1 div.sk-parallel {display: flex;align-items: stretch;justify-content: center;background-color: white;position: relative;}#sk-container-id-1 div.sk-item::before, #sk-container-id-1 div.sk-parallel-item::before {content: \"\";position: absolute;border-left: 1px solid gray;box-sizing: border-box;top: 0;bottom: 0;left: 50%;z-index: -1;}#sk-container-id-1 div.sk-parallel-item {display: flex;flex-direction: column;z-index: 1;position: relative;background-color: white;}#sk-container-id-1 div.sk-parallel-item:first-child::after {align-self: flex-end;width: 50%;}#sk-container-id-1 div.sk-parallel-item:last-child::after {align-self: flex-start;width: 50%;}#sk-container-id-1 div.sk-parallel-item:only-child::after {width: 0;}#sk-container-id-1 div.sk-dashed-wrapped {border: 1px dashed gray;margin: 0 0.4em 0.5em 0.4em;box-sizing: border-box;padding-bottom: 0.4em;background-color: white;}#sk-container-id-1 div.sk-label label {font-family: monospace;font-weight: bold;display: inline-block;line-height: 1.2em;}#sk-container-id-1 div.sk-label-container {text-align: center;}#sk-container-id-1 div.sk-container {/* jupyter's `normalize.less` sets `[hidden] { display: none; }` but bootstrap.min.css set `[hidden] { display: none !important; }` so we also need the `!important` here to be able to override the default hidden behavior on the sphinx rendered scikit-learn.org. See: https://github.com/scikit-learn/scikit-learn/issues/21755 */display: inline-block !important;position: relative;}#sk-container-id-1 div.sk-text-repr-fallback {display: none;}</style><div id=\"sk-container-id-1\" class=\"sk-top-container\"><div class=\"sk-text-repr-fallback\"><pre>XGBClassifier(base_score=None, booster=None, callbacks=None,\n",
       "              colsample_bylevel=None, colsample_bynode=None,\n",
       "              colsample_bytree=None, device=None, early_stopping_rounds=None,\n",
       "              enable_categorical=False, eval_metric=None, feature_types=None,\n",
       "              gamma=None, grow_policy=None, importance_type=None,\n",
       "              interaction_constraints=None, learning_rate=0.1, max_bin=None,\n",
       "              max_cat_threshold=None, max_cat_to_onehot=None,\n",
       "              max_delta_step=None, max_depth=3, max_leaves=None,\n",
       "              min_child_weight=None, missing=nan, monotone_constraints=None,\n",
       "              multi_strategy=None, n_estimators=200, n_jobs=None,\n",
       "              num_parallel_tree=None, random_state=None, ...)</pre><b>In a Jupyter environment, please rerun this cell to show the HTML representation or trust the notebook. <br />On GitHub, the HTML representation is unable to render, please try loading this page with nbviewer.org.</b></div><div class=\"sk-container\" hidden><div class=\"sk-item\"><div class=\"sk-estimator sk-toggleable\"><input class=\"sk-toggleable__control sk-hidden--visually\" id=\"sk-estimator-id-1\" type=\"checkbox\" checked><label for=\"sk-estimator-id-1\" class=\"sk-toggleable__label sk-toggleable__label-arrow\">XGBClassifier</label><div class=\"sk-toggleable__content\"><pre>XGBClassifier(base_score=None, booster=None, callbacks=None,\n",
       "              colsample_bylevel=None, colsample_bynode=None,\n",
       "              colsample_bytree=None, device=None, early_stopping_rounds=None,\n",
       "              enable_categorical=False, eval_metric=None, feature_types=None,\n",
       "              gamma=None, grow_policy=None, importance_type=None,\n",
       "              interaction_constraints=None, learning_rate=0.1, max_bin=None,\n",
       "              max_cat_threshold=None, max_cat_to_onehot=None,\n",
       "              max_delta_step=None, max_depth=3, max_leaves=None,\n",
       "              min_child_weight=None, missing=nan, monotone_constraints=None,\n",
       "              multi_strategy=None, n_estimators=200, n_jobs=None,\n",
       "              num_parallel_tree=None, random_state=None, ...)</pre></div></div></div></div></div>"
      ],
      "text/plain": [
       "XGBClassifier(base_score=None, booster=None, callbacks=None,\n",
       "              colsample_bylevel=None, colsample_bynode=None,\n",
       "              colsample_bytree=None, device=None, early_stopping_rounds=None,\n",
       "              enable_categorical=False, eval_metric=None, feature_types=None,\n",
       "              gamma=None, grow_policy=None, importance_type=None,\n",
       "              interaction_constraints=None, learning_rate=0.1, max_bin=None,\n",
       "              max_cat_threshold=None, max_cat_to_onehot=None,\n",
       "              max_delta_step=None, max_depth=3, max_leaves=None,\n",
       "              min_child_weight=None, missing=nan, monotone_constraints=None,\n",
       "              multi_strategy=None, n_estimators=200, n_jobs=None,\n",
       "              num_parallel_tree=None, random_state=None, ...)"
      ]
     },
     "execution_count": 14,
     "metadata": {},
     "output_type": "execute_result"
    }
   ],
   "source": [
    "xgb_clas1.fit(tor_train[features], tor_train['power_outage'])"
   ]
  },
  {
   "cell_type": "code",
   "execution_count": 16,
   "id": "47e529b2-3067-4bc8-9e46-1b9c666ba379",
   "metadata": {},
   "outputs": [
    {
     "name": "stdout",
     "output_type": "stream",
     "text": [
      "precision:  0.13634085213032582\n",
      "recall:  0.6522781774580336\n"
     ]
    }
   ],
   "source": [
    "prec = precision_score(xgb_clas1.predict(tor_train[features]), tor_train['power_outage'])\n",
    "recall = recall_score(xgb_clas1.predict(tor_train[features]), tor_train['power_outage'])\n",
    "print(\"precision: \", prec)\n",
    "print(\"recall: \", recall)"
   ]
  },
  {
   "cell_type": "code",
   "execution_count": 35,
   "id": "e790675f-0c1a-4300-b51f-419dbb76b2ac",
   "metadata": {},
   "outputs": [],
   "source": [
    "pred = xgb_clas1.predict(light_train[features])\n",
    "acc, prec, recall = accuracy_score(pred, light_train.power_outage), precision_score(pred, light_train.power_outage), recall_score(pred, light_train.power_outage)"
   ]
  },
  {
   "cell_type": "code",
   "execution_count": 19,
   "id": "58698b4f-a97f-4bb6-b1b5-857585d28832",
   "metadata": {},
   "outputs": [],
   "source": [
    "model = xgboost.XGBClassifier(\n",
    "    objective= 'binary:logistic',\n",
    "    nthread=4,\n",
    "    seed=42)\n",
    "\n",
    "parameters = {\n",
    "    'max_depth': range (1, 20,  1),\n",
    "    'n_estimators': range(100, 480, 40),\n",
    "    'learning_rate': [0.01, 0.03, 0.1, 0.3]\n",
    "}\n",
    "\n",
    "grid_search = GridSearchCV(model,\n",
    "    param_grid=parameters,\n",
    "    scoring='f1',\n",
    "    cv = 5,\n",
    "    n_jobs = 10,\n",
    "    verbose=True)\n",
    "grid_search.fit(tor_train[features], tor_train['power_outage'])"
   ]
  },
  {
   "cell_type": "code",
   "execution_count": 20,
   "id": "40d5ec13-c4f7-4cee-b7fe-eced60721ee6",
   "metadata": {},
   "outputs": [
    {
     "name": "stdout",
     "output_type": "stream",
     "text": [
      "Fitting 5 folds for each of 760 candidates, totalling 3800 fits\n"
     ]
    },
    {
     "data": {
      "text/html": [
       "<style>#sk-container-id-2 {color: black;background-color: white;}#sk-container-id-2 pre{padding: 0;}#sk-container-id-2 div.sk-toggleable {background-color: white;}#sk-container-id-2 label.sk-toggleable__label {cursor: pointer;display: block;width: 100%;margin-bottom: 0;padding: 0.3em;box-sizing: border-box;text-align: center;}#sk-container-id-2 label.sk-toggleable__label-arrow:before {content: \"▸\";float: left;margin-right: 0.25em;color: #696969;}#sk-container-id-2 label.sk-toggleable__label-arrow:hover:before {color: black;}#sk-container-id-2 div.sk-estimator:hover label.sk-toggleable__label-arrow:before {color: black;}#sk-container-id-2 div.sk-toggleable__content {max-height: 0;max-width: 0;overflow: hidden;text-align: left;background-color: #f0f8ff;}#sk-container-id-2 div.sk-toggleable__content pre {margin: 0.2em;color: black;border-radius: 0.25em;background-color: #f0f8ff;}#sk-container-id-2 input.sk-toggleable__control:checked~div.sk-toggleable__content {max-height: 200px;max-width: 100%;overflow: auto;}#sk-container-id-2 input.sk-toggleable__control:checked~label.sk-toggleable__label-arrow:before {content: \"▾\";}#sk-container-id-2 div.sk-estimator input.sk-toggleable__control:checked~label.sk-toggleable__label {background-color: #d4ebff;}#sk-container-id-2 div.sk-label input.sk-toggleable__control:checked~label.sk-toggleable__label {background-color: #d4ebff;}#sk-container-id-2 input.sk-hidden--visually {border: 0;clip: rect(1px 1px 1px 1px);clip: rect(1px, 1px, 1px, 1px);height: 1px;margin: -1px;overflow: hidden;padding: 0;position: absolute;width: 1px;}#sk-container-id-2 div.sk-estimator {font-family: monospace;background-color: #f0f8ff;border: 1px dotted black;border-radius: 0.25em;box-sizing: border-box;margin-bottom: 0.5em;}#sk-container-id-2 div.sk-estimator:hover {background-color: #d4ebff;}#sk-container-id-2 div.sk-parallel-item::after {content: \"\";width: 100%;border-bottom: 1px solid gray;flex-grow: 1;}#sk-container-id-2 div.sk-label:hover label.sk-toggleable__label {background-color: #d4ebff;}#sk-container-id-2 div.sk-serial::before {content: \"\";position: absolute;border-left: 1px solid gray;box-sizing: border-box;top: 0;bottom: 0;left: 50%;z-index: 0;}#sk-container-id-2 div.sk-serial {display: flex;flex-direction: column;align-items: center;background-color: white;padding-right: 0.2em;padding-left: 0.2em;position: relative;}#sk-container-id-2 div.sk-item {position: relative;z-index: 1;}#sk-container-id-2 div.sk-parallel {display: flex;align-items: stretch;justify-content: center;background-color: white;position: relative;}#sk-container-id-2 div.sk-item::before, #sk-container-id-2 div.sk-parallel-item::before {content: \"\";position: absolute;border-left: 1px solid gray;box-sizing: border-box;top: 0;bottom: 0;left: 50%;z-index: -1;}#sk-container-id-2 div.sk-parallel-item {display: flex;flex-direction: column;z-index: 1;position: relative;background-color: white;}#sk-container-id-2 div.sk-parallel-item:first-child::after {align-self: flex-end;width: 50%;}#sk-container-id-2 div.sk-parallel-item:last-child::after {align-self: flex-start;width: 50%;}#sk-container-id-2 div.sk-parallel-item:only-child::after {width: 0;}#sk-container-id-2 div.sk-dashed-wrapped {border: 1px dashed gray;margin: 0 0.4em 0.5em 0.4em;box-sizing: border-box;padding-bottom: 0.4em;background-color: white;}#sk-container-id-2 div.sk-label label {font-family: monospace;font-weight: bold;display: inline-block;line-height: 1.2em;}#sk-container-id-2 div.sk-label-container {text-align: center;}#sk-container-id-2 div.sk-container {/* jupyter's `normalize.less` sets `[hidden] { display: none; }` but bootstrap.min.css set `[hidden] { display: none !important; }` so we also need the `!important` here to be able to override the default hidden behavior on the sphinx rendered scikit-learn.org. See: https://github.com/scikit-learn/scikit-learn/issues/21755 */display: inline-block !important;position: relative;}#sk-container-id-2 div.sk-text-repr-fallback {display: none;}</style><div id=\"sk-container-id-2\" class=\"sk-top-container\"><div class=\"sk-text-repr-fallback\"><pre>GridSearchCV(cv=5,\n",
       "             estimator=XGBClassifier(base_score=None, booster=None,\n",
       "                                     callbacks=None, colsample_bylevel=None,\n",
       "                                     colsample_bynode=None,\n",
       "                                     colsample_bytree=None, device=None,\n",
       "                                     early_stopping_rounds=None,\n",
       "                                     enable_categorical=False, eval_metric=None,\n",
       "                                     feature_types=None, gamma=None,\n",
       "                                     grow_policy=None, importance_type=None,\n",
       "                                     interaction_constraints=None,\n",
       "                                     learning_rate=None,...\n",
       "                                     max_cat_to_onehot=None,\n",
       "                                     max_delta_step=None, max_depth=None,\n",
       "                                     max_leaves=None, min_child_weight=None,\n",
       "                                     missing=nan, monotone_constraints=None,\n",
       "                                     multi_strategy=None, n_estimators=None,\n",
       "                                     n_jobs=None, nthread=4,\n",
       "                                     num_parallel_tree=None, ...),\n",
       "             n_jobs=10,\n",
       "             param_grid={&#x27;learning_rate&#x27;: [0.01, 0.03, 0.1, 0.3],\n",
       "                         &#x27;max_depth&#x27;: range(1, 20),\n",
       "                         &#x27;n_estimators&#x27;: range(100, 480, 40)},\n",
       "             scoring=&#x27;f1&#x27;, verbose=True)</pre><b>In a Jupyter environment, please rerun this cell to show the HTML representation or trust the notebook. <br />On GitHub, the HTML representation is unable to render, please try loading this page with nbviewer.org.</b></div><div class=\"sk-container\" hidden><div class=\"sk-item sk-dashed-wrapped\"><div class=\"sk-label-container\"><div class=\"sk-label sk-toggleable\"><input class=\"sk-toggleable__control sk-hidden--visually\" id=\"sk-estimator-id-2\" type=\"checkbox\" ><label for=\"sk-estimator-id-2\" class=\"sk-toggleable__label sk-toggleable__label-arrow\">GridSearchCV</label><div class=\"sk-toggleable__content\"><pre>GridSearchCV(cv=5,\n",
       "             estimator=XGBClassifier(base_score=None, booster=None,\n",
       "                                     callbacks=None, colsample_bylevel=None,\n",
       "                                     colsample_bynode=None,\n",
       "                                     colsample_bytree=None, device=None,\n",
       "                                     early_stopping_rounds=None,\n",
       "                                     enable_categorical=False, eval_metric=None,\n",
       "                                     feature_types=None, gamma=None,\n",
       "                                     grow_policy=None, importance_type=None,\n",
       "                                     interaction_constraints=None,\n",
       "                                     learning_rate=None,...\n",
       "                                     max_cat_to_onehot=None,\n",
       "                                     max_delta_step=None, max_depth=None,\n",
       "                                     max_leaves=None, min_child_weight=None,\n",
       "                                     missing=nan, monotone_constraints=None,\n",
       "                                     multi_strategy=None, n_estimators=None,\n",
       "                                     n_jobs=None, nthread=4,\n",
       "                                     num_parallel_tree=None, ...),\n",
       "             n_jobs=10,\n",
       "             param_grid={&#x27;learning_rate&#x27;: [0.01, 0.03, 0.1, 0.3],\n",
       "                         &#x27;max_depth&#x27;: range(1, 20),\n",
       "                         &#x27;n_estimators&#x27;: range(100, 480, 40)},\n",
       "             scoring=&#x27;f1&#x27;, verbose=True)</pre></div></div></div><div class=\"sk-parallel\"><div class=\"sk-parallel-item\"><div class=\"sk-item\"><div class=\"sk-label-container\"><div class=\"sk-label sk-toggleable\"><input class=\"sk-toggleable__control sk-hidden--visually\" id=\"sk-estimator-id-3\" type=\"checkbox\" ><label for=\"sk-estimator-id-3\" class=\"sk-toggleable__label sk-toggleable__label-arrow\">estimator: XGBClassifier</label><div class=\"sk-toggleable__content\"><pre>XGBClassifier(base_score=None, booster=None, callbacks=None,\n",
       "              colsample_bylevel=None, colsample_bynode=None,\n",
       "              colsample_bytree=None, device=None, early_stopping_rounds=None,\n",
       "              enable_categorical=False, eval_metric=None, feature_types=None,\n",
       "              gamma=None, grow_policy=None, importance_type=None,\n",
       "              interaction_constraints=None, learning_rate=None, max_bin=None,\n",
       "              max_cat_threshold=None, max_cat_to_onehot=None,\n",
       "              max_delta_step=None, max_depth=None, max_leaves=None,\n",
       "              min_child_weight=None, missing=nan, monotone_constraints=None,\n",
       "              multi_strategy=None, n_estimators=None, n_jobs=None, nthread=4,\n",
       "              num_parallel_tree=None, ...)</pre></div></div></div><div class=\"sk-serial\"><div class=\"sk-item\"><div class=\"sk-estimator sk-toggleable\"><input class=\"sk-toggleable__control sk-hidden--visually\" id=\"sk-estimator-id-4\" type=\"checkbox\" ><label for=\"sk-estimator-id-4\" class=\"sk-toggleable__label sk-toggleable__label-arrow\">XGBClassifier</label><div class=\"sk-toggleable__content\"><pre>XGBClassifier(base_score=None, booster=None, callbacks=None,\n",
       "              colsample_bylevel=None, colsample_bynode=None,\n",
       "              colsample_bytree=None, device=None, early_stopping_rounds=None,\n",
       "              enable_categorical=False, eval_metric=None, feature_types=None,\n",
       "              gamma=None, grow_policy=None, importance_type=None,\n",
       "              interaction_constraints=None, learning_rate=None, max_bin=None,\n",
       "              max_cat_threshold=None, max_cat_to_onehot=None,\n",
       "              max_delta_step=None, max_depth=None, max_leaves=None,\n",
       "              min_child_weight=None, missing=nan, monotone_constraints=None,\n",
       "              multi_strategy=None, n_estimators=None, n_jobs=None, nthread=4,\n",
       "              num_parallel_tree=None, ...)</pre></div></div></div></div></div></div></div></div></div></div>"
      ],
      "text/plain": [
       "GridSearchCV(cv=5,\n",
       "             estimator=XGBClassifier(base_score=None, booster=None,\n",
       "                                     callbacks=None, colsample_bylevel=None,\n",
       "                                     colsample_bynode=None,\n",
       "                                     colsample_bytree=None, device=None,\n",
       "                                     early_stopping_rounds=None,\n",
       "                                     enable_categorical=False, eval_metric=None,\n",
       "                                     feature_types=None, gamma=None,\n",
       "                                     grow_policy=None, importance_type=None,\n",
       "                                     interaction_constraints=None,\n",
       "                                     learning_rate=None,...\n",
       "                                     max_cat_to_onehot=None,\n",
       "                                     max_delta_step=None, max_depth=None,\n",
       "                                     max_leaves=None, min_child_weight=None,\n",
       "                                     missing=nan, monotone_constraints=None,\n",
       "                                     multi_strategy=None, n_estimators=None,\n",
       "                                     n_jobs=None, nthread=4,\n",
       "                                     num_parallel_tree=None, ...),\n",
       "             n_jobs=10,\n",
       "             param_grid={'learning_rate': [0.01, 0.03, 0.1, 0.3],\n",
       "                         'max_depth': range(1, 20),\n",
       "                         'n_estimators': range(100, 480, 40)},\n",
       "             scoring='f1', verbose=True)"
      ]
     },
     "execution_count": 20,
     "metadata": {},
     "output_type": "execute_result"
    }
   ],
   "source": [
    "grid_search.fit(tor_train[features], tor_train['power_outage'])"
   ]
  },
  {
   "cell_type": "code",
   "execution_count": 21,
   "id": "39c8c816-7496-49f4-81f2-99d645831ed8",
   "metadata": {},
   "outputs": [
    {
     "data": {
      "text/html": [
       "<style>#sk-container-id-3 {color: black;background-color: white;}#sk-container-id-3 pre{padding: 0;}#sk-container-id-3 div.sk-toggleable {background-color: white;}#sk-container-id-3 label.sk-toggleable__label {cursor: pointer;display: block;width: 100%;margin-bottom: 0;padding: 0.3em;box-sizing: border-box;text-align: center;}#sk-container-id-3 label.sk-toggleable__label-arrow:before {content: \"▸\";float: left;margin-right: 0.25em;color: #696969;}#sk-container-id-3 label.sk-toggleable__label-arrow:hover:before {color: black;}#sk-container-id-3 div.sk-estimator:hover label.sk-toggleable__label-arrow:before {color: black;}#sk-container-id-3 div.sk-toggleable__content {max-height: 0;max-width: 0;overflow: hidden;text-align: left;background-color: #f0f8ff;}#sk-container-id-3 div.sk-toggleable__content pre {margin: 0.2em;color: black;border-radius: 0.25em;background-color: #f0f8ff;}#sk-container-id-3 input.sk-toggleable__control:checked~div.sk-toggleable__content {max-height: 200px;max-width: 100%;overflow: auto;}#sk-container-id-3 input.sk-toggleable__control:checked~label.sk-toggleable__label-arrow:before {content: \"▾\";}#sk-container-id-3 div.sk-estimator input.sk-toggleable__control:checked~label.sk-toggleable__label {background-color: #d4ebff;}#sk-container-id-3 div.sk-label input.sk-toggleable__control:checked~label.sk-toggleable__label {background-color: #d4ebff;}#sk-container-id-3 input.sk-hidden--visually {border: 0;clip: rect(1px 1px 1px 1px);clip: rect(1px, 1px, 1px, 1px);height: 1px;margin: -1px;overflow: hidden;padding: 0;position: absolute;width: 1px;}#sk-container-id-3 div.sk-estimator {font-family: monospace;background-color: #f0f8ff;border: 1px dotted black;border-radius: 0.25em;box-sizing: border-box;margin-bottom: 0.5em;}#sk-container-id-3 div.sk-estimator:hover {background-color: #d4ebff;}#sk-container-id-3 div.sk-parallel-item::after {content: \"\";width: 100%;border-bottom: 1px solid gray;flex-grow: 1;}#sk-container-id-3 div.sk-label:hover label.sk-toggleable__label {background-color: #d4ebff;}#sk-container-id-3 div.sk-serial::before {content: \"\";position: absolute;border-left: 1px solid gray;box-sizing: border-box;top: 0;bottom: 0;left: 50%;z-index: 0;}#sk-container-id-3 div.sk-serial {display: flex;flex-direction: column;align-items: center;background-color: white;padding-right: 0.2em;padding-left: 0.2em;position: relative;}#sk-container-id-3 div.sk-item {position: relative;z-index: 1;}#sk-container-id-3 div.sk-parallel {display: flex;align-items: stretch;justify-content: center;background-color: white;position: relative;}#sk-container-id-3 div.sk-item::before, #sk-container-id-3 div.sk-parallel-item::before {content: \"\";position: absolute;border-left: 1px solid gray;box-sizing: border-box;top: 0;bottom: 0;left: 50%;z-index: -1;}#sk-container-id-3 div.sk-parallel-item {display: flex;flex-direction: column;z-index: 1;position: relative;background-color: white;}#sk-container-id-3 div.sk-parallel-item:first-child::after {align-self: flex-end;width: 50%;}#sk-container-id-3 div.sk-parallel-item:last-child::after {align-self: flex-start;width: 50%;}#sk-container-id-3 div.sk-parallel-item:only-child::after {width: 0;}#sk-container-id-3 div.sk-dashed-wrapped {border: 1px dashed gray;margin: 0 0.4em 0.5em 0.4em;box-sizing: border-box;padding-bottom: 0.4em;background-color: white;}#sk-container-id-3 div.sk-label label {font-family: monospace;font-weight: bold;display: inline-block;line-height: 1.2em;}#sk-container-id-3 div.sk-label-container {text-align: center;}#sk-container-id-3 div.sk-container {/* jupyter's `normalize.less` sets `[hidden] { display: none; }` but bootstrap.min.css set `[hidden] { display: none !important; }` so we also need the `!important` here to be able to override the default hidden behavior on the sphinx rendered scikit-learn.org. See: https://github.com/scikit-learn/scikit-learn/issues/21755 */display: inline-block !important;position: relative;}#sk-container-id-3 div.sk-text-repr-fallback {display: none;}</style><div id=\"sk-container-id-3\" class=\"sk-top-container\"><div class=\"sk-text-repr-fallback\"><pre>XGBClassifier(base_score=None, booster=None, callbacks=None,\n",
       "              colsample_bylevel=None, colsample_bynode=None,\n",
       "              colsample_bytree=None, device=None, early_stopping_rounds=None,\n",
       "              enable_categorical=False, eval_metric=None, feature_types=None,\n",
       "              gamma=None, grow_policy=None, importance_type=None,\n",
       "              interaction_constraints=None, learning_rate=0.03, max_bin=None,\n",
       "              max_cat_threshold=None, max_cat_to_onehot=None,\n",
       "              max_delta_step=None, max_depth=17, max_leaves=None,\n",
       "              min_child_weight=None, missing=nan, monotone_constraints=None,\n",
       "              multi_strategy=None, n_estimators=180, n_jobs=None, nthread=4,\n",
       "              num_parallel_tree=None, ...)</pre><b>In a Jupyter environment, please rerun this cell to show the HTML representation or trust the notebook. <br />On GitHub, the HTML representation is unable to render, please try loading this page with nbviewer.org.</b></div><div class=\"sk-container\" hidden><div class=\"sk-item\"><div class=\"sk-estimator sk-toggleable\"><input class=\"sk-toggleable__control sk-hidden--visually\" id=\"sk-estimator-id-5\" type=\"checkbox\" checked><label for=\"sk-estimator-id-5\" class=\"sk-toggleable__label sk-toggleable__label-arrow\">XGBClassifier</label><div class=\"sk-toggleable__content\"><pre>XGBClassifier(base_score=None, booster=None, callbacks=None,\n",
       "              colsample_bylevel=None, colsample_bynode=None,\n",
       "              colsample_bytree=None, device=None, early_stopping_rounds=None,\n",
       "              enable_categorical=False, eval_metric=None, feature_types=None,\n",
       "              gamma=None, grow_policy=None, importance_type=None,\n",
       "              interaction_constraints=None, learning_rate=0.03, max_bin=None,\n",
       "              max_cat_threshold=None, max_cat_to_onehot=None,\n",
       "              max_delta_step=None, max_depth=17, max_leaves=None,\n",
       "              min_child_weight=None, missing=nan, monotone_constraints=None,\n",
       "              multi_strategy=None, n_estimators=180, n_jobs=None, nthread=4,\n",
       "              num_parallel_tree=None, ...)</pre></div></div></div></div></div>"
      ],
      "text/plain": [
       "XGBClassifier(base_score=None, booster=None, callbacks=None,\n",
       "              colsample_bylevel=None, colsample_bynode=None,\n",
       "              colsample_bytree=None, device=None, early_stopping_rounds=None,\n",
       "              enable_categorical=False, eval_metric=None, feature_types=None,\n",
       "              gamma=None, grow_policy=None, importance_type=None,\n",
       "              interaction_constraints=None, learning_rate=0.03, max_bin=None,\n",
       "              max_cat_threshold=None, max_cat_to_onehot=None,\n",
       "              max_delta_step=None, max_depth=17, max_leaves=None,\n",
       "              min_child_weight=None, missing=nan, monotone_constraints=None,\n",
       "              multi_strategy=None, n_estimators=180, n_jobs=None, nthread=4,\n",
       "              num_parallel_tree=None, ...)"
      ]
     },
     "execution_count": 21,
     "metadata": {},
     "output_type": "execute_result"
    }
   ],
   "source": [
    "grid_search.best_estimator_"
   ]
  },
  {
   "cell_type": "code",
   "execution_count": 22,
   "id": "6c72759a-3337-40b6-8310-728c94c1875d",
   "metadata": {},
   "outputs": [
    {
     "data": {
      "text/plain": [
       "{(0.01, 1, 100): 0.0,\n",
       " (0.01, 1, 140): 0.0,\n",
       " (0.01, 1, 180): 0.0,\n",
       " (0.01, 1, 220): 0.0,\n",
       " (0.01, 1, 260): 0.0,\n",
       " (0.01, 1, 300): 0.0,\n",
       " (0.01, 1, 340): 0.0,\n",
       " (0.01, 1, 380): 0.0,\n",
       " (0.01, 1, 420): 0.0,\n",
       " (0.01, 1, 460): 0.0,\n",
       " (0.01, 2, 100): 0.0,\n",
       " (0.01, 2, 140): 0.0,\n",
       " (0.01, 2, 180): 0.0,\n",
       " (0.01, 2, 220): 0.0,\n",
       " (0.01, 2, 260): 0.0,\n",
       " (0.01, 2, 300): 0.0,\n",
       " (0.01, 2, 340): 0.0,\n",
       " (0.01, 2, 380): 0.0,\n",
       " (0.01, 2, 420): 0.0,\n",
       " (0.01, 2, 460): 0.0,\n",
       " (0.01, 3, 100): 0.0,\n",
       " (0.01, 3, 140): 0.0,\n",
       " (0.01, 3, 180): 0.0,\n",
       " (0.01, 3, 220): 0.0,\n",
       " (0.01, 3, 260): 0.001,\n",
       " (0.01, 3, 300): 0.001,\n",
       " (0.01, 3, 340): 0.001,\n",
       " (0.01, 3, 380): 0.004889975550122249,\n",
       " (0.01, 3, 420): 0.005853658536585366,\n",
       " (0.01, 3, 460): 0.005853658536585366,\n",
       " (0.01, 4, 100): 0.0,\n",
       " (0.01, 4, 140): 0.004980087095693602,\n",
       " (0.01, 4, 180): 0.007942976992327426,\n",
       " (0.01, 4, 220): 0.007940618140506209,\n",
       " (0.01, 4, 260): 0.015640002385004285,\n",
       " (0.01, 4, 300): 0.02536535670282013,\n",
       " (0.01, 4, 340): 0.032059066638673306,\n",
       " (0.01, 4, 380): 0.03301792053807533,\n",
       " (0.01, 4, 420): 0.031145683388036322,\n",
       " (0.01, 4, 460): 0.031131440909845116,\n",
       " (0.01, 5, 100): 0.008933076002228415,\n",
       " (0.01, 5, 140): 0.010928113284644266,\n",
       " (0.01, 5, 180): 0.014829664578252008,\n",
       " (0.01, 5, 220): 0.020581232448523064,\n",
       " (0.01, 5, 260): 0.03110500676193319,\n",
       " (0.01, 5, 300): 0.04306338258641843,\n",
       " (0.01, 5, 340): 0.050428481038634246,\n",
       " (0.01, 5, 380): 0.05589618769013329,\n",
       " (0.01, 5, 420): 0.0658241069687656,\n",
       " (0.01, 5, 460): 0.0719828009922967,\n",
       " (0.01, 6, 100): 0.010928113284644266,\n",
       " (0.01, 6, 140): 0.02821661154173034,\n",
       " (0.01, 6, 180): 0.04333505669266272,\n",
       " (0.01, 6, 220): 0.06655891731784529,\n",
       " (0.01, 6, 260): 0.08765958837465423,\n",
       " (0.01, 6, 300): 0.09429282117979713,\n",
       " (0.01, 6, 340): 0.10999235961852696,\n",
       " (0.01, 6, 380): 0.12151286006985858,\n",
       " (0.01, 6, 420): 0.12796325189598287,\n",
       " (0.01, 6, 460): 0.13196097141991517,\n",
       " (0.01, 7, 100): 0.013830282140495776,\n",
       " (0.01, 7, 140): 0.03375110535368237,\n",
       " (0.01, 7, 180): 0.06432684940229785,\n",
       " (0.01, 7, 220): 0.09426224008572068,\n",
       " (0.01, 7, 260): 0.1163093250659533,\n",
       " (0.01, 7, 300): 0.14065703329510387,\n",
       " (0.01, 7, 340): 0.1528373929362151,\n",
       " (0.01, 7, 380): 0.16136266315236397,\n",
       " (0.01, 7, 420): 0.16262077387447438,\n",
       " (0.01, 7, 460): 0.17095624175065835,\n",
       " (0.01, 8, 100): 0.01487129834850948,\n",
       " (0.01, 8, 140): 0.061519763787080885,\n",
       " (0.01, 8, 180): 0.11135314265126839,\n",
       " (0.01, 8, 220): 0.13633891614528468,\n",
       " (0.01, 8, 260): 0.15918122273072915,\n",
       " (0.01, 8, 300): 0.17845379838688652,\n",
       " (0.01, 8, 340): 0.20499293535988702,\n",
       " (0.01, 8, 380): 0.219626065037207,\n",
       " (0.01, 8, 420): 0.21886975822910587,\n",
       " (0.01, 8, 460): 0.22244432983877876,\n",
       " (0.01, 9, 100): 0.021689904677537997,\n",
       " (0.01, 9, 140): 0.09662880066586294,\n",
       " (0.01, 9, 180): 0.13716463406622398,\n",
       " (0.01, 9, 220): 0.16870722144249095,\n",
       " (0.01, 9, 260): 0.19477706826069224,\n",
       " (0.01, 9, 300): 0.20997441017566257,\n",
       " (0.01, 9, 340): 0.22997934998576536,\n",
       " (0.01, 9, 380): 0.24246087545403192,\n",
       " (0.01, 9, 420): 0.25301668320340115,\n",
       " (0.01, 9, 460): 0.25425505017979344,\n",
       " (0.01, 10, 100): 0.04266165629332434,\n",
       " (0.01, 10, 140): 0.11267057978363564,\n",
       " (0.01, 10, 180): 0.15639788417760858,\n",
       " (0.01, 10, 220): 0.1852603933394878,\n",
       " (0.01, 10, 260): 0.21632347821990333,\n",
       " (0.01, 10, 300): 0.2308527279962596,\n",
       " (0.01, 10, 340): 0.24923768981965377,\n",
       " (0.01, 10, 380): 0.26165042828914675,\n",
       " (0.01, 10, 420): 0.26584717865691454,\n",
       " (0.01, 10, 460): 0.26849298809645,\n",
       " (0.01, 11, 100): 0.054482915838845535,\n",
       " (0.01, 11, 140): 0.12715861346019747,\n",
       " (0.01, 11, 180): 0.18208058066903707,\n",
       " (0.01, 11, 220): 0.217584338589245,\n",
       " (0.01, 11, 260): 0.23846980025274483,\n",
       " (0.01, 11, 300): 0.25812678961950175,\n",
       " (0.01, 11, 340): 0.2728127484673262,\n",
       " (0.01, 11, 380): 0.2870489678864815,\n",
       " (0.01, 11, 420): 0.29308870915058344,\n",
       " (0.01, 11, 460): 0.29279681138695085,\n",
       " (0.01, 12, 100): 0.0630508042737256,\n",
       " (0.01, 12, 140): 0.14055505152720588,\n",
       " (0.01, 12, 180): 0.21327641188713914,\n",
       " (0.01, 12, 220): 0.244212094386519,\n",
       " (0.01, 12, 260): 0.26152016078735885,\n",
       " (0.01, 12, 300): 0.27652881409624214,\n",
       " (0.01, 12, 340): 0.2912961397219216,\n",
       " (0.01, 12, 380): 0.2968914694882182,\n",
       " (0.01, 12, 420): 0.3021301362339878,\n",
       " (0.01, 12, 460): 0.30539679834446437,\n",
       " (0.01, 13, 100): 0.06756119319644457,\n",
       " (0.01, 13, 140): 0.1582193178542851,\n",
       " (0.01, 13, 180): 0.2205979342251248,\n",
       " (0.01, 13, 220): 0.2572991594652902,\n",
       " (0.01, 13, 260): 0.2768873612059757,\n",
       " (0.01, 13, 300): 0.2851071496900047,\n",
       " (0.01, 13, 340): 0.28934128656419084,\n",
       " (0.01, 13, 380): 0.29367330279365567,\n",
       " (0.01, 13, 420): 0.29874379622901565,\n",
       " (0.01, 13, 460): 0.3009116038533015,\n",
       " (0.01, 14, 100): 0.07023776179416685,\n",
       " (0.01, 14, 140): 0.16983296202392537,\n",
       " (0.01, 14, 180): 0.23149665877891365,\n",
       " (0.01, 14, 220): 0.26010366906727567,\n",
       " (0.01, 14, 260): 0.2731218443593771,\n",
       " (0.01, 14, 300): 0.2864853205043917,\n",
       " (0.01, 14, 340): 0.2940781740678247,\n",
       " (0.01, 14, 380): 0.2981343971994866,\n",
       " (0.01, 14, 420): 0.29923350338649657,\n",
       " (0.01, 14, 460): 0.29862194736773207,\n",
       " (0.01, 15, 100): 0.07915539968787849,\n",
       " (0.01, 15, 140): 0.1781399521405062,\n",
       " (0.01, 15, 180): 0.24056468381569154,\n",
       " (0.01, 15, 220): 0.2629767975771861,\n",
       " (0.01, 15, 260): 0.2789253365957193,\n",
       " (0.01, 15, 300): 0.28816061788500247,\n",
       " (0.01, 15, 340): 0.2929959158052691,\n",
       " (0.01, 15, 380): 0.3032204973896281,\n",
       " (0.01, 15, 420): 0.3049281178777517,\n",
       " (0.01, 15, 460): 0.3085498889885804,\n",
       " (0.01, 16, 100): 0.08163119463666306,\n",
       " (0.01, 16, 140): 0.18220357037793278,\n",
       " (0.01, 16, 180): 0.24393021712503393,\n",
       " (0.01, 16, 220): 0.2631348014485889,\n",
       " (0.01, 16, 260): 0.27753396117532,\n",
       " (0.01, 16, 300): 0.28848554617295036,\n",
       " (0.01, 16, 340): 0.29762504396000317,\n",
       " (0.01, 16, 380): 0.29932343787689064,\n",
       " (0.01, 16, 420): 0.3031378217480914,\n",
       " (0.01, 16, 460): 0.3095990740685613,\n",
       " (0.01, 17, 100): 0.0843865837142213,\n",
       " (0.01, 17, 140): 0.18690467747085382,\n",
       " (0.01, 17, 180): 0.24934785768702783,\n",
       " (0.01, 17, 220): 0.2664285754824132,\n",
       " (0.01, 17, 260): 0.2785598199124323,\n",
       " (0.01, 17, 300): 0.2890165666550461,\n",
       " (0.01, 17, 340): 0.2980594313216413,\n",
       " (0.01, 17, 380): 0.3039115474662057,\n",
       " (0.01, 17, 420): 0.30862269896198397,\n",
       " (0.01, 17, 460): 0.30944316869960997,\n",
       " (0.01, 18, 100): 0.08516821684083004,\n",
       " (0.01, 18, 140): 0.18916447890509813,\n",
       " (0.01, 18, 180): 0.24375463163732522,\n",
       " (0.01, 18, 220): 0.2666808008856977,\n",
       " (0.01, 18, 260): 0.2800957918442363,\n",
       " (0.01, 18, 300): 0.29536204502757757,\n",
       " (0.01, 18, 340): 0.29890805005643595,\n",
       " (0.01, 18, 380): 0.3052218861576494,\n",
       " (0.01, 18, 420): 0.30817282482471386,\n",
       " (0.01, 18, 460): 0.31018886122889044,\n",
       " (0.01, 19, 100): 0.09697720581132503,\n",
       " (0.01, 19, 140): 0.19381334420842228,\n",
       " (0.01, 19, 180): 0.24187142874032933,\n",
       " (0.01, 19, 220): 0.2600724813206879,\n",
       " (0.01, 19, 260): 0.28116107121209954,\n",
       " (0.01, 19, 300): 0.2902791357717134,\n",
       " (0.01, 19, 340): 0.3005650322305663,\n",
       " (0.01, 19, 380): 0.30399645406348175,\n",
       " (0.01, 19, 420): 0.30717174146318177,\n",
       " (0.01, 19, 460): 0.3066130852435859,\n",
       " (0.03, 1, 100): 0.0,\n",
       " (0.03, 1, 140): 0.0,\n",
       " (0.03, 1, 180): 0.0,\n",
       " (0.03, 1, 220): 0.0,\n",
       " (0.03, 1, 260): 0.0,\n",
       " (0.03, 1, 300): 0.0,\n",
       " (0.03, 1, 340): 0.0,\n",
       " (0.03, 1, 380): 0.0,\n",
       " (0.03, 1, 420): 0.0,\n",
       " (0.03, 1, 460): 0.0,\n",
       " (0.03, 2, 100): 0.0,\n",
       " (0.03, 2, 140): 0.0,\n",
       " (0.03, 2, 180): 0.0,\n",
       " (0.03, 2, 220): 0.0,\n",
       " (0.03, 2, 260): 0.0,\n",
       " (0.03, 2, 300): 0.0,\n",
       " (0.03, 2, 340): 0.0,\n",
       " (0.03, 2, 380): 0.001,\n",
       " (0.03, 2, 420): 0.0029950124688279305,\n",
       " (0.03, 2, 460): 0.00499002493765586,\n",
       " (0.03, 3, 100): 0.005853658536585366,\n",
       " (0.03, 3, 140): 0.005853658536585366,\n",
       " (0.03, 3, 180): 0.006848683412207256,\n",
       " (0.03, 3, 220): 0.017673945759171437,\n",
       " (0.03, 3, 260): 0.026383724571729727,\n",
       " (0.03, 3, 300): 0.03778267521618131,\n",
       " (0.03, 3, 340): 0.04807894716805321,\n",
       " (0.03, 3, 380): 0.06507397320130207,\n",
       " (0.03, 3, 420): 0.07089799803437782,\n",
       " (0.03, 3, 460): 0.08361389980212808,\n",
       " (0.03, 4, 100): 0.026329039689283247,\n",
       " (0.03, 4, 140): 0.031180656910416205,\n",
       " (0.03, 4, 180): 0.03782573554156775,\n",
       " (0.03, 4, 220): 0.058891813668972025,\n",
       " (0.03, 4, 260): 0.08391194369130867,\n",
       " (0.03, 4, 300): 0.11765007639706682,\n",
       " (0.03, 4, 340): 0.12435406960209158,\n",
       " (0.03, 4, 380): 0.1346532087614037,\n",
       " (0.03, 4, 420): 0.15235099485409767,\n",
       " (0.03, 4, 460): 0.1625727857558295,\n",
       " (0.03, 5, 100): 0.04400333852852427,\n",
       " (0.03, 5, 140): 0.06402727014780692,\n",
       " (0.03, 5, 180): 0.09539974344939942,\n",
       " (0.03, 5, 220): 0.11455386425050054,\n",
       " (0.03, 5, 260): 0.1421701679839774,\n",
       " (0.03, 5, 300): 0.15627208180569524,\n",
       " (0.03, 5, 340): 0.17262339871132434,\n",
       " (0.03, 5, 380): 0.18408055163610776,\n",
       " (0.03, 5, 420): 0.1963226496227173,\n",
       " (0.03, 5, 460): 0.2002601741341065,\n",
       " (0.03, 6, 100): 0.09704468329079018,\n",
       " (0.03, 6, 140): 0.11862701295612257,\n",
       " (0.03, 6, 180): 0.1409729160840723,\n",
       " (0.03, 6, 220): 0.1654608465192215,\n",
       " (0.03, 6, 260): 0.19011729776788835,\n",
       " (0.03, 6, 300): 0.2007206172897748,\n",
       " (0.03, 6, 340): 0.212967947586153,\n",
       " (0.03, 6, 380): 0.2217830640583796,\n",
       " (0.03, 6, 420): 0.22196778673176504,\n",
       " (0.03, 6, 460): 0.22894800505732255,\n",
       " (0.03, 7, 100): 0.14226852946511603,\n",
       " (0.03, 7, 140): 0.17111425259791418,\n",
       " (0.03, 7, 180): 0.18471980729538434,\n",
       " (0.03, 7, 220): 0.20017385702946194,\n",
       " (0.03, 7, 260): 0.2159962205324321,\n",
       " (0.03, 7, 300): 0.23540995198155984,\n",
       " (0.03, 7, 340): 0.2466600912902151,\n",
       " (0.03, 7, 380): 0.2462207217642519,\n",
       " (0.03, 7, 420): 0.2544866155805364,\n",
       " (0.03, 7, 460): 0.2559573847319947,\n",
       " (0.03, 8, 100): 0.17919386030448387,\n",
       " (0.03, 8, 140): 0.22453181952560003,\n",
       " (0.03, 8, 180): 0.23596656475517955,\n",
       " (0.03, 8, 220): 0.2450503884539225,\n",
       " (0.03, 8, 260): 0.2533688855640129,\n",
       " (0.03, 8, 300): 0.26386328022424776,\n",
       " (0.03, 8, 340): 0.26842968877881945,\n",
       " (0.03, 8, 380): 0.2696701469501147,\n",
       " (0.03, 8, 420): 0.2698835176324724,\n",
       " (0.03, 8, 460): 0.2703050462889401,\n",
       " (0.03, 9, 100): 0.21177523392811115,\n",
       " (0.03, 9, 140): 0.2555699660460927,\n",
       " (0.03, 9, 180): 0.2620482480243842,\n",
       " (0.03, 9, 220): 0.26907665631511524,\n",
       " (0.03, 9, 260): 0.27498559180984294,\n",
       " (0.03, 9, 300): 0.2762096672248505,\n",
       " (0.03, 9, 340): 0.2738452735409998,\n",
       " (0.03, 9, 380): 0.2759495968374442,\n",
       " (0.03, 9, 420): 0.27144194609162653,\n",
       " (0.03, 9, 460): 0.2745788770894774,\n",
       " (0.03, 10, 100): 0.2404068032848674,\n",
       " (0.03, 10, 140): 0.26903519040039886,\n",
       " (0.03, 10, 180): 0.28102597516757694,\n",
       " (0.03, 10, 220): 0.2817046236143538,\n",
       " (0.03, 10, 260): 0.2859179391848846,\n",
       " (0.03, 10, 300): 0.28495664920667135,\n",
       " (0.03, 10, 340): 0.2774990828953189,\n",
       " (0.03, 10, 380): 0.276380276560928,\n",
       " (0.03, 10, 420): 0.2711296376935675,\n",
       " (0.03, 10, 460): 0.2765188647977183,\n",
       " (0.03, 11, 100): 0.26278465575715193,\n",
       " (0.03, 11, 140): 0.29216540408733555,\n",
       " (0.03, 11, 180): 0.29409468011105705,\n",
       " (0.03, 11, 220): 0.29403784719356696,\n",
       " (0.03, 11, 260): 0.29704846326723355,\n",
       " (0.03, 11, 300): 0.29995401474704225,\n",
       " (0.03, 11, 340): 0.29210328158671384,\n",
       " (0.03, 11, 380): 0.28988668006864543,\n",
       " (0.03, 11, 420): 0.2883722155256681,\n",
       " (0.03, 11, 460): 0.28763893793100836,\n",
       " (0.03, 12, 100): 0.27128122214025263,\n",
       " (0.03, 12, 140): 0.3012783743972327,\n",
       " (0.03, 12, 180): 0.3080490823688117,\n",
       " (0.03, 12, 220): 0.3016905228941728,\n",
       " (0.03, 12, 260): 0.2946560976485361,\n",
       " (0.03, 12, 300): 0.2942150359760023,\n",
       " (0.03, 12, 340): 0.2919418938693251,\n",
       " (0.03, 12, 380): 0.2827588428693861,\n",
       " (0.03, 12, 420): 0.28899569615747456,\n",
       " (0.03, 12, 460): 0.2842845746054645,\n",
       " (0.03, 13, 100): 0.2886536820122896,\n",
       " (0.03, 13, 140): 0.30401920060143367,\n",
       " (0.03, 13, 180): 0.30189530492897515,\n",
       " (0.03, 13, 220): 0.30492189096891653,\n",
       " (0.03, 13, 260): 0.29984718498268365,\n",
       " (0.03, 13, 300): 0.29477420257274156,\n",
       " (0.03, 13, 340): 0.2925115818616264,\n",
       " (0.03, 13, 380): 0.2888827495584439,\n",
       " (0.03, 13, 420): 0.2898365270306993,\n",
       " (0.03, 13, 460): 0.2921029593799022,\n",
       " (0.03, 14, 100): 0.2946041500819031,\n",
       " (0.03, 14, 140): 0.30762211088825364,\n",
       " (0.03, 14, 180): 0.31008964129422817,\n",
       " (0.03, 14, 220): 0.3008915858783275,\n",
       " (0.03, 14, 260): 0.29924075373861275,\n",
       " (0.03, 14, 300): 0.295791475482383,\n",
       " (0.03, 14, 340): 0.296703081476316,\n",
       " (0.03, 14, 380): 0.29746953272795984,\n",
       " (0.03, 14, 420): 0.29836802303334486,\n",
       " (0.03, 14, 460): 0.29238774854001226,\n",
       " (0.03, 15, 100): 0.2934040192078483,\n",
       " (0.03, 15, 140): 0.30917073010123913,\n",
       " (0.03, 15, 180): 0.3091387876989503,\n",
       " (0.03, 15, 220): 0.3059694156659478,\n",
       " (0.03, 15, 260): 0.30054545875440686,\n",
       " (0.03, 15, 300): 0.29707005586836727,\n",
       " (0.03, 15, 340): 0.29894576575347764,\n",
       " (0.03, 15, 380): 0.29923181845084396,\n",
       " (0.03, 15, 420): 0.2982446856096467,\n",
       " (0.03, 15, 460): 0.2972417990692441,\n",
       " (0.03, 16, 100): 0.300746776879231,\n",
       " (0.03, 16, 140): 0.3055712637106345,\n",
       " (0.03, 16, 180): 0.30983549508535224,\n",
       " (0.03, 16, 220): 0.3044910755965984,\n",
       " (0.03, 16, 260): 0.301786972212655,\n",
       " (0.03, 16, 300): 0.30181945877129956,\n",
       " (0.03, 16, 340): 0.29503829100597695,\n",
       " (0.03, 16, 380): 0.29793957163846707,\n",
       " (0.03, 16, 420): 0.2958002668449941,\n",
       " (0.03, 16, 460): 0.29692066006347334,\n",
       " (0.03, 17, 100): 0.2951383019109385,\n",
       " (0.03, 17, 140): 0.3047999818195294,\n",
       " (0.03, 17, 180): 0.31045600435549264,\n",
       " (0.03, 17, 220): 0.3021425931087588,\n",
       " (0.03, 17, 260): 0.3054831842767248,\n",
       " (0.03, 17, 300): 0.3039296167871063,\n",
       " (0.03, 17, 340): 0.3000512745824214,\n",
       " (0.03, 17, 380): 0.30159842564502015,\n",
       " (0.03, 17, 420): 0.29860226886148644,\n",
       " (0.03, 17, 460): 0.2955827458629877,\n",
       " (0.03, 18, 100): 0.2897292062319544,\n",
       " (0.03, 18, 140): 0.30470584583603405,\n",
       " (0.03, 18, 180): 0.30795557194295364,\n",
       " (0.03, 18, 220): 0.3030183229585816,\n",
       " (0.03, 18, 260): 0.305809015364675,\n",
       " (0.03, 18, 300): 0.3021672342167009,\n",
       " (0.03, 18, 340): 0.29926246836745973,\n",
       " (0.03, 18, 380): 0.2998931585004564,\n",
       " (0.03, 18, 420): 0.2983671267276372,\n",
       " (0.03, 18, 460): 0.29775867423209607,\n",
       " (0.03, 19, 100): 0.29137571026511194,\n",
       " (0.03, 19, 140): 0.3071180592884571,\n",
       " (0.03, 19, 180): 0.30644681807252727,\n",
       " (0.03, 19, 220): 0.3025442238964159,\n",
       " (0.03, 19, 260): 0.2980392962660797,\n",
       " (0.03, 19, 300): 0.2957320329572536,\n",
       " (0.03, 19, 340): 0.29522534807571776,\n",
       " (0.03, 19, 380): 0.2931122181351518,\n",
       " (0.03, 19, 420): 0.29579853262527356,\n",
       " (0.03, 19, 460): 0.292890746571357,\n",
       " (0.1, 1, 100): 0.0,\n",
       " (0.1, 1, 140): 0.0,\n",
       " (0.1, 1, 180): 0.0,\n",
       " (0.1, 1, 220): 0.0,\n",
       " (0.1, 1, 260): 0.0,\n",
       " (0.1, 1, 300): 0.001,\n",
       " (0.1, 1, 340): 0.002,\n",
       " (0.1, 1, 380): 0.002,\n",
       " (0.1, 1, 420): 0.002,\n",
       " (0.1, 1, 460): 0.002,\n",
       " (0.1, 2, 100): 0.0,\n",
       " (0.1, 2, 140): 0.0059850374064837905,\n",
       " (0.1, 2, 180): 0.009940470728503603,\n",
       " (0.1, 2, 220): 0.0186844134705882,\n",
       " (0.1, 2, 260): 0.035493266531752554,\n",
       " (0.1, 2, 300): 0.05762878529284504,\n",
       " (0.1, 2, 340): 0.07321153642976566,\n",
       " (0.1, 2, 380): 0.08646348710476137,\n",
       " (0.1, 2, 420): 0.1014350633476008,\n",
       " (0.1, 2, 460): 0.11200231300040195,\n",
       " (0.1, 3, 100): 0.05001802664120186,\n",
       " (0.1, 3, 140): 0.10151976214589627,\n",
       " (0.1, 3, 180): 0.14721016738944864,\n",
       " (0.1, 3, 220): 0.17757473447362568,\n",
       " (0.1, 3, 260): 0.1843722935351822,\n",
       " (0.1, 3, 300): 0.20050075797211647,\n",
       " (0.1, 3, 340): 0.2138554696240098,\n",
       " (0.1, 3, 380): 0.22308454762626875,\n",
       " (0.1, 3, 420): 0.23389357685900283,\n",
       " (0.1, 3, 460): 0.23659890985509047,\n",
       " (0.1, 4, 100): 0.12972994446437525,\n",
       " (0.1, 4, 140): 0.16656743993626028,\n",
       " (0.1, 4, 180): 0.20296233095469027,\n",
       " (0.1, 4, 220): 0.21972544717298237,\n",
       " (0.1, 4, 260): 0.22468272050281407,\n",
       " (0.1, 4, 300): 0.24211995380492848,\n",
       " (0.1, 4, 340): 0.24500203992431785,\n",
       " (0.1, 4, 380): 0.2550833619396876,\n",
       " (0.1, 4, 420): 0.2604107553419353,\n",
       " (0.1, 4, 460): 0.25806960787442257,\n",
       " (0.1, 5, 100): 0.18876398072951223,\n",
       " (0.1, 5, 140): 0.2087315093441826,\n",
       " (0.1, 5, 180): 0.2279175534369413,\n",
       " (0.1, 5, 220): 0.24340886298401002,\n",
       " (0.1, 5, 260): 0.2578247929317454,\n",
       " (0.1, 5, 300): 0.26196642127203323,\n",
       " (0.1, 5, 340): 0.2678376147435609,\n",
       " (0.1, 5, 380): 0.26656624380641103,\n",
       " (0.1, 5, 420): 0.26539737867282537,\n",
       " (0.1, 5, 460): 0.2676522734624479,\n",
       " (0.1, 6, 100): 0.2241012514270239,\n",
       " (0.1, 6, 140): 0.24444962987200994,\n",
       " (0.1, 6, 180): 0.2588878454473562,\n",
       " (0.1, 6, 220): 0.262116377682787,\n",
       " (0.1, 6, 260): 0.26204982959746687,\n",
       " (0.1, 6, 300): 0.26200745002948783,\n",
       " (0.1, 6, 340): 0.26917108766110975,\n",
       " (0.1, 6, 380): 0.26956737038659095,\n",
       " (0.1, 6, 420): 0.26760142707394424,\n",
       " (0.1, 6, 460): 0.26978099682127193,\n",
       " (0.1, 7, 100): 0.2400370549438569,\n",
       " (0.1, 7, 140): 0.25317106629783626,\n",
       " (0.1, 7, 180): 0.2548361846595256,\n",
       " (0.1, 7, 220): 0.258849432403903,\n",
       " (0.1, 7, 260): 0.2649309488479726,\n",
       " (0.1, 7, 300): 0.26338999775000105,\n",
       " (0.1, 7, 340): 0.27290503996027216,\n",
       " (0.1, 7, 380): 0.2690310425788254,\n",
       " (0.1, 7, 420): 0.2702777512190389,\n",
       " (0.1, 7, 460): 0.26630916321832043,\n",
       " (0.1, 8, 100): 0.26870533771057337,\n",
       " (0.1, 8, 140): 0.2699755459695533,\n",
       " (0.1, 8, 180): 0.2731659335215061,\n",
       " (0.1, 8, 220): 0.2703514535406299,\n",
       " (0.1, 8, 260): 0.272263318377955,\n",
       " (0.1, 8, 300): 0.27344068168543373,\n",
       " (0.1, 8, 340): 0.27232446592771464,\n",
       " (0.1, 8, 380): 0.2707285995222106,\n",
       " (0.1, 8, 420): 0.2740554226646479,\n",
       " (0.1, 8, 460): 0.2679505948417991,\n",
       " (0.1, 9, 100): 0.28230539137491967,\n",
       " (0.1, 9, 140): 0.27393552097438306,\n",
       " (0.1, 9, 180): 0.27733569889648846,\n",
       " (0.1, 9, 220): 0.27774041129592203,\n",
       " (0.1, 9, 260): 0.2805978559600798,\n",
       " (0.1, 9, 300): 0.27668534032343056,\n",
       " (0.1, 9, 340): 0.27216046193751803,\n",
       " (0.1, 9, 380): 0.272889786307739,\n",
       " (0.1, 9, 420): 0.2722077895772974,\n",
       " (0.1, 9, 460): 0.27591947704489533,\n",
       " (0.1, 10, 100): 0.2840534758911541,\n",
       " (0.1, 10, 140): 0.2788885798284967,\n",
       " (0.1, 10, 180): 0.2766345670741122,\n",
       " (0.1, 10, 220): 0.282228214848592,\n",
       " (0.1, 10, 260): 0.27813127121295766,\n",
       " (0.1, 10, 300): 0.27882075048985017,\n",
       " (0.1, 10, 340): 0.27488085816114716,\n",
       " (0.1, 10, 380): 0.2747488345380122,\n",
       " (0.1, 10, 420): 0.27602451552723006,\n",
       " (0.1, 10, 460): 0.27399887089947345,\n",
       " (0.1, 11, 100): 0.2918549076568063,\n",
       " (0.1, 11, 140): 0.2952983494932003,\n",
       " (0.1, 11, 180): 0.29496655366711855,\n",
       " (0.1, 11, 220): 0.2911629778945292,\n",
       " (0.1, 11, 260): 0.2888446085166879,\n",
       " (0.1, 11, 300): 0.2870759583090413,\n",
       " (0.1, 11, 340): 0.2857601448742636,\n",
       " (0.1, 11, 380): 0.28760815311329346,\n",
       " (0.1, 11, 420): 0.2867400635166725,\n",
       " (0.1, 11, 460): 0.28467765045522986,\n",
       " (0.1, 12, 100): 0.29707932323969877,\n",
       " (0.1, 12, 140): 0.28713587980065924,\n",
       " (0.1, 12, 180): 0.2860448906358815,\n",
       " (0.1, 12, 220): 0.2840559653313851,\n",
       " (0.1, 12, 260): 0.28201969583901365,\n",
       " (0.1, 12, 300): 0.2808780759044144,\n",
       " (0.1, 12, 340): 0.2855170303507319,\n",
       " (0.1, 12, 380): 0.2863911875154358,\n",
       " (0.1, 12, 420): 0.28701612179398506,\n",
       " (0.1, 12, 460): 0.2857200818715367,\n",
       " (0.1, 13, 100): 0.2943751272000104,\n",
       " (0.1, 13, 140): 0.2959456329718231,\n",
       " (0.1, 13, 180): 0.2904713913953796,\n",
       " (0.1, 13, 220): 0.2923014646676511,\n",
       " (0.1, 13, 260): 0.28766177756129346,\n",
       " (0.1, 13, 300): 0.2896236815958981,\n",
       " (0.1, 13, 340): 0.2877570258328064,\n",
       " (0.1, 13, 380): 0.2872162465468024,\n",
       " (0.1, 13, 420): 0.28741333503488875,\n",
       " (0.1, 13, 460): 0.28716151613632224,\n",
       " (0.1, 14, 100): 0.29521881459099486,\n",
       " (0.1, 14, 140): 0.29121515206493315,\n",
       " (0.1, 14, 180): 0.2954014497747333,\n",
       " (0.1, 14, 220): 0.2963118866370609,\n",
       " (0.1, 14, 260): 0.29213239659519546,\n",
       " (0.1, 14, 300): 0.2951704342331767,\n",
       " (0.1, 14, 340): 0.2945983345619627,\n",
       " (0.1, 14, 380): 0.2958176998951253,\n",
       " (0.1, 14, 420): 0.2953214998190527,\n",
       " (0.1, 14, 460): 0.2976391660018919,\n",
       " (0.1, 15, 100): 0.2969714071225112,\n",
       " (0.1, 15, 140): 0.29724489654279973,\n",
       " (0.1, 15, 180): 0.2979257682289994,\n",
       " (0.1, 15, 220): 0.294417507689045,\n",
       " (0.1, 15, 260): 0.2923726981962912,\n",
       " (0.1, 15, 300): 0.29280497890270096,\n",
       " (0.1, 15, 340): 0.28847703808427055,\n",
       " (0.1, 15, 380): 0.29212610655479154,\n",
       " (0.1, 15, 420): 0.2886100566108728,\n",
       " (0.1, 15, 460): 0.29200825789868434,\n",
       " (0.1, 16, 100): 0.2911795143481847,\n",
       " (0.1, 16, 140): 0.29635392645877395,\n",
       " (0.1, 16, 180): 0.29431553357650475,\n",
       " (0.1, 16, 220): 0.2912677812363259,\n",
       " (0.1, 16, 260): 0.29568688947443544,\n",
       " (0.1, 16, 300): 0.2936142541518069,\n",
       " (0.1, 16, 340): 0.29416628114087845,\n",
       " (0.1, 16, 380): 0.29491006185909113,\n",
       " (0.1, 16, 420): 0.30011864660336585,\n",
       " (0.1, 16, 460): 0.2940055582487478,\n",
       " (0.1, 17, 100): 0.3058680497227158,\n",
       " (0.1, 17, 140): 0.2998939868692551,\n",
       " (0.1, 17, 180): 0.3021231550126486,\n",
       " (0.1, 17, 220): 0.30541793328551714,\n",
       " (0.1, 17, 260): 0.3029569075630772,\n",
       " (0.1, 17, 300): 0.302248213788501,\n",
       " (0.1, 17, 340): 0.30495873902858694,\n",
       " (0.1, 17, 380): 0.3006225965396034,\n",
       " (0.1, 17, 420): 0.3037396690305166,\n",
       " (0.1, 17, 460): 0.30425557195752617,\n",
       " (0.1, 18, 100): 0.3052641735057845,\n",
       " (0.1, 18, 140): 0.29694006356407077,\n",
       " (0.1, 18, 180): 0.2998753101803944,\n",
       " (0.1, 18, 220): 0.30021477500874766,\n",
       " (0.1, 18, 260): 0.30012974776515833,\n",
       " (0.1, 18, 300): 0.29756350106183244,\n",
       " (0.1, 18, 340): 0.29894657994503193,\n",
       " (0.1, 18, 380): 0.2993408443368983,\n",
       " (0.1, 18, 420): 0.2984135376598542,\n",
       " (0.1, 18, 460): 0.30101384775932816,\n",
       " (0.1, 19, 100): 0.29951004210823334,\n",
       " (0.1, 19, 140): 0.2982766022744122,\n",
       " (0.1, 19, 180): 0.2993220951043924,\n",
       " (0.1, 19, 220): 0.30037992644946054,\n",
       " (0.1, 19, 260): 0.3006359741674884,\n",
       " (0.1, 19, 300): 0.3018093664150894,\n",
       " (0.1, 19, 340): 0.30050106119308284,\n",
       " (0.1, 19, 380): 0.3039784297579033,\n",
       " (0.1, 19, 420): 0.3036312481475877,\n",
       " (0.1, 19, 460): 0.29681872292390743,\n",
       " (0.3, 1, 100): 0.002,\n",
       " (0.3, 1, 140): 0.002,\n",
       " (0.3, 1, 180): 0.004980087095693602,\n",
       " (0.3, 1, 220): 0.005972679962624456,\n",
       " (0.3, 1, 260): 0.010915730843394915,\n",
       " (0.3, 1, 300): 0.009923125937274294,\n",
       " (0.3, 1, 340): 0.010893606773612684,\n",
       " (0.3, 1, 380): 0.010886308835280262,\n",
       " (0.3, 1, 420): 0.010871820281237957,\n",
       " (0.3, 1, 460): 0.010871820281237957,\n",
       " (0.3, 2, 100): 0.1040334146212843,\n",
       " (0.3, 2, 140): 0.1341970031648074,\n",
       " (0.3, 2, 180): 0.15829767252553936,\n",
       " (0.3, 2, 220): 0.1775949892546184,\n",
       " (0.3, 2, 260): 0.19111241018779176,\n",
       " (0.3, 2, 300): 0.2027041801434605,\n",
       " (0.3, 2, 340): 0.2169064733865862,\n",
       " (0.3, 2, 380): 0.22040059072602336,\n",
       " (0.3, 2, 420): 0.2303105628512169,\n",
       " (0.3, 2, 460): 0.233386566523478,\n",
       " (0.3, 3, 100): 0.21769822075567896,\n",
       " (0.3, 3, 140): 0.24847250883376543,\n",
       " (0.3, 3, 180): 0.2609107816864294,\n",
       " (0.3, 3, 220): 0.26382375295909133,\n",
       " (0.3, 3, 260): 0.2751116137613202,\n",
       " (0.3, 3, 300): 0.27530926789908705,\n",
       " (0.3, 3, 340): 0.2762301512801759,\n",
       " (0.3, 3, 380): 0.280461161465922,\n",
       " (0.3, 3, 420): 0.2856786321888357,\n",
       " (0.3, 3, 460): 0.2879801405516423,\n",
       " (0.3, 4, 100): 0.25584155464001795,\n",
       " (0.3, 4, 140): 0.2703627047959949,\n",
       " (0.3, 4, 180): 0.27711530121143857,\n",
       " (0.3, 4, 220): 0.2796171530910729,\n",
       " (0.3, 4, 260): 0.2888201027020603,\n",
       " (0.3, 4, 300): 0.28654365017411576,\n",
       " (0.3, 4, 340): 0.2901974252771079,\n",
       " (0.3, 4, 380): 0.28651651932548267,\n",
       " (0.3, 4, 420): 0.2888788057660361,\n",
       " (0.3, 4, 460): 0.2820452013214857,\n",
       " (0.3, 5, 100): 0.26747343322949707,\n",
       " (0.3, 5, 140): 0.283578078836398,\n",
       " (0.3, 5, 180): 0.28060306187713496,\n",
       " (0.3, 5, 220): 0.28004784958291795,\n",
       " (0.3, 5, 260): 0.27608610808468526,\n",
       " (0.3, 5, 300): 0.28522596372197945,\n",
       " (0.3, 5, 340): 0.2845635892997218,\n",
       " (0.3, 5, 380): 0.28202067677112796,\n",
       " (0.3, 5, 420): 0.283578620715507,\n",
       " (0.3, 5, 460): 0.2808528905695171,\n",
       " (0.3, 6, 100): 0.2805662419228704,\n",
       " (0.3, 6, 140): 0.28057483973471753,\n",
       " (0.3, 6, 180): 0.2826664102399762,\n",
       " (0.3, 6, 220): 0.27351176398853083,\n",
       " (0.3, 6, 260): 0.2820089897898169,\n",
       " (0.3, 6, 300): 0.2786603690961188,\n",
       " (0.3, 6, 340): 0.271464698782397,\n",
       " (0.3, 6, 380): 0.2723675602108072,\n",
       " (0.3, 6, 420): 0.2780578423544317,\n",
       " (0.3, 6, 460): 0.27502422349261224,\n",
       " (0.3, 7, 100): 0.2778158310188549,\n",
       " (0.3, 7, 140): 0.2728956856148878,\n",
       " (0.3, 7, 180): 0.2738525355886736,\n",
       " (0.3, 7, 220): 0.2754009731083289,\n",
       " (0.3, 7, 260): 0.2693905072941273,\n",
       " (0.3, 7, 300): 0.2735305674224905,\n",
       " (0.3, 7, 340): 0.2794631668240799,\n",
       " (0.3, 7, 380): 0.27627671687384686,\n",
       " (0.3, 7, 420): 0.27891763710883055,\n",
       " (0.3, 7, 460): 0.2761832511188319,\n",
       " (0.3, 8, 100): 0.285158217813123,\n",
       " (0.3, 8, 140): 0.27712762207888836,\n",
       " (0.3, 8, 180): 0.2779801685849312,\n",
       " (0.3, 8, 220): 0.27627363177436554,\n",
       " (0.3, 8, 260): 0.28237922618051126,\n",
       " (0.3, 8, 300): 0.28339386289818896,\n",
       " (0.3, 8, 340): 0.2837390095323453,\n",
       " (0.3, 8, 380): 0.2866792837381,\n",
       " (0.3, 8, 420): 0.2853568480124154,\n",
       " (0.3, 8, 460): 0.2854860601542778,\n",
       " (0.3, 9, 100): 0.2787190533872464,\n",
       " (0.3, 9, 140): 0.2821540646746545,\n",
       " (0.3, 9, 180): 0.28336566795262635,\n",
       " (0.3, 9, 220): 0.281448008733524,\n",
       " (0.3, 9, 260): 0.2830165386831441,\n",
       " (0.3, 9, 300): 0.28880519171179997,\n",
       " (0.3, 9, 340): 0.28055164290248286,\n",
       " (0.3, 9, 380): 0.28241680175992473,\n",
       " (0.3, 9, 420): 0.28697557954952363,\n",
       " (0.3, 9, 460): 0.2874339518213395,\n",
       " (0.3, 10, 100): 0.28905427311404824,\n",
       " (0.3, 10, 140): 0.29500937696080126,\n",
       " (0.3, 10, 180): 0.2897957630147918,\n",
       " (0.3, 10, 220): 0.2881195250531977,\n",
       " (0.3, 10, 260): 0.29120360056867944,\n",
       " (0.3, 10, 300): 0.28910837169095127,\n",
       " (0.3, 10, 340): 0.28140441206232725,\n",
       " (0.3, 10, 380): 0.28579831076969453,\n",
       " (0.3, 10, 420): 0.288312606696037,\n",
       " (0.3, 10, 460): 0.2852762845341081,\n",
       " (0.3, 11, 100): 0.2839321389316094,\n",
       " (0.3, 11, 140): 0.2861391520443258,\n",
       " (0.3, 11, 180): 0.2827023660037912,\n",
       " (0.3, 11, 220): 0.2906436726525511,\n",
       " (0.3, 11, 260): 0.28671826461714306,\n",
       " (0.3, 11, 300): 0.2869862469040591,\n",
       " (0.3, 11, 340): 0.29197491756858407,\n",
       " (0.3, 11, 380): 0.29079729176258706,\n",
       " (0.3, 11, 420): 0.2864585306569992,\n",
       " (0.3, 11, 460): 0.2863333614127674,\n",
       " (0.3, 12, 100): 0.29591797179884033,\n",
       " (0.3, 12, 140): 0.2910959579287201,\n",
       " (0.3, 12, 180): 0.29035346130516165,\n",
       " (0.3, 12, 220): 0.28894212464146046,\n",
       " (0.3, 12, 260): 0.2883914473378567,\n",
       " (0.3, 12, 300): 0.29133777439233655,\n",
       " (0.3, 12, 340): 0.28760644977539407,\n",
       " (0.3, 12, 380): 0.28841747786474814,\n",
       " (0.3, 12, 420): 0.28552774350183363,\n",
       " (0.3, 12, 460): 0.28811491465132893,\n",
       " (0.3, 13, 100): 0.2953939864831686,\n",
       " (0.3, 13, 140): 0.2921906882802644,\n",
       " (0.3, 13, 180): 0.2942598639844756,\n",
       " (0.3, 13, 220): 0.29044570518979795,\n",
       " (0.3, 13, 260): 0.289855270975778,\n",
       " (0.3, 13, 300): 0.29200861997979205,\n",
       " (0.3, 13, 340): 0.2887550999947346,\n",
       " (0.3, 13, 380): 0.2894517957050987,\n",
       " (0.3, 13, 420): 0.28646963658758734,\n",
       " (0.3, 13, 460): 0.2890399343680859,\n",
       " (0.3, 14, 100): 0.292909013036951,\n",
       " (0.3, 14, 140): 0.29538374294243286,\n",
       " (0.3, 14, 180): 0.28826065384635036,\n",
       " (0.3, 14, 220): 0.2944664506374442,\n",
       " (0.3, 14, 260): 0.29662410960542135,\n",
       " (0.3, 14, 300): 0.2870205826327637,\n",
       " (0.3, 14, 340): 0.2940006683608326,\n",
       " (0.3, 14, 380): 0.2884176832083232,\n",
       " (0.3, 14, 420): 0.2898516267673486,\n",
       " (0.3, 14, 460): 0.2893843096480603,\n",
       " (0.3, 15, 100): 0.2965633659463432,\n",
       " (0.3, 15, 140): 0.2944911648293424,\n",
       " (0.3, 15, 180): 0.29997468513434694,\n",
       " (0.3, 15, 220): 0.29109370468550255,\n",
       " (0.3, 15, 260): 0.29624346497244936,\n",
       " (0.3, 15, 300): 0.29807656253203446,\n",
       " (0.3, 15, 340): 0.29232255050205536,\n",
       " (0.3, 15, 380): 0.29081352594111604,\n",
       " (0.3, 15, 420): 0.2933646102201958,\n",
       " (0.3, 15, 460): 0.292635118478739,\n",
       " (0.3, 16, 100): 0.3011032351143113,\n",
       " (0.3, 16, 140): 0.30411820132569506,\n",
       " (0.3, 16, 180): 0.29948190119823004,\n",
       " (0.3, 16, 220): 0.29694491564088155,\n",
       " (0.3, 16, 260): 0.302144318728759,\n",
       " (0.3, 16, 300): 0.2966846993735162,\n",
       " (0.3, 16, 340): 0.3023248986050696,\n",
       " (0.3, 16, 380): 0.29590298799163606,\n",
       " (0.3, 16, 420): 0.2960978981674161,\n",
       " (0.3, 16, 460): 0.29555953032155974,\n",
       " (0.3, 17, 100): 0.302041201854775,\n",
       " (0.3, 17, 140): 0.30080298571329245,\n",
       " (0.3, 17, 180): 0.30117569576806424,\n",
       " (0.3, 17, 220): 0.3034692778808106,\n",
       " (0.3, 17, 260): 0.30461654581922243,\n",
       " (0.3, 17, 300): 0.3012135958294193,\n",
       " (0.3, 17, 340): 0.2966606365526583,\n",
       " (0.3, 17, 380): 0.3021621537983278,\n",
       " (0.3, 17, 420): 0.3006301593547602,\n",
       " (0.3, 17, 460): 0.3039799147895946,\n",
       " (0.3, 18, 100): 0.2852490470310666,\n",
       " (0.3, 18, 140): 0.284278464480185,\n",
       " (0.3, 18, 180): 0.2833925555281601,\n",
       " (0.3, 18, 220): 0.2871715422012345,\n",
       " (0.3, 18, 260): 0.28859674176750116,\n",
       " (0.3, 18, 300): 0.2848252572945879,\n",
       " (0.3, 18, 340): 0.28607427479280584,\n",
       " (0.3, 18, 380): 0.2863610388258506,\n",
       " (0.3, 18, 420): 0.28893410038725204,\n",
       " (0.3, 18, 460): 0.28933147277440796,\n",
       " (0.3, 19, 100): 0.29691122223703426,\n",
       " (0.3, 19, 140): 0.2938691348563409,\n",
       " (0.3, 19, 180): 0.2954286268989641,\n",
       " (0.3, 19, 220): 0.29605033573324524,\n",
       " (0.3, 19, 260): 0.2960425833530125,\n",
       " (0.3, 19, 300): 0.2949691955334947,\n",
       " (0.3, 19, 340): 0.2933997746496765,\n",
       " (0.3, 19, 380): 0.2927976066845908,\n",
       " (0.3, 19, 420): 0.2939023135486557,\n",
       " (0.3, 19, 460): 0.2945720595830665}"
      ]
     },
     "execution_count": 22,
     "metadata": {},
     "output_type": "execute_result"
    }
   ],
   "source": [
    "res = grid_search.cv_results_\n",
    "pars = [tuple(par.values()) for par in res['params']]\n",
    "scores = np.array(res['mean_test_score'])\n",
    "param_scores = dict(zip(pars, scores))\n",
    "param_scores"
   ]
  },
  {
   "cell_type": "code",
   "execution_count": 23,
   "id": "3aa77f80-dfe5-426b-8103-05ee4a9f0dd8",
   "metadata": {},
   "outputs": [],
   "source": [
    "best_param = pars[np.argmax(scores)]"
   ]
  },
  {
   "cell_type": "code",
   "execution_count": 24,
   "id": "25f7960e-2069-4b2e-b751-f95b78fd1ed4",
   "metadata": {},
   "outputs": [
    {
     "data": {
      "text/plain": [
       "(0.03, 17, 180)"
      ]
     },
     "execution_count": 24,
     "metadata": {},
     "output_type": "execute_result"
    }
   ],
   "source": [
    "best_param"
   ]
  },
  {
   "cell_type": "code",
   "execution_count": 25,
   "id": "7a606bd6-8176-441e-abf2-3e9a1f95d2b5",
   "metadata": {},
   "outputs": [],
   "source": [
    "best_model = xgboost.XGBClassifier(\n",
    "    objective= 'binary:logistic',\n",
    "   learning_rate=.03,\n",
    "    max_depth=17,\n",
    "    n_estimators=180) "
   ]
  },
  {
   "cell_type": "code",
   "execution_count": 26,
   "id": "8dd4eda2-653c-44cc-bed1-41d8c3d54228",
   "metadata": {},
   "outputs": [
    {
     "data": {
      "text/html": [
       "<style>#sk-container-id-4 {color: black;background-color: white;}#sk-container-id-4 pre{padding: 0;}#sk-container-id-4 div.sk-toggleable {background-color: white;}#sk-container-id-4 label.sk-toggleable__label {cursor: pointer;display: block;width: 100%;margin-bottom: 0;padding: 0.3em;box-sizing: border-box;text-align: center;}#sk-container-id-4 label.sk-toggleable__label-arrow:before {content: \"▸\";float: left;margin-right: 0.25em;color: #696969;}#sk-container-id-4 label.sk-toggleable__label-arrow:hover:before {color: black;}#sk-container-id-4 div.sk-estimator:hover label.sk-toggleable__label-arrow:before {color: black;}#sk-container-id-4 div.sk-toggleable__content {max-height: 0;max-width: 0;overflow: hidden;text-align: left;background-color: #f0f8ff;}#sk-container-id-4 div.sk-toggleable__content pre {margin: 0.2em;color: black;border-radius: 0.25em;background-color: #f0f8ff;}#sk-container-id-4 input.sk-toggleable__control:checked~div.sk-toggleable__content {max-height: 200px;max-width: 100%;overflow: auto;}#sk-container-id-4 input.sk-toggleable__control:checked~label.sk-toggleable__label-arrow:before {content: \"▾\";}#sk-container-id-4 div.sk-estimator input.sk-toggleable__control:checked~label.sk-toggleable__label {background-color: #d4ebff;}#sk-container-id-4 div.sk-label input.sk-toggleable__control:checked~label.sk-toggleable__label {background-color: #d4ebff;}#sk-container-id-4 input.sk-hidden--visually {border: 0;clip: rect(1px 1px 1px 1px);clip: rect(1px, 1px, 1px, 1px);height: 1px;margin: -1px;overflow: hidden;padding: 0;position: absolute;width: 1px;}#sk-container-id-4 div.sk-estimator {font-family: monospace;background-color: #f0f8ff;border: 1px dotted black;border-radius: 0.25em;box-sizing: border-box;margin-bottom: 0.5em;}#sk-container-id-4 div.sk-estimator:hover {background-color: #d4ebff;}#sk-container-id-4 div.sk-parallel-item::after {content: \"\";width: 100%;border-bottom: 1px solid gray;flex-grow: 1;}#sk-container-id-4 div.sk-label:hover label.sk-toggleable__label {background-color: #d4ebff;}#sk-container-id-4 div.sk-serial::before {content: \"\";position: absolute;border-left: 1px solid gray;box-sizing: border-box;top: 0;bottom: 0;left: 50%;z-index: 0;}#sk-container-id-4 div.sk-serial {display: flex;flex-direction: column;align-items: center;background-color: white;padding-right: 0.2em;padding-left: 0.2em;position: relative;}#sk-container-id-4 div.sk-item {position: relative;z-index: 1;}#sk-container-id-4 div.sk-parallel {display: flex;align-items: stretch;justify-content: center;background-color: white;position: relative;}#sk-container-id-4 div.sk-item::before, #sk-container-id-4 div.sk-parallel-item::before {content: \"\";position: absolute;border-left: 1px solid gray;box-sizing: border-box;top: 0;bottom: 0;left: 50%;z-index: -1;}#sk-container-id-4 div.sk-parallel-item {display: flex;flex-direction: column;z-index: 1;position: relative;background-color: white;}#sk-container-id-4 div.sk-parallel-item:first-child::after {align-self: flex-end;width: 50%;}#sk-container-id-4 div.sk-parallel-item:last-child::after {align-self: flex-start;width: 50%;}#sk-container-id-4 div.sk-parallel-item:only-child::after {width: 0;}#sk-container-id-4 div.sk-dashed-wrapped {border: 1px dashed gray;margin: 0 0.4em 0.5em 0.4em;box-sizing: border-box;padding-bottom: 0.4em;background-color: white;}#sk-container-id-4 div.sk-label label {font-family: monospace;font-weight: bold;display: inline-block;line-height: 1.2em;}#sk-container-id-4 div.sk-label-container {text-align: center;}#sk-container-id-4 div.sk-container {/* jupyter's `normalize.less` sets `[hidden] { display: none; }` but bootstrap.min.css set `[hidden] { display: none !important; }` so we also need the `!important` here to be able to override the default hidden behavior on the sphinx rendered scikit-learn.org. See: https://github.com/scikit-learn/scikit-learn/issues/21755 */display: inline-block !important;position: relative;}#sk-container-id-4 div.sk-text-repr-fallback {display: none;}</style><div id=\"sk-container-id-4\" class=\"sk-top-container\"><div class=\"sk-text-repr-fallback\"><pre>XGBClassifier(base_score=None, booster=None, callbacks=None,\n",
       "              colsample_bylevel=None, colsample_bynode=None,\n",
       "              colsample_bytree=None, device=None, early_stopping_rounds=None,\n",
       "              enable_categorical=False, eval_metric=None, feature_types=None,\n",
       "              gamma=None, grow_policy=None, importance_type=None,\n",
       "              interaction_constraints=None, learning_rate=0.03, max_bin=None,\n",
       "              max_cat_threshold=None, max_cat_to_onehot=None,\n",
       "              max_delta_step=None, max_depth=17, max_leaves=None,\n",
       "              min_child_weight=None, missing=nan, monotone_constraints=None,\n",
       "              multi_strategy=None, n_estimators=180, n_jobs=None,\n",
       "              num_parallel_tree=None, random_state=None, ...)</pre><b>In a Jupyter environment, please rerun this cell to show the HTML representation or trust the notebook. <br />On GitHub, the HTML representation is unable to render, please try loading this page with nbviewer.org.</b></div><div class=\"sk-container\" hidden><div class=\"sk-item\"><div class=\"sk-estimator sk-toggleable\"><input class=\"sk-toggleable__control sk-hidden--visually\" id=\"sk-estimator-id-6\" type=\"checkbox\" checked><label for=\"sk-estimator-id-6\" class=\"sk-toggleable__label sk-toggleable__label-arrow\">XGBClassifier</label><div class=\"sk-toggleable__content\"><pre>XGBClassifier(base_score=None, booster=None, callbacks=None,\n",
       "              colsample_bylevel=None, colsample_bynode=None,\n",
       "              colsample_bytree=None, device=None, early_stopping_rounds=None,\n",
       "              enable_categorical=False, eval_metric=None, feature_types=None,\n",
       "              gamma=None, grow_policy=None, importance_type=None,\n",
       "              interaction_constraints=None, learning_rate=0.03, max_bin=None,\n",
       "              max_cat_threshold=None, max_cat_to_onehot=None,\n",
       "              max_delta_step=None, max_depth=17, max_leaves=None,\n",
       "              min_child_weight=None, missing=nan, monotone_constraints=None,\n",
       "              multi_strategy=None, n_estimators=180, n_jobs=None,\n",
       "              num_parallel_tree=None, random_state=None, ...)</pre></div></div></div></div></div>"
      ],
      "text/plain": [
       "XGBClassifier(base_score=None, booster=None, callbacks=None,\n",
       "              colsample_bylevel=None, colsample_bynode=None,\n",
       "              colsample_bytree=None, device=None, early_stopping_rounds=None,\n",
       "              enable_categorical=False, eval_metric=None, feature_types=None,\n",
       "              gamma=None, grow_policy=None, importance_type=None,\n",
       "              interaction_constraints=None, learning_rate=0.03, max_bin=None,\n",
       "              max_cat_threshold=None, max_cat_to_onehot=None,\n",
       "              max_delta_step=None, max_depth=17, max_leaves=None,\n",
       "              min_child_weight=None, missing=nan, monotone_constraints=None,\n",
       "              multi_strategy=None, n_estimators=180, n_jobs=None,\n",
       "              num_parallel_tree=None, random_state=None, ...)"
      ]
     },
     "execution_count": 26,
     "metadata": {},
     "output_type": "execute_result"
    }
   ],
   "source": [
    "best_model.fit(tor_train[features], tor_train['power_outage'])"
   ]
  },
  {
   "cell_type": "code",
   "execution_count": 28,
   "id": "0d64f0b8-7a30-4193-9b50-6ee221e8e9d5",
   "metadata": {},
   "outputs": [
    {
     "name": "stdout",
     "output_type": "stream",
     "text": [
      "precision:  0.6902255639097744\n",
      "recall:  0.8883870967741936\n"
     ]
    }
   ],
   "source": [
    "prec = precision_score(best_model.predict(tor_train[features]), tor_train['power_outage'])\n",
    "recall = recall_score(best_model.predict(tor_train[features]), tor_train['power_outage'])\n",
    "print(\"precision: \", prec)\n",
    "print(\"recall: \", recall)"
   ]
  },
  {
   "cell_type": "code",
   "execution_count": 145,
   "id": "93c030ea-b593-4212-9a6c-65c0ea752bab",
   "metadata": {},
   "outputs": [
    {
     "name": "stdout",
     "output_type": "stream",
     "text": [
      "precision:  0.6274321524233082\n",
      "recall:  0.8734039185338914\n"
     ]
    }
   ],
   "source": [
    "prec = precision_score(best_model.predict(light_train[features]), light_train['power_outage'])\n",
    "recall = recall_score(best_model.predict(light_train[features]), light_train['power_outage'])\n",
    "print(\"precision: \", prec)\n",
    "print(\"recall: \", recall)"
   ]
  },
  {
   "cell_type": "code",
   "execution_count": 29,
   "id": "b925a5b3-47ae-46e2-8ac4-288ec361f8ad",
   "metadata": {},
   "outputs": [
    {
     "data": {
      "text/plain": [
       "{'LAT_mean': 4.652883052825928,\n",
       " 'LON_mean': 4.585465431213379,\n",
       " 'AVGDV_max': 1.047420859336853,\n",
       " 'LLDV_max': 1.0794237852096558,\n",
       " 'MXDV_max': 1.0022969245910645,\n",
       " 'MXDV_HEIGHT_max': 0.9618530869483948,\n",
       " 'DEPTH_max': 1.1762429475784302,\n",
       " 'MAX_SHEAR_max': 1.2311267852783203,\n",
       " 'MAX_SHEAR_HEIGHT_max': 1.1681315898895264,\n",
       " 'Month': 8.831318855285645}"
      ]
     },
     "execution_count": 29,
     "metadata": {},
     "output_type": "execute_result"
    }
   ],
   "source": [
    "best_model.get_booster().get_score(importance_type='gain')"
   ]
  },
  {
   "cell_type": "code",
   "execution_count": 33,
   "id": "60e3a7b0-0101-4d72-8114-850c781903d8",
   "metadata": {},
   "outputs": [
    {
     "data": {
      "image/png": "[encoded data removed]",
      "text/plain": [
       "<Figure size 900x600 with 1 Axes>"
      ]
     },
     "metadata": {
      "needs_background": "light"
     },
     "output_type": "display_data"
    }
   ],
   "source": [
    "from sklearn.metrics import PrecisionRecallDisplay\n",
    "\n",
    "display = PrecisionRecallDisplay.from_estimator(\n",
    "    best_model, tor_train[features], tor_train['power_outage'], name=\"xGBoost\")\n",
    "_ = display.ax_.set_title(\"2-class Precision-Recall curve\")"
   ]
  },
  {
   "cell_type": "markdown",
   "id": "61bb6f65-10f0-4e15-994d-daa291194107",
   "metadata": {},
   "source": [
    "## Work on the Balanced Dataset"
   ]
  },
  {
   "cell_type": "code",
   "execution_count": 48,
   "id": "9234f272-9768-4cb0-98a5-78055c54e9c5",
   "metadata": {},
   "outputs": [],
   "source": [
    "outage = tor_train[tor_train['power_outage']==True]\n",
    "no_outage = tor_train[tor_train['power_outage']==False]\n",
    "no_outage= no_outage.sample(n=8*len(outage), random_state=101)\n",
    "balanced = pd.concat([outage,no_outage],axis=0)"
   ]
  },
  {
   "cell_type": "code",
   "execution_count": 35,
   "id": "6358db67-d563-40e2-8af1-50ea3fc12c18",
   "metadata": {},
   "outputs": [
    {
     "name": "stdout",
     "output_type": "stream",
     "text": [
      "<class 'pandas.core.frame.DataFrame'>\n",
      "Int64Index: 7980 entries, 25142 to 53330\n",
      "Data columns (total 14 columns):\n",
      " #   Column                Non-Null Count  Dtype         \n",
      "---  ------                --------------  -----         \n",
      " 0   DATE                  7980 non-null   datetime64[ns]\n",
      " 1   LAT_mean              7980 non-null   float64       \n",
      " 2   LON_mean              7980 non-null   float64       \n",
      " 3   AVGDV_max             7980 non-null   int64         \n",
      " 4   LLDV_max              7980 non-null   int64         \n",
      " 5   MXDV_max              7980 non-null   int64         \n",
      " 6   MXDV_HEIGHT_max       7980 non-null   int64         \n",
      " 7   DEPTH_max             7980 non-null   float64       \n",
      " 8   MAX_SHEAR_max         7980 non-null   int64         \n",
      " 9   MAX_SHEAR_HEIGHT_max  7980 non-null   float64       \n",
      " 10  county                7980 non-null   object        \n",
      " 11  state                 7980 non-null   object        \n",
      " 12  power_outage          7980 non-null   bool          \n",
      " 13  Month                 7980 non-null   int64         \n",
      "dtypes: bool(1), datetime64[ns](1), float64(4), int64(6), object(2)\n",
      "memory usage: 880.6+ KB\n"
     ]
    }
   ],
   "source": [
    "balanced.info()"
   ]
  },
  {
   "cell_type": "code",
   "execution_count": 36,
   "id": "f43813e7-18cd-4868-bc5d-a7d942e96eeb",
   "metadata": {},
   "outputs": [],
   "source": [
    "model = xgboost.XGBClassifier(\n",
    "    objective= 'binary:logistic',\n",
    "    nthread=4,\n",
    "    seed=42)\n",
    "\n",
    "parameters = {\n",
    "    'max_depth': range (8, 20,  2),\n",
    "    'n_estimators': range(100, 500, 40),\n",
    "    'learning_rate': [0.01, 0.03, 0.1, 0.3]\n",
    "}\n",
    "\n",
    "grid_search = GridSearchCV(model,\n",
    "    param_grid=parameters,\n",
    "    scoring='f1',\n",
    "    cv = 5,\n",
    "    n_jobs = 10,\n",
    "    verbose=True)"
   ]
  },
  {
   "cell_type": "code",
   "execution_count": 37,
   "id": "40d725b1-26f3-4c99-ba1d-6244c2461fb0",
   "metadata": {},
   "outputs": [
    {
     "name": "stdout",
     "output_type": "stream",
     "text": [
      "Fitting 5 folds for each of 240 candidates, totalling 1200 fits\n"
     ]
    },
    {
     "data": {
      "text/html": [
       "<style>#sk-container-id-5 {color: black;background-color: white;}#sk-container-id-5 pre{padding: 0;}#sk-container-id-5 div.sk-toggleable {background-color: white;}#sk-container-id-5 label.sk-toggleable__label {cursor: pointer;display: block;width: 100%;margin-bottom: 0;padding: 0.3em;box-sizing: border-box;text-align: center;}#sk-container-id-5 label.sk-toggleable__label-arrow:before {content: \"▸\";float: left;margin-right: 0.25em;color: #696969;}#sk-container-id-5 label.sk-toggleable__label-arrow:hover:before {color: black;}#sk-container-id-5 div.sk-estimator:hover label.sk-toggleable__label-arrow:before {color: black;}#sk-container-id-5 div.sk-toggleable__content {max-height: 0;max-width: 0;overflow: hidden;text-align: left;background-color: #f0f8ff;}#sk-container-id-5 div.sk-toggleable__content pre {margin: 0.2em;color: black;border-radius: 0.25em;background-color: #f0f8ff;}#sk-container-id-5 input.sk-toggleable__control:checked~div.sk-toggleable__content {max-height: 200px;max-width: 100%;overflow: auto;}#sk-container-id-5 input.sk-toggleable__control:checked~label.sk-toggleable__label-arrow:before {content: \"▾\";}#sk-container-id-5 div.sk-estimator input.sk-toggleable__control:checked~label.sk-toggleable__label {background-color: #d4ebff;}#sk-container-id-5 div.sk-label input.sk-toggleable__control:checked~label.sk-toggleable__label {background-color: #d4ebff;}#sk-container-id-5 input.sk-hidden--visually {border: 0;clip: rect(1px 1px 1px 1px);clip: rect(1px, 1px, 1px, 1px);height: 1px;margin: -1px;overflow: hidden;padding: 0;position: absolute;width: 1px;}#sk-container-id-5 div.sk-estimator {font-family: monospace;background-color: #f0f8ff;border: 1px dotted black;border-radius: 0.25em;box-sizing: border-box;margin-bottom: 0.5em;}#sk-container-id-5 div.sk-estimator:hover {background-color: #d4ebff;}#sk-container-id-5 div.sk-parallel-item::after {content: \"\";width: 100%;border-bottom: 1px solid gray;flex-grow: 1;}#sk-container-id-5 div.sk-label:hover label.sk-toggleable__label {background-color: #d4ebff;}#sk-container-id-5 div.sk-serial::before {content: \"\";position: absolute;border-left: 1px solid gray;box-sizing: border-box;top: 0;bottom: 0;left: 50%;z-index: 0;}#sk-container-id-5 div.sk-serial {display: flex;flex-direction: column;align-items: center;background-color: white;padding-right: 0.2em;padding-left: 0.2em;position: relative;}#sk-container-id-5 div.sk-item {position: relative;z-index: 1;}#sk-container-id-5 div.sk-parallel {display: flex;align-items: stretch;justify-content: center;background-color: white;position: relative;}#sk-container-id-5 div.sk-item::before, #sk-container-id-5 div.sk-parallel-item::before {content: \"\";position: absolute;border-left: 1px solid gray;box-sizing: border-box;top: 0;bottom: 0;left: 50%;z-index: -1;}#sk-container-id-5 div.sk-parallel-item {display: flex;flex-direction: column;z-index: 1;position: relative;background-color: white;}#sk-container-id-5 div.sk-parallel-item:first-child::after {align-self: flex-end;width: 50%;}#sk-container-id-5 div.sk-parallel-item:last-child::after {align-self: flex-start;width: 50%;}#sk-container-id-5 div.sk-parallel-item:only-child::after {width: 0;}#sk-container-id-5 div.sk-dashed-wrapped {border: 1px dashed gray;margin: 0 0.4em 0.5em 0.4em;box-sizing: border-box;padding-bottom: 0.4em;background-color: white;}#sk-container-id-5 div.sk-label label {font-family: monospace;font-weight: bold;display: inline-block;line-height: 1.2em;}#sk-container-id-5 div.sk-label-container {text-align: center;}#sk-container-id-5 div.sk-container {/* jupyter's `normalize.less` sets `[hidden] { display: none; }` but bootstrap.min.css set `[hidden] { display: none !important; }` so we also need the `!important` here to be able to override the default hidden behavior on the sphinx rendered scikit-learn.org. See: https://github.com/scikit-learn/scikit-learn/issues/21755 */display: inline-block !important;position: relative;}#sk-container-id-5 div.sk-text-repr-fallback {display: none;}</style><div id=\"sk-container-id-5\" class=\"sk-top-container\"><div class=\"sk-text-repr-fallback\"><pre>GridSearchCV(cv=5,\n",
       "             estimator=XGBClassifier(base_score=None, booster=None,\n",
       "                                     callbacks=None, colsample_bylevel=None,\n",
       "                                     colsample_bynode=None,\n",
       "                                     colsample_bytree=None, device=None,\n",
       "                                     early_stopping_rounds=None,\n",
       "                                     enable_categorical=False, eval_metric=None,\n",
       "                                     feature_types=None, gamma=None,\n",
       "                                     grow_policy=None, importance_type=None,\n",
       "                                     interaction_constraints=None,\n",
       "                                     learning_rate=None,...\n",
       "                                     max_cat_to_onehot=None,\n",
       "                                     max_delta_step=None, max_depth=None,\n",
       "                                     max_leaves=None, min_child_weight=None,\n",
       "                                     missing=nan, monotone_constraints=None,\n",
       "                                     multi_strategy=None, n_estimators=None,\n",
       "                                     n_jobs=None, nthread=4,\n",
       "                                     num_parallel_tree=None, ...),\n",
       "             n_jobs=10,\n",
       "             param_grid={&#x27;learning_rate&#x27;: [0.01, 0.03, 0.1, 0.3],\n",
       "                         &#x27;max_depth&#x27;: range(8, 20, 2),\n",
       "                         &#x27;n_estimators&#x27;: range(100, 500, 40)},\n",
       "             scoring=&#x27;f1&#x27;, verbose=True)</pre><b>In a Jupyter environment, please rerun this cell to show the HTML representation or trust the notebook. <br />On GitHub, the HTML representation is unable to render, please try loading this page with nbviewer.org.</b></div><div class=\"sk-container\" hidden><div class=\"sk-item sk-dashed-wrapped\"><div class=\"sk-label-container\"><div class=\"sk-label sk-toggleable\"><input class=\"sk-toggleable__control sk-hidden--visually\" id=\"sk-estimator-id-7\" type=\"checkbox\" ><label for=\"sk-estimator-id-7\" class=\"sk-toggleable__label sk-toggleable__label-arrow\">GridSearchCV</label><div class=\"sk-toggleable__content\"><pre>GridSearchCV(cv=5,\n",
       "             estimator=XGBClassifier(base_score=None, booster=None,\n",
       "                                     callbacks=None, colsample_bylevel=None,\n",
       "                                     colsample_bynode=None,\n",
       "                                     colsample_bytree=None, device=None,\n",
       "                                     early_stopping_rounds=None,\n",
       "                                     enable_categorical=False, eval_metric=None,\n",
       "                                     feature_types=None, gamma=None,\n",
       "                                     grow_policy=None, importance_type=None,\n",
       "                                     interaction_constraints=None,\n",
       "                                     learning_rate=None,...\n",
       "                                     max_cat_to_onehot=None,\n",
       "                                     max_delta_step=None, max_depth=None,\n",
       "                                     max_leaves=None, min_child_weight=None,\n",
       "                                     missing=nan, monotone_constraints=None,\n",
       "                                     multi_strategy=None, n_estimators=None,\n",
       "                                     n_jobs=None, nthread=4,\n",
       "                                     num_parallel_tree=None, ...),\n",
       "             n_jobs=10,\n",
       "             param_grid={&#x27;learning_rate&#x27;: [0.01, 0.03, 0.1, 0.3],\n",
       "                         &#x27;max_depth&#x27;: range(8, 20, 2),\n",
       "                         &#x27;n_estimators&#x27;: range(100, 500, 40)},\n",
       "             scoring=&#x27;f1&#x27;, verbose=True)</pre></div></div></div><div class=\"sk-parallel\"><div class=\"sk-parallel-item\"><div class=\"sk-item\"><div class=\"sk-label-container\"><div class=\"sk-label sk-toggleable\"><input class=\"sk-toggleable__control sk-hidden--visually\" id=\"sk-estimator-id-8\" type=\"checkbox\" ><label for=\"sk-estimator-id-8\" class=\"sk-toggleable__label sk-toggleable__label-arrow\">estimator: XGBClassifier</label><div class=\"sk-toggleable__content\"><pre>XGBClassifier(base_score=None, booster=None, callbacks=None,\n",
       "              colsample_bylevel=None, colsample_bynode=None,\n",
       "              colsample_bytree=None, device=None, early_stopping_rounds=None,\n",
       "              enable_categorical=False, eval_metric=None, feature_types=None,\n",
       "              gamma=None, grow_policy=None, importance_type=None,\n",
       "              interaction_constraints=None, learning_rate=None, max_bin=None,\n",
       "              max_cat_threshold=None, max_cat_to_onehot=None,\n",
       "              max_delta_step=None, max_depth=None, max_leaves=None,\n",
       "              min_child_weight=None, missing=nan, monotone_constraints=None,\n",
       "              multi_strategy=None, n_estimators=None, n_jobs=None, nthread=4,\n",
       "              num_parallel_tree=None, ...)</pre></div></div></div><div class=\"sk-serial\"><div class=\"sk-item\"><div class=\"sk-estimator sk-toggleable\"><input class=\"sk-toggleable__control sk-hidden--visually\" id=\"sk-estimator-id-9\" type=\"checkbox\" ><label for=\"sk-estimator-id-9\" class=\"sk-toggleable__label sk-toggleable__label-arrow\">XGBClassifier</label><div class=\"sk-toggleable__content\"><pre>XGBClassifier(base_score=None, booster=None, callbacks=None,\n",
       "              colsample_bylevel=None, colsample_bynode=None,\n",
       "              colsample_bytree=None, device=None, early_stopping_rounds=None,\n",
       "              enable_categorical=False, eval_metric=None, feature_types=None,\n",
       "              gamma=None, grow_policy=None, importance_type=None,\n",
       "              interaction_constraints=None, learning_rate=None, max_bin=None,\n",
       "              max_cat_threshold=None, max_cat_to_onehot=None,\n",
       "              max_delta_step=None, max_depth=None, max_leaves=None,\n",
       "              min_child_weight=None, missing=nan, monotone_constraints=None,\n",
       "              multi_strategy=None, n_estimators=None, n_jobs=None, nthread=4,\n",
       "              num_parallel_tree=None, ...)</pre></div></div></div></div></div></div></div></div></div></div>"
      ],
      "text/plain": [
       "GridSearchCV(cv=5,\n",
       "             estimator=XGBClassifier(base_score=None, booster=None,\n",
       "                                     callbacks=None, colsample_bylevel=None,\n",
       "                                     colsample_bynode=None,\n",
       "                                     colsample_bytree=None, device=None,\n",
       "                                     early_stopping_rounds=None,\n",
       "                                     enable_categorical=False, eval_metric=None,\n",
       "                                     feature_types=None, gamma=None,\n",
       "                                     grow_policy=None, importance_type=None,\n",
       "                                     interaction_constraints=None,\n",
       "                                     learning_rate=None,...\n",
       "                                     max_cat_to_onehot=None,\n",
       "                                     max_delta_step=None, max_depth=None,\n",
       "                                     max_leaves=None, min_child_weight=None,\n",
       "                                     missing=nan, monotone_constraints=None,\n",
       "                                     multi_strategy=None, n_estimators=None,\n",
       "                                     n_jobs=None, nthread=4,\n",
       "                                     num_parallel_tree=None, ...),\n",
       "             n_jobs=10,\n",
       "             param_grid={'learning_rate': [0.01, 0.03, 0.1, 0.3],\n",
       "                         'max_depth': range(8, 20, 2),\n",
       "                         'n_estimators': range(100, 500, 40)},\n",
       "             scoring='f1', verbose=True)"
      ]
     },
     "execution_count": 37,
     "metadata": {},
     "output_type": "execute_result"
    }
   ],
   "source": [
    "grid_search.fit(balanced[features], balanced['power_outage'])"
   ]
  },
  {
   "cell_type": "code",
   "execution_count": 38,
   "id": "9f28669c-433d-467a-918a-ef3c9fb02f27",
   "metadata": {},
   "outputs": [
    {
     "data": {
      "text/html": [
       "<style>#sk-container-id-6 {color: black;background-color: white;}#sk-container-id-6 pre{padding: 0;}#sk-container-id-6 div.sk-toggleable {background-color: white;}#sk-container-id-6 label.sk-toggleable__label {cursor: pointer;display: block;width: 100%;margin-bottom: 0;padding: 0.3em;box-sizing: border-box;text-align: center;}#sk-container-id-6 label.sk-toggleable__label-arrow:before {content: \"▸\";float: left;margin-right: 0.25em;color: #696969;}#sk-container-id-6 label.sk-toggleable__label-arrow:hover:before {color: black;}#sk-container-id-6 div.sk-estimator:hover label.sk-toggleable__label-arrow:before {color: black;}#sk-container-id-6 div.sk-toggleable__content {max-height: 0;max-width: 0;overflow: hidden;text-align: left;background-color: #f0f8ff;}#sk-container-id-6 div.sk-toggleable__content pre {margin: 0.2em;color: black;border-radius: 0.25em;background-color: #f0f8ff;}#sk-container-id-6 input.sk-toggleable__control:checked~div.sk-toggleable__content {max-height: 200px;max-width: 100%;overflow: auto;}#sk-container-id-6 input.sk-toggleable__control:checked~label.sk-toggleable__label-arrow:before {content: \"▾\";}#sk-container-id-6 div.sk-estimator input.sk-toggleable__control:checked~label.sk-toggleable__label {background-color: #d4ebff;}#sk-container-id-6 div.sk-label input.sk-toggleable__control:checked~label.sk-toggleable__label {background-color: #d4ebff;}#sk-container-id-6 input.sk-hidden--visually {border: 0;clip: rect(1px 1px 1px 1px);clip: rect(1px, 1px, 1px, 1px);height: 1px;margin: -1px;overflow: hidden;padding: 0;position: absolute;width: 1px;}#sk-container-id-6 div.sk-estimator {font-family: monospace;background-color: #f0f8ff;border: 1px dotted black;border-radius: 0.25em;box-sizing: border-box;margin-bottom: 0.5em;}#sk-container-id-6 div.sk-estimator:hover {background-color: #d4ebff;}#sk-container-id-6 div.sk-parallel-item::after {content: \"\";width: 100%;border-bottom: 1px solid gray;flex-grow: 1;}#sk-container-id-6 div.sk-label:hover label.sk-toggleable__label {background-color: #d4ebff;}#sk-container-id-6 div.sk-serial::before {content: \"\";position: absolute;border-left: 1px solid gray;box-sizing: border-box;top: 0;bottom: 0;left: 50%;z-index: 0;}#sk-container-id-6 div.sk-serial {display: flex;flex-direction: column;align-items: center;background-color: white;padding-right: 0.2em;padding-left: 0.2em;position: relative;}#sk-container-id-6 div.sk-item {position: relative;z-index: 1;}#sk-container-id-6 div.sk-parallel {display: flex;align-items: stretch;justify-content: center;background-color: white;position: relative;}#sk-container-id-6 div.sk-item::before, #sk-container-id-6 div.sk-parallel-item::before {content: \"\";position: absolute;border-left: 1px solid gray;box-sizing: border-box;top: 0;bottom: 0;left: 50%;z-index: -1;}#sk-container-id-6 div.sk-parallel-item {display: flex;flex-direction: column;z-index: 1;position: relative;background-color: white;}#sk-container-id-6 div.sk-parallel-item:first-child::after {align-self: flex-end;width: 50%;}#sk-container-id-6 div.sk-parallel-item:last-child::after {align-self: flex-start;width: 50%;}#sk-container-id-6 div.sk-parallel-item:only-child::after {width: 0;}#sk-container-id-6 div.sk-dashed-wrapped {border: 1px dashed gray;margin: 0 0.4em 0.5em 0.4em;box-sizing: border-box;padding-bottom: 0.4em;background-color: white;}#sk-container-id-6 div.sk-label label {font-family: monospace;font-weight: bold;display: inline-block;line-height: 1.2em;}#sk-container-id-6 div.sk-label-container {text-align: center;}#sk-container-id-6 div.sk-container {/* jupyter's `normalize.less` sets `[hidden] { display: none; }` but bootstrap.min.css set `[hidden] { display: none !important; }` so we also need the `!important` here to be able to override the default hidden behavior on the sphinx rendered scikit-learn.org. See: https://github.com/scikit-learn/scikit-learn/issues/21755 */display: inline-block !important;position: relative;}#sk-container-id-6 div.sk-text-repr-fallback {display: none;}</style><div id=\"sk-container-id-6\" class=\"sk-top-container\"><div class=\"sk-text-repr-fallback\"><pre>XGBClassifier(base_score=None, booster=None, callbacks=None,\n",
       "              colsample_bylevel=None, colsample_bynode=None,\n",
       "              colsample_bytree=None, device=None, early_stopping_rounds=None,\n",
       "              enable_categorical=False, eval_metric=None, feature_types=None,\n",
       "              gamma=None, grow_policy=None, importance_type=None,\n",
       "              interaction_constraints=None, learning_rate=0.03, max_bin=None,\n",
       "              max_cat_threshold=None, max_cat_to_onehot=None,\n",
       "              max_delta_step=None, max_depth=10, max_leaves=None,\n",
       "              min_child_weight=None, missing=nan, monotone_constraints=None,\n",
       "              multi_strategy=None, n_estimators=100, n_jobs=None, nthread=4,\n",
       "              num_parallel_tree=None, ...)</pre><b>In a Jupyter environment, please rerun this cell to show the HTML representation or trust the notebook. <br />On GitHub, the HTML representation is unable to render, please try loading this page with nbviewer.org.</b></div><div class=\"sk-container\" hidden><div class=\"sk-item\"><div class=\"sk-estimator sk-toggleable\"><input class=\"sk-toggleable__control sk-hidden--visually\" id=\"sk-estimator-id-10\" type=\"checkbox\" checked><label for=\"sk-estimator-id-10\" class=\"sk-toggleable__label sk-toggleable__label-arrow\">XGBClassifier</label><div class=\"sk-toggleable__content\"><pre>XGBClassifier(base_score=None, booster=None, callbacks=None,\n",
       "              colsample_bylevel=None, colsample_bynode=None,\n",
       "              colsample_bytree=None, device=None, early_stopping_rounds=None,\n",
       "              enable_categorical=False, eval_metric=None, feature_types=None,\n",
       "              gamma=None, grow_policy=None, importance_type=None,\n",
       "              interaction_constraints=None, learning_rate=0.03, max_bin=None,\n",
       "              max_cat_threshold=None, max_cat_to_onehot=None,\n",
       "              max_delta_step=None, max_depth=10, max_leaves=None,\n",
       "              min_child_weight=None, missing=nan, monotone_constraints=None,\n",
       "              multi_strategy=None, n_estimators=100, n_jobs=None, nthread=4,\n",
       "              num_parallel_tree=None, ...)</pre></div></div></div></div></div>"
      ],
      "text/plain": [
       "XGBClassifier(base_score=None, booster=None, callbacks=None,\n",
       "              colsample_bylevel=None, colsample_bynode=None,\n",
       "              colsample_bytree=None, device=None, early_stopping_rounds=None,\n",
       "              enable_categorical=False, eval_metric=None, feature_types=None,\n",
       "              gamma=None, grow_policy=None, importance_type=None,\n",
       "              interaction_constraints=None, learning_rate=0.03, max_bin=None,\n",
       "              max_cat_threshold=None, max_cat_to_onehot=None,\n",
       "              max_delta_step=None, max_depth=10, max_leaves=None,\n",
       "              min_child_weight=None, missing=nan, monotone_constraints=None,\n",
       "              multi_strategy=None, n_estimators=100, n_jobs=None, nthread=4,\n",
       "              num_parallel_tree=None, ...)"
      ]
     },
     "execution_count": 38,
     "metadata": {},
     "output_type": "execute_result"
    }
   ],
   "source": [
    "grid_search.best_estimator_"
   ]
  },
  {
   "cell_type": "code",
   "execution_count": 39,
   "id": "cb95f63f-78d5-41f5-a8b0-b7f47944f6e6",
   "metadata": {},
   "outputs": [
    {
     "data": {
      "text/plain": [
       "{(0.01, 8, 100): 0.725908279934892,\n",
       " (0.01, 8, 140): 0.7461887392570804,\n",
       " (0.01, 8, 180): 0.7668915469796136,\n",
       " (0.01, 8, 220): 0.7717177004733282,\n",
       " (0.01, 8, 260): 0.7785149734368395,\n",
       " (0.01, 8, 300): 0.7822396935715996,\n",
       " (0.01, 8, 340): 0.7821008642326378,\n",
       " (0.01, 8, 380): 0.7827752328053984,\n",
       " (0.01, 8, 420): 0.7809322768885727,\n",
       " (0.01, 8, 460): 0.7815653129483878,\n",
       " (0.01, 10, 100): 0.7403129571907667,\n",
       " (0.01, 10, 140): 0.765148313856292,\n",
       " (0.01, 10, 180): 0.7782445990984772,\n",
       " (0.01, 10, 220): 0.7804861481484112,\n",
       " (0.01, 10, 260): 0.7825723959531389,\n",
       " (0.01, 10, 300): 0.7829051248569482,\n",
       " (0.01, 10, 340): 0.7824670502949119,\n",
       " (0.01, 10, 380): 0.7810053006987102,\n",
       " (0.01, 10, 420): 0.7814521471909465,\n",
       " (0.01, 10, 460): 0.7815415338235272,\n",
       " (0.01, 12, 100): 0.7350170018472596,\n",
       " (0.01, 12, 140): 0.7608502334150724,\n",
       " (0.01, 12, 180): 0.7676318924780636,\n",
       " (0.01, 12, 220): 0.7726478780856658,\n",
       " (0.01, 12, 260): 0.7743512923411969,\n",
       " (0.01, 12, 300): 0.7776178624737564,\n",
       " (0.01, 12, 340): 0.7759889381618603,\n",
       " (0.01, 12, 380): 0.7774270741135916,\n",
       " (0.01, 12, 420): 0.778137695144233,\n",
       " (0.01, 12, 460): 0.7796876441877864,\n",
       " (0.01, 14, 100): 0.7351299791753576,\n",
       " (0.01, 14, 140): 0.7569588966417532,\n",
       " (0.01, 14, 180): 0.7641174519180836,\n",
       " (0.01, 14, 220): 0.7703089526743605,\n",
       " (0.01, 14, 260): 0.7731263160435257,\n",
       " (0.01, 14, 300): 0.777117056315874,\n",
       " (0.01, 14, 340): 0.7765828243861541,\n",
       " (0.01, 14, 380): 0.7781667701271827,\n",
       " (0.01, 14, 420): 0.7778880708568572,\n",
       " (0.01, 14, 460): 0.7777315298127551,\n",
       " (0.01, 16, 100): 0.7314117899206819,\n",
       " (0.01, 16, 140): 0.7530566776602804,\n",
       " (0.01, 16, 180): 0.7634870271659642,\n",
       " (0.01, 16, 220): 0.76697167688071,\n",
       " (0.01, 16, 260): 0.7726896153614047,\n",
       " (0.01, 16, 300): 0.7740926765152757,\n",
       " (0.01, 16, 340): 0.7770755829683905,\n",
       " (0.01, 16, 380): 0.7794109928557674,\n",
       " (0.01, 16, 420): 0.7801893472730719,\n",
       " (0.01, 16, 460): 0.7796192513064879,\n",
       " (0.01, 18, 100): 0.7310977403051291,\n",
       " (0.01, 18, 140): 0.7549344694112573,\n",
       " (0.01, 18, 180): 0.7617509228113518,\n",
       " (0.01, 18, 220): 0.7673793011268849,\n",
       " (0.01, 18, 260): 0.7687775289143833,\n",
       " (0.01, 18, 300): 0.7724035733908866,\n",
       " (0.01, 18, 340): 0.7737086687249672,\n",
       " (0.01, 18, 380): 0.7760066796144829,\n",
       " (0.01, 18, 420): 0.7739001314031858,\n",
       " (0.01, 18, 460): 0.774740880141546,\n",
       " (0.03, 8, 100): 0.7812608786324793,\n",
       " (0.03, 8, 140): 0.7810111121411277,\n",
       " (0.03, 8, 180): 0.779351011439689,\n",
       " (0.03, 8, 220): 0.7780165822234789,\n",
       " (0.03, 8, 260): 0.7770940643241847,\n",
       " (0.03, 8, 300): 0.773283354346302,\n",
       " (0.03, 8, 340): 0.7756613579677772,\n",
       " (0.03, 8, 380): 0.7721819227176097,\n",
       " (0.03, 8, 420): 0.7735193212476814,\n",
       " (0.03, 8, 460): 0.7719677549965802,\n",
       " (0.03, 10, 100): 0.7834435350347856,\n",
       " (0.03, 10, 140): 0.7804700416794116,\n",
       " (0.03, 10, 180): 0.7811697888387574,\n",
       " (0.03, 10, 220): 0.781905619548826,\n",
       " (0.03, 10, 260): 0.7814232443464925,\n",
       " (0.03, 10, 300): 0.7807607519680669,\n",
       " (0.03, 10, 340): 0.7795885328240154,\n",
       " (0.03, 10, 380): 0.7808815323527598,\n",
       " (0.03, 10, 420): 0.7813496479648253,\n",
       " (0.03, 10, 460): 0.7788129452931665,\n",
       " (0.03, 12, 100): 0.7777903055917206,\n",
       " (0.03, 12, 140): 0.7788720177309194,\n",
       " (0.03, 12, 180): 0.7791710104448172,\n",
       " (0.03, 12, 220): 0.7755897486940488,\n",
       " (0.03, 12, 260): 0.776914839483028,\n",
       " (0.03, 12, 300): 0.776423533036697,\n",
       " (0.03, 12, 340): 0.7764888827628802,\n",
       " (0.03, 12, 380): 0.7762820427643653,\n",
       " (0.03, 12, 420): 0.7760525496132689,\n",
       " (0.03, 12, 460): 0.7766643986322312,\n",
       " (0.03, 14, 100): 0.7759645580432895,\n",
       " (0.03, 14, 140): 0.7777605330293164,\n",
       " (0.03, 14, 180): 0.77716436383113,\n",
       " (0.03, 14, 220): 0.7766449283487977,\n",
       " (0.03, 14, 260): 0.7750692010793812,\n",
       " (0.03, 14, 300): 0.7735471244420667,\n",
       " (0.03, 14, 340): 0.7754858379838734,\n",
       " (0.03, 14, 380): 0.7756606769047825,\n",
       " (0.03, 14, 420): 0.7745066846915825,\n",
       " (0.03, 14, 460): 0.7765730990989613,\n",
       " (0.03, 16, 100): 0.7734753762376299,\n",
       " (0.03, 16, 140): 0.7749926474191308,\n",
       " (0.03, 16, 180): 0.7739113374506845,\n",
       " (0.03, 16, 220): 0.7749063636581552,\n",
       " (0.03, 16, 260): 0.7764733501446459,\n",
       " (0.03, 16, 300): 0.7768398643882556,\n",
       " (0.03, 16, 340): 0.7766459147559678,\n",
       " (0.03, 16, 380): 0.7775246138527019,\n",
       " (0.03, 16, 420): 0.7777853238626375,\n",
       " (0.03, 16, 460): 0.7787515256600717,\n",
       " (0.03, 18, 100): 0.7743249794262003,\n",
       " (0.03, 18, 140): 0.7771684489327664,\n",
       " (0.03, 18, 180): 0.7771281140898908,\n",
       " (0.03, 18, 220): 0.775184454843713,\n",
       " (0.03, 18, 260): 0.7749178080021834,\n",
       " (0.03, 18, 300): 0.7762751396213432,\n",
       " (0.03, 18, 340): 0.775611789492077,\n",
       " (0.03, 18, 380): 0.7762165442909901,\n",
       " (0.03, 18, 420): 0.7762710399724773,\n",
       " (0.03, 18, 460): 0.7762063247175,\n",
       " (0.1, 8, 100): 0.7767828383382303,\n",
       " (0.1, 8, 140): 0.7737183856977743,\n",
       " (0.1, 8, 180): 0.7719575199960972,\n",
       " (0.1, 8, 220): 0.7702739762948682,\n",
       " (0.1, 8, 260): 0.7691553937211341,\n",
       " (0.1, 8, 300): 0.7701739482352663,\n",
       " (0.1, 8, 340): 0.7683941932949241,\n",
       " (0.1, 8, 380): 0.770330263843598,\n",
       " (0.1, 8, 420): 0.7655677280955495,\n",
       " (0.1, 8, 460): 0.7669239505704064,\n",
       " (0.1, 10, 100): 0.7730531049298509,\n",
       " (0.1, 10, 140): 0.774749990575648,\n",
       " (0.1, 10, 180): 0.7746207834271919,\n",
       " (0.1, 10, 220): 0.7728994027108534,\n",
       " (0.1, 10, 260): 0.773035235213064,\n",
       " (0.1, 10, 300): 0.7737901020832831,\n",
       " (0.1, 10, 340): 0.7730217916876483,\n",
       " (0.1, 10, 380): 0.7744625328676205,\n",
       " (0.1, 10, 420): 0.7729344181153924,\n",
       " (0.1, 10, 460): 0.7755587253487022,\n",
       " (0.1, 12, 100): 0.7742963360138988,\n",
       " (0.1, 12, 140): 0.7731499676525915,\n",
       " (0.1, 12, 180): 0.7806834193444467,\n",
       " (0.1, 12, 220): 0.7762163967363507,\n",
       " (0.1, 12, 260): 0.7768443767312931,\n",
       " (0.1, 12, 300): 0.7770148806902897,\n",
       " (0.1, 12, 340): 0.7772655232524661,\n",
       " (0.1, 12, 380): 0.7768554089117539,\n",
       " (0.1, 12, 420): 0.7775707658882323,\n",
       " (0.1, 12, 460): 0.7769716284713978,\n",
       " (0.1, 14, 100): 0.7757999276378363,\n",
       " (0.1, 14, 140): 0.7759989798522131,\n",
       " (0.1, 14, 180): 0.7770808315641748,\n",
       " (0.1, 14, 220): 0.775656755147122,\n",
       " (0.1, 14, 260): 0.7772402137893609,\n",
       " (0.1, 14, 300): 0.7757655930652254,\n",
       " (0.1, 14, 340): 0.776944874034831,\n",
       " (0.1, 14, 380): 0.7768366993766425,\n",
       " (0.1, 14, 420): 0.7744946884234374,\n",
       " (0.1, 14, 460): 0.7748807429006602,\n",
       " (0.1, 16, 100): 0.7751217520672865,\n",
       " (0.1, 16, 140): 0.7757602407901768,\n",
       " (0.1, 16, 180): 0.7741518693573284,\n",
       " (0.1, 16, 220): 0.7750317208073337,\n",
       " (0.1, 16, 260): 0.7747597913018905,\n",
       " (0.1, 16, 300): 0.7741714976487136,\n",
       " (0.1, 16, 340): 0.7747949465762228,\n",
       " (0.1, 16, 380): 0.7737476253043792,\n",
       " (0.1, 16, 420): 0.7720879724434012,\n",
       " (0.1, 16, 460): 0.7736715082877129,\n",
       " (0.1, 18, 100): 0.7751412509259262,\n",
       " (0.1, 18, 140): 0.7780700817540566,\n",
       " (0.1, 18, 180): 0.7771960386193746,\n",
       " (0.1, 18, 220): 0.778680121048053,\n",
       " (0.1, 18, 260): 0.7785830717966608,\n",
       " (0.1, 18, 300): 0.7766953913273899,\n",
       " (0.1, 18, 340): 0.7730015617854744,\n",
       " (0.1, 18, 380): 0.7759779543605025,\n",
       " (0.1, 18, 420): 0.7756585306153574,\n",
       " (0.1, 18, 460): 0.7739141268868137,\n",
       " (0.3, 8, 100): 0.7622061275718275,\n",
       " (0.3, 8, 140): 0.758952970413138,\n",
       " (0.3, 8, 180): 0.7626202820279081,\n",
       " (0.3, 8, 220): 0.7594711641306983,\n",
       " (0.3, 8, 260): 0.7589953489756825,\n",
       " (0.3, 8, 300): 0.7559553295212658,\n",
       " (0.3, 8, 340): 0.7557808864817206,\n",
       " (0.3, 8, 380): 0.7555808909280071,\n",
       " (0.3, 8, 420): 0.756737211777012,\n",
       " (0.3, 8, 460): 0.7556376838174852,\n",
       " (0.3, 10, 100): 0.7761307358189684,\n",
       " (0.3, 10, 140): 0.7724505317843904,\n",
       " (0.3, 10, 180): 0.7725595476925488,\n",
       " (0.3, 10, 220): 0.7713548644972705,\n",
       " (0.3, 10, 260): 0.7685660359731787,\n",
       " (0.3, 10, 300): 0.76879750553026,\n",
       " (0.3, 10, 340): 0.768636263668873,\n",
       " (0.3, 10, 380): 0.7684540568244642,\n",
       " (0.3, 10, 420): 0.7667580243521459,\n",
       " (0.3, 10, 460): 0.7678090895139358,\n",
       " (0.3, 12, 100): 0.7716966276379768,\n",
       " (0.3, 12, 140): 0.7690022025856004,\n",
       " (0.3, 12, 180): 0.7709386675408744,\n",
       " (0.3, 12, 220): 0.7716972228803511,\n",
       " (0.3, 12, 260): 0.7668520915468345,\n",
       " (0.3, 12, 300): 0.764290684489595,\n",
       " (0.3, 12, 340): 0.7670812049584728,\n",
       " (0.3, 12, 380): 0.7646130333009251,\n",
       " (0.3, 12, 420): 0.7651764361840824,\n",
       " (0.3, 12, 460): 0.7646271596358623,\n",
       " (0.3, 14, 100): 0.7745996093504042,\n",
       " (0.3, 14, 140): 0.7755956613772328,\n",
       " (0.3, 14, 180): 0.774118071324679,\n",
       " (0.3, 14, 220): 0.7692352911762316,\n",
       " (0.3, 14, 260): 0.7702992825082935,\n",
       " (0.3, 14, 300): 0.7685884554560831,\n",
       " (0.3, 14, 340): 0.7674747854785109,\n",
       " (0.3, 14, 380): 0.766088498035131,\n",
       " (0.3, 14, 420): 0.7665523534104703,\n",
       " (0.3, 14, 460): 0.7677007759048567,\n",
       " (0.3, 16, 100): 0.7704919263297392,\n",
       " (0.3, 16, 140): 0.7748627228353369,\n",
       " (0.3, 16, 180): 0.7707366556466337,\n",
       " (0.3, 16, 220): 0.7713978414134647,\n",
       " (0.3, 16, 260): 0.7712880418925554,\n",
       " (0.3, 16, 300): 0.7718111736698797,\n",
       " (0.3, 16, 340): 0.7688402599094752,\n",
       " (0.3, 16, 380): 0.7685207394850601,\n",
       " (0.3, 16, 420): 0.765523565180996,\n",
       " (0.3, 16, 460): 0.766463847545594,\n",
       " (0.3, 18, 100): 0.7659012097763493,\n",
       " (0.3, 18, 140): 0.7652139974794345,\n",
       " (0.3, 18, 180): 0.7658124927609306,\n",
       " (0.3, 18, 220): 0.764699352096607,\n",
       " (0.3, 18, 260): 0.7669016623207019,\n",
       " (0.3, 18, 300): 0.7652410856090588,\n",
       " (0.3, 18, 340): 0.7671119064581264,\n",
       " (0.3, 18, 380): 0.7652206381068147,\n",
       " (0.3, 18, 420): 0.7643555498907244,\n",
       " (0.3, 18, 460): 0.7634684572313235}"
      ]
     },
     "execution_count": 39,
     "metadata": {},
     "output_type": "execute_result"
    }
   ],
   "source": [
    "res = grid_search.cv_results_\n",
    "pars = [tuple(par.values()) for par in res['params']]\n",
    "scores = np.array(res['mean_test_score'])\n",
    "param_scores = dict(zip(pars, scores))\n",
    "param_scores"
   ]
  },
  {
   "cell_type": "code",
   "execution_count": 41,
   "id": "1589f2da-8f75-4836-b364-7185192bb2cc",
   "metadata": {},
   "outputs": [
    {
     "data": {
      "text/plain": [
       "(0.03, 10, 100)"
      ]
     },
     "execution_count": 41,
     "metadata": {},
     "output_type": "execute_result"
    }
   ],
   "source": [
    "best_param = pars[np.argmax(scores)]\n",
    "best_param"
   ]
  },
  {
   "cell_type": "code",
   "execution_count": 49,
   "id": "b6d80e27-36c0-4d33-a46c-c9d64695efa2",
   "metadata": {},
   "outputs": [],
   "source": [
    "best_model = xgboost.XGBClassifier(\n",
    "    objective= 'binary:logistic',\n",
    "   learning_rate=.03,\n",
    "    max_depth=10,\n",
    "    n_estimators=100) "
   ]
  },
  {
   "cell_type": "code",
   "execution_count": 50,
   "id": "a9abaae4-c7e8-4632-9cfd-59615aa59650",
   "metadata": {},
   "outputs": [
    {
     "data": {
      "text/html": [
       "<style>#sk-container-id-8 {color: black;background-color: white;}#sk-container-id-8 pre{padding: 0;}#sk-container-id-8 div.sk-toggleable {background-color: white;}#sk-container-id-8 label.sk-toggleable__label {cursor: pointer;display: block;width: 100%;margin-bottom: 0;padding: 0.3em;box-sizing: border-box;text-align: center;}#sk-container-id-8 label.sk-toggleable__label-arrow:before {content: \"▸\";float: left;margin-right: 0.25em;color: #696969;}#sk-container-id-8 label.sk-toggleable__label-arrow:hover:before {color: black;}#sk-container-id-8 div.sk-estimator:hover label.sk-toggleable__label-arrow:before {color: black;}#sk-container-id-8 div.sk-toggleable__content {max-height: 0;max-width: 0;overflow: hidden;text-align: left;background-color: #f0f8ff;}#sk-container-id-8 div.sk-toggleable__content pre {margin: 0.2em;color: black;border-radius: 0.25em;background-color: #f0f8ff;}#sk-container-id-8 input.sk-toggleable__control:checked~div.sk-toggleable__content {max-height: 200px;max-width: 100%;overflow: auto;}#sk-container-id-8 input.sk-toggleable__control:checked~label.sk-toggleable__label-arrow:before {content: \"▾\";}#sk-container-id-8 div.sk-estimator input.sk-toggleable__control:checked~label.sk-toggleable__label {background-color: #d4ebff;}#sk-container-id-8 div.sk-label input.sk-toggleable__control:checked~label.sk-toggleable__label {background-color: #d4ebff;}#sk-container-id-8 input.sk-hidden--visually {border: 0;clip: rect(1px 1px 1px 1px);clip: rect(1px, 1px, 1px, 1px);height: 1px;margin: -1px;overflow: hidden;padding: 0;position: absolute;width: 1px;}#sk-container-id-8 div.sk-estimator {font-family: monospace;background-color: #f0f8ff;border: 1px dotted black;border-radius: 0.25em;box-sizing: border-box;margin-bottom: 0.5em;}#sk-container-id-8 div.sk-estimator:hover {background-color: #d4ebff;}#sk-container-id-8 div.sk-parallel-item::after {content: \"\";width: 100%;border-bottom: 1px solid gray;flex-grow: 1;}#sk-container-id-8 div.sk-label:hover label.sk-toggleable__label {background-color: #d4ebff;}#sk-container-id-8 div.sk-serial::before {content: \"\";position: absolute;border-left: 1px solid gray;box-sizing: border-box;top: 0;bottom: 0;left: 50%;z-index: 0;}#sk-container-id-8 div.sk-serial {display: flex;flex-direction: column;align-items: center;background-color: white;padding-right: 0.2em;padding-left: 0.2em;position: relative;}#sk-container-id-8 div.sk-item {position: relative;z-index: 1;}#sk-container-id-8 div.sk-parallel {display: flex;align-items: stretch;justify-content: center;background-color: white;position: relative;}#sk-container-id-8 div.sk-item::before, #sk-container-id-8 div.sk-parallel-item::before {content: \"\";position: absolute;border-left: 1px solid gray;box-sizing: border-box;top: 0;bottom: 0;left: 50%;z-index: -1;}#sk-container-id-8 div.sk-parallel-item {display: flex;flex-direction: column;z-index: 1;position: relative;background-color: white;}#sk-container-id-8 div.sk-parallel-item:first-child::after {align-self: flex-end;width: 50%;}#sk-container-id-8 div.sk-parallel-item:last-child::after {align-self: flex-start;width: 50%;}#sk-container-id-8 div.sk-parallel-item:only-child::after {width: 0;}#sk-container-id-8 div.sk-dashed-wrapped {border: 1px dashed gray;margin: 0 0.4em 0.5em 0.4em;box-sizing: border-box;padding-bottom: 0.4em;background-color: white;}#sk-container-id-8 div.sk-label label {font-family: monospace;font-weight: bold;display: inline-block;line-height: 1.2em;}#sk-container-id-8 div.sk-label-container {text-align: center;}#sk-container-id-8 div.sk-container {/* jupyter's `normalize.less` sets `[hidden] { display: none; }` but bootstrap.min.css set `[hidden] { display: none !important; }` so we also need the `!important` here to be able to override the default hidden behavior on the sphinx rendered scikit-learn.org. See: https://github.com/scikit-learn/scikit-learn/issues/21755 */display: inline-block !important;position: relative;}#sk-container-id-8 div.sk-text-repr-fallback {display: none;}</style><div id=\"sk-container-id-8\" class=\"sk-top-container\"><div class=\"sk-text-repr-fallback\"><pre>XGBClassifier(base_score=None, booster=None, callbacks=None,\n",
       "              colsample_bylevel=None, colsample_bynode=None,\n",
       "              colsample_bytree=None, device=None, early_stopping_rounds=None,\n",
       "              enable_categorical=False, eval_metric=None, feature_types=None,\n",
       "              gamma=None, grow_policy=None, importance_type=None,\n",
       "              interaction_constraints=None, learning_rate=0.03, max_bin=None,\n",
       "              max_cat_threshold=None, max_cat_to_onehot=None,\n",
       "              max_delta_step=None, max_depth=10, max_leaves=None,\n",
       "              min_child_weight=None, missing=nan, monotone_constraints=None,\n",
       "              multi_strategy=None, n_estimators=100, n_jobs=None,\n",
       "              num_parallel_tree=None, random_state=None, ...)</pre><b>In a Jupyter environment, please rerun this cell to show the HTML representation or trust the notebook. <br />On GitHub, the HTML representation is unable to render, please try loading this page with nbviewer.org.</b></div><div class=\"sk-container\" hidden><div class=\"sk-item\"><div class=\"sk-estimator sk-toggleable\"><input class=\"sk-toggleable__control sk-hidden--visually\" id=\"sk-estimator-id-12\" type=\"checkbox\" checked><label for=\"sk-estimator-id-12\" class=\"sk-toggleable__label sk-toggleable__label-arrow\">XGBClassifier</label><div class=\"sk-toggleable__content\"><pre>XGBClassifier(base_score=None, booster=None, callbacks=None,\n",
       "              colsample_bylevel=None, colsample_bynode=None,\n",
       "              colsample_bytree=None, device=None, early_stopping_rounds=None,\n",
       "              enable_categorical=False, eval_metric=None, feature_types=None,\n",
       "              gamma=None, grow_policy=None, importance_type=None,\n",
       "              interaction_constraints=None, learning_rate=0.03, max_bin=None,\n",
       "              max_cat_threshold=None, max_cat_to_onehot=None,\n",
       "              max_delta_step=None, max_depth=10, max_leaves=None,\n",
       "              min_child_weight=None, missing=nan, monotone_constraints=None,\n",
       "              multi_strategy=None, n_estimators=100, n_jobs=None,\n",
       "              num_parallel_tree=None, random_state=None, ...)</pre></div></div></div></div></div>"
      ],
      "text/plain": [
       "XGBClassifier(base_score=None, booster=None, callbacks=None,\n",
       "              colsample_bylevel=None, colsample_bynode=None,\n",
       "              colsample_bytree=None, device=None, early_stopping_rounds=None,\n",
       "              enable_categorical=False, eval_metric=None, feature_types=None,\n",
       "              gamma=None, grow_policy=None, importance_type=None,\n",
       "              interaction_constraints=None, learning_rate=0.03, max_bin=None,\n",
       "              max_cat_threshold=None, max_cat_to_onehot=None,\n",
       "              max_delta_step=None, max_depth=10, max_leaves=None,\n",
       "              min_child_weight=None, missing=nan, monotone_constraints=None,\n",
       "              multi_strategy=None, n_estimators=100, n_jobs=None,\n",
       "              num_parallel_tree=None, random_state=None, ...)"
      ]
     },
     "execution_count": 50,
     "metadata": {},
     "output_type": "execute_result"
    }
   ],
   "source": [
    "best_model.fit(balanced[features], balanced['power_outage'])"
   ]
  },
  {
   "cell_type": "code",
   "execution_count": 51,
   "id": "b6379cfb-c46d-457a-be13-4951794b0448",
   "metadata": {},
   "outputs": [
    {
     "name": "stdout",
     "output_type": "stream",
     "text": [
      "precision:  0.7363408521303259\n",
      "recall:  0.5248302965344765\n"
     ]
    }
   ],
   "source": [
    "prec = precision_score(best_model.predict(tor_train[features]), tor_train['power_outage'])\n",
    "recall = recall_score(best_model.predict(tor_train[features]), tor_train['power_outage'])\n",
    "print(\"precision: \", prec)\n",
    "print(\"recall: \", recall)"
   ]
  },
  {
   "cell_type": "code",
   "execution_count": 53,
   "id": "11a84c4c-f515-4f8a-8c25-eb0bb50fa512",
   "metadata": {},
   "outputs": [
    {
     "data": {
      "text/plain": [
       "{'LAT_mean': 12.50930404663086,\n",
       " 'LON_mean': 11.72362232208252,\n",
       " 'AVGDV_max': 2.1541082859039307,\n",
       " 'LLDV_max': 1.9926567077636719,\n",
       " 'MXDV_max': 1.8931102752685547,\n",
       " 'MXDV_HEIGHT_max': 1.8448606729507446,\n",
       " 'DEPTH_max': 2.5698893070220947,\n",
       " 'MAX_SHEAR_max': 2.258812189102173,\n",
       " 'MAX_SHEAR_HEIGHT_max': 1.939786672592163,\n",
       " 'Month': 16.8094482421875}"
      ]
     },
     "execution_count": 53,
     "metadata": {},
     "output_type": "execute_result"
    }
   ],
   "source": [
    "best_model.get_booster().get_score(importance_type='gain')"
   ]
  },
  {
   "cell_type": "code",
   "execution_count": 54,
   "id": "0b2da8d3-f4db-4479-8b16-3ee395d44e71",
   "metadata": {},
   "outputs": [
    {
     "data": {
      "image/png": "[encoded data removed]",
      "text/plain": [
       "<Figure size 900x600 with 1 Axes>"
      ]
     },
     "metadata": {
      "needs_background": "light"
     },
     "output_type": "display_data"
    }
   ],
   "source": [
    "from sklearn.metrics import PrecisionRecallDisplay\n",
    "\n",
    "display = PrecisionRecallDisplay.from_estimator(\n",
    "    best_model, tor_train[features], tor_train['power_outage'], name=\"xGBoost\")\n",
    "_ = display.ax_.set_title(\"2-class Precision-Recall curve\")"
   ]
  },
  {
   "cell_type": "markdown",
   "id": "f458cf40-ddcf-465d-99eb-ebb16eb033e7",
   "metadata": {},
   "source": [
    "# Using multiple years of tornados"
   ]
  },
  {
   "cell_type": "code",
   "execution_count": 2,
   "id": "13b32567-da36-433a-811f-be64b72c0e3d",
   "metadata": {},
   "outputs": [],
   "source": [
    "# Download them\n",
    "def read_merged(weather, year):\n",
    "    return pd.read_csv('../merged/merged_{}_{}.csv.gz'.format(weather, year))\n"
   ]
  },
  {
   "cell_type": "code",
   "execution_count": 3,
   "id": "f0db49b1-a2e2-4f76-8780-983e27ac623e",
   "metadata": {},
   "outputs": [],
   "source": [
    "tornados = [read_merged(\"tornados\", year) for year in range(2015, 2024)]"
   ]
  },
  {
   "cell_type": "code",
   "execution_count": 5,
   "id": "6664d2eb-66c4-48e4-9289-b674cd23671a",
   "metadata": {},
   "outputs": [],
   "source": [
    "data = pd.concat(tornados)"
   ]
  },
  {
   "cell_type": "code",
   "execution_count": 6,
   "id": "49485bff-0954-467b-9cc6-311d3778ea73",
   "metadata": {},
   "outputs": [
    {
     "name": "stdout",
     "output_type": "stream",
     "text": [
      "<class 'pandas.core.frame.DataFrame'>\n",
      "Int64Index: 346371 entries, 0 to 39465\n",
      "Data columns (total 16 columns):\n",
      " #   Column                Non-Null Count   Dtype  \n",
      "---  ------                --------------   -----  \n",
      " 0   Unnamed: 0            346371 non-null  int64  \n",
      " 1   DATE                  346371 non-null  object \n",
      " 2   LAT_mean              346371 non-null  float64\n",
      " 3   LON_mean              346371 non-null  float64\n",
      " 4   AVGDV_max             346371 non-null  int64  \n",
      " 5   LLDV_max              346371 non-null  int64  \n",
      " 6   MXDV_max              346371 non-null  int64  \n",
      " 7   MXDV_HEIGHT_max       346371 non-null  int64  \n",
      " 8   DEPTH_max             346371 non-null  float64\n",
      " 9   MAX_SHEAR_max         346371 non-null  int64  \n",
      " 10  MAX_SHEAR_HEIGHT_max  346371 non-null  float64\n",
      " 11  county                346371 non-null  object \n",
      " 12  state                 346371 non-null  object \n",
      " 13  Month                 129786 non-null  object \n",
      " 14  power_outage          346371 non-null  bool   \n",
      " 15  Event Month           7272 non-null    object \n",
      "dtypes: bool(1), float64(4), int64(6), object(5)\n",
      "memory usage: 42.6+ MB\n"
     ]
    }
   ],
   "source": [
    "data.info()"
   ]
  },
  {
   "cell_type": "code",
   "execution_count": 7,
   "id": "6e11e45c-a713-4a45-ac4e-600cb72cd091",
   "metadata": {},
   "outputs": [
    {
     "data": {
      "text/html": [
       "<div>\n",
       "<style scoped>\n",
       "    .dataframe tbody tr th:only-of-type {\n",
       "        vertical-align: middle;\n",
       "    }\n",
       "\n",
       "    .dataframe tbody tr th {\n",
       "        vertical-align: top;\n",
       "    }\n",
       "\n",
       "    .dataframe thead th {\n",
       "        text-align: right;\n",
       "    }\n",
       "</style>\n",
       "<table border=\"1\" class=\"dataframe\">\n",
       "  <thead>\n",
       "    <tr style=\"text-align: right;\">\n",
       "      <th></th>\n",
       "      <th>Unnamed: 0</th>\n",
       "      <th>DATE</th>\n",
       "      <th>LAT_mean</th>\n",
       "      <th>LON_mean</th>\n",
       "      <th>AVGDV_max</th>\n",
       "      <th>LLDV_max</th>\n",
       "      <th>MXDV_max</th>\n",
       "      <th>MXDV_HEIGHT_max</th>\n",
       "      <th>DEPTH_max</th>\n",
       "      <th>MAX_SHEAR_max</th>\n",
       "      <th>MAX_SHEAR_HEIGHT_max</th>\n",
       "      <th>county</th>\n",
       "      <th>state</th>\n",
       "      <th>Month</th>\n",
       "      <th>power_outage</th>\n",
       "      <th>Event Month</th>\n",
       "    </tr>\n",
       "  </thead>\n",
       "  <tbody>\n",
       "    <tr>\n",
       "      <th>10698</th>\n",
       "      <td>10698</td>\n",
       "      <td>2021-05-11</td>\n",
       "      <td>32.70594</td>\n",
       "      <td>-96.413492</td>\n",
       "      <td>60</td>\n",
       "      <td>89</td>\n",
       "      <td>101</td>\n",
       "      <td>30</td>\n",
       "      <td>26.3</td>\n",
       "      <td>52</td>\n",
       "      <td>29.8</td>\n",
       "      <td>Kaufman County</td>\n",
       "      <td>Texas</td>\n",
       "      <td>NaN</td>\n",
       "      <td>False</td>\n",
       "      <td>NaN</td>\n",
       "    </tr>\n",
       "    <tr>\n",
       "      <th>18619</th>\n",
       "      <td>18619</td>\n",
       "      <td>2021-07-10</td>\n",
       "      <td>39.17796</td>\n",
       "      <td>-94.087560</td>\n",
       "      <td>35</td>\n",
       "      <td>29</td>\n",
       "      <td>83</td>\n",
       "      <td>16</td>\n",
       "      <td>11.1</td>\n",
       "      <td>35</td>\n",
       "      <td>15.7</td>\n",
       "      <td>Ray County</td>\n",
       "      <td>Missouri</td>\n",
       "      <td>July</td>\n",
       "      <td>True</td>\n",
       "      <td>NaN</td>\n",
       "    </tr>\n",
       "    <tr>\n",
       "      <th>66369</th>\n",
       "      <td>66369</td>\n",
       "      <td>2020-12-24</td>\n",
       "      <td>35.62726</td>\n",
       "      <td>-77.993900</td>\n",
       "      <td>64</td>\n",
       "      <td>95</td>\n",
       "      <td>98</td>\n",
       "      <td>5</td>\n",
       "      <td>8.7</td>\n",
       "      <td>38</td>\n",
       "      <td>5.4</td>\n",
       "      <td>Wilson County</td>\n",
       "      <td>North Carolina</td>\n",
       "      <td>December</td>\n",
       "      <td>False</td>\n",
       "      <td>NaN</td>\n",
       "    </tr>\n",
       "    <tr>\n",
       "      <th>9832</th>\n",
       "      <td>9832</td>\n",
       "      <td>2020-02-07</td>\n",
       "      <td>60.76219</td>\n",
       "      <td>-152.571360</td>\n",
       "      <td>34</td>\n",
       "      <td>52</td>\n",
       "      <td>52</td>\n",
       "      <td>3</td>\n",
       "      <td>5.4</td>\n",
       "      <td>23</td>\n",
       "      <td>2.8</td>\n",
       "      <td>Kenai Peninsula Borough</td>\n",
       "      <td>Alaska</td>\n",
       "      <td>February</td>\n",
       "      <td>False</td>\n",
       "      <td>NaN</td>\n",
       "    </tr>\n",
       "    <tr>\n",
       "      <th>33800</th>\n",
       "      <td>33800</td>\n",
       "      <td>2021-10-05</td>\n",
       "      <td>35.54371</td>\n",
       "      <td>-90.414920</td>\n",
       "      <td>60</td>\n",
       "      <td>70</td>\n",
       "      <td>93</td>\n",
       "      <td>12</td>\n",
       "      <td>9.3</td>\n",
       "      <td>34</td>\n",
       "      <td>11.9</td>\n",
       "      <td>Poinsett County</td>\n",
       "      <td>Arkansas</td>\n",
       "      <td>NaN</td>\n",
       "      <td>False</td>\n",
       "      <td>NaN</td>\n",
       "    </tr>\n",
       "    <tr>\n",
       "      <th>...</th>\n",
       "      <td>...</td>\n",
       "      <td>...</td>\n",
       "      <td>...</td>\n",
       "      <td>...</td>\n",
       "      <td>...</td>\n",
       "      <td>...</td>\n",
       "      <td>...</td>\n",
       "      <td>...</td>\n",
       "      <td>...</td>\n",
       "      <td>...</td>\n",
       "      <td>...</td>\n",
       "      <td>...</td>\n",
       "      <td>...</td>\n",
       "      <td>...</td>\n",
       "      <td>...</td>\n",
       "      <td>...</td>\n",
       "    </tr>\n",
       "    <tr>\n",
       "      <th>22130</th>\n",
       "      <td>22130</td>\n",
       "      <td>2015-12-13</td>\n",
       "      <td>30.20638</td>\n",
       "      <td>-95.531480</td>\n",
       "      <td>42</td>\n",
       "      <td>57</td>\n",
       "      <td>63</td>\n",
       "      <td>14</td>\n",
       "      <td>11.4</td>\n",
       "      <td>23</td>\n",
       "      <td>13.6</td>\n",
       "      <td>Montgomery County</td>\n",
       "      <td>Texas</td>\n",
       "      <td>NaN</td>\n",
       "      <td>False</td>\n",
       "      <td>NaN</td>\n",
       "    </tr>\n",
       "    <tr>\n",
       "      <th>18308</th>\n",
       "      <td>18308</td>\n",
       "      <td>2018-08-21</td>\n",
       "      <td>40.38416</td>\n",
       "      <td>-111.969960</td>\n",
       "      <td>64</td>\n",
       "      <td>86</td>\n",
       "      <td>87</td>\n",
       "      <td>10</td>\n",
       "      <td>7.3</td>\n",
       "      <td>39</td>\n",
       "      <td>2.7</td>\n",
       "      <td>Utah County</td>\n",
       "      <td>Utah</td>\n",
       "      <td>NaN</td>\n",
       "      <td>False</td>\n",
       "      <td>NaN</td>\n",
       "    </tr>\n",
       "    <tr>\n",
       "      <th>5339</th>\n",
       "      <td>5339</td>\n",
       "      <td>2021-03-27</td>\n",
       "      <td>35.98540</td>\n",
       "      <td>-80.815190</td>\n",
       "      <td>29</td>\n",
       "      <td>75</td>\n",
       "      <td>75</td>\n",
       "      <td>5</td>\n",
       "      <td>17.2</td>\n",
       "      <td>30</td>\n",
       "      <td>5.1</td>\n",
       "      <td>Iredell County</td>\n",
       "      <td>North Carolina</td>\n",
       "      <td>NaN</td>\n",
       "      <td>False</td>\n",
       "      <td>NaN</td>\n",
       "    </tr>\n",
       "    <tr>\n",
       "      <th>19360</th>\n",
       "      <td>19360</td>\n",
       "      <td>2020-04-13</td>\n",
       "      <td>39.58430</td>\n",
       "      <td>-76.434590</td>\n",
       "      <td>43</td>\n",
       "      <td>124</td>\n",
       "      <td>124</td>\n",
       "      <td>4</td>\n",
       "      <td>19.2</td>\n",
       "      <td>64</td>\n",
       "      <td>3.9</td>\n",
       "      <td>Harford County</td>\n",
       "      <td>Maryland</td>\n",
       "      <td>April</td>\n",
       "      <td>False</td>\n",
       "      <td>NaN</td>\n",
       "    </tr>\n",
       "    <tr>\n",
       "      <th>37525</th>\n",
       "      <td>37525</td>\n",
       "      <td>2019-07-13</td>\n",
       "      <td>35.14760</td>\n",
       "      <td>-80.600650</td>\n",
       "      <td>45</td>\n",
       "      <td>72</td>\n",
       "      <td>77</td>\n",
       "      <td>20</td>\n",
       "      <td>18.4</td>\n",
       "      <td>73</td>\n",
       "      <td>20.4</td>\n",
       "      <td>Union County</td>\n",
       "      <td>North Carolina</td>\n",
       "      <td>July</td>\n",
       "      <td>False</td>\n",
       "      <td>NaN</td>\n",
       "    </tr>\n",
       "  </tbody>\n",
       "</table>\n",
       "<p>100 rows × 16 columns</p>\n",
       "</div>"
      ],
      "text/plain": [
       "       Unnamed: 0        DATE  LAT_mean    LON_mean  AVGDV_max  LLDV_max  \\\n",
       "10698       10698  2021-05-11  32.70594  -96.413492         60        89   \n",
       "18619       18619  2021-07-10  39.17796  -94.087560         35        29   \n",
       "66369       66369  2020-12-24  35.62726  -77.993900         64        95   \n",
       "9832         9832  2020-02-07  60.76219 -152.571360         34        52   \n",
       "33800       33800  2021-10-05  35.54371  -90.414920         60        70   \n",
       "...           ...         ...       ...         ...        ...       ...   \n",
       "22130       22130  2015-12-13  30.20638  -95.531480         42        57   \n",
       "18308       18308  2018-08-21  40.38416 -111.969960         64        86   \n",
       "5339         5339  2021-03-27  35.98540  -80.815190         29        75   \n",
       "19360       19360  2020-04-13  39.58430  -76.434590         43       124   \n",
       "37525       37525  2019-07-13  35.14760  -80.600650         45        72   \n",
       "\n",
       "       MXDV_max  MXDV_HEIGHT_max  DEPTH_max  MAX_SHEAR_max  \\\n",
       "10698       101               30       26.3             52   \n",
       "18619        83               16       11.1             35   \n",
       "66369        98                5        8.7             38   \n",
       "9832         52                3        5.4             23   \n",
       "33800        93               12        9.3             34   \n",
       "...         ...              ...        ...            ...   \n",
       "22130        63               14       11.4             23   \n",
       "18308        87               10        7.3             39   \n",
       "5339         75                5       17.2             30   \n",
       "19360       124                4       19.2             64   \n",
       "37525        77               20       18.4             73   \n",
       "\n",
       "       MAX_SHEAR_HEIGHT_max                   county           state  \\\n",
       "10698                  29.8           Kaufman County           Texas   \n",
       "18619                  15.7               Ray County        Missouri   \n",
       "66369                   5.4            Wilson County  North Carolina   \n",
       "9832                    2.8  Kenai Peninsula Borough          Alaska   \n",
       "33800                  11.9          Poinsett County        Arkansas   \n",
       "...                     ...                      ...             ...   \n",
       "22130                  13.6        Montgomery County           Texas   \n",
       "18308                   2.7              Utah County            Utah   \n",
       "5339                    5.1           Iredell County  North Carolina   \n",
       "19360                   3.9           Harford County        Maryland   \n",
       "37525                  20.4             Union County  North Carolina   \n",
       "\n",
       "          Month  power_outage Event Month  \n",
       "10698       NaN         False         NaN  \n",
       "18619      July          True         NaN  \n",
       "66369  December         False         NaN  \n",
       "9832   February         False         NaN  \n",
       "33800       NaN         False         NaN  \n",
       "...         ...           ...         ...  \n",
       "22130       NaN         False         NaN  \n",
       "18308       NaN         False         NaN  \n",
       "5339        NaN         False         NaN  \n",
       "19360     April         False         NaN  \n",
       "37525      July         False         NaN  \n",
       "\n",
       "[100 rows x 16 columns]"
      ]
     },
     "execution_count": 7,
     "metadata": {},
     "output_type": "execute_result"
    }
   ],
   "source": [
    "data.sample(100)"
   ]
  },
  {
   "cell_type": "code",
   "execution_count": 6,
   "id": "2dbcfe34-8e07-4296-b0e8-68eca2d25af8",
   "metadata": {},
   "outputs": [],
   "source": [
    "del data['Unnamed: 0']\n",
    "data['DATE'] = pd.to_datetime(data['DATE'])\n",
    "data['Month'] = data['DATE'].dt.month"
   ]
  },
  {
   "cell_type": "code",
   "execution_count": 9,
   "id": "b5c8a6c4-b622-48af-8c13-b7ba529e90b1",
   "metadata": {},
   "outputs": [
    {
     "name": "stdout",
     "output_type": "stream",
     "text": [
      "<class 'pandas.core.frame.DataFrame'>\n",
      "Int64Index: 346371 entries, 0 to 39465\n",
      "Data columns (total 15 columns):\n",
      " #   Column                Non-Null Count   Dtype         \n",
      "---  ------                --------------   -----         \n",
      " 0   DATE                  346371 non-null  datetime64[ns]\n",
      " 1   LAT_mean              346371 non-null  float64       \n",
      " 2   LON_mean              346371 non-null  float64       \n",
      " 3   AVGDV_max             346371 non-null  int64         \n",
      " 4   LLDV_max              346371 non-null  int64         \n",
      " 5   MXDV_max              346371 non-null  int64         \n",
      " 6   MXDV_HEIGHT_max       346371 non-null  int64         \n",
      " 7   DEPTH_max             346371 non-null  float64       \n",
      " 8   MAX_SHEAR_max         346371 non-null  int64         \n",
      " 9   MAX_SHEAR_HEIGHT_max  346371 non-null  float64       \n",
      " 10  county                346371 non-null  object        \n",
      " 11  state                 346371 non-null  object        \n",
      " 12  Month                 346371 non-null  int64         \n",
      " 13  power_outage          346371 non-null  bool          \n",
      " 14  Event Month           7272 non-null    object        \n",
      "dtypes: bool(1), datetime64[ns](1), float64(4), int64(6), object(3)\n",
      "memory usage: 40.0+ MB\n"
     ]
    }
   ],
   "source": [
    "data.info()"
   ]
  },
  {
   "cell_type": "code",
   "execution_count": 10,
   "id": "2c93d78a-de33-4d4c-ab4c-e0b8853bb25f",
   "metadata": {},
   "outputs": [
    {
     "data": {
      "text/plain": [
       "Index(['DATE', 'LAT_mean', 'LON_mean', 'AVGDV_max', 'LLDV_max', 'MXDV_max',\n",
       "       'MXDV_HEIGHT_max', 'DEPTH_max', 'MAX_SHEAR_max', 'MAX_SHEAR_HEIGHT_max',\n",
       "       'county', 'state', 'Month', 'power_outage', 'Event Month'],\n",
       "      dtype='object')"
      ]
     },
     "execution_count": 10,
     "metadata": {},
     "output_type": "execute_result"
    }
   ],
   "source": [
    "cols = data.columns\n",
    "cols"
   ]
  },
  {
   "cell_type": "code",
   "execution_count": 13,
   "id": "93611394-d57b-4b21-a779-148a105db079",
   "metadata": {},
   "outputs": [
    {
     "data": {
      "text/plain": [
       "False    0.951875\n",
       "True     0.048125\n",
       "Name: power_outage, dtype: float64"
      ]
     },
     "execution_count": 13,
     "metadata": {},
     "output_type": "execute_result"
    }
   ],
   "source": [
    "data['power_outage'].value_counts(normalize=True)"
   ]
  },
  {
   "cell_type": "code",
   "execution_count": 12,
   "id": "91e80b9f-b86f-43f2-931d-0b919c6c1896",
   "metadata": {},
   "outputs": [],
   "source": [
    "features = ['LAT_mean', 'LON_mean', 'AVGDV_max', 'LLDV_max', 'MXDV_max',\n",
    "       'MXDV_HEIGHT_max', 'DEPTH_max', 'MAX_SHEAR_max', 'MAX_SHEAR_HEIGHT_max', 'Month']"
   ]
  },
  {
   "cell_type": "code",
   "execution_count": 7,
   "id": "e56f728a-987b-4490-9ba8-f43565d4fb0e",
   "metadata": {},
   "outputs": [],
   "source": [
    "import xgboost\n",
    "from sklearn.model_selection import train_test_split\n",
    "from sklearn.model_selection import GridSearchCV\n",
    "from sklearn.model_selection import StratifiedKFold\n",
    "from sklearn.metrics import accuracy_score, precision_score, recall_score\n",
    "from sklearn.metrics import f1_score, make_scorer"
   ]
  },
  {
   "cell_type": "code",
   "execution_count": 8,
   "id": "5da3d247-1d19-4b86-ac40-9e8c389d6a6e",
   "metadata": {},
   "outputs": [],
   "source": [
    "tor_train, tor_test = train_test_split(data.copy(), test_size=0.2, stratify=data.power_outage)"
   ]
  },
  {
   "cell_type": "code",
   "execution_count": 9,
   "id": "3113f523-c7f2-4b91-95c5-c20fb2a11f6e",
   "metadata": {},
   "outputs": [],
   "source": [
    "tor_tt, tor_val = train_test_split(tor_train.copy(), test_size=0.2, stratify=tor_train.power_outage)"
   ]
  },
  {
   "cell_type": "code",
   "execution_count": 17,
   "id": "6c45d2fb-e8d1-4d98-8221-06267749c06c",
   "metadata": {},
   "outputs": [],
   "source": [
    "best_model = xgboost.XGBClassifier(\n",
    "    objective= 'binary:logistic',\n",
    "   learning_rate=.03,\n",
    "    max_depth=17,\n",
    "    n_estimators=180) "
   ]
  },
  {
   "cell_type": "code",
   "execution_count": 18,
   "id": "68d598cf-2f37-4089-a58d-0ffc3b9e8d28",
   "metadata": {},
   "outputs": [
    {
     "data": {
      "text/html": [
       "<style>#sk-container-id-1 {color: black;background-color: white;}#sk-container-id-1 pre{padding: 0;}#sk-container-id-1 div.sk-toggleable {background-color: white;}#sk-container-id-1 label.sk-toggleable__label {cursor: pointer;display: block;width: 100%;margin-bottom: 0;padding: 0.3em;box-sizing: border-box;text-align: center;}#sk-container-id-1 label.sk-toggleable__label-arrow:before {content: \"▸\";float: left;margin-right: 0.25em;color: #696969;}#sk-container-id-1 label.sk-toggleable__label-arrow:hover:before {color: black;}#sk-container-id-1 div.sk-estimator:hover label.sk-toggleable__label-arrow:before {color: black;}#sk-container-id-1 div.sk-toggleable__content {max-height: 0;max-width: 0;overflow: hidden;text-align: left;background-color: #f0f8ff;}#sk-container-id-1 div.sk-toggleable__content pre {margin: 0.2em;color: black;border-radius: 0.25em;background-color: #f0f8ff;}#sk-container-id-1 input.sk-toggleable__control:checked~div.sk-toggleable__content {max-height: 200px;max-width: 100%;overflow: auto;}#sk-container-id-1 input.sk-toggleable__control:checked~label.sk-toggleable__label-arrow:before {content: \"▾\";}#sk-container-id-1 div.sk-estimator input.sk-toggleable__control:checked~label.sk-toggleable__label {background-color: #d4ebff;}#sk-container-id-1 div.sk-label input.sk-toggleable__control:checked~label.sk-toggleable__label {background-color: #d4ebff;}#sk-container-id-1 input.sk-hidden--visually {border: 0;clip: rect(1px 1px 1px 1px);clip: rect(1px, 1px, 1px, 1px);height: 1px;margin: -1px;overflow: hidden;padding: 0;position: absolute;width: 1px;}#sk-container-id-1 div.sk-estimator {font-family: monospace;background-color: #f0f8ff;border: 1px dotted black;border-radius: 0.25em;box-sizing: border-box;margin-bottom: 0.5em;}#sk-container-id-1 div.sk-estimator:hover {background-color: #d4ebff;}#sk-container-id-1 div.sk-parallel-item::after {content: \"\";width: 100%;border-bottom: 1px solid gray;flex-grow: 1;}#sk-container-id-1 div.sk-label:hover label.sk-toggleable__label {background-color: #d4ebff;}#sk-container-id-1 div.sk-serial::before {content: \"\";position: absolute;border-left: 1px solid gray;box-sizing: border-box;top: 0;bottom: 0;left: 50%;z-index: 0;}#sk-container-id-1 div.sk-serial {display: flex;flex-direction: column;align-items: center;background-color: white;padding-right: 0.2em;padding-left: 0.2em;position: relative;}#sk-container-id-1 div.sk-item {position: relative;z-index: 1;}#sk-container-id-1 div.sk-parallel {display: flex;align-items: stretch;justify-content: center;background-color: white;position: relative;}#sk-container-id-1 div.sk-item::before, #sk-container-id-1 div.sk-parallel-item::before {content: \"\";position: absolute;border-left: 1px solid gray;box-sizing: border-box;top: 0;bottom: 0;left: 50%;z-index: -1;}#sk-container-id-1 div.sk-parallel-item {display: flex;flex-direction: column;z-index: 1;position: relative;background-color: white;}#sk-container-id-1 div.sk-parallel-item:first-child::after {align-self: flex-end;width: 50%;}#sk-container-id-1 div.sk-parallel-item:last-child::after {align-self: flex-start;width: 50%;}#sk-container-id-1 div.sk-parallel-item:only-child::after {width: 0;}#sk-container-id-1 div.sk-dashed-wrapped {border: 1px dashed gray;margin: 0 0.4em 0.5em 0.4em;box-sizing: border-box;padding-bottom: 0.4em;background-color: white;}#sk-container-id-1 div.sk-label label {font-family: monospace;font-weight: bold;display: inline-block;line-height: 1.2em;}#sk-container-id-1 div.sk-label-container {text-align: center;}#sk-container-id-1 div.sk-container {/* jupyter's `normalize.less` sets `[hidden] { display: none; }` but bootstrap.min.css set `[hidden] { display: none !important; }` so we also need the `!important` here to be able to override the default hidden behavior on the sphinx rendered scikit-learn.org. See: https://github.com/scikit-learn/scikit-learn/issues/21755 */display: inline-block !important;position: relative;}#sk-container-id-1 div.sk-text-repr-fallback {display: none;}</style><div id=\"sk-container-id-1\" class=\"sk-top-container\"><div class=\"sk-text-repr-fallback\"><pre>XGBClassifier(base_score=None, booster=None, callbacks=None,\n",
       "              colsample_bylevel=None, colsample_bynode=None,\n",
       "              colsample_bytree=None, device=None, early_stopping_rounds=None,\n",
       "              enable_categorical=False, eval_metric=None, feature_types=None,\n",
       "              gamma=None, grow_policy=None, importance_type=None,\n",
       "              interaction_constraints=None, learning_rate=0.03, max_bin=None,\n",
       "              max_cat_threshold=None, max_cat_to_onehot=None,\n",
       "              max_delta_step=None, max_depth=17, max_leaves=None,\n",
       "              min_child_weight=None, missing=nan, monotone_constraints=None,\n",
       "              multi_strategy=None, n_estimators=180, n_jobs=None,\n",
       "              num_parallel_tree=None, random_state=None, ...)</pre><b>In a Jupyter environment, please rerun this cell to show the HTML representation or trust the notebook. <br />On GitHub, the HTML representation is unable to render, please try loading this page with nbviewer.org.</b></div><div class=\"sk-container\" hidden><div class=\"sk-item\"><div class=\"sk-estimator sk-toggleable\"><input class=\"sk-toggleable__control sk-hidden--visually\" id=\"sk-estimator-id-1\" type=\"checkbox\" checked><label for=\"sk-estimator-id-1\" class=\"sk-toggleable__label sk-toggleable__label-arrow\">XGBClassifier</label><div class=\"sk-toggleable__content\"><pre>XGBClassifier(base_score=None, booster=None, callbacks=None,\n",
       "              colsample_bylevel=None, colsample_bynode=None,\n",
       "              colsample_bytree=None, device=None, early_stopping_rounds=None,\n",
       "              enable_categorical=False, eval_metric=None, feature_types=None,\n",
       "              gamma=None, grow_policy=None, importance_type=None,\n",
       "              interaction_constraints=None, learning_rate=0.03, max_bin=None,\n",
       "              max_cat_threshold=None, max_cat_to_onehot=None,\n",
       "              max_delta_step=None, max_depth=17, max_leaves=None,\n",
       "              min_child_weight=None, missing=nan, monotone_constraints=None,\n",
       "              multi_strategy=None, n_estimators=180, n_jobs=None,\n",
       "              num_parallel_tree=None, random_state=None, ...)</pre></div></div></div></div></div>"
      ],
      "text/plain": [
       "XGBClassifier(base_score=None, booster=None, callbacks=None,\n",
       "              colsample_bylevel=None, colsample_bynode=None,\n",
       "              colsample_bytree=None, device=None, early_stopping_rounds=None,\n",
       "              enable_categorical=False, eval_metric=None, feature_types=None,\n",
       "              gamma=None, grow_policy=None, importance_type=None,\n",
       "              interaction_constraints=None, learning_rate=0.03, max_bin=None,\n",
       "              max_cat_threshold=None, max_cat_to_onehot=None,\n",
       "              max_delta_step=None, max_depth=17, max_leaves=None,\n",
       "              min_child_weight=None, missing=nan, monotone_constraints=None,\n",
       "              multi_strategy=None, n_estimators=180, n_jobs=None,\n",
       "              num_parallel_tree=None, random_state=None, ...)"
      ]
     },
     "execution_count": 18,
     "metadata": {},
     "output_type": "execute_result"
    }
   ],
   "source": [
    "best_model.fit(tor_tt[features], tor_tt.power_outage)"
   ]
  },
  {
   "cell_type": "code",
   "execution_count": 19,
   "id": "2d6b28d2-66a4-427b-ad57-391fc65eed0a",
   "metadata": {},
   "outputs": [
    {
     "name": "stdout",
     "output_type": "stream",
     "text": [
      "precision:  0.12598425196850394\n",
      "recall:  0.3957597173144876\n"
     ]
    }
   ],
   "source": [
    "prec = precision_score(best_model.predict(tor_val[features]), tor_val['power_outage'])\n",
    "recall = recall_score(best_model.predict(tor_val[features]), tor_val['power_outage'])\n",
    "print(\"precision: \", prec)\n",
    "print(\"recall: \", recall)"
   ]
  },
  {
   "cell_type": "code",
   "execution_count": 20,
   "id": "f51fc481-1427-4679-93f1-3b74d5e891a4",
   "metadata": {},
   "outputs": [
    {
     "name": "stdout",
     "output_type": "stream",
     "text": [
      "precision:  0.36923509561304835\n",
      "recall:  0.9067679558011049\n"
     ]
    }
   ],
   "source": [
    "prec = precision_score(best_model.predict(tor_tt[features]), tor_tt['power_outage'])\n",
    "recall = recall_score(best_model.predict(tor_tt[features]), tor_tt['power_outage'])\n",
    "print(\"precision: \", prec)\n",
    "print(\"recall: \", recall)"
   ]
  },
  {
   "cell_type": "code",
   "execution_count": 27,
   "id": "c52184ae-8295-45ed-ac23-31ee9d59e7b3",
   "metadata": {},
   "outputs": [
    {
     "name": "stdout",
     "output_type": "stream",
     "text": [
      "Fitting 5 folds for each of 36 candidates, totalling 180 fits\n"
     ]
    },
    {
     "data": {
      "text/html": [
       "<style>#sk-container-id-3 {color: black;background-color: white;}#sk-container-id-3 pre{padding: 0;}#sk-container-id-3 div.sk-toggleable {background-color: white;}#sk-container-id-3 label.sk-toggleable__label {cursor: pointer;display: block;width: 100%;margin-bottom: 0;padding: 0.3em;box-sizing: border-box;text-align: center;}#sk-container-id-3 label.sk-toggleable__label-arrow:before {content: \"▸\";float: left;margin-right: 0.25em;color: #696969;}#sk-container-id-3 label.sk-toggleable__label-arrow:hover:before {color: black;}#sk-container-id-3 div.sk-estimator:hover label.sk-toggleable__label-arrow:before {color: black;}#sk-container-id-3 div.sk-toggleable__content {max-height: 0;max-width: 0;overflow: hidden;text-align: left;background-color: #f0f8ff;}#sk-container-id-3 div.sk-toggleable__content pre {margin: 0.2em;color: black;border-radius: 0.25em;background-color: #f0f8ff;}#sk-container-id-3 input.sk-toggleable__control:checked~div.sk-toggleable__content {max-height: 200px;max-width: 100%;overflow: auto;}#sk-container-id-3 input.sk-toggleable__control:checked~label.sk-toggleable__label-arrow:before {content: \"▾\";}#sk-container-id-3 div.sk-estimator input.sk-toggleable__control:checked~label.sk-toggleable__label {background-color: #d4ebff;}#sk-container-id-3 div.sk-label input.sk-toggleable__control:checked~label.sk-toggleable__label {background-color: #d4ebff;}#sk-container-id-3 input.sk-hidden--visually {border: 0;clip: rect(1px 1px 1px 1px);clip: rect(1px, 1px, 1px, 1px);height: 1px;margin: -1px;overflow: hidden;padding: 0;position: absolute;width: 1px;}#sk-container-id-3 div.sk-estimator {font-family: monospace;background-color: #f0f8ff;border: 1px dotted black;border-radius: 0.25em;box-sizing: border-box;margin-bottom: 0.5em;}#sk-container-id-3 div.sk-estimator:hover {background-color: #d4ebff;}#sk-container-id-3 div.sk-parallel-item::after {content: \"\";width: 100%;border-bottom: 1px solid gray;flex-grow: 1;}#sk-container-id-3 div.sk-label:hover label.sk-toggleable__label {background-color: #d4ebff;}#sk-container-id-3 div.sk-serial::before {content: \"\";position: absolute;border-left: 1px solid gray;box-sizing: border-box;top: 0;bottom: 0;left: 50%;z-index: 0;}#sk-container-id-3 div.sk-serial {display: flex;flex-direction: column;align-items: center;background-color: white;padding-right: 0.2em;padding-left: 0.2em;position: relative;}#sk-container-id-3 div.sk-item {position: relative;z-index: 1;}#sk-container-id-3 div.sk-parallel {display: flex;align-items: stretch;justify-content: center;background-color: white;position: relative;}#sk-container-id-3 div.sk-item::before, #sk-container-id-3 div.sk-parallel-item::before {content: \"\";position: absolute;border-left: 1px solid gray;box-sizing: border-box;top: 0;bottom: 0;left: 50%;z-index: -1;}#sk-container-id-3 div.sk-parallel-item {display: flex;flex-direction: column;z-index: 1;position: relative;background-color: white;}#sk-container-id-3 div.sk-parallel-item:first-child::after {align-self: flex-end;width: 50%;}#sk-container-id-3 div.sk-parallel-item:last-child::after {align-self: flex-start;width: 50%;}#sk-container-id-3 div.sk-parallel-item:only-child::after {width: 0;}#sk-container-id-3 div.sk-dashed-wrapped {border: 1px dashed gray;margin: 0 0.4em 0.5em 0.4em;box-sizing: border-box;padding-bottom: 0.4em;background-color: white;}#sk-container-id-3 div.sk-label label {font-family: monospace;font-weight: bold;display: inline-block;line-height: 1.2em;}#sk-container-id-3 div.sk-label-container {text-align: center;}#sk-container-id-3 div.sk-container {/* jupyter's `normalize.less` sets `[hidden] { display: none; }` but bootstrap.min.css set `[hidden] { display: none !important; }` so we also need the `!important` here to be able to override the default hidden behavior on the sphinx rendered scikit-learn.org. See: https://github.com/scikit-learn/scikit-learn/issues/21755 */display: inline-block !important;position: relative;}#sk-container-id-3 div.sk-text-repr-fallback {display: none;}</style><div id=\"sk-container-id-3\" class=\"sk-top-container\"><div class=\"sk-text-repr-fallback\"><pre>GridSearchCV(cv=5,\n",
       "             estimator=XGBClassifier(base_score=None, booster=None,\n",
       "                                     callbacks=None, colsample_bylevel=None,\n",
       "                                     colsample_bynode=None,\n",
       "                                     colsample_bytree=None, device=None,\n",
       "                                     early_stopping_rounds=None,\n",
       "                                     enable_categorical=False, eval_metric=None,\n",
       "                                     feature_types=None, gamma=None,\n",
       "                                     grow_policy=None, importance_type=None,\n",
       "                                     interaction_constraints=None,\n",
       "                                     learning_rate=None,...\n",
       "                                     max_cat_to_onehot=None,\n",
       "                                     max_delta_step=None, max_depth=None,\n",
       "                                     max_leaves=None, min_child_weight=None,\n",
       "                                     missing=nan, monotone_constraints=None,\n",
       "                                     multi_strategy=None, n_estimators=None,\n",
       "                                     n_jobs=None, nthread=4,\n",
       "                                     num_parallel_tree=None, ...),\n",
       "             n_jobs=10,\n",
       "             param_grid={&#x27;learning_rate&#x27;: [0.3, 0.5],\n",
       "                         &#x27;max_depth&#x27;: range(14, 20, 2),\n",
       "                         &#x27;n_estimators&#x27;: range(380, 620, 40)},\n",
       "             scoring=&#x27;f1&#x27;, verbose=True)</pre><b>In a Jupyter environment, please rerun this cell to show the HTML representation or trust the notebook. <br />On GitHub, the HTML representation is unable to render, please try loading this page with nbviewer.org.</b></div><div class=\"sk-container\" hidden><div class=\"sk-item sk-dashed-wrapped\"><div class=\"sk-label-container\"><div class=\"sk-label sk-toggleable\"><input class=\"sk-toggleable__control sk-hidden--visually\" id=\"sk-estimator-id-5\" type=\"checkbox\" ><label for=\"sk-estimator-id-5\" class=\"sk-toggleable__label sk-toggleable__label-arrow\">GridSearchCV</label><div class=\"sk-toggleable__content\"><pre>GridSearchCV(cv=5,\n",
       "             estimator=XGBClassifier(base_score=None, booster=None,\n",
       "                                     callbacks=None, colsample_bylevel=None,\n",
       "                                     colsample_bynode=None,\n",
       "                                     colsample_bytree=None, device=None,\n",
       "                                     early_stopping_rounds=None,\n",
       "                                     enable_categorical=False, eval_metric=None,\n",
       "                                     feature_types=None, gamma=None,\n",
       "                                     grow_policy=None, importance_type=None,\n",
       "                                     interaction_constraints=None,\n",
       "                                     learning_rate=None,...\n",
       "                                     max_cat_to_onehot=None,\n",
       "                                     max_delta_step=None, max_depth=None,\n",
       "                                     max_leaves=None, min_child_weight=None,\n",
       "                                     missing=nan, monotone_constraints=None,\n",
       "                                     multi_strategy=None, n_estimators=None,\n",
       "                                     n_jobs=None, nthread=4,\n",
       "                                     num_parallel_tree=None, ...),\n",
       "             n_jobs=10,\n",
       "             param_grid={&#x27;learning_rate&#x27;: [0.3, 0.5],\n",
       "                         &#x27;max_depth&#x27;: range(14, 20, 2),\n",
       "                         &#x27;n_estimators&#x27;: range(380, 620, 40)},\n",
       "             scoring=&#x27;f1&#x27;, verbose=True)</pre></div></div></div><div class=\"sk-parallel\"><div class=\"sk-parallel-item\"><div class=\"sk-item\"><div class=\"sk-label-container\"><div class=\"sk-label sk-toggleable\"><input class=\"sk-toggleable__control sk-hidden--visually\" id=\"sk-estimator-id-6\" type=\"checkbox\" ><label for=\"sk-estimator-id-6\" class=\"sk-toggleable__label sk-toggleable__label-arrow\">estimator: XGBClassifier</label><div class=\"sk-toggleable__content\"><pre>XGBClassifier(base_score=None, booster=None, callbacks=None,\n",
       "              colsample_bylevel=None, colsample_bynode=None,\n",
       "              colsample_bytree=None, device=None, early_stopping_rounds=None,\n",
       "              enable_categorical=False, eval_metric=None, feature_types=None,\n",
       "              gamma=None, grow_policy=None, importance_type=None,\n",
       "              interaction_constraints=None, learning_rate=None, max_bin=None,\n",
       "              max_cat_threshold=None, max_cat_to_onehot=None,\n",
       "              max_delta_step=None, max_depth=None, max_leaves=None,\n",
       "              min_child_weight=None, missing=nan, monotone_constraints=None,\n",
       "              multi_strategy=None, n_estimators=None, n_jobs=None, nthread=4,\n",
       "              num_parallel_tree=None, ...)</pre></div></div></div><div class=\"sk-serial\"><div class=\"sk-item\"><div class=\"sk-estimator sk-toggleable\"><input class=\"sk-toggleable__control sk-hidden--visually\" id=\"sk-estimator-id-7\" type=\"checkbox\" ><label for=\"sk-estimator-id-7\" class=\"sk-toggleable__label sk-toggleable__label-arrow\">XGBClassifier</label><div class=\"sk-toggleable__content\"><pre>XGBClassifier(base_score=None, booster=None, callbacks=None,\n",
       "              colsample_bylevel=None, colsample_bynode=None,\n",
       "              colsample_bytree=None, device=None, early_stopping_rounds=None,\n",
       "              enable_categorical=False, eval_metric=None, feature_types=None,\n",
       "              gamma=None, grow_policy=None, importance_type=None,\n",
       "              interaction_constraints=None, learning_rate=None, max_bin=None,\n",
       "              max_cat_threshold=None, max_cat_to_onehot=None,\n",
       "              max_delta_step=None, max_depth=None, max_leaves=None,\n",
       "              min_child_weight=None, missing=nan, monotone_constraints=None,\n",
       "              multi_strategy=None, n_estimators=None, n_jobs=None, nthread=4,\n",
       "              num_parallel_tree=None, ...)</pre></div></div></div></div></div></div></div></div></div></div>"
      ],
      "text/plain": [
       "GridSearchCV(cv=5,\n",
       "             estimator=XGBClassifier(base_score=None, booster=None,\n",
       "                                     callbacks=None, colsample_bylevel=None,\n",
       "                                     colsample_bynode=None,\n",
       "                                     colsample_bytree=None, device=None,\n",
       "                                     early_stopping_rounds=None,\n",
       "                                     enable_categorical=False, eval_metric=None,\n",
       "                                     feature_types=None, gamma=None,\n",
       "                                     grow_policy=None, importance_type=None,\n",
       "                                     interaction_constraints=None,\n",
       "                                     learning_rate=None,...\n",
       "                                     max_cat_to_onehot=None,\n",
       "                                     max_delta_step=None, max_depth=None,\n",
       "                                     max_leaves=None, min_child_weight=None,\n",
       "                                     missing=nan, monotone_constraints=None,\n",
       "                                     multi_strategy=None, n_estimators=None,\n",
       "                                     n_jobs=None, nthread=4,\n",
       "                                     num_parallel_tree=None, ...),\n",
       "             n_jobs=10,\n",
       "             param_grid={'learning_rate': [0.3, 0.5],\n",
       "                         'max_depth': range(14, 20, 2),\n",
       "                         'n_estimators': range(380, 620, 40)},\n",
       "             scoring='f1', verbose=True)"
      ]
     },
     "execution_count": 27,
     "metadata": {},
     "output_type": "execute_result"
    }
   ],
   "source": [
    "model = xgboost.XGBClassifier(\n",
    "    objective= 'binary:logistic',\n",
    "    nthread=4,\n",
    "    seed=42)\n",
    "\n",
    "parameters = {\n",
    "    'max_depth': range (1, 22,  1),\n",
    "    'n_estimators': range(100, 300, 40),\n",
    "    'learning_rate': [0.01, 0.1]\n",
    "}\n",
    "\n",
    "grid_search = GridSearchCV(model,\n",
    "    param_grid=parameters,\n",
    "    scoring='f1',\n",
    "    cv = 5,\n",
    "    n_jobs = 10,\n",
    "    verbose=True)\n",
    "grid_search.fit(tor_tt[features], tor_tt['power_outage'])"
   ]
  },
  {
   "cell_type": "code",
   "execution_count": 28,
   "id": "dadd6002-fa70-4db3-a7d1-e4e51a59efc9",
   "metadata": {},
   "outputs": [
    {
     "data": {
      "text/plain": [
       "{(0.3, 14, 380): 0.2028821579609727,\n",
       " (0.3, 14, 420): 0.20358433026783157,\n",
       " (0.3, 14, 460): 0.20451112028463045,\n",
       " (0.3, 14, 500): 0.2019893623588113,\n",
       " (0.3, 14, 540): 0.2050157239762281,\n",
       " (0.3, 14, 580): 0.2013769256323879,\n",
       " (0.3, 16, 380): 0.2038880734202845,\n",
       " (0.3, 16, 420): 0.20584014001683054,\n",
       " (0.3, 16, 460): 0.2033541254886333,\n",
       " (0.3, 16, 500): 0.20439206318995665,\n",
       " (0.3, 16, 540): 0.20545034910256993,\n",
       " (0.3, 16, 580): 0.20422379543458619,\n",
       " (0.3, 18, 380): 0.2011387883920906,\n",
       " (0.3, 18, 420): 0.20174271203802338,\n",
       " (0.3, 18, 460): 0.2057858484544078,\n",
       " (0.3, 18, 500): 0.20282606037945036,\n",
       " (0.3, 18, 540): 0.20148481583044128,\n",
       " (0.3, 18, 580): 0.20180052611691987,\n",
       " (0.5, 14, 380): 0.20485245308690367,\n",
       " (0.5, 14, 420): 0.20394523757210647,\n",
       " (0.5, 14, 460): 0.20567452806254538,\n",
       " (0.5, 14, 500): 0.20505682427425306,\n",
       " (0.5, 14, 540): 0.2038263382484046,\n",
       " (0.5, 14, 580): 0.20499999286173615,\n",
       " (0.5, 16, 380): 0.2098799978513494,\n",
       " (0.5, 16, 420): 0.20958375402914814,\n",
       " (0.5, 16, 460): 0.20844928972096716,\n",
       " (0.5, 16, 500): 0.20780816173736616,\n",
       " (0.5, 16, 540): 0.20807529776687125,\n",
       " (0.5, 16, 580): 0.20809188950398932,\n",
       " (0.5, 18, 380): 0.20911015441396924,\n",
       " (0.5, 18, 420): 0.20795073349558205,\n",
       " (0.5, 18, 460): 0.20768646002209984,\n",
       " (0.5, 18, 500): 0.2099532225665745,\n",
       " (0.5, 18, 540): 0.2070558524364309,\n",
       " (0.5, 18, 580): 0.20729833584641755}"
      ]
     },
     "execution_count": 28,
     "metadata": {},
     "output_type": "execute_result"
    }
   ],
   "source": [
    "res = grid_search.cv_results_\n",
    "pars = [tuple(par.values()) for par in res['params']]\n",
    "scores = np.array(res['mean_test_score'])\n",
    "param_scores = dict(zip(pars, scores))\n",
    "param_scores"
   ]
  },
  {
   "cell_type": "code",
   "execution_count": 29,
   "id": "5fe93ab4-44a6-4e50-9d9d-1706eebb5e8b",
   "metadata": {},
   "outputs": [],
   "source": [
    "best_model = grid_search.best_estimator_"
   ]
  },
  {
   "cell_type": "code",
   "execution_count": 15,
   "id": "f3d0ec06-02b2-4e63-b378-715a25e74b64",
   "metadata": {},
   "outputs": [
    {
     "data": {
      "text/html": [
       "<style>#sk-container-id-2 {color: black;background-color: white;}#sk-container-id-2 pre{padding: 0;}#sk-container-id-2 div.sk-toggleable {background-color: white;}#sk-container-id-2 label.sk-toggleable__label {cursor: pointer;display: block;width: 100%;margin-bottom: 0;padding: 0.3em;box-sizing: border-box;text-align: center;}#sk-container-id-2 label.sk-toggleable__label-arrow:before {content: \"▸\";float: left;margin-right: 0.25em;color: #696969;}#sk-container-id-2 label.sk-toggleable__label-arrow:hover:before {color: black;}#sk-container-id-2 div.sk-estimator:hover label.sk-toggleable__label-arrow:before {color: black;}#sk-container-id-2 div.sk-toggleable__content {max-height: 0;max-width: 0;overflow: hidden;text-align: left;background-color: #f0f8ff;}#sk-container-id-2 div.sk-toggleable__content pre {margin: 0.2em;color: black;border-radius: 0.25em;background-color: #f0f8ff;}#sk-container-id-2 input.sk-toggleable__control:checked~div.sk-toggleable__content {max-height: 200px;max-width: 100%;overflow: auto;}#sk-container-id-2 input.sk-toggleable__control:checked~label.sk-toggleable__label-arrow:before {content: \"▾\";}#sk-container-id-2 div.sk-estimator input.sk-toggleable__control:checked~label.sk-toggleable__label {background-color: #d4ebff;}#sk-container-id-2 div.sk-label input.sk-toggleable__control:checked~label.sk-toggleable__label {background-color: #d4ebff;}#sk-container-id-2 input.sk-hidden--visually {border: 0;clip: rect(1px 1px 1px 1px);clip: rect(1px, 1px, 1px, 1px);height: 1px;margin: -1px;overflow: hidden;padding: 0;position: absolute;width: 1px;}#sk-container-id-2 div.sk-estimator {font-family: monospace;background-color: #f0f8ff;border: 1px dotted black;border-radius: 0.25em;box-sizing: border-box;margin-bottom: 0.5em;}#sk-container-id-2 div.sk-estimator:hover {background-color: #d4ebff;}#sk-container-id-2 div.sk-parallel-item::after {content: \"\";width: 100%;border-bottom: 1px solid gray;flex-grow: 1;}#sk-container-id-2 div.sk-label:hover label.sk-toggleable__label {background-color: #d4ebff;}#sk-container-id-2 div.sk-serial::before {content: \"\";position: absolute;border-left: 1px solid gray;box-sizing: border-box;top: 0;bottom: 0;left: 50%;z-index: 0;}#sk-container-id-2 div.sk-serial {display: flex;flex-direction: column;align-items: center;background-color: white;padding-right: 0.2em;padding-left: 0.2em;position: relative;}#sk-container-id-2 div.sk-item {position: relative;z-index: 1;}#sk-container-id-2 div.sk-parallel {display: flex;align-items: stretch;justify-content: center;background-color: white;position: relative;}#sk-container-id-2 div.sk-item::before, #sk-container-id-2 div.sk-parallel-item::before {content: \"\";position: absolute;border-left: 1px solid gray;box-sizing: border-box;top: 0;bottom: 0;left: 50%;z-index: -1;}#sk-container-id-2 div.sk-parallel-item {display: flex;flex-direction: column;z-index: 1;position: relative;background-color: white;}#sk-container-id-2 div.sk-parallel-item:first-child::after {align-self: flex-end;width: 50%;}#sk-container-id-2 div.sk-parallel-item:last-child::after {align-self: flex-start;width: 50%;}#sk-container-id-2 div.sk-parallel-item:only-child::after {width: 0;}#sk-container-id-2 div.sk-dashed-wrapped {border: 1px dashed gray;margin: 0 0.4em 0.5em 0.4em;box-sizing: border-box;padding-bottom: 0.4em;background-color: white;}#sk-container-id-2 div.sk-label label {font-family: monospace;font-weight: bold;display: inline-block;line-height: 1.2em;}#sk-container-id-2 div.sk-label-container {text-align: center;}#sk-container-id-2 div.sk-container {/* jupyter's `normalize.less` sets `[hidden] { display: none; }` but bootstrap.min.css set `[hidden] { display: none !important; }` so we also need the `!important` here to be able to override the default hidden behavior on the sphinx rendered scikit-learn.org. See: https://github.com/scikit-learn/scikit-learn/issues/21755 */display: inline-block !important;position: relative;}#sk-container-id-2 div.sk-text-repr-fallback {display: none;}</style><div id=\"sk-container-id-2\" class=\"sk-top-container\"><div class=\"sk-text-repr-fallback\"><pre>XGBClassifier(base_score=None, booster=None, callbacks=None,\n",
       "              colsample_bylevel=None, colsample_bynode=None,\n",
       "              colsample_bytree=None, device=None, early_stopping_rounds=None,\n",
       "              enable_categorical=False, eval_metric=None, feature_types=None,\n",
       "              gamma=None, grow_policy=None, importance_type=None,\n",
       "              interaction_constraints=None, learning_rate=0.5, max_bin=None,\n",
       "              max_cat_threshold=None, max_cat_to_onehot=None,\n",
       "              max_delta_step=None, max_depth=18, max_leaves=None,\n",
       "              min_child_weight=None, missing=nan, monotone_constraints=None,\n",
       "              multi_strategy=None, n_estimators=500, n_jobs=None,\n",
       "              num_parallel_tree=None, random_state=None, ...)</pre><b>In a Jupyter environment, please rerun this cell to show the HTML representation or trust the notebook. <br />On GitHub, the HTML representation is unable to render, please try loading this page with nbviewer.org.</b></div><div class=\"sk-container\" hidden><div class=\"sk-item\"><div class=\"sk-estimator sk-toggleable\"><input class=\"sk-toggleable__control sk-hidden--visually\" id=\"sk-estimator-id-2\" type=\"checkbox\" checked><label for=\"sk-estimator-id-2\" class=\"sk-toggleable__label sk-toggleable__label-arrow\">XGBClassifier</label><div class=\"sk-toggleable__content\"><pre>XGBClassifier(base_score=None, booster=None, callbacks=None,\n",
       "              colsample_bylevel=None, colsample_bynode=None,\n",
       "              colsample_bytree=None, device=None, early_stopping_rounds=None,\n",
       "              enable_categorical=False, eval_metric=None, feature_types=None,\n",
       "              gamma=None, grow_policy=None, importance_type=None,\n",
       "              interaction_constraints=None, learning_rate=0.5, max_bin=None,\n",
       "              max_cat_threshold=None, max_cat_to_onehot=None,\n",
       "              max_delta_step=None, max_depth=18, max_leaves=None,\n",
       "              min_child_weight=None, missing=nan, monotone_constraints=None,\n",
       "              multi_strategy=None, n_estimators=500, n_jobs=None,\n",
       "              num_parallel_tree=None, random_state=None, ...)</pre></div></div></div></div></div>"
      ],
      "text/plain": [
       "XGBClassifier(base_score=None, booster=None, callbacks=None,\n",
       "              colsample_bylevel=None, colsample_bynode=None,\n",
       "              colsample_bytree=None, device=None, early_stopping_rounds=None,\n",
       "              enable_categorical=False, eval_metric=None, feature_types=None,\n",
       "              gamma=None, grow_policy=None, importance_type=None,\n",
       "              interaction_constraints=None, learning_rate=0.5, max_bin=None,\n",
       "              max_cat_threshold=None, max_cat_to_onehot=None,\n",
       "              max_delta_step=None, max_depth=18, max_leaves=None,\n",
       "              min_child_weight=None, missing=nan, monotone_constraints=None,\n",
       "              multi_strategy=None, n_estimators=500, n_jobs=None,\n",
       "              num_parallel_tree=None, random_state=None, ...)"
      ]
     },
     "execution_count": 15,
     "metadata": {},
     "output_type": "execute_result"
    }
   ],
   "source": [
    "best_model = xgboost.XGBClassifier(\n",
    "    objective= 'binary:logistic', learning_rate=0.5, max_depth=18, n_estimators=500)\n",
    "best_model.fit(tor_tt[features], tor_tt['power_outage'])"
   ]
  },
  {
   "cell_type": "code",
   "execution_count": 31,
   "id": "35e29ec3-9ac2-4661-b155-0d77a3edd9fc",
   "metadata": {},
   "outputs": [
    {
     "data": {
      "text/html": [
       "<style>#sk-container-id-4 {color: black;background-color: white;}#sk-container-id-4 pre{padding: 0;}#sk-container-id-4 div.sk-toggleable {background-color: white;}#sk-container-id-4 label.sk-toggleable__label {cursor: pointer;display: block;width: 100%;margin-bottom: 0;padding: 0.3em;box-sizing: border-box;text-align: center;}#sk-container-id-4 label.sk-toggleable__label-arrow:before {content: \"▸\";float: left;margin-right: 0.25em;color: #696969;}#sk-container-id-4 label.sk-toggleable__label-arrow:hover:before {color: black;}#sk-container-id-4 div.sk-estimator:hover label.sk-toggleable__label-arrow:before {color: black;}#sk-container-id-4 div.sk-toggleable__content {max-height: 0;max-width: 0;overflow: hidden;text-align: left;background-color: #f0f8ff;}#sk-container-id-4 div.sk-toggleable__content pre {margin: 0.2em;color: black;border-radius: 0.25em;background-color: #f0f8ff;}#sk-container-id-4 input.sk-toggleable__control:checked~div.sk-toggleable__content {max-height: 200px;max-width: 100%;overflow: auto;}#sk-container-id-4 input.sk-toggleable__control:checked~label.sk-toggleable__label-arrow:before {content: \"▾\";}#sk-container-id-4 div.sk-estimator input.sk-toggleable__control:checked~label.sk-toggleable__label {background-color: #d4ebff;}#sk-container-id-4 div.sk-label input.sk-toggleable__control:checked~label.sk-toggleable__label {background-color: #d4ebff;}#sk-container-id-4 input.sk-hidden--visually {border: 0;clip: rect(1px 1px 1px 1px);clip: rect(1px, 1px, 1px, 1px);height: 1px;margin: -1px;overflow: hidden;padding: 0;position: absolute;width: 1px;}#sk-container-id-4 div.sk-estimator {font-family: monospace;background-color: #f0f8ff;border: 1px dotted black;border-radius: 0.25em;box-sizing: border-box;margin-bottom: 0.5em;}#sk-container-id-4 div.sk-estimator:hover {background-color: #d4ebff;}#sk-container-id-4 div.sk-parallel-item::after {content: \"\";width: 100%;border-bottom: 1px solid gray;flex-grow: 1;}#sk-container-id-4 div.sk-label:hover label.sk-toggleable__label {background-color: #d4ebff;}#sk-container-id-4 div.sk-serial::before {content: \"\";position: absolute;border-left: 1px solid gray;box-sizing: border-box;top: 0;bottom: 0;left: 50%;z-index: 0;}#sk-container-id-4 div.sk-serial {display: flex;flex-direction: column;align-items: center;background-color: white;padding-right: 0.2em;padding-left: 0.2em;position: relative;}#sk-container-id-4 div.sk-item {position: relative;z-index: 1;}#sk-container-id-4 div.sk-parallel {display: flex;align-items: stretch;justify-content: center;background-color: white;position: relative;}#sk-container-id-4 div.sk-item::before, #sk-container-id-4 div.sk-parallel-item::before {content: \"\";position: absolute;border-left: 1px solid gray;box-sizing: border-box;top: 0;bottom: 0;left: 50%;z-index: -1;}#sk-container-id-4 div.sk-parallel-item {display: flex;flex-direction: column;z-index: 1;position: relative;background-color: white;}#sk-container-id-4 div.sk-parallel-item:first-child::after {align-self: flex-end;width: 50%;}#sk-container-id-4 div.sk-parallel-item:last-child::after {align-self: flex-start;width: 50%;}#sk-container-id-4 div.sk-parallel-item:only-child::after {width: 0;}#sk-container-id-4 div.sk-dashed-wrapped {border: 1px dashed gray;margin: 0 0.4em 0.5em 0.4em;box-sizing: border-box;padding-bottom: 0.4em;background-color: white;}#sk-container-id-4 div.sk-label label {font-family: monospace;font-weight: bold;display: inline-block;line-height: 1.2em;}#sk-container-id-4 div.sk-label-container {text-align: center;}#sk-container-id-4 div.sk-container {/* jupyter's `normalize.less` sets `[hidden] { display: none; }` but bootstrap.min.css set `[hidden] { display: none !important; }` so we also need the `!important` here to be able to override the default hidden behavior on the sphinx rendered scikit-learn.org. See: https://github.com/scikit-learn/scikit-learn/issues/21755 */display: inline-block !important;position: relative;}#sk-container-id-4 div.sk-text-repr-fallback {display: none;}</style><div id=\"sk-container-id-4\" class=\"sk-top-container\"><div class=\"sk-text-repr-fallback\"><pre>XGBClassifier(base_score=None, booster=None, callbacks=None,\n",
       "              colsample_bylevel=None, colsample_bynode=None,\n",
       "              colsample_bytree=None, device=None, early_stopping_rounds=None,\n",
       "              enable_categorical=False, eval_metric=None, feature_types=None,\n",
       "              gamma=None, grow_policy=None, importance_type=None,\n",
       "              interaction_constraints=None, learning_rate=0.5, max_bin=None,\n",
       "              max_cat_threshold=None, max_cat_to_onehot=None,\n",
       "              max_delta_step=None, max_depth=18, max_leaves=None,\n",
       "              min_child_weight=None, missing=nan, monotone_constraints=None,\n",
       "              multi_strategy=None, n_estimators=500, n_jobs=None, nthread=4,\n",
       "              num_parallel_tree=None, ...)</pre><b>In a Jupyter environment, please rerun this cell to show the HTML representation or trust the notebook. <br />On GitHub, the HTML representation is unable to render, please try loading this page with nbviewer.org.</b></div><div class=\"sk-container\" hidden><div class=\"sk-item\"><div class=\"sk-estimator sk-toggleable\"><input class=\"sk-toggleable__control sk-hidden--visually\" id=\"sk-estimator-id-8\" type=\"checkbox\" checked><label for=\"sk-estimator-id-8\" class=\"sk-toggleable__label sk-toggleable__label-arrow\">XGBClassifier</label><div class=\"sk-toggleable__content\"><pre>XGBClassifier(base_score=None, booster=None, callbacks=None,\n",
       "              colsample_bylevel=None, colsample_bynode=None,\n",
       "              colsample_bytree=None, device=None, early_stopping_rounds=None,\n",
       "              enable_categorical=False, eval_metric=None, feature_types=None,\n",
       "              gamma=None, grow_policy=None, importance_type=None,\n",
       "              interaction_constraints=None, learning_rate=0.5, max_bin=None,\n",
       "              max_cat_threshold=None, max_cat_to_onehot=None,\n",
       "              max_delta_step=None, max_depth=18, max_leaves=None,\n",
       "              min_child_weight=None, missing=nan, monotone_constraints=None,\n",
       "              multi_strategy=None, n_estimators=500, n_jobs=None, nthread=4,\n",
       "              num_parallel_tree=None, ...)</pre></div></div></div></div></div>"
      ],
      "text/plain": [
       "XGBClassifier(base_score=None, booster=None, callbacks=None,\n",
       "              colsample_bylevel=None, colsample_bynode=None,\n",
       "              colsample_bytree=None, device=None, early_stopping_rounds=None,\n",
       "              enable_categorical=False, eval_metric=None, feature_types=None,\n",
       "              gamma=None, grow_policy=None, importance_type=None,\n",
       "              interaction_constraints=None, learning_rate=0.5, max_bin=None,\n",
       "              max_cat_threshold=None, max_cat_to_onehot=None,\n",
       "              max_delta_step=None, max_depth=18, max_leaves=None,\n",
       "              min_child_weight=None, missing=nan, monotone_constraints=None,\n",
       "              multi_strategy=None, n_estimators=500, n_jobs=None, nthread=4,\n",
       "              num_parallel_tree=None, ...)"
      ]
     },
     "execution_count": 31,
     "metadata": {},
     "output_type": "execute_result"
    }
   ],
   "source": [
    "best_model"
   ]
  },
  {
   "cell_type": "code",
   "execution_count": 16,
   "id": "42ab579a-160d-4b81-86cf-3877e9d6474c",
   "metadata": {},
   "outputs": [
    {
     "name": "stdout",
     "output_type": "stream",
     "text": [
      "precision:  0.15523059617547807\n",
      "recall:  0.30598669623059865\n"
     ]
    }
   ],
   "source": [
    "prec = precision_score(best_model.predict(tor_val[features]), tor_val['power_outage'])\n",
    "recall = recall_score(best_model.predict(tor_val[features]), tor_val['power_outage'])\n",
    "print(\"precision: \", prec)\n",
    "print(\"recall: \", recall)"
   ]
  },
  {
   "cell_type": "code",
   "execution_count": 26,
   "id": "748f3008-6741-4790-aae1-09a7d75e647a",
   "metadata": {},
   "outputs": [
    {
     "data": {
      "text/plain": [
       "{'LAT_mean': 0.6964796781539917,\n",
       " 'LON_mean': 0.7718621492385864,\n",
       " 'AVGDV_max': 0.3210967481136322,\n",
       " 'LLDV_max': 0.32879552245140076,\n",
       " 'MXDV_max': 0.4084709584712982,\n",
       " 'MXDV_HEIGHT_max': 0.3584001362323761,\n",
       " 'DEPTH_max': 0.34394732117652893,\n",
       " 'MAX_SHEAR_max': 0.3502766788005829,\n",
       " 'MAX_SHEAR_HEIGHT_max': 0.33867859840393066,\n",
       " 'Month': 1.346415400505066}"
      ]
     },
     "execution_count": 26,
     "metadata": {},
     "output_type": "execute_result"
    }
   ],
   "source": [
    "best_model.get_booster().get_score(importance_type='gain')"
   ]
  },
  {
   "cell_type": "code",
   "execution_count": 18,
   "id": "31c18823-4189-47a4-b4e1-fd17668b8f29",
   "metadata": {},
   "outputs": [
    {
     "data": {
      "image/png": "[encoded data removed]",
      "text/plain": [
       "<Figure size 432x288 with 1 Axes>"
      ]
     },
     "metadata": {
      "needs_background": "light"
     },
     "output_type": "display_data"
    }
   ],
   "source": [
    "from sklearn.metrics import PrecisionRecallDisplay\n",
    "\n",
    "display = PrecisionRecallDisplay.from_estimator(\n",
    "    best_model, tor_val[features], tor_val['power_outage'], name=\"xGBoost\")\n",
    "_ = display.ax_.set_title(\"2-class Precision-Recall curve\")"
   ]
  },
  {
   "cell_type": "markdown",
   "id": "a432a255-40b8-4e58-9ca8-1f33e49128c5",
   "metadata": {},
   "source": [
    "## Train on balanced dataset"
   ]
  },
  {
   "cell_type": "code",
   "execution_count": 19,
   "id": "f9764194-381f-4f00-b34f-f39047edc6d5",
   "metadata": {},
   "outputs": [],
   "source": [
    "outage = tor_tt[tor_tt['power_outage']==True]\n",
    "no_outage = tor_tt[tor_tt['power_outage']==False]\n",
    "no_outage= no_outage.sample(n=len(outage), random_state=101)\n",
    "balanced = pd.concat([outage,no_outage],axis=0)"
   ]
  },
  {
   "cell_type": "code",
   "execution_count": 65,
   "id": "903e72db-8204-491a-8cdd-c28c25e88a7b",
   "metadata": {},
   "outputs": [
    {
     "name": "stdout",
     "output_type": "stream",
     "text": [
      "Fitting 5 folds for each of 40 candidates, totalling 200 fits\n"
     ]
    },
    {
     "data": {
      "text/html": [
       "<style>#sk-container-id-13 {color: black;background-color: white;}#sk-container-id-13 pre{padding: 0;}#sk-container-id-13 div.sk-toggleable {background-color: white;}#sk-container-id-13 label.sk-toggleable__label {cursor: pointer;display: block;width: 100%;margin-bottom: 0;padding: 0.3em;box-sizing: border-box;text-align: center;}#sk-container-id-13 label.sk-toggleable__label-arrow:before {content: \"▸\";float: left;margin-right: 0.25em;color: #696969;}#sk-container-id-13 label.sk-toggleable__label-arrow:hover:before {color: black;}#sk-container-id-13 div.sk-estimator:hover label.sk-toggleable__label-arrow:before {color: black;}#sk-container-id-13 div.sk-toggleable__content {max-height: 0;max-width: 0;overflow: hidden;text-align: left;background-color: #f0f8ff;}#sk-container-id-13 div.sk-toggleable__content pre {margin: 0.2em;color: black;border-radius: 0.25em;background-color: #f0f8ff;}#sk-container-id-13 input.sk-toggleable__control:checked~div.sk-toggleable__content {max-height: 200px;max-width: 100%;overflow: auto;}#sk-container-id-13 input.sk-toggleable__control:checked~label.sk-toggleable__label-arrow:before {content: \"▾\";}#sk-container-id-13 div.sk-estimator input.sk-toggleable__control:checked~label.sk-toggleable__label {background-color: #d4ebff;}#sk-container-id-13 div.sk-label input.sk-toggleable__control:checked~label.sk-toggleable__label {background-color: #d4ebff;}#sk-container-id-13 input.sk-hidden--visually {border: 0;clip: rect(1px 1px 1px 1px);clip: rect(1px, 1px, 1px, 1px);height: 1px;margin: -1px;overflow: hidden;padding: 0;position: absolute;width: 1px;}#sk-container-id-13 div.sk-estimator {font-family: monospace;background-color: #f0f8ff;border: 1px dotted black;border-radius: 0.25em;box-sizing: border-box;margin-bottom: 0.5em;}#sk-container-id-13 div.sk-estimator:hover {background-color: #d4ebff;}#sk-container-id-13 div.sk-parallel-item::after {content: \"\";width: 100%;border-bottom: 1px solid gray;flex-grow: 1;}#sk-container-id-13 div.sk-label:hover label.sk-toggleable__label {background-color: #d4ebff;}#sk-container-id-13 div.sk-serial::before {content: \"\";position: absolute;border-left: 1px solid gray;box-sizing: border-box;top: 0;bottom: 0;left: 50%;z-index: 0;}#sk-container-id-13 div.sk-serial {display: flex;flex-direction: column;align-items: center;background-color: white;padding-right: 0.2em;padding-left: 0.2em;position: relative;}#sk-container-id-13 div.sk-item {position: relative;z-index: 1;}#sk-container-id-13 div.sk-parallel {display: flex;align-items: stretch;justify-content: center;background-color: white;position: relative;}#sk-container-id-13 div.sk-item::before, #sk-container-id-13 div.sk-parallel-item::before {content: \"\";position: absolute;border-left: 1px solid gray;box-sizing: border-box;top: 0;bottom: 0;left: 50%;z-index: -1;}#sk-container-id-13 div.sk-parallel-item {display: flex;flex-direction: column;z-index: 1;position: relative;background-color: white;}#sk-container-id-13 div.sk-parallel-item:first-child::after {align-self: flex-end;width: 50%;}#sk-container-id-13 div.sk-parallel-item:last-child::after {align-self: flex-start;width: 50%;}#sk-container-id-13 div.sk-parallel-item:only-child::after {width: 0;}#sk-container-id-13 div.sk-dashed-wrapped {border: 1px dashed gray;margin: 0 0.4em 0.5em 0.4em;box-sizing: border-box;padding-bottom: 0.4em;background-color: white;}#sk-container-id-13 div.sk-label label {font-family: monospace;font-weight: bold;display: inline-block;line-height: 1.2em;}#sk-container-id-13 div.sk-label-container {text-align: center;}#sk-container-id-13 div.sk-container {/* jupyter's `normalize.less` sets `[hidden] { display: none; }` but bootstrap.min.css set `[hidden] { display: none !important; }` so we also need the `!important` here to be able to override the default hidden behavior on the sphinx rendered scikit-learn.org. See: https://github.com/scikit-learn/scikit-learn/issues/21755 */display: inline-block !important;position: relative;}#sk-container-id-13 div.sk-text-repr-fallback {display: none;}</style><div id=\"sk-container-id-13\" class=\"sk-top-container\"><div class=\"sk-text-repr-fallback\"><pre>GridSearchCV(cv=5,\n",
       "             estimator=XGBClassifier(base_score=None, booster=None,\n",
       "                                     callbacks=None, colsample_bylevel=None,\n",
       "                                     colsample_bynode=None,\n",
       "                                     colsample_bytree=None, device=None,\n",
       "                                     early_stopping_rounds=None,\n",
       "                                     enable_categorical=False, eval_metric=None,\n",
       "                                     feature_types=None, gamma=None,\n",
       "                                     grow_policy=None, importance_type=None,\n",
       "                                     interaction_constraints=None,\n",
       "                                     learning_rate=None,...\n",
       "                                     max_cat_threshold=None,\n",
       "                                     max_cat_to_onehot=None,\n",
       "                                     max_delta_step=None, max_depth=None,\n",
       "                                     max_leaves=None, min_child_weight=None,\n",
       "                                     missing=nan, monotone_constraints=None,\n",
       "                                     multi_strategy=None, n_estimators=None,\n",
       "                                     n_jobs=None, num_parallel_tree=None,\n",
       "                                     random_state=None, ...),\n",
       "             param_grid={&#x27;learning_rate&#x27;: [0.01], &#x27;max_depth&#x27;: range(8, 16),\n",
       "                         &#x27;n_estimators&#x27;: range(300, 350, 10)},\n",
       "             scoring=&#x27;f1&#x27;, verbose=True)</pre><b>In a Jupyter environment, please rerun this cell to show the HTML representation or trust the notebook. <br />On GitHub, the HTML representation is unable to render, please try loading this page with nbviewer.org.</b></div><div class=\"sk-container\" hidden><div class=\"sk-item sk-dashed-wrapped\"><div class=\"sk-label-container\"><div class=\"sk-label sk-toggleable\"><input class=\"sk-toggleable__control sk-hidden--visually\" id=\"sk-estimator-id-25\" type=\"checkbox\" ><label for=\"sk-estimator-id-25\" class=\"sk-toggleable__label sk-toggleable__label-arrow\">GridSearchCV</label><div class=\"sk-toggleable__content\"><pre>GridSearchCV(cv=5,\n",
       "             estimator=XGBClassifier(base_score=None, booster=None,\n",
       "                                     callbacks=None, colsample_bylevel=None,\n",
       "                                     colsample_bynode=None,\n",
       "                                     colsample_bytree=None, device=None,\n",
       "                                     early_stopping_rounds=None,\n",
       "                                     enable_categorical=False, eval_metric=None,\n",
       "                                     feature_types=None, gamma=None,\n",
       "                                     grow_policy=None, importance_type=None,\n",
       "                                     interaction_constraints=None,\n",
       "                                     learning_rate=None,...\n",
       "                                     max_cat_threshold=None,\n",
       "                                     max_cat_to_onehot=None,\n",
       "                                     max_delta_step=None, max_depth=None,\n",
       "                                     max_leaves=None, min_child_weight=None,\n",
       "                                     missing=nan, monotone_constraints=None,\n",
       "                                     multi_strategy=None, n_estimators=None,\n",
       "                                     n_jobs=None, num_parallel_tree=None,\n",
       "                                     random_state=None, ...),\n",
       "             param_grid={&#x27;learning_rate&#x27;: [0.01], &#x27;max_depth&#x27;: range(8, 16),\n",
       "                         &#x27;n_estimators&#x27;: range(300, 350, 10)},\n",
       "             scoring=&#x27;f1&#x27;, verbose=True)</pre></div></div></div><div class=\"sk-parallel\"><div class=\"sk-parallel-item\"><div class=\"sk-item\"><div class=\"sk-label-container\"><div class=\"sk-label sk-toggleable\"><input class=\"sk-toggleable__control sk-hidden--visually\" id=\"sk-estimator-id-26\" type=\"checkbox\" ><label for=\"sk-estimator-id-26\" class=\"sk-toggleable__label sk-toggleable__label-arrow\">estimator: XGBClassifier</label><div class=\"sk-toggleable__content\"><pre>XGBClassifier(base_score=None, booster=None, callbacks=None,\n",
       "              colsample_bylevel=None, colsample_bynode=None,\n",
       "              colsample_bytree=None, device=None, early_stopping_rounds=None,\n",
       "              enable_categorical=False, eval_metric=None, feature_types=None,\n",
       "              gamma=None, grow_policy=None, importance_type=None,\n",
       "              interaction_constraints=None, learning_rate=None, max_bin=None,\n",
       "              max_cat_threshold=None, max_cat_to_onehot=None,\n",
       "              max_delta_step=None, max_depth=None, max_leaves=None,\n",
       "              min_child_weight=None, missing=nan, monotone_constraints=None,\n",
       "              multi_strategy=None, n_estimators=None, n_jobs=None,\n",
       "              num_parallel_tree=None, random_state=None, ...)</pre></div></div></div><div class=\"sk-serial\"><div class=\"sk-item\"><div class=\"sk-estimator sk-toggleable\"><input class=\"sk-toggleable__control sk-hidden--visually\" id=\"sk-estimator-id-27\" type=\"checkbox\" ><label for=\"sk-estimator-id-27\" class=\"sk-toggleable__label sk-toggleable__label-arrow\">XGBClassifier</label><div class=\"sk-toggleable__content\"><pre>XGBClassifier(base_score=None, booster=None, callbacks=None,\n",
       "              colsample_bylevel=None, colsample_bynode=None,\n",
       "              colsample_bytree=None, device=None, early_stopping_rounds=None,\n",
       "              enable_categorical=False, eval_metric=None, feature_types=None,\n",
       "              gamma=None, grow_policy=None, importance_type=None,\n",
       "              interaction_constraints=None, learning_rate=None, max_bin=None,\n",
       "              max_cat_threshold=None, max_cat_to_onehot=None,\n",
       "              max_delta_step=None, max_depth=None, max_leaves=None,\n",
       "              min_child_weight=None, missing=nan, monotone_constraints=None,\n",
       "              multi_strategy=None, n_estimators=None, n_jobs=None,\n",
       "              num_parallel_tree=None, random_state=None, ...)</pre></div></div></div></div></div></div></div></div></div></div>"
      ],
      "text/plain": [
       "GridSearchCV(cv=5,\n",
       "             estimator=XGBClassifier(base_score=None, booster=None,\n",
       "                                     callbacks=None, colsample_bylevel=None,\n",
       "                                     colsample_bynode=None,\n",
       "                                     colsample_bytree=None, device=None,\n",
       "                                     early_stopping_rounds=None,\n",
       "                                     enable_categorical=False, eval_metric=None,\n",
       "                                     feature_types=None, gamma=None,\n",
       "                                     grow_policy=None, importance_type=None,\n",
       "                                     interaction_constraints=None,\n",
       "                                     learning_rate=None,...\n",
       "                                     max_cat_threshold=None,\n",
       "                                     max_cat_to_onehot=None,\n",
       "                                     max_delta_step=None, max_depth=None,\n",
       "                                     max_leaves=None, min_child_weight=None,\n",
       "                                     missing=nan, monotone_constraints=None,\n",
       "                                     multi_strategy=None, n_estimators=None,\n",
       "                                     n_jobs=None, num_parallel_tree=None,\n",
       "                                     random_state=None, ...),\n",
       "             param_grid={'learning_rate': [0.01], 'max_depth': range(8, 16),\n",
       "                         'n_estimators': range(300, 350, 10)},\n",
       "             scoring='f1', verbose=True)"
      ]
     },
     "execution_count": 65,
     "metadata": {},
     "output_type": "execute_result"
    }
   ],
   "source": [
    "model = xgboost.XGBClassifier(\n",
    "    objective= 'binary:logistic',\n",
    "    seed=42)\n",
    "\n",
    "parameters = {\n",
    "    'max_depth': range (8, 16,  1),\n",
    "    'n_estimators': range(300, 350, 10),\n",
    "    'learning_rate': [0.01]\n",
    "}\n",
    "\n",
    "grid_search = GridSearchCV(model,\n",
    "    param_grid=parameters,\n",
    "    scoring='f1',\n",
    "    cv = 5,\n",
    "    verbose=True)\n",
    "grid_search.fit(balanced[features], balanced['power_outage'])"
   ]
  },
  {
   "cell_type": "code",
   "execution_count": 60,
   "id": "f421ffab-a260-4976-82c3-6e5e600e95c6",
   "metadata": {},
   "outputs": [
    {
     "data": {
      "text/plain": [
       "{(0.01, 8, 300): 0.435617813613485,\n",
       " (0.01, 8, 310): 0.4398557325075424,\n",
       " (0.01, 8, 320): 0.4458084720930696,\n",
       " (0.01, 8, 330): 0.449727304057978,\n",
       " (0.01, 8, 340): 0.4531378880374695,\n",
       " (0.01, 9, 300): 0.5024558040876385,\n",
       " (0.01, 9, 310): 0.5040329786282072,\n",
       " (0.01, 9, 320): 0.5069227749672148,\n",
       " (0.01, 9, 330): 0.5090185601607351,\n",
       " (0.01, 9, 340): 0.5119163964138421,\n",
       " (0.01, 10, 300): 0.5399259869057087,\n",
       " (0.01, 10, 310): 0.5426319727789751,\n",
       " (0.01, 10, 320): 0.5443796291436305,\n",
       " (0.01, 10, 330): 0.5466810440042035,\n",
       " (0.01, 10, 340): 0.5479233557623454,\n",
       " (0.01, 11, 300): 0.5678703765505253,\n",
       " (0.01, 11, 310): 0.5680072870652977,\n",
       " (0.01, 11, 320): 0.5689040287434841,\n",
       " (0.01, 11, 330): 0.5691183197948773,\n",
       " (0.01, 11, 340): 0.5694010324779397,\n",
       " (0.01, 12, 300): 0.5818457678079545,\n",
       " (0.01, 12, 310): 0.5826454347876142,\n",
       " (0.01, 12, 320): 0.5835539572154123,\n",
       " (0.01, 12, 330): 0.5844152813266426,\n",
       " (0.01, 12, 340): 0.5855954573466997,\n",
       " (0.01, 13, 300): 0.5875395040192106,\n",
       " (0.01, 13, 310): 0.588208864981276,\n",
       " (0.01, 13, 320): 0.5885047985191195,\n",
       " (0.01, 13, 330): 0.5891187494310788,\n",
       " (0.01, 13, 340): 0.5903570863557055,\n",
       " (0.01, 14, 300): 0.5910635458153943,\n",
       " (0.01, 14, 310): 0.5934345253590686,\n",
       " (0.01, 14, 320): 0.5946669716117244,\n",
       " (0.01, 14, 330): 0.5946816328428126,\n",
       " (0.01, 14, 340): 0.59642387820049,\n",
       " (0.01, 15, 300): 0.5954003883023047,\n",
       " (0.01, 15, 310): 0.5962122087213427,\n",
       " (0.01, 15, 320): 0.596364278463013,\n",
       " (0.01, 15, 330): 0.5972562573242369,\n",
       " (0.01, 15, 340): 0.5984536144635342}"
      ]
     },
     "execution_count": 60,
     "metadata": {},
     "output_type": "execute_result"
    }
   ],
   "source": [
    "res = grid_search.cv_results_\n",
    "pars = [tuple(par.values()) for par in res['params']]\n",
    "scores = np.array(res['mean_test_score'])\n",
    "param_scores = dict(zip(pars, scores))\n",
    "param_scores"
   ]
  },
  {
   "cell_type": "code",
   "execution_count": 61,
   "id": "5a515e16-af76-4c03-99a5-31e621a61841",
   "metadata": {},
   "outputs": [
    {
     "data": {
      "text/html": [
       "<style>#sk-container-id-12 {color: black;background-color: white;}#sk-container-id-12 pre{padding: 0;}#sk-container-id-12 div.sk-toggleable {background-color: white;}#sk-container-id-12 label.sk-toggleable__label {cursor: pointer;display: block;width: 100%;margin-bottom: 0;padding: 0.3em;box-sizing: border-box;text-align: center;}#sk-container-id-12 label.sk-toggleable__label-arrow:before {content: \"▸\";float: left;margin-right: 0.25em;color: #696969;}#sk-container-id-12 label.sk-toggleable__label-arrow:hover:before {color: black;}#sk-container-id-12 div.sk-estimator:hover label.sk-toggleable__label-arrow:before {color: black;}#sk-container-id-12 div.sk-toggleable__content {max-height: 0;max-width: 0;overflow: hidden;text-align: left;background-color: #f0f8ff;}#sk-container-id-12 div.sk-toggleable__content pre {margin: 0.2em;color: black;border-radius: 0.25em;background-color: #f0f8ff;}#sk-container-id-12 input.sk-toggleable__control:checked~div.sk-toggleable__content {max-height: 200px;max-width: 100%;overflow: auto;}#sk-container-id-12 input.sk-toggleable__control:checked~label.sk-toggleable__label-arrow:before {content: \"▾\";}#sk-container-id-12 div.sk-estimator input.sk-toggleable__control:checked~label.sk-toggleable__label {background-color: #d4ebff;}#sk-container-id-12 div.sk-label input.sk-toggleable__control:checked~label.sk-toggleable__label {background-color: #d4ebff;}#sk-container-id-12 input.sk-hidden--visually {border: 0;clip: rect(1px 1px 1px 1px);clip: rect(1px, 1px, 1px, 1px);height: 1px;margin: -1px;overflow: hidden;padding: 0;position: absolute;width: 1px;}#sk-container-id-12 div.sk-estimator {font-family: monospace;background-color: #f0f8ff;border: 1px dotted black;border-radius: 0.25em;box-sizing: border-box;margin-bottom: 0.5em;}#sk-container-id-12 div.sk-estimator:hover {background-color: #d4ebff;}#sk-container-id-12 div.sk-parallel-item::after {content: \"\";width: 100%;border-bottom: 1px solid gray;flex-grow: 1;}#sk-container-id-12 div.sk-label:hover label.sk-toggleable__label {background-color: #d4ebff;}#sk-container-id-12 div.sk-serial::before {content: \"\";position: absolute;border-left: 1px solid gray;box-sizing: border-box;top: 0;bottom: 0;left: 50%;z-index: 0;}#sk-container-id-12 div.sk-serial {display: flex;flex-direction: column;align-items: center;background-color: white;padding-right: 0.2em;padding-left: 0.2em;position: relative;}#sk-container-id-12 div.sk-item {position: relative;z-index: 1;}#sk-container-id-12 div.sk-parallel {display: flex;align-items: stretch;justify-content: center;background-color: white;position: relative;}#sk-container-id-12 div.sk-item::before, #sk-container-id-12 div.sk-parallel-item::before {content: \"\";position: absolute;border-left: 1px solid gray;box-sizing: border-box;top: 0;bottom: 0;left: 50%;z-index: -1;}#sk-container-id-12 div.sk-parallel-item {display: flex;flex-direction: column;z-index: 1;position: relative;background-color: white;}#sk-container-id-12 div.sk-parallel-item:first-child::after {align-self: flex-end;width: 50%;}#sk-container-id-12 div.sk-parallel-item:last-child::after {align-self: flex-start;width: 50%;}#sk-container-id-12 div.sk-parallel-item:only-child::after {width: 0;}#sk-container-id-12 div.sk-dashed-wrapped {border: 1px dashed gray;margin: 0 0.4em 0.5em 0.4em;box-sizing: border-box;padding-bottom: 0.4em;background-color: white;}#sk-container-id-12 div.sk-label label {font-family: monospace;font-weight: bold;display: inline-block;line-height: 1.2em;}#sk-container-id-12 div.sk-label-container {text-align: center;}#sk-container-id-12 div.sk-container {/* jupyter's `normalize.less` sets `[hidden] { display: none; }` but bootstrap.min.css set `[hidden] { display: none !important; }` so we also need the `!important` here to be able to override the default hidden behavior on the sphinx rendered scikit-learn.org. See: https://github.com/scikit-learn/scikit-learn/issues/21755 */display: inline-block !important;position: relative;}#sk-container-id-12 div.sk-text-repr-fallback {display: none;}</style><div id=\"sk-container-id-12\" class=\"sk-top-container\"><div class=\"sk-text-repr-fallback\"><pre>XGBClassifier(base_score=None, booster=None, callbacks=None,\n",
       "              colsample_bylevel=None, colsample_bynode=None,\n",
       "              colsample_bytree=None, device=None, early_stopping_rounds=None,\n",
       "              enable_categorical=False, eval_metric=None, feature_types=None,\n",
       "              gamma=None, grow_policy=None, importance_type=None,\n",
       "              interaction_constraints=None, learning_rate=0.01, max_bin=None,\n",
       "              max_cat_threshold=None, max_cat_to_onehot=None,\n",
       "              max_delta_step=None, max_depth=15, max_leaves=None,\n",
       "              min_child_weight=None, missing=nan, monotone_constraints=None,\n",
       "              multi_strategy=None, n_estimators=340, n_jobs=None,\n",
       "              num_parallel_tree=None, random_state=None, ...)</pre><b>In a Jupyter environment, please rerun this cell to show the HTML representation or trust the notebook. <br />On GitHub, the HTML representation is unable to render, please try loading this page with nbviewer.org.</b></div><div class=\"sk-container\" hidden><div class=\"sk-item\"><div class=\"sk-estimator sk-toggleable\"><input class=\"sk-toggleable__control sk-hidden--visually\" id=\"sk-estimator-id-24\" type=\"checkbox\" checked><label for=\"sk-estimator-id-24\" class=\"sk-toggleable__label sk-toggleable__label-arrow\">XGBClassifier</label><div class=\"sk-toggleable__content\"><pre>XGBClassifier(base_score=None, booster=None, callbacks=None,\n",
       "              colsample_bylevel=None, colsample_bynode=None,\n",
       "              colsample_bytree=None, device=None, early_stopping_rounds=None,\n",
       "              enable_categorical=False, eval_metric=None, feature_types=None,\n",
       "              gamma=None, grow_policy=None, importance_type=None,\n",
       "              interaction_constraints=None, learning_rate=0.01, max_bin=None,\n",
       "              max_cat_threshold=None, max_cat_to_onehot=None,\n",
       "              max_delta_step=None, max_depth=15, max_leaves=None,\n",
       "              min_child_weight=None, missing=nan, monotone_constraints=None,\n",
       "              multi_strategy=None, n_estimators=340, n_jobs=None,\n",
       "              num_parallel_tree=None, random_state=None, ...)</pre></div></div></div></div></div>"
      ],
      "text/plain": [
       "XGBClassifier(base_score=None, booster=None, callbacks=None,\n",
       "              colsample_bylevel=None, colsample_bynode=None,\n",
       "              colsample_bytree=None, device=None, early_stopping_rounds=None,\n",
       "              enable_categorical=False, eval_metric=None, feature_types=None,\n",
       "              gamma=None, grow_policy=None, importance_type=None,\n",
       "              interaction_constraints=None, learning_rate=0.01, max_bin=None,\n",
       "              max_cat_threshold=None, max_cat_to_onehot=None,\n",
       "              max_delta_step=None, max_depth=15, max_leaves=None,\n",
       "              min_child_weight=None, missing=nan, monotone_constraints=None,\n",
       "              multi_strategy=None, n_estimators=340, n_jobs=None,\n",
       "              num_parallel_tree=None, random_state=None, ...)"
      ]
     },
     "execution_count": 61,
     "metadata": {},
     "output_type": "execute_result"
    }
   ],
   "source": [
    "#best_model = grid_search.best_estimator_\n",
    "best_model"
   ]
  },
  {
   "cell_type": "code",
   "execution_count": 21,
   "id": "f688a38b-bb26-4483-9f4a-0d4e309f5934",
   "metadata": {},
   "outputs": [
    {
     "data": {
      "text/html": [
       "<style>#sk-container-id-3 {color: black;background-color: white;}#sk-container-id-3 pre{padding: 0;}#sk-container-id-3 div.sk-toggleable {background-color: white;}#sk-container-id-3 label.sk-toggleable__label {cursor: pointer;display: block;width: 100%;margin-bottom: 0;padding: 0.3em;box-sizing: border-box;text-align: center;}#sk-container-id-3 label.sk-toggleable__label-arrow:before {content: \"▸\";float: left;margin-right: 0.25em;color: #696969;}#sk-container-id-3 label.sk-toggleable__label-arrow:hover:before {color: black;}#sk-container-id-3 div.sk-estimator:hover label.sk-toggleable__label-arrow:before {color: black;}#sk-container-id-3 div.sk-toggleable__content {max-height: 0;max-width: 0;overflow: hidden;text-align: left;background-color: #f0f8ff;}#sk-container-id-3 div.sk-toggleable__content pre {margin: 0.2em;color: black;border-radius: 0.25em;background-color: #f0f8ff;}#sk-container-id-3 input.sk-toggleable__control:checked~div.sk-toggleable__content {max-height: 200px;max-width: 100%;overflow: auto;}#sk-container-id-3 input.sk-toggleable__control:checked~label.sk-toggleable__label-arrow:before {content: \"▾\";}#sk-container-id-3 div.sk-estimator input.sk-toggleable__control:checked~label.sk-toggleable__label {background-color: #d4ebff;}#sk-container-id-3 div.sk-label input.sk-toggleable__control:checked~label.sk-toggleable__label {background-color: #d4ebff;}#sk-container-id-3 input.sk-hidden--visually {border: 0;clip: rect(1px 1px 1px 1px);clip: rect(1px, 1px, 1px, 1px);height: 1px;margin: -1px;overflow: hidden;padding: 0;position: absolute;width: 1px;}#sk-container-id-3 div.sk-estimator {font-family: monospace;background-color: #f0f8ff;border: 1px dotted black;border-radius: 0.25em;box-sizing: border-box;margin-bottom: 0.5em;}#sk-container-id-3 div.sk-estimator:hover {background-color: #d4ebff;}#sk-container-id-3 div.sk-parallel-item::after {content: \"\";width: 100%;border-bottom: 1px solid gray;flex-grow: 1;}#sk-container-id-3 div.sk-label:hover label.sk-toggleable__label {background-color: #d4ebff;}#sk-container-id-3 div.sk-serial::before {content: \"\";position: absolute;border-left: 1px solid gray;box-sizing: border-box;top: 0;bottom: 0;left: 50%;z-index: 0;}#sk-container-id-3 div.sk-serial {display: flex;flex-direction: column;align-items: center;background-color: white;padding-right: 0.2em;padding-left: 0.2em;position: relative;}#sk-container-id-3 div.sk-item {position: relative;z-index: 1;}#sk-container-id-3 div.sk-parallel {display: flex;align-items: stretch;justify-content: center;background-color: white;position: relative;}#sk-container-id-3 div.sk-item::before, #sk-container-id-3 div.sk-parallel-item::before {content: \"\";position: absolute;border-left: 1px solid gray;box-sizing: border-box;top: 0;bottom: 0;left: 50%;z-index: -1;}#sk-container-id-3 div.sk-parallel-item {display: flex;flex-direction: column;z-index: 1;position: relative;background-color: white;}#sk-container-id-3 div.sk-parallel-item:first-child::after {align-self: flex-end;width: 50%;}#sk-container-id-3 div.sk-parallel-item:last-child::after {align-self: flex-start;width: 50%;}#sk-container-id-3 div.sk-parallel-item:only-child::after {width: 0;}#sk-container-id-3 div.sk-dashed-wrapped {border: 1px dashed gray;margin: 0 0.4em 0.5em 0.4em;box-sizing: border-box;padding-bottom: 0.4em;background-color: white;}#sk-container-id-3 div.sk-label label {font-family: monospace;font-weight: bold;display: inline-block;line-height: 1.2em;}#sk-container-id-3 div.sk-label-container {text-align: center;}#sk-container-id-3 div.sk-container {/* jupyter's `normalize.less` sets `[hidden] { display: none; }` but bootstrap.min.css set `[hidden] { display: none !important; }` so we also need the `!important` here to be able to override the default hidden behavior on the sphinx rendered scikit-learn.org. See: https://github.com/scikit-learn/scikit-learn/issues/21755 */display: inline-block !important;position: relative;}#sk-container-id-3 div.sk-text-repr-fallback {display: none;}</style><div id=\"sk-container-id-3\" class=\"sk-top-container\"><div class=\"sk-text-repr-fallback\"><pre>XGBClassifier(base_score=None, booster=None, callbacks=None,\n",
       "              colsample_bylevel=None, colsample_bynode=None,\n",
       "              colsample_bytree=None, device=None, early_stopping_rounds=None,\n",
       "              enable_categorical=False, eval_metric=None, feature_types=None,\n",
       "              gamma=None, grow_policy=None, importance_type=None,\n",
       "              interaction_constraints=None, learning_rate=0.01, max_bin=None,\n",
       "              max_cat_threshold=None, max_cat_to_onehot=None,\n",
       "              max_delta_step=None, max_depth=15, max_leaves=None,\n",
       "              min_child_weight=None, missing=nan, monotone_constraints=None,\n",
       "              multi_strategy=None, n_estimators=340, n_jobs=None,\n",
       "              num_parallel_tree=None, random_state=None, ...)</pre><b>In a Jupyter environment, please rerun this cell to show the HTML representation or trust the notebook. <br />On GitHub, the HTML representation is unable to render, please try loading this page with nbviewer.org.</b></div><div class=\"sk-container\" hidden><div class=\"sk-item\"><div class=\"sk-estimator sk-toggleable\"><input class=\"sk-toggleable__control sk-hidden--visually\" id=\"sk-estimator-id-3\" type=\"checkbox\" checked><label for=\"sk-estimator-id-3\" class=\"sk-toggleable__label sk-toggleable__label-arrow\">XGBClassifier</label><div class=\"sk-toggleable__content\"><pre>XGBClassifier(base_score=None, booster=None, callbacks=None,\n",
       "              colsample_bylevel=None, colsample_bynode=None,\n",
       "              colsample_bytree=None, device=None, early_stopping_rounds=None,\n",
       "              enable_categorical=False, eval_metric=None, feature_types=None,\n",
       "              gamma=None, grow_policy=None, importance_type=None,\n",
       "              interaction_constraints=None, learning_rate=0.01, max_bin=None,\n",
       "              max_cat_threshold=None, max_cat_to_onehot=None,\n",
       "              max_delta_step=None, max_depth=15, max_leaves=None,\n",
       "              min_child_weight=None, missing=nan, monotone_constraints=None,\n",
       "              multi_strategy=None, n_estimators=340, n_jobs=None,\n",
       "              num_parallel_tree=None, random_state=None, ...)</pre></div></div></div></div></div>"
      ],
      "text/plain": [
       "XGBClassifier(base_score=None, booster=None, callbacks=None,\n",
       "              colsample_bylevel=None, colsample_bynode=None,\n",
       "              colsample_bytree=None, device=None, early_stopping_rounds=None,\n",
       "              enable_categorical=False, eval_metric=None, feature_types=None,\n",
       "              gamma=None, grow_policy=None, importance_type=None,\n",
       "              interaction_constraints=None, learning_rate=0.01, max_bin=None,\n",
       "              max_cat_threshold=None, max_cat_to_onehot=None,\n",
       "              max_delta_step=None, max_depth=15, max_leaves=None,\n",
       "              min_child_weight=None, missing=nan, monotone_constraints=None,\n",
       "              multi_strategy=None, n_estimators=340, n_jobs=None,\n",
       "              num_parallel_tree=None, random_state=None, ...)"
      ]
     },
     "execution_count": 21,
     "metadata": {},
     "output_type": "execute_result"
    }
   ],
   "source": [
    "best_model = xgboost.XGBClassifier(\n",
    "    objective= 'binary:logistic', learning_rate=0.01, max_depth=15, n_estimators=340)\n",
    "best_model.fit(balanced[features], balanced['power_outage'])"
   ]
  },
  {
   "cell_type": "code",
   "execution_count": 22,
   "id": "275100bc-a2b1-4b79-a085-081c96c4b80b",
   "metadata": {},
   "outputs": [
    {
     "name": "stdout",
     "output_type": "stream",
     "text": [
      "precision:  0.8395200599925009\n",
      "recall:  0.15410558193956914\n"
     ]
    }
   ],
   "source": [
    "preds = best_model.predict(tor_val[features])\n",
    "prec = precision_score(preds, tor_val['power_outage'])\n",
    "recall = recall_score(preds, tor_val['power_outage'])\n",
    "print(\"precision: \", prec)\n",
    "print(\"recall: \", recall)"
   ]
  },
  {
   "cell_type": "code",
   "execution_count": 23,
   "id": "c1faac2e-e05a-4d61-8f33-6ec406fc9921",
   "metadata": {},
   "outputs": [
    {
     "data": {
      "image/png": "[encoded data removed]",
      "text/plain": [
       "<Figure size 432x288 with 1 Axes>"
      ]
     },
     "metadata": {
      "needs_background": "light"
     },
     "output_type": "display_data"
    }
   ],
   "source": [
    "from sklearn.metrics import PrecisionRecallDisplay\n",
    "\n",
    "display = PrecisionRecallDisplay.from_estimator(\n",
    "    best_model, tor_val[features], tor_val['power_outage'], name=\"xGBoost\")\n",
    "_ = display.ax_.set_title(\"2-class Precision-Recall curve\")"
   ]
  },
  {
   "cell_type": "code",
   "execution_count": 24,
   "id": "d8ad2391-f9fe-4e26-b315-f58f3910d836",
   "metadata": {},
   "outputs": [
    {
     "data": {
      "image/png": "[encoded data removed]",
      "text/plain": [
       "<Figure size 432x288 with 1 Axes>"
      ]
     },
     "metadata": {
      "needs_background": "light"
     },
     "output_type": "display_data"
    }
   ],
   "source": [
    "from sklearn.metrics import RocCurveDisplay\n",
    "display = RocCurveDisplay.from_estimator(\n",
    "    best_model, tor_val[features], tor_val['power_outage'], name=\"xGBoost\")\n",
    "_ = display.ax_.set_title(\"2-class ROC curve\")"
   ]
  },
  {
   "cell_type": "markdown",
   "id": "50a40744-7022-462e-8483-37c9e2a18b64",
   "metadata": {},
   "source": [
    "# Last attemp: Using only a subset of predictors "
   ]
  },
  {
   "cell_type": "code",
   "execution_count": 26,
   "id": "e49262fd-7da3-4268-bb74-47ac520e8bdd",
   "metadata": {},
   "outputs": [],
   "source": [
    "features = ['LAT_mean', 'LON_mean', 'AVGDV_max', 'LLDV_max', 'MXDV_max', 'Month']"
   ]
  },
  {
   "cell_type": "code",
   "execution_count": 31,
   "id": "e560cc09-9259-44be-aeff-ef96cb4dfe1f",
   "metadata": {},
   "outputs": [
    {
     "name": "stdout",
     "output_type": "stream",
     "text": [
      "Fitting 5 folds for each of 80 candidates, totalling 400 fits\n"
     ]
    },
    {
     "data": {
      "text/html": [
       "<style>#sk-container-id-6 {color: black;background-color: white;}#sk-container-id-6 pre{padding: 0;}#sk-container-id-6 div.sk-toggleable {background-color: white;}#sk-container-id-6 label.sk-toggleable__label {cursor: pointer;display: block;width: 100%;margin-bottom: 0;padding: 0.3em;box-sizing: border-box;text-align: center;}#sk-container-id-6 label.sk-toggleable__label-arrow:before {content: \"▸\";float: left;margin-right: 0.25em;color: #696969;}#sk-container-id-6 label.sk-toggleable__label-arrow:hover:before {color: black;}#sk-container-id-6 div.sk-estimator:hover label.sk-toggleable__label-arrow:before {color: black;}#sk-container-id-6 div.sk-toggleable__content {max-height: 0;max-width: 0;overflow: hidden;text-align: left;background-color: #f0f8ff;}#sk-container-id-6 div.sk-toggleable__content pre {margin: 0.2em;color: black;border-radius: 0.25em;background-color: #f0f8ff;}#sk-container-id-6 input.sk-toggleable__control:checked~div.sk-toggleable__content {max-height: 200px;max-width: 100%;overflow: auto;}#sk-container-id-6 input.sk-toggleable__control:checked~label.sk-toggleable__label-arrow:before {content: \"▾\";}#sk-container-id-6 div.sk-estimator input.sk-toggleable__control:checked~label.sk-toggleable__label {background-color: #d4ebff;}#sk-container-id-6 div.sk-label input.sk-toggleable__control:checked~label.sk-toggleable__label {background-color: #d4ebff;}#sk-container-id-6 input.sk-hidden--visually {border: 0;clip: rect(1px 1px 1px 1px);clip: rect(1px, 1px, 1px, 1px);height: 1px;margin: -1px;overflow: hidden;padding: 0;position: absolute;width: 1px;}#sk-container-id-6 div.sk-estimator {font-family: monospace;background-color: #f0f8ff;border: 1px dotted black;border-radius: 0.25em;box-sizing: border-box;margin-bottom: 0.5em;}#sk-container-id-6 div.sk-estimator:hover {background-color: #d4ebff;}#sk-container-id-6 div.sk-parallel-item::after {content: \"\";width: 100%;border-bottom: 1px solid gray;flex-grow: 1;}#sk-container-id-6 div.sk-label:hover label.sk-toggleable__label {background-color: #d4ebff;}#sk-container-id-6 div.sk-serial::before {content: \"\";position: absolute;border-left: 1px solid gray;box-sizing: border-box;top: 0;bottom: 0;left: 50%;z-index: 0;}#sk-container-id-6 div.sk-serial {display: flex;flex-direction: column;align-items: center;background-color: white;padding-right: 0.2em;padding-left: 0.2em;position: relative;}#sk-container-id-6 div.sk-item {position: relative;z-index: 1;}#sk-container-id-6 div.sk-parallel {display: flex;align-items: stretch;justify-content: center;background-color: white;position: relative;}#sk-container-id-6 div.sk-item::before, #sk-container-id-6 div.sk-parallel-item::before {content: \"\";position: absolute;border-left: 1px solid gray;box-sizing: border-box;top: 0;bottom: 0;left: 50%;z-index: -1;}#sk-container-id-6 div.sk-parallel-item {display: flex;flex-direction: column;z-index: 1;position: relative;background-color: white;}#sk-container-id-6 div.sk-parallel-item:first-child::after {align-self: flex-end;width: 50%;}#sk-container-id-6 div.sk-parallel-item:last-child::after {align-self: flex-start;width: 50%;}#sk-container-id-6 div.sk-parallel-item:only-child::after {width: 0;}#sk-container-id-6 div.sk-dashed-wrapped {border: 1px dashed gray;margin: 0 0.4em 0.5em 0.4em;box-sizing: border-box;padding-bottom: 0.4em;background-color: white;}#sk-container-id-6 div.sk-label label {font-family: monospace;font-weight: bold;display: inline-block;line-height: 1.2em;}#sk-container-id-6 div.sk-label-container {text-align: center;}#sk-container-id-6 div.sk-container {/* jupyter's `normalize.less` sets `[hidden] { display: none; }` but bootstrap.min.css set `[hidden] { display: none !important; }` so we also need the `!important` here to be able to override the default hidden behavior on the sphinx rendered scikit-learn.org. See: https://github.com/scikit-learn/scikit-learn/issues/21755 */display: inline-block !important;position: relative;}#sk-container-id-6 div.sk-text-repr-fallback {display: none;}</style><div id=\"sk-container-id-6\" class=\"sk-top-container\"><div class=\"sk-text-repr-fallback\"><pre>GridSearchCV(cv=5,\n",
       "             estimator=XGBClassifier(base_score=None, booster=None,\n",
       "                                     callbacks=None, colsample_bylevel=None,\n",
       "                                     colsample_bynode=None,\n",
       "                                     colsample_bytree=None, device=None,\n",
       "                                     early_stopping_rounds=None,\n",
       "                                     enable_categorical=False, eval_metric=None,\n",
       "                                     feature_types=None, gamma=None,\n",
       "                                     grow_policy=None, importance_type=None,\n",
       "                                     interaction_constraints=None,\n",
       "                                     learning_rate=None,...\n",
       "                                     max_cat_to_onehot=None,\n",
       "                                     max_delta_step=None, max_depth=None,\n",
       "                                     max_leaves=None, min_child_weight=None,\n",
       "                                     missing=nan, monotone_constraints=None,\n",
       "                                     multi_strategy=None, n_estimators=None,\n",
       "                                     n_jobs=None, num_parallel_tree=None,\n",
       "                                     random_state=None, ...),\n",
       "             param_grid={&#x27;learning_rate&#x27;: [0.01, 0.03],\n",
       "                         &#x27;max_depth&#x27;: range(10, 20),\n",
       "                         &#x27;n_estimators&#x27;: range(240, 400, 40)},\n",
       "             scoring=&#x27;f1&#x27;, verbose=True)</pre><b>In a Jupyter environment, please rerun this cell to show the HTML representation or trust the notebook. <br />On GitHub, the HTML representation is unable to render, please try loading this page with nbviewer.org.</b></div><div class=\"sk-container\" hidden><div class=\"sk-item sk-dashed-wrapped\"><div class=\"sk-label-container\"><div class=\"sk-label sk-toggleable\"><input class=\"sk-toggleable__control sk-hidden--visually\" id=\"sk-estimator-id-10\" type=\"checkbox\" ><label for=\"sk-estimator-id-10\" class=\"sk-toggleable__label sk-toggleable__label-arrow\">GridSearchCV</label><div class=\"sk-toggleable__content\"><pre>GridSearchCV(cv=5,\n",
       "             estimator=XGBClassifier(base_score=None, booster=None,\n",
       "                                     callbacks=None, colsample_bylevel=None,\n",
       "                                     colsample_bynode=None,\n",
       "                                     colsample_bytree=None, device=None,\n",
       "                                     early_stopping_rounds=None,\n",
       "                                     enable_categorical=False, eval_metric=None,\n",
       "                                     feature_types=None, gamma=None,\n",
       "                                     grow_policy=None, importance_type=None,\n",
       "                                     interaction_constraints=None,\n",
       "                                     learning_rate=None,...\n",
       "                                     max_cat_to_onehot=None,\n",
       "                                     max_delta_step=None, max_depth=None,\n",
       "                                     max_leaves=None, min_child_weight=None,\n",
       "                                     missing=nan, monotone_constraints=None,\n",
       "                                     multi_strategy=None, n_estimators=None,\n",
       "                                     n_jobs=None, num_parallel_tree=None,\n",
       "                                     random_state=None, ...),\n",
       "             param_grid={&#x27;learning_rate&#x27;: [0.01, 0.03],\n",
       "                         &#x27;max_depth&#x27;: range(10, 20),\n",
       "                         &#x27;n_estimators&#x27;: range(240, 400, 40)},\n",
       "             scoring=&#x27;f1&#x27;, verbose=True)</pre></div></div></div><div class=\"sk-parallel\"><div class=\"sk-parallel-item\"><div class=\"sk-item\"><div class=\"sk-label-container\"><div class=\"sk-label sk-toggleable\"><input class=\"sk-toggleable__control sk-hidden--visually\" id=\"sk-estimator-id-11\" type=\"checkbox\" ><label for=\"sk-estimator-id-11\" class=\"sk-toggleable__label sk-toggleable__label-arrow\">estimator: XGBClassifier</label><div class=\"sk-toggleable__content\"><pre>XGBClassifier(base_score=None, booster=None, callbacks=None,\n",
       "              colsample_bylevel=None, colsample_bynode=None,\n",
       "              colsample_bytree=None, device=None, early_stopping_rounds=None,\n",
       "              enable_categorical=False, eval_metric=None, feature_types=None,\n",
       "              gamma=None, grow_policy=None, importance_type=None,\n",
       "              interaction_constraints=None, learning_rate=None, max_bin=None,\n",
       "              max_cat_threshold=None, max_cat_to_onehot=None,\n",
       "              max_delta_step=None, max_depth=None, max_leaves=None,\n",
       "              min_child_weight=None, missing=nan, monotone_constraints=None,\n",
       "              multi_strategy=None, n_estimators=None, n_jobs=None,\n",
       "              num_parallel_tree=None, random_state=None, ...)</pre></div></div></div><div class=\"sk-serial\"><div class=\"sk-item\"><div class=\"sk-estimator sk-toggleable\"><input class=\"sk-toggleable__control sk-hidden--visually\" id=\"sk-estimator-id-12\" type=\"checkbox\" ><label for=\"sk-estimator-id-12\" class=\"sk-toggleable__label sk-toggleable__label-arrow\">XGBClassifier</label><div class=\"sk-toggleable__content\"><pre>XGBClassifier(base_score=None, booster=None, callbacks=None,\n",
       "              colsample_bylevel=None, colsample_bynode=None,\n",
       "              colsample_bytree=None, device=None, early_stopping_rounds=None,\n",
       "              enable_categorical=False, eval_metric=None, feature_types=None,\n",
       "              gamma=None, grow_policy=None, importance_type=None,\n",
       "              interaction_constraints=None, learning_rate=None, max_bin=None,\n",
       "              max_cat_threshold=None, max_cat_to_onehot=None,\n",
       "              max_delta_step=None, max_depth=None, max_leaves=None,\n",
       "              min_child_weight=None, missing=nan, monotone_constraints=None,\n",
       "              multi_strategy=None, n_estimators=None, n_jobs=None,\n",
       "              num_parallel_tree=None, random_state=None, ...)</pre></div></div></div></div></div></div></div></div></div></div>"
      ],
      "text/plain": [
       "GridSearchCV(cv=5,\n",
       "             estimator=XGBClassifier(base_score=None, booster=None,\n",
       "                                     callbacks=None, colsample_bylevel=None,\n",
       "                                     colsample_bynode=None,\n",
       "                                     colsample_bytree=None, device=None,\n",
       "                                     early_stopping_rounds=None,\n",
       "                                     enable_categorical=False, eval_metric=None,\n",
       "                                     feature_types=None, gamma=None,\n",
       "                                     grow_policy=None, importance_type=None,\n",
       "                                     interaction_constraints=None,\n",
       "                                     learning_rate=None,...\n",
       "                                     max_cat_to_onehot=None,\n",
       "                                     max_delta_step=None, max_depth=None,\n",
       "                                     max_leaves=None, min_child_weight=None,\n",
       "                                     missing=nan, monotone_constraints=None,\n",
       "                                     multi_strategy=None, n_estimators=None,\n",
       "                                     n_jobs=None, num_parallel_tree=None,\n",
       "                                     random_state=None, ...),\n",
       "             param_grid={'learning_rate': [0.01, 0.03],\n",
       "                         'max_depth': range(10, 20),\n",
       "                         'n_estimators': range(240, 400, 40)},\n",
       "             scoring='f1', verbose=True)"
      ]
     },
     "execution_count": 31,
     "metadata": {},
     "output_type": "execute_result"
    }
   ],
   "source": [
    "model = xgboost.XGBClassifier(\n",
    "    objective= 'binary:logistic',\n",
    "    seed=42)\n",
    "\n",
    "parameters = {\n",
    "    'max_depth': range (10, 20,  1),\n",
    "    'n_estimators': range(240, 400, 40),\n",
    "    'learning_rate': [0.01, 0.03]\n",
    "}\n",
    "\n",
    "grid_search = GridSearchCV(model,\n",
    "    param_grid=parameters,\n",
    "    scoring='f1',\n",
    "    cv = 5,\n",
    "    verbose=True)\n",
    "grid_search.fit(balanced[features], balanced['power_outage'])"
   ]
  },
  {
   "cell_type": "code",
   "execution_count": 32,
   "id": "90525e6b-df4d-4174-b7e4-d07ce2a64d22",
   "metadata": {},
   "outputs": [
    {
     "data": {
      "text/plain": [
       "{(0.01, 10, 240): 0.8031410731376172,\n",
       " (0.01, 10, 280): 0.8036149278339672,\n",
       " (0.01, 10, 320): 0.8042913119034287,\n",
       " (0.01, 10, 360): 0.8041545050561014,\n",
       " (0.01, 11, 240): 0.8069682626278245,\n",
       " (0.01, 11, 280): 0.8082713556218947,\n",
       " (0.01, 11, 320): 0.8082377457663261,\n",
       " (0.01, 11, 360): 0.8091353269235999,\n",
       " (0.01, 12, 240): 0.8081969134744031,\n",
       " (0.01, 12, 280): 0.8100739853036212,\n",
       " (0.01, 12, 320): 0.8100150712336329,\n",
       " (0.01, 12, 360): 0.8093145781128916,\n",
       " (0.01, 13, 240): 0.8094114055747859,\n",
       " (0.01, 13, 280): 0.8096481387547719,\n",
       " (0.01, 13, 320): 0.8091332495229582,\n",
       " (0.01, 13, 360): 0.8097661485284442,\n",
       " (0.01, 14, 240): 0.8100294358068382,\n",
       " (0.01, 14, 280): 0.8098657801277656,\n",
       " (0.01, 14, 320): 0.8114557773456014,\n",
       " (0.01, 14, 360): 0.8109612250711375,\n",
       " (0.01, 15, 240): 0.8087595024437911,\n",
       " (0.01, 15, 280): 0.8086127646743175,\n",
       " (0.01, 15, 320): 0.8089555598786975,\n",
       " (0.01, 15, 360): 0.8088563696128134,\n",
       " (0.01, 16, 240): 0.8091536199124931,\n",
       " (0.01, 16, 280): 0.8084525870519469,\n",
       " (0.01, 16, 320): 0.8089262981852345,\n",
       " (0.01, 16, 360): 0.8090969999897425,\n",
       " (0.01, 17, 240): 0.807265809435896,\n",
       " (0.01, 17, 280): 0.8077850123380512,\n",
       " (0.01, 17, 320): 0.8079639216105029,\n",
       " (0.01, 17, 360): 0.8077311403960483,\n",
       " (0.01, 18, 240): 0.8071339550305663,\n",
       " (0.01, 18, 280): 0.8070254121913141,\n",
       " (0.01, 18, 320): 0.8082262949181171,\n",
       " (0.01, 18, 360): 0.8086714800782632,\n",
       " (0.01, 19, 240): 0.8060758488791876,\n",
       " (0.01, 19, 280): 0.8058317299335149,\n",
       " (0.01, 19, 320): 0.8069785291386081,\n",
       " (0.01, 19, 360): 0.8068202904957819,\n",
       " (0.03, 10, 240): 0.8081211057367256,\n",
       " (0.03, 10, 280): 0.8084640853256566,\n",
       " (0.03, 10, 320): 0.8079012829068832,\n",
       " (0.03, 10, 360): 0.8063992983255577,\n",
       " (0.03, 11, 240): 0.8093365998737119,\n",
       " (0.03, 11, 280): 0.8093374295786658,\n",
       " (0.03, 11, 320): 0.8087285285621413,\n",
       " (0.03, 11, 360): 0.8084980068126155,\n",
       " (0.03, 12, 240): 0.8096616920102188,\n",
       " (0.03, 12, 280): 0.8093112914974834,\n",
       " (0.03, 12, 320): 0.8093690141941579,\n",
       " (0.03, 12, 360): 0.8091298120435292,\n",
       " (0.03, 13, 240): 0.8087994753179327,\n",
       " (0.03, 13, 280): 0.8084869748917107,\n",
       " (0.03, 13, 320): 0.8078043436048837,\n",
       " (0.03, 13, 360): 0.8058873051216467,\n",
       " (0.03, 14, 240): 0.8071751751037416,\n",
       " (0.03, 14, 280): 0.8063798287360235,\n",
       " (0.03, 14, 320): 0.8059220761493618,\n",
       " (0.03, 14, 360): 0.8062277688571348,\n",
       " (0.03, 15, 240): 0.8076600453766014,\n",
       " (0.03, 15, 280): 0.8060746506631841,\n",
       " (0.03, 15, 320): 0.8062779051095934,\n",
       " (0.03, 15, 360): 0.8061575504080473,\n",
       " (0.03, 16, 240): 0.8077868544405596,\n",
       " (0.03, 16, 280): 0.8072641676099395,\n",
       " (0.03, 16, 320): 0.8067755596148241,\n",
       " (0.03, 16, 360): 0.8058716749146282,\n",
       " (0.03, 17, 240): 0.8076995558686624,\n",
       " (0.03, 17, 280): 0.8073039174747146,\n",
       " (0.03, 17, 320): 0.8066141897890009,\n",
       " (0.03, 17, 360): 0.8062172737457415,\n",
       " (0.03, 18, 240): 0.8059796701163467,\n",
       " (0.03, 18, 280): 0.8049448181982284,\n",
       " (0.03, 18, 320): 0.8055119443207339,\n",
       " (0.03, 18, 360): 0.8056585001283938,\n",
       " (0.03, 19, 240): 0.8053161577783932,\n",
       " (0.03, 19, 280): 0.8045913733053889,\n",
       " (0.03, 19, 320): 0.8031196879540398,\n",
       " (0.03, 19, 360): 0.8038671253998432}"
      ]
     },
     "execution_count": 32,
     "metadata": {},
     "output_type": "execute_result"
    }
   ],
   "source": [
    "res = grid_search.cv_results_\n",
    "pars = [tuple(par.values()) for par in res['params']]\n",
    "scores = np.array(res['mean_test_score'])\n",
    "param_scores = dict(zip(pars, scores))\n",
    "param_scores"
   ]
  },
  {
   "cell_type": "code",
   "execution_count": 33,
   "id": "6b41ed86-497b-400d-be63-3c65541601cf",
   "metadata": {},
   "outputs": [
    {
     "data": {
      "text/plain": [
       "{'learning_rate': 0.01, 'max_depth': 14, 'n_estimators': 320}"
      ]
     },
     "execution_count": 33,
     "metadata": {},
     "output_type": "execute_result"
    }
   ],
   "source": [
    "grid_search.best_params_"
   ]
  },
  {
   "cell_type": "code",
   "execution_count": 34,
   "id": "6f1e51f8-a8c5-46df-bcec-ba18647efa5f",
   "metadata": {},
   "outputs": [
    {
     "data": {
      "text/html": [
       "<style>#sk-container-id-7 {color: black;background-color: white;}#sk-container-id-7 pre{padding: 0;}#sk-container-id-7 div.sk-toggleable {background-color: white;}#sk-container-id-7 label.sk-toggleable__label {cursor: pointer;display: block;width: 100%;margin-bottom: 0;padding: 0.3em;box-sizing: border-box;text-align: center;}#sk-container-id-7 label.sk-toggleable__label-arrow:before {content: \"▸\";float: left;margin-right: 0.25em;color: #696969;}#sk-container-id-7 label.sk-toggleable__label-arrow:hover:before {color: black;}#sk-container-id-7 div.sk-estimator:hover label.sk-toggleable__label-arrow:before {color: black;}#sk-container-id-7 div.sk-toggleable__content {max-height: 0;max-width: 0;overflow: hidden;text-align: left;background-color: #f0f8ff;}#sk-container-id-7 div.sk-toggleable__content pre {margin: 0.2em;color: black;border-radius: 0.25em;background-color: #f0f8ff;}#sk-container-id-7 input.sk-toggleable__control:checked~div.sk-toggleable__content {max-height: 200px;max-width: 100%;overflow: auto;}#sk-container-id-7 input.sk-toggleable__control:checked~label.sk-toggleable__label-arrow:before {content: \"▾\";}#sk-container-id-7 div.sk-estimator input.sk-toggleable__control:checked~label.sk-toggleable__label {background-color: #d4ebff;}#sk-container-id-7 div.sk-label input.sk-toggleable__control:checked~label.sk-toggleable__label {background-color: #d4ebff;}#sk-container-id-7 input.sk-hidden--visually {border: 0;clip: rect(1px 1px 1px 1px);clip: rect(1px, 1px, 1px, 1px);height: 1px;margin: -1px;overflow: hidden;padding: 0;position: absolute;width: 1px;}#sk-container-id-7 div.sk-estimator {font-family: monospace;background-color: #f0f8ff;border: 1px dotted black;border-radius: 0.25em;box-sizing: border-box;margin-bottom: 0.5em;}#sk-container-id-7 div.sk-estimator:hover {background-color: #d4ebff;}#sk-container-id-7 div.sk-parallel-item::after {content: \"\";width: 100%;border-bottom: 1px solid gray;flex-grow: 1;}#sk-container-id-7 div.sk-label:hover label.sk-toggleable__label {background-color: #d4ebff;}#sk-container-id-7 div.sk-serial::before {content: \"\";position: absolute;border-left: 1px solid gray;box-sizing: border-box;top: 0;bottom: 0;left: 50%;z-index: 0;}#sk-container-id-7 div.sk-serial {display: flex;flex-direction: column;align-items: center;background-color: white;padding-right: 0.2em;padding-left: 0.2em;position: relative;}#sk-container-id-7 div.sk-item {position: relative;z-index: 1;}#sk-container-id-7 div.sk-parallel {display: flex;align-items: stretch;justify-content: center;background-color: white;position: relative;}#sk-container-id-7 div.sk-item::before, #sk-container-id-7 div.sk-parallel-item::before {content: \"\";position: absolute;border-left: 1px solid gray;box-sizing: border-box;top: 0;bottom: 0;left: 50%;z-index: -1;}#sk-container-id-7 div.sk-parallel-item {display: flex;flex-direction: column;z-index: 1;position: relative;background-color: white;}#sk-container-id-7 div.sk-parallel-item:first-child::after {align-self: flex-end;width: 50%;}#sk-container-id-7 div.sk-parallel-item:last-child::after {align-self: flex-start;width: 50%;}#sk-container-id-7 div.sk-parallel-item:only-child::after {width: 0;}#sk-container-id-7 div.sk-dashed-wrapped {border: 1px dashed gray;margin: 0 0.4em 0.5em 0.4em;box-sizing: border-box;padding-bottom: 0.4em;background-color: white;}#sk-container-id-7 div.sk-label label {font-family: monospace;font-weight: bold;display: inline-block;line-height: 1.2em;}#sk-container-id-7 div.sk-label-container {text-align: center;}#sk-container-id-7 div.sk-container {/* jupyter's `normalize.less` sets `[hidden] { display: none; }` but bootstrap.min.css set `[hidden] { display: none !important; }` so we also need the `!important` here to be able to override the default hidden behavior on the sphinx rendered scikit-learn.org. See: https://github.com/scikit-learn/scikit-learn/issues/21755 */display: inline-block !important;position: relative;}#sk-container-id-7 div.sk-text-repr-fallback {display: none;}</style><div id=\"sk-container-id-7\" class=\"sk-top-container\"><div class=\"sk-text-repr-fallback\"><pre>XGBClassifier(base_score=None, booster=None, callbacks=None,\n",
       "              colsample_bylevel=None, colsample_bynode=None,\n",
       "              colsample_bytree=None, device=None, early_stopping_rounds=None,\n",
       "              enable_categorical=False, eval_metric=None, feature_types=None,\n",
       "              gamma=None, grow_policy=None, importance_type=None,\n",
       "              interaction_constraints=None, learning_rate=0.01, max_bin=None,\n",
       "              max_cat_threshold=None, max_cat_to_onehot=None,\n",
       "              max_delta_step=None, max_depth=14, max_leaves=None,\n",
       "              min_child_weight=None, missing=nan, monotone_constraints=None,\n",
       "              multi_strategy=None, n_estimators=320, n_jobs=None,\n",
       "              num_parallel_tree=None, random_state=None, ...)</pre><b>In a Jupyter environment, please rerun this cell to show the HTML representation or trust the notebook. <br />On GitHub, the HTML representation is unable to render, please try loading this page with nbviewer.org.</b></div><div class=\"sk-container\" hidden><div class=\"sk-item\"><div class=\"sk-estimator sk-toggleable\"><input class=\"sk-toggleable__control sk-hidden--visually\" id=\"sk-estimator-id-13\" type=\"checkbox\" checked><label for=\"sk-estimator-id-13\" class=\"sk-toggleable__label sk-toggleable__label-arrow\">XGBClassifier</label><div class=\"sk-toggleable__content\"><pre>XGBClassifier(base_score=None, booster=None, callbacks=None,\n",
       "              colsample_bylevel=None, colsample_bynode=None,\n",
       "              colsample_bytree=None, device=None, early_stopping_rounds=None,\n",
       "              enable_categorical=False, eval_metric=None, feature_types=None,\n",
       "              gamma=None, grow_policy=None, importance_type=None,\n",
       "              interaction_constraints=None, learning_rate=0.01, max_bin=None,\n",
       "              max_cat_threshold=None, max_cat_to_onehot=None,\n",
       "              max_delta_step=None, max_depth=14, max_leaves=None,\n",
       "              min_child_weight=None, missing=nan, monotone_constraints=None,\n",
       "              multi_strategy=None, n_estimators=320, n_jobs=None,\n",
       "              num_parallel_tree=None, random_state=None, ...)</pre></div></div></div></div></div>"
      ],
      "text/plain": [
       "XGBClassifier(base_score=None, booster=None, callbacks=None,\n",
       "              colsample_bylevel=None, colsample_bynode=None,\n",
       "              colsample_bytree=None, device=None, early_stopping_rounds=None,\n",
       "              enable_categorical=False, eval_metric=None, feature_types=None,\n",
       "              gamma=None, grow_policy=None, importance_type=None,\n",
       "              interaction_constraints=None, learning_rate=0.01, max_bin=None,\n",
       "              max_cat_threshold=None, max_cat_to_onehot=None,\n",
       "              max_delta_step=None, max_depth=14, max_leaves=None,\n",
       "              min_child_weight=None, missing=nan, monotone_constraints=None,\n",
       "              multi_strategy=None, n_estimators=320, n_jobs=None,\n",
       "              num_parallel_tree=None, random_state=None, ...)"
      ]
     },
     "execution_count": 34,
     "metadata": {},
     "output_type": "execute_result"
    }
   ],
   "source": [
    "best_model = xgboost.XGBClassifier(\n",
    "    objective= 'binary:logistic', learning_rate=0.01, max_depth=14, n_estimators=320)\n",
    "best_model.fit(balanced[features], balanced['power_outage'])"
   ]
  },
  {
   "cell_type": "code",
   "execution_count": 35,
   "id": "32813a14-28aa-487d-b94f-ed39f3df3f39",
   "metadata": {},
   "outputs": [
    {
     "name": "stdout",
     "output_type": "stream",
     "text": [
      "precision:  0.8515185601799775\n",
      "recall:  0.15431134062648638\n"
     ]
    }
   ],
   "source": [
    "preds = best_model.predict(tor_val[features])\n",
    "prec = precision_score(preds, tor_val['power_outage'])\n",
    "recall = recall_score(preds, tor_val['power_outage'])\n",
    "print(\"precision: \", prec)\n",
    "print(\"recall: \", recall)"
   ]
  },
  {
   "cell_type": "code",
   "execution_count": 36,
   "id": "649a465c-4647-491f-afc3-4db064c29783",
   "metadata": {},
   "outputs": [
    {
     "data": {
      "image/png": "[encoded data removed]",
      "text/plain": [
       "<Figure size 432x288 with 1 Axes>"
      ]
     },
     "metadata": {
      "needs_background": "light"
     },
     "output_type": "display_data"
    }
   ],
   "source": [
    "from sklearn.metrics import PrecisionRecallDisplay\n",
    "\n",
    "display = PrecisionRecallDisplay.from_estimator(\n",
    "    best_model, tor_val[features], tor_val['power_outage'], name=\"xGBoost\")\n",
    "_ = display.ax_.set_title(\"2-class Precision-Recall curve\")"
   ]
  },
  {
   "cell_type": "code",
   "execution_count": 37,
   "id": "4382fe46-872d-47c9-b030-d909eb9fa008",
   "metadata": {},
   "outputs": [
    {
     "data": {
      "image/png": "[encoded data removed]",
      "text/plain": [
       "<Figure size 432x288 with 1 Axes>"
      ]
     },
     "metadata": {
      "needs_background": "light"
     },
     "output_type": "display_data"
    }
   ],
   "source": [
    "from sklearn.metrics import RocCurveDisplay\n",
    "display = RocCurveDisplay.from_estimator(\n",
    "    best_model, tor_val[features], tor_val['power_outage'], name=\"xGBoost\")\n",
    "_ = display.ax_.set_title(\"2-class ROC curve\")"
   ]
  },
  {
   "cell_type": "code",
   "execution_count": 39,
   "id": "d1f0faad-74da-4d67-89be-34e2da6b2935",
   "metadata": {},
   "outputs": [
    {
     "data": {
      "text/plain": [
       "{'LAT_mean': 4.38847017288208,\n",
       " 'LON_mean': 5.330265998840332,\n",
       " 'AVGDV_max': 1.5012129545211792,\n",
       " 'LLDV_max': 1.4860434532165527,\n",
       " 'MXDV_max': 1.9206308126449585,\n",
       " 'Month': 9.31014347076416}"
      ]
     },
     "execution_count": 39,
     "metadata": {},
     "output_type": "execute_result"
    }
   ],
   "source": [
    "best_model.get_booster().get_score(importance_type='gain')"
   ]
  },
  {
   "cell_type": "code",
   "execution_count": null,
   "id": "85df8161-d283-40fc-90b0-0e5ff0813fea",
   "metadata": {},
   "outputs": [],
   "source": []
  }
 ],
 "metadata": {
  "kernelspec": {
   "display_name": "Python 3 (ipykernel)",
   "language": "python",
   "name": "python3"
  },
  "language_info": {
   "codemirror_mode": {
    "name": "ipython",
    "version": 3
   },
   "file_extension": ".py",
   "mimetype": "text/x-python",
   "name": "python",
   "nbconvert_exporter": "python",
   "pygments_lexer": "ipython3",
   "version": "3.11.6"
  }
 },
 "nbformat": 4,
 "nbformat_minor": 5
}
