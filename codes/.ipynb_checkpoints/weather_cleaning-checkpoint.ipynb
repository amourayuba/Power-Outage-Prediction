{
 "cells": [
  {
   "cell_type": "code",
   "execution_count": 31,
   "id": "13f2a574-427c-4f96-abb9-8ff92a7c4881",
   "metadata": {},
   "outputs": [],
   "source": [
    "import pandas as pd\n",
    "import numpy as np\n",
    "import ftplib\n",
    "import requests\n",
    "import re"
   ]
  },
  {
   "cell_type": "markdown",
   "id": "dacd2cec-6001-4fa6-adb1-3e934c7ae8c9",
   "metadata": {},
   "source": [
    "# Type of files and their significance can be found in the doc: \n",
    "https://www.ncdc.noaa.gov/swdiws/csv/nx3tvs and https://www.ncdc.noaa.gov/swdiws\n",
    "\n",
    "1) Hail: events where hail has been recorded\n",
    "2) Meso and MDA: legacy mesocyclone and Mesocyclone Detection Algorithm. Legacy stops at 2010, and MDA doesn't start until 2007. Maybe use Meso until 2010 and continue with MDA after\n",
    "3) TVS: Tornadic Vortex Signature Overlay- A product which shows an intense gate to gate azimuthal shear associated with tornadic-scale rotation.\n",
    "4) Structure: Storm Cell Structure Information\n",
    "5) nldn: Lightning strikes data. They give the count of lightning strikes within 0.1 in lat and lon of a given region\n",
    "All the \"tiles\" files are Lightning strikes data. Maybe what type of event provoqued that strike? "
   ]
  },
  {
   "cell_type": "markdown",
   "id": "30c38921-cace-4868-a6ab-2f2a9e15a4f9",
   "metadata": {},
   "source": [
    "# Connect and get all the files"
   ]
  },
  {
   "cell_type": "code",
   "execution_count": 29,
   "id": "456efde3-ef87-4240-a465-2371dee70186",
   "metadata": {},
   "outputs": [],
   "source": [
    "# connect to the server\n",
    "ftp = ftplib.FTP('ftp.ncdc.noaa.gov', timeout=30) #pass the url without protocol\n",
    "ftp.login() #pass credentials if anonymous access is not allowed\n",
    "\n",
    "# switch to the directory containing the data\n",
    "ftp.cwd('/pub/data/swdi/database-csv/v2/')\n",
    "ftp.pwd()\n",
    "\n",
    "httpurl = 'https://www.ncei.noaa.gov/pub/data/swdi/database-csv/v2/'\n",
    "# get the list of files in this ftp dir\n",
    "all_files= ftp.nlst()"
   ]
  },
  {
   "cell_type": "code",
   "execution_count": 67,
   "id": "8b6e2976-e23a-4dd8-b7c2-28e5ee331106",
   "metadata": {},
   "outputs": [
    {
     "data": {
      "text/plain": [
       "['mda-2008.csv.gz',\n",
       " 'hail-1995.csv.gz',\n",
       " 'mda-2009.csv.gz',\n",
       " 'hail-1996.csv.gz',\n",
       " 'mda-2010.csv.gz',\n",
       " 'hail-1997.csv.gz',\n",
       " 'mda-2011.csv.gz',\n",
       " 'hail-1998.csv.gz',\n",
       " 'mda-2012.csv.gz',\n",
       " 'hail-1999.csv.gz']"
      ]
     },
     "execution_count": 67,
     "metadata": {},
     "output_type": "execute_result"
    }
   ],
   "source": [
    "all_files[:10]"
   ]
  },
  {
   "cell_type": "markdown",
   "id": "ddd544b9-9289-4e66-90ce-b639d62a35f1",
   "metadata": {},
   "source": [
    "## Example with dowloading all hail files"
   ]
  },
  {
   "cell_type": "code",
   "execution_count": 57,
   "id": "282b69d8-f02f-44d2-93cf-d8b6bda716ea",
   "metadata": {},
   "outputs": [
    {
     "name": "stdout",
     "output_type": "stream",
     "text": [
      "['hail-1995.csv.gz', 'hail-1996.csv.gz', 'hail-1997.csv.gz', 'hail-1998.csv.gz', 'hail-1999.csv.gz', 'hail-2000.csv.gz', 'hail-2001.csv.gz', 'hail-2002.csv.gz', 'hail-2003.csv.gz', 'hail-2004.csv.gz', 'hail-2005.csv.gz', 'hail-2006.csv.gz', 'hail-2007.csv.gz', 'hail-2008.csv.gz', 'hail-2009.csv.gz', 'hail-2010.csv.gz', 'hail-2011.csv.gz', 'hail-2012.csv.gz', 'hail-2013.csv.gz', 'hail-2014.csv.gz', 'hail-2015.csv.gz', 'hail-2016.csv.gz', 'hail-2017.csv.gz', 'hail-2018.csv.gz', 'hail-2019.csv.gz', 'hail-2020.csv.gz', 'hail-2021.csv.gz', 'hail-2022.csv.gz', 'hail-2023.csv.gz']\n"
     ]
    }
   ],
   "source": [
    "pattern = r\"hail-[0-9]{4}\\.\"\n",
    "hail_files = [i for i in all_files if bool(re.match(pattern, i))]\n",
    "hail_files.sort()\n",
    "print(hail_files)"
   ]
  },
  {
   "cell_type": "markdown",
   "id": "d2079182-90f6-4ae4-b60a-d5d135bc23d8",
   "metadata": {},
   "source": [
    "## This downloads one hail file from 2013, stores it on disk, and then reads them into a csv "
   ]
  },
  {
   "cell_type": "code",
   "execution_count": 60,
   "id": "01552ddd-0b5f-464e-8896-d5c6a5046ef7",
   "metadata": {},
   "outputs": [],
   "source": [
    "query_parameters = {\"downloadformat\": \"csv\"}\n",
    "response = requests.get(httpurl+hail_files[-1], params=query_parameters)"
   ]
  },
  {
   "cell_type": "code",
   "execution_count": 61,
   "id": "c3d2742f-7122-4651-af3e-47c8b160b612",
   "metadata": {},
   "outputs": [
    {
     "data": {
      "text/plain": [
       "'https://www.ncei.noaa.gov/pub/data/swdi/database-csv/v2/hail-2023.csv.gz?downloadformat=csv'"
      ]
     },
     "execution_count": 61,
     "metadata": {},
     "output_type": "execute_result"
    }
   ],
   "source": [
    "response.url"
   ]
  },
  {
   "cell_type": "code",
   "execution_count": 62,
   "id": "5a0415ae-7839-49f7-a185-53f419cfe94c",
   "metadata": {},
   "outputs": [
    {
     "data": {
      "text/plain": [
       "True"
      ]
     },
     "execution_count": 62,
     "metadata": {},
     "output_type": "execute_result"
    }
   ],
   "source": [
    "response.ok"
   ]
  },
  {
   "cell_type": "code",
   "execution_count": 63,
   "id": "334f54d2-79f1-4fc3-acfe-8854ea6c15b8",
   "metadata": {},
   "outputs": [
    {
     "data": {
      "text/plain": [
       "200"
      ]
     },
     "execution_count": 63,
     "metadata": {},
     "output_type": "execute_result"
    }
   ],
   "source": [
    "response.status_code"
   ]
  },
  {
   "cell_type": "code",
   "execution_count": 64,
   "id": "5900e52c-a914-4736-ab57-7e200262eb88",
   "metadata": {},
   "outputs": [],
   "source": [
    "with open(r'../weather_data/hail/' \n",
    "              + hail_files[-1], \"wb\") as file:\n",
    "    file.write(response.content)"
   ]
  },
  {
   "cell_type": "code",
   "execution_count": 65,
   "id": "4bc39ed3-c80a-4066-9ce5-f3ebc01c2af6",
   "metadata": {},
   "outputs": [
    {
     "data": {
      "text/html": [
       "<div>\n",
       "<style scoped>\n",
       "    .dataframe tbody tr th:only-of-type {\n",
       "        vertical-align: middle;\n",
       "    }\n",
       "\n",
       "    .dataframe tbody tr th {\n",
       "        vertical-align: top;\n",
       "    }\n",
       "\n",
       "    .dataframe thead th {\n",
       "        text-align: right;\n",
       "    }\n",
       "</style>\n",
       "<table border=\"1\" class=\"dataframe\">\n",
       "  <thead>\n",
       "    <tr style=\"text-align: right;\">\n",
       "      <th></th>\n",
       "      <th>#ZTIME</th>\n",
       "      <th>LON</th>\n",
       "      <th>LAT</th>\n",
       "      <th>WSR_ID</th>\n",
       "      <th>CELL_ID</th>\n",
       "      <th>RANGE</th>\n",
       "      <th>AZIMUTH</th>\n",
       "      <th>SEVPROB</th>\n",
       "      <th>PROB</th>\n",
       "      <th>MAXSIZE</th>\n",
       "    </tr>\n",
       "  </thead>\n",
       "  <tbody>\n",
       "    <tr>\n",
       "      <th>0</th>\n",
       "      <td>2023-01-01 00:01:45</td>\n",
       "      <td>-76.98093</td>\n",
       "      <td>33.78684</td>\n",
       "      <td>KRAX</td>\n",
       "      <td>K7</td>\n",
       "      <td>135</td>\n",
       "      <td>146</td>\n",
       "      <td>-999</td>\n",
       "      <td>-999</td>\n",
       "      <td>-999.0</td>\n",
       "    </tr>\n",
       "    <tr>\n",
       "      <th>1</th>\n",
       "      <td>2023-01-01 00:01:45</td>\n",
       "      <td>-75.84620</td>\n",
       "      <td>36.05329</td>\n",
       "      <td>KRAX</td>\n",
       "      <td>D8</td>\n",
       "      <td>131</td>\n",
       "      <td>79</td>\n",
       "      <td>-999</td>\n",
       "      <td>-999</td>\n",
       "      <td>-999.0</td>\n",
       "    </tr>\n",
       "    <tr>\n",
       "      <th>2</th>\n",
       "      <td>2023-01-01 00:03:25</td>\n",
       "      <td>-76.96301</td>\n",
       "      <td>33.80832</td>\n",
       "      <td>KLTX</td>\n",
       "      <td>H7</td>\n",
       "      <td>74</td>\n",
       "      <td>98</td>\n",
       "      <td>0</td>\n",
       "      <td>10</td>\n",
       "      <td>0.5</td>\n",
       "    </tr>\n",
       "    <tr>\n",
       "      <th>3</th>\n",
       "      <td>2023-01-01 00:04:05</td>\n",
       "      <td>-64.43412</td>\n",
       "      <td>19.83733</td>\n",
       "      <td>TJUA</td>\n",
       "      <td>L0</td>\n",
       "      <td>139</td>\n",
       "      <td>42</td>\n",
       "      <td>-999</td>\n",
       "      <td>-999</td>\n",
       "      <td>-999.0</td>\n",
       "    </tr>\n",
       "    <tr>\n",
       "      <th>4</th>\n",
       "      <td>2023-01-01 00:06:21</td>\n",
       "      <td>-77.72771</td>\n",
       "      <td>32.79592</td>\n",
       "      <td>KMHX</td>\n",
       "      <td>X9</td>\n",
       "      <td>126</td>\n",
       "      <td>200</td>\n",
       "      <td>-999</td>\n",
       "      <td>-999</td>\n",
       "      <td>-999.0</td>\n",
       "    </tr>\n",
       "  </tbody>\n",
       "</table>\n",
       "</div>"
      ],
      "text/plain": [
       "               #ZTIME       LON       LAT WSR_ID CELL_ID  RANGE  AZIMUTH  \\\n",
       "0 2023-01-01 00:01:45 -76.98093  33.78684   KRAX      K7    135      146   \n",
       "1 2023-01-01 00:01:45 -75.84620  36.05329   KRAX      D8    131       79   \n",
       "2 2023-01-01 00:03:25 -76.96301  33.80832   KLTX      H7     74       98   \n",
       "3 2023-01-01 00:04:05 -64.43412  19.83733   TJUA      L0    139       42   \n",
       "4 2023-01-01 00:06:21 -77.72771  32.79592   KMHX      X9    126      200   \n",
       "\n",
       "   SEVPROB  PROB  MAXSIZE  \n",
       "0     -999  -999   -999.0  \n",
       "1     -999  -999   -999.0  \n",
       "2        0    10      0.5  \n",
       "3     -999  -999   -999.0  \n",
       "4     -999  -999   -999.0  "
      ]
     },
     "execution_count": 65,
     "metadata": {},
     "output_type": "execute_result"
    }
   ],
   "source": [
    "hail_2023 = pd.read_csv(r'../weather_data/hail/' \n",
    "              + hail_files[-1], skiprows=2, parse_dates=['#ZTIME'])\n",
    "hail_2023.head()"
   ]
  },
  {
   "cell_type": "markdown",
   "id": "51f07e27-0fc6-4949-a267-a8fa611f571d",
   "metadata": {},
   "source": [
    "# Data looks great, so we can do it for all of any type of file"
   ]
  },
  {
   "cell_type": "code",
   "execution_count": 73,
   "id": "f7ab9b07-671f-4ad3-b78a-73d69f04300e",
   "metadata": {},
   "outputs": [],
   "source": [
    "event_types = ['hail', 'structure', 'tvs', 'nldn-tiles']\n",
    "event = event_types[-1] # Lightning"
   ]
  },
  {
   "cell_type": "code",
   "execution_count": 74,
   "id": "070615e2-e981-4d8b-8212-b26c6d6baf18",
   "metadata": {},
   "outputs": [
    {
     "name": "stdout",
     "output_type": "stream",
     "text": [
      "['nldn-tiles-1986.csv.gz', 'nldn-tiles-1987.csv.gz', 'nldn-tiles-1988.csv.gz', 'nldn-tiles-1989.csv.gz', 'nldn-tiles-1990.csv.gz', 'nldn-tiles-1991.csv.gz', 'nldn-tiles-1992.csv.gz', 'nldn-tiles-1993.csv.gz', 'nldn-tiles-1994.csv.gz', 'nldn-tiles-1995.csv.gz', 'nldn-tiles-1996.csv.gz', 'nldn-tiles-1997.csv.gz', 'nldn-tiles-1998.csv.gz', 'nldn-tiles-1999.csv.gz', 'nldn-tiles-2000.csv.gz', 'nldn-tiles-2001.csv.gz', 'nldn-tiles-2002.csv.gz', 'nldn-tiles-2003.csv.gz', 'nldn-tiles-2004.csv.gz', 'nldn-tiles-2005.csv.gz', 'nldn-tiles-2006.csv.gz', 'nldn-tiles-2007.csv.gz', 'nldn-tiles-2008.csv.gz', 'nldn-tiles-2009.csv.gz', 'nldn-tiles-2010.csv.gz', 'nldn-tiles-2011.csv.gz', 'nldn-tiles-2012.csv.gz', 'nldn-tiles-2013.csv.gz', 'nldn-tiles-2014.csv.gz', 'nldn-tiles-2015.csv.gz', 'nldn-tiles-2016.csv.gz', 'nldn-tiles-2017.csv.gz', 'nldn-tiles-2018.csv.gz', 'nldn-tiles-2019.csv.gz', 'nldn-tiles-2020.csv.gz', 'nldn-tiles-2021.csv.gz', 'nldn-tiles-2022.csv.gz', 'nldn-tiles-2023.csv.gz']\n"
     ]
    }
   ],
   "source": [
    "pattern = event+r\"-[0-9]{4}\\.\"\n",
    "hail_files = [i for i in all_files if bool(re.match(pattern, i))]\n",
    "hail_files.sort()\n",
    "print(hail_files)"
   ]
  },
  {
   "cell_type": "code",
   "execution_count": null,
   "id": "b48891bd-5de6-42de-abec-ae3e6d04ecfe",
   "metadata": {},
   "outputs": [],
   "source": [
    "query_parameters = {\"downloadformat\": \"csv\"}\n",
    "for file in hail_files:\n",
    "    response = requests.get(httpurl+file, params=query_parameters)\n",
    "    if response.ok:\n",
    "        print(\"Downloaded\")\n",
    "    with open(r'../weather_data/{}/{}'.format(event, file), \"wb\") as f:\n",
    "        f.write(response.content)\n",
    "    print('Saved in folder')"
   ]
  }
 ],
 "metadata": {
  "kernelspec": {
   "display_name": "python_env",
   "language": "python",
   "name": "python_env"
  },
  "language_info": {
   "codemirror_mode": {
    "name": "ipython",
    "version": 3
   },
   "file_extension": ".py",
   "mimetype": "text/x-python",
   "name": "python",
   "nbconvert_exporter": "python",
   "pygments_lexer": "ipython3",
   "version": "3.11.6"
  }
 },
 "nbformat": 4,
 "nbformat_minor": 5
}
