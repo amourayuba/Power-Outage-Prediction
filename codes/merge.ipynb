{
 "cells": [
  {
   "cell_type": "code",
   "execution_count": 1,
   "id": "17e9339c-7312-4ada-a779-b6839e8f1e50",
   "metadata": {},
   "outputs": [],
   "source": [
    "import reverse_geocoder as rg\n",
    "import pandas as pd\n",
    "import numpy as np\n",
    "import ftplib\n",
    "import requests\n",
    "import matplotlib.pyplot as plt\n",
    "import os\n",
    "import re"
   ]
  },
  {
   "cell_type": "code",
   "execution_count": 2,
   "id": "fc52b2fc-ca92-481a-885d-64ed4c2330ad",
   "metadata": {},
   "outputs": [],
   "source": [
    "def clean_lightning(lightning):\n",
    "    lightning['#ZDAY'] = pd.to_datetime(lightning['#ZDAY'], format='%Y%m%d')\n",
    "    # add county and state columns\n",
    "    addresses = rg.search(list(zip(lightning['CENTERLAT'],lightning['CENTERLON'])))\n",
    "    lightning['county'] = [x['admin2'] for x in addresses]\n",
    "    lightning['state'] = [x['admin1'] for x in addresses]\n",
    "    ## drop rows with no county (occurs when not in US)\n",
    "    lightning = lightning[lightning['county'] != '']\n",
    "    return lightning"
   ]
  },
  {
   "cell_type": "code",
   "execution_count": 3,
   "id": "3338c728-a58f-4e70-a602-12c71cee296b",
   "metadata": {},
   "outputs": [],
   "source": [
    "def clean_power(power):\n",
    "    power['Date Event Began'] = pd.to_datetime(power['Date Event Began'], format='%m/%d/%Y')\n",
    "    power = power[power['Event Type'].str.contains(r'Severe Weather', regex=True)]\n",
    "    return power.drop(columns=['Month', 'Time Event Began', 'Date of Restoration', 'Time of Restoration', \n",
    "                         'NERC Region', 'Alert Criteria', 'Event Type', 'Demand Loss (MW)', 'Number of Customers Affected'])"
   ]
  },
  {
   "cell_type": "code",
   "execution_count": 4,
   "id": "fc180bde-7225-4a82-975d-4a9dff26525c",
   "metadata": {},
   "outputs": [],
   "source": [
    "# get all US states\n",
    "counties = pd.read_csv(\"../extras/uscounties.csv\", index_col=0)\n",
    "counties['county'] = counties['county'].astype(str)"
   ]
  },
  {
   "cell_type": "code",
   "execution_count": 5,
   "id": "a562ebfe-65e3-40d1-b03a-f93b338dd977",
   "metadata": {},
   "outputs": [],
   "source": [
    "def in_area(county,state,area_affected):\n",
    "    \"\"\"\n",
    "    input:\n",
    "\n",
    "    county, state: the county and state of the weather event\n",
    "    area_affected: the area affected by the power outage(a string listing states and possibly counties)\n",
    "    has_county_info: whether area_affected\n",
    "\n",
    "    output: True if either state and county are both in area_affected, or\n",
    "            False if state is in area_affected and there is no county info for area_affected\n",
    "    \"\"\"\n",
    "    if not county or not state or not area_affected:\n",
    "        raise Exception(f\"Invalid (null) input. county: {county}, state: {state}, area_affected: {area_affected}\")\n",
    "\n",
    "    # adding a colon to state ensures that it's matched exactly to a state in area_affected\n",
    "    # (rather than a county whose name is a state)\n",
    "    stateC = ''.join([state,':'])\n",
    "\n",
    "    # has_county_info is True if area_affected includes a county, false otherwise\n",
    "    has_county_info = any(cty in area_affected for cty in counties[counties['state'] == state]['county'])\n",
    "    \n",
    "    return stateC in area_affected and (county in area_affected or not has_county_info)"
   ]
  },
  {
   "cell_type": "code",
   "execution_count": 6,
   "id": "1ba9f48c-b763-4450-b22f-407f0064e4d3",
   "metadata": {},
   "outputs": [],
   "source": [
    "def merge_lightning(lightning,power):\n",
    "    \"\"\"\n",
    "    Merge the lightning data and power data for a given year\n",
    "    \"\"\"\n",
    "    lightning = clean_lightning(lightning)\n",
    "    power = clean_power(power)\n",
    "    merged = pd.merge(lightning, power, how='left', left_on='#ZDAY', right_on='Date Event Began', indicator=True)\n",
    "    merged['power_outage'] = merged.apply(lambda row: (row['_merge'] == 'both') and in_area(str(row['county']),\n",
    "                                                                                            str(row['state']),\n",
    "                                                                                            str(row['Area Affected'])),\n",
    "                                          axis = 'columns')\n",
    "    return merged.drop(columns=['Date Event Began', 'Area Affected', '_merge'])"
   ]
  },
  {
   "cell_type": "code",
   "execution_count": 7,
   "id": "55206573-6171-4de0-8e03-3717ed274ecf",
   "metadata": {},
   "outputs": [],
   "source": [
    "event_types = {'hail':'hail', 'storm_structure':'structure', 'tornados':'tvs', 'lightning':'nldn-tiles', 'mesocyclone':'mda'}\n",
    "for event in event_types:\n",
    "    path = '../weather_data/'+event\n",
    "    if not os.path.exists(path):\n",
    "        os.mkdir(path)"
   ]
  },
  {
   "cell_type": "code",
   "execution_count": 8,
   "id": "27b3e854-67ad-44a2-937d-a2c86ad0991b",
   "metadata": {},
   "outputs": [],
   "source": [
    "# connect to the server\n",
    "ftp = ftplib.FTP('ftp.ncdc.noaa.gov', timeout=30) #pass the url without protocol\n",
    "ftp.login() #pass credentials if anonymous access is not allowed\n",
    "\n",
    "# switch to the directory containing the data\n",
    "ftp.cwd('/pub/data/swdi/database-csv/v2/')\n",
    "ftp.pwd()\n",
    "\n",
    "httpurl = 'https://www.ncei.noaa.gov/pub/data/swdi/database-csv/v2/'\n",
    "# get the list of files in this ftp dir\n",
    "all_files= ftp.nlst()"
   ]
  },
  {
   "cell_type": "code",
   "execution_count": 9,
   "id": "4ebd25ab-9285-49f9-b34c-e41214431795",
   "metadata": {},
   "outputs": [],
   "source": [
    "def download_file(year, event_type):\n",
    "    event_name = event_types[event_type]\n",
    "    pattern = event_name+\"-\"+str(year)\n",
    "    file_name = [fname for fname in all_files if pattern in fname]\n",
    "    if len(file_name) == 0:\n",
    "        return \"No file in that year for that event type\" \n",
    "    file_name = file_name[0]\n",
    "    print(\"Considering file \", file_name)\n",
    "    if os.path.exists('../weather_data/{}/{}'.format(event_type, file_name)):\n",
    "        return \"file already exists\"\n",
    "    query_parameters = {\"downloadformat\": \"csv\"}\n",
    "    print(\"Getting the response from the URL .....\")\n",
    "    response = requests.get(httpurl+file_name, params=query_parameters)\n",
    "    if response.ok:\n",
    "        print(\"Downloaded succesfully\")\n",
    "    with open(r'../weather_data/{}/{}'.format(event_type, file_name), \"wb\") as f:\n",
    "        f.write(response.content)\n",
    "    print('Saved in folder')"
   ]
  },
  {
   "cell_type": "code",
   "execution_count": 10,
   "id": "b1085542-bf79-4235-89b9-27c775290d9e",
   "metadata": {},
   "outputs": [],
   "source": [
    "def read_weather(year, event_type):\n",
    "    files = os.listdir('../weather_data/'+event_type)\n",
    "    file_name = [fname for fname in files if str(year) in fname]\n",
    "    if len(file_name) == 0:\n",
    "        return \"No file in that year for that event type\"\n",
    "    if len(file_name) > 1:\n",
    "        return \"Multiple files with that year in their name\"\n",
    "    if event_type == 'lightning' or event_type == 'tornado':\n",
    "        return pd.read_csv(r'../weather_data/'+event_type+'/'\n",
    "                  + file_name[0], skiprows=2, parse_dates=['#ZDAY'])\n",
    "    return pd.read_csv(r'../weather_data/'+event_type+'/'\n",
    "                  + file_name[0], skiprows=2, parse_dates=['#ZTIME'])"
   ]
  },
  {
   "cell_type": "code",
   "execution_count": 11,
   "id": "e82726a0-36f5-4e2c-8854-dcd1d6d009c5",
   "metadata": {},
   "outputs": [],
   "source": [
    "def merge(year, event_type):\n",
    "    weather = read_weather(year,event_type)\n",
    "    print(weather.info())\n",
    "    power= pd.read_excel('../power_data/' + str(year) + '_Annual_Summary.xls', skiprows=1)\n",
    "    if event_type == 'lightning':\n",
    "        return merge_lightning(weather,power)\n",
    "    else:\n",
    "        # TODO: implement\n",
    "        pass"
   ]
  },
  {
   "cell_type": "code",
   "execution_count": null,
   "id": "48bec22b-0cca-48d9-8678-af333dbb7018",
   "metadata": {},
   "outputs": [
    {
     "name": "stdout",
     "output_type": "stream",
     "text": [
      "<class 'pandas.core.frame.DataFrame'>\n",
      "RangeIndex: 3073235 entries, 0 to 3073234\n",
      "Data columns (total 4 columns):\n",
      " #   Column       Dtype         \n",
      "---  ------       -----         \n",
      " 0   #ZDAY        datetime64[ns]\n",
      " 1   CENTERLON    float64       \n",
      " 2   CENTERLAT    float64       \n",
      " 3   TOTAL_COUNT  int64         \n",
      "dtypes: datetime64[ns](1), float64(2), int64(1)\n",
      "memory usage: 93.8 MB\n",
      "None\n",
      "WARNING *** file size (96452) not 512 + multiple of sector size (512)\n",
      "Loading formatted geocoded file...\n"
     ]
    }
   ],
   "source": [
    "merged_lightning_2019 = merge(2019, 'lightning')"
   ]
  },
  {
   "cell_type": "code",
   "execution_count": null,
   "id": "f8db125f-0f62-4b36-9996-eabba947cd13",
   "metadata": {},
   "outputs": [],
   "source": [
    "merged_lightning_2019"
   ]
  },
  {
   "cell_type": "code",
   "execution_count": null,
   "id": "ff2ace01-5a7b-43dd-9696-cebb83b7d0e1",
   "metadata": {},
   "outputs": [],
   "source": []
  }
 ],
 "metadata": {
  "kernelspec": {
   "display_name": "Python 3 (ipykernel)",
   "language": "python",
   "name": "python3"
  },
  "language_info": {
   "codemirror_mode": {
    "name": "ipython",
    "version": 3
   },
   "file_extension": ".py",
   "mimetype": "text/x-python",
   "name": "python",
   "nbconvert_exporter": "python",
   "pygments_lexer": "ipython3",
   "version": "3.8.18"
  }
 },
 "nbformat": 4,
 "nbformat_minor": 5
}
