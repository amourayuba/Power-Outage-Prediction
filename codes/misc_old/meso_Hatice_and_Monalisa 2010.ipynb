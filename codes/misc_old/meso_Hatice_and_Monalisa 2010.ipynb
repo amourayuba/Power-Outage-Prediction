{
 "cells": [
  {
   "cell_type": "code",
   "execution_count": 1,
   "metadata": {},
   "outputs": [],
   "source": [
    "import pandas as pd\n",
    "import numpy as np\n",
    "import ftplib\n",
    "import requests\n",
    "import matplotlib.pyplot as plt\n",
    "import os\n",
    "import re\n",
    "from datetime import datetime\n",
    "import matplotlib as mpl \n",
    "mpl.rcParams[\"figure.dpi\"] = 150\n",
    "import seaborn as sns\n",
    "import os"
   ]
  },
  {
   "cell_type": "code",
   "execution_count": 38,
   "metadata": {},
   "outputs": [
    {
     "name": "stdout",
     "output_type": "stream",
     "text": [
      "Defaulting to user installation because normal site-packages is not writeable\n",
      "Requirement already satisfied: reverse-geocoder in c:\\users\\squis\\appdata\\local\\packages\\pythonsoftwarefoundation.python.3.12_qbz5n2kfra8p0\\localcache\\local-packages\\python312\\site-packages (1.5.1)\n",
      "Requirement already satisfied: numpy>=1.11.0 in c:\\users\\squis\\appdata\\local\\packages\\pythonsoftwarefoundation.python.3.12_qbz5n2kfra8p0\\localcache\\local-packages\\python312\\site-packages (from reverse-geocoder) (1.26.4)\n",
      "Requirement already satisfied: scipy>=0.17.1 in c:\\users\\squis\\appdata\\local\\packages\\pythonsoftwarefoundation.python.3.12_qbz5n2kfra8p0\\localcache\\local-packages\\python312\\site-packages (from reverse-geocoder) (1.12.0)\n",
      "Note: you may need to restart the kernel to use updated packages.\n"
     ]
    }
   ],
   "source": [
    "pip install reverse-geocoder"
   ]
  },
  {
   "cell_type": "code",
   "execution_count": 37,
   "metadata": {},
   "outputs": [],
   "source": [
    "import reverse_geocoder as rg"
   ]
  },
  {
   "cell_type": "code",
   "execution_count": 36,
   "metadata": {},
   "outputs": [],
   "source": [
    "meso_2010 = pd.read_csv('../weather_data/meso/meso-2010.csv', skiprows=2, parse_dates=['#ZTIME'])"
   ]
  },
  {
   "cell_type": "code",
   "execution_count": 39,
   "metadata": {},
   "outputs": [],
   "source": [
    "# first add a new column containing both lat and lon\n",
    "locations = list(zip(meso_2010['LAT'],meso_2010['LON']))\n",
    "meso_2010['location'] = locations\n",
    "\n",
    "# then get the county (admin2) into a new column\n",
    "address = rg.search(locations)\n",
    "meso_2010['county'] = [x['admin2'] for x in address]\n",
    "meso_2010['state'] = [x['admin1'] for x in address]"
   ]
  },
  {
   "cell_type": "code",
   "execution_count": 40,
   "metadata": {},
   "outputs": [
    {
     "data": {
      "text/html": [
       "<div>\n",
       "<style scoped>\n",
       "    .dataframe tbody tr th:only-of-type {\n",
       "        vertical-align: middle;\n",
       "    }\n",
       "\n",
       "    .dataframe tbody tr th {\n",
       "        vertical-align: top;\n",
       "    }\n",
       "\n",
       "    .dataframe thead th {\n",
       "        text-align: right;\n",
       "    }\n",
       "</style>\n",
       "<table border=\"1\" class=\"dataframe\">\n",
       "  <thead>\n",
       "    <tr style=\"text-align: right;\">\n",
       "      <th></th>\n",
       "      <th>#ZTIME</th>\n",
       "      <th>LON</th>\n",
       "      <th>LAT</th>\n",
       "      <th>WSR_ID</th>\n",
       "      <th>CELL_ID</th>\n",
       "      <th>CELL_TYPE</th>\n",
       "      <th>RANGE</th>\n",
       "      <th>AZIMUTH</th>\n",
       "      <th>BASE_HEIGHT</th>\n",
       "      <th>TOP_HEIGHT</th>\n",
       "      <th>HEIGHT</th>\n",
       "      <th>RADIUS</th>\n",
       "      <th>AZDIA</th>\n",
       "      <th>SHEAR</th>\n",
       "      <th>location</th>\n",
       "      <th>county</th>\n",
       "      <th>state</th>\n",
       "    </tr>\n",
       "  </thead>\n",
       "  <tbody>\n",
       "    <tr>\n",
       "      <th>0</th>\n",
       "      <td>2010-01-01 00:00:25</td>\n",
       "      <td>-95.20293</td>\n",
       "      <td>32.06692</td>\n",
       "      <td>KSHV</td>\n",
       "      <td>M2</td>\n",
       "      <td>UNC SHR</td>\n",
       "      <td>73</td>\n",
       "      <td>252</td>\n",
       "      <td>7.7</td>\n",
       "      <td>7.7</td>\n",
       "      <td>7.7</td>\n",
       "      <td>1.8</td>\n",
       "      <td>4.1</td>\n",
       "      <td>5</td>\n",
       "      <td>(32.06692, -95.20293)</td>\n",
       "      <td>Smith County</td>\n",
       "      <td>Texas</td>\n",
       "    </tr>\n",
       "    <tr>\n",
       "      <th>1</th>\n",
       "      <td>2010-01-01 00:00:50</td>\n",
       "      <td>-109.95558</td>\n",
       "      <td>45.20309</td>\n",
       "      <td>KBLX</td>\n",
       "      <td>NaN</td>\n",
       "      <td>UNC SHR</td>\n",
       "      <td>69</td>\n",
       "      <td>236</td>\n",
       "      <td>14.3</td>\n",
       "      <td>14.3</td>\n",
       "      <td>14.3</td>\n",
       "      <td>2.3</td>\n",
       "      <td>2.9</td>\n",
       "      <td>11</td>\n",
       "      <td>(45.20309, -109.95558)</td>\n",
       "      <td>Stillwater County</td>\n",
       "      <td>Montana</td>\n",
       "    </tr>\n",
       "    <tr>\n",
       "      <th>2</th>\n",
       "      <td>2010-01-01 00:00:50</td>\n",
       "      <td>-110.10992</td>\n",
       "      <td>45.12659</td>\n",
       "      <td>KBLX</td>\n",
       "      <td>NaN</td>\n",
       "      <td>UNC SHR</td>\n",
       "      <td>77</td>\n",
       "      <td>236</td>\n",
       "      <td>16.6</td>\n",
       "      <td>16.6</td>\n",
       "      <td>16.6</td>\n",
       "      <td>13.4</td>\n",
       "      <td>3.2</td>\n",
       "      <td>10</td>\n",
       "      <td>(45.12659, -110.10992)</td>\n",
       "      <td>Park County</td>\n",
       "      <td>Montana</td>\n",
       "    </tr>\n",
       "    <tr>\n",
       "      <th>3</th>\n",
       "      <td>2010-01-01 00:00:50</td>\n",
       "      <td>-109.65312</td>\n",
       "      <td>44.74401</td>\n",
       "      <td>KBLX</td>\n",
       "      <td>NaN</td>\n",
       "      <td>UNC SHR</td>\n",
       "      <td>80</td>\n",
       "      <td>214</td>\n",
       "      <td>17.3</td>\n",
       "      <td>17.3</td>\n",
       "      <td>17.3</td>\n",
       "      <td>10.4</td>\n",
       "      <td>2.6</td>\n",
       "      <td>9</td>\n",
       "      <td>(44.74401, -109.65312)</td>\n",
       "      <td>Carbon County</td>\n",
       "      <td>Montana</td>\n",
       "    </tr>\n",
       "    <tr>\n",
       "      <th>4</th>\n",
       "      <td>2010-01-01 00:00:50</td>\n",
       "      <td>-110.00047</td>\n",
       "      <td>45.99929</td>\n",
       "      <td>KBLX</td>\n",
       "      <td>NaN</td>\n",
       "      <td>UNC SHR</td>\n",
       "      <td>59</td>\n",
       "      <td>279</td>\n",
       "      <td>18.3</td>\n",
       "      <td>18.3</td>\n",
       "      <td>18.3</td>\n",
       "      <td>1.2</td>\n",
       "      <td>3.7</td>\n",
       "      <td>6</td>\n",
       "      <td>(45.99929, -110.00047)</td>\n",
       "      <td>Sweet Grass County</td>\n",
       "      <td>Montana</td>\n",
       "    </tr>\n",
       "  </tbody>\n",
       "</table>\n",
       "</div>"
      ],
      "text/plain": [
       "               #ZTIME        LON       LAT WSR_ID CELL_ID CELL_TYPE  RANGE  \\\n",
       "0 2010-01-01 00:00:25  -95.20293  32.06692   KSHV      M2   UNC SHR     73   \n",
       "1 2010-01-01 00:00:50 -109.95558  45.20309   KBLX     NaN   UNC SHR     69   \n",
       "2 2010-01-01 00:00:50 -110.10992  45.12659   KBLX     NaN   UNC SHR     77   \n",
       "3 2010-01-01 00:00:50 -109.65312  44.74401   KBLX     NaN   UNC SHR     80   \n",
       "4 2010-01-01 00:00:50 -110.00047  45.99929   KBLX     NaN   UNC SHR     59   \n",
       "\n",
       "   AZIMUTH  BASE_HEIGHT  TOP_HEIGHT  HEIGHT  RADIUS  AZDIA  SHEAR  \\\n",
       "0      252          7.7         7.7     7.7     1.8    4.1      5   \n",
       "1      236         14.3        14.3    14.3     2.3    2.9     11   \n",
       "2      236         16.6        16.6    16.6    13.4    3.2     10   \n",
       "3      214         17.3        17.3    17.3    10.4    2.6      9   \n",
       "4      279         18.3        18.3    18.3     1.2    3.7      6   \n",
       "\n",
       "                 location              county    state  \n",
       "0   (32.06692, -95.20293)        Smith County    Texas  \n",
       "1  (45.20309, -109.95558)   Stillwater County  Montana  \n",
       "2  (45.12659, -110.10992)         Park County  Montana  \n",
       "3  (44.74401, -109.65312)       Carbon County  Montana  \n",
       "4  (45.99929, -110.00047)  Sweet Grass County  Montana  "
      ]
     },
     "execution_count": 40,
     "metadata": {},
     "output_type": "execute_result"
    }
   ],
   "source": [
    "meso_2010.head()"
   ]
  },
  {
   "cell_type": "code",
   "execution_count": 41,
   "metadata": {},
   "outputs": [],
   "source": [
    "def string_split_first(s):\n",
    "    parts = s.split(' ', 1)\n",
    "    return parts[0]\n",
    "def string_split_second(s):\n",
    "    parts = s.split(' ', 1)\n",
    "    return parts[1]"
   ]
  },
  {
   "cell_type": "code",
   "execution_count": 42,
   "metadata": {},
   "outputs": [],
   "source": [
    "def date_to_string(d):\n",
    "    return d.strftime('%Y-%m-%d %H:%M:%S')"
   ]
  },
  {
   "cell_type": "code",
   "execution_count": 20,
   "metadata": {},
   "outputs": [],
   "source": [
    "meso_2010['DATE_STRING']=meso_2010['#ZTIME'].apply(date_to_string)"
   ]
  },
  {
   "cell_type": "code",
   "execution_count": 22,
   "metadata": {},
   "outputs": [],
   "source": [
    "meso_2010['DATE']=meso_2010['DATE_STRING'].apply(string_split_first)"
   ]
  },
  {
   "cell_type": "code",
   "execution_count": 24,
   "metadata": {},
   "outputs": [],
   "source": [
    "meso_2010['TIME']=meso_2010['DATE_STRING'].apply(string_split_second)"
   ]
  },
  {
   "cell_type": "code",
   "execution_count": 47,
   "metadata": {},
   "outputs": [],
   "source": [
    "del meso_2010['WSR_ID']"
   ]
  },
  {
   "cell_type": "code",
   "execution_count": 48,
   "metadata": {},
   "outputs": [],
   "source": [
    "del meso_2010['CELL_ID']"
   ]
  },
  {
   "cell_type": "code",
   "execution_count": 49,
   "metadata": {},
   "outputs": [],
   "source": [
    "del meso_2010['CELL_TYPE']"
   ]
  },
  {
   "cell_type": "code",
   "execution_count": 50,
   "metadata": {},
   "outputs": [],
   "source": [
    "del meso_2010['AZIMUTH']"
   ]
  },
  {
   "cell_type": "code",
   "execution_count": null,
   "metadata": {},
   "outputs": [],
   "source": [
    "del meso_2010['DATE_STRING']"
   ]
  },
  {
   "cell_type": "code",
   "execution_count": 52,
   "metadata": {},
   "outputs": [
    {
     "data": {
      "text/html": [
       "<div>\n",
       "<style scoped>\n",
       "    .dataframe tbody tr th:only-of-type {\n",
       "        vertical-align: middle;\n",
       "    }\n",
       "\n",
       "    .dataframe tbody tr th {\n",
       "        vertical-align: top;\n",
       "    }\n",
       "\n",
       "    .dataframe thead th {\n",
       "        text-align: right;\n",
       "    }\n",
       "</style>\n",
       "<table border=\"1\" class=\"dataframe\">\n",
       "  <thead>\n",
       "    <tr style=\"text-align: right;\">\n",
       "      <th></th>\n",
       "      <th>#ZTIME</th>\n",
       "      <th>LON</th>\n",
       "      <th>LAT</th>\n",
       "      <th>RANGE</th>\n",
       "      <th>BASE_HEIGHT</th>\n",
       "      <th>TOP_HEIGHT</th>\n",
       "      <th>HEIGHT</th>\n",
       "      <th>RADIUS</th>\n",
       "      <th>AZDIA</th>\n",
       "      <th>SHEAR</th>\n",
       "      <th>location</th>\n",
       "      <th>county</th>\n",
       "      <th>state</th>\n",
       "    </tr>\n",
       "  </thead>\n",
       "  <tbody>\n",
       "    <tr>\n",
       "      <th>0</th>\n",
       "      <td>2010-01-01 00:00:25</td>\n",
       "      <td>-95.20293</td>\n",
       "      <td>32.06692</td>\n",
       "      <td>73</td>\n",
       "      <td>7.7</td>\n",
       "      <td>7.7</td>\n",
       "      <td>7.7</td>\n",
       "      <td>1.8</td>\n",
       "      <td>4.1</td>\n",
       "      <td>5</td>\n",
       "      <td>(32.06692, -95.20293)</td>\n",
       "      <td>Smith County</td>\n",
       "      <td>Texas</td>\n",
       "    </tr>\n",
       "    <tr>\n",
       "      <th>1</th>\n",
       "      <td>2010-01-01 00:00:50</td>\n",
       "      <td>-109.95558</td>\n",
       "      <td>45.20309</td>\n",
       "      <td>69</td>\n",
       "      <td>14.3</td>\n",
       "      <td>14.3</td>\n",
       "      <td>14.3</td>\n",
       "      <td>2.3</td>\n",
       "      <td>2.9</td>\n",
       "      <td>11</td>\n",
       "      <td>(45.20309, -109.95558)</td>\n",
       "      <td>Stillwater County</td>\n",
       "      <td>Montana</td>\n",
       "    </tr>\n",
       "    <tr>\n",
       "      <th>2</th>\n",
       "      <td>2010-01-01 00:00:50</td>\n",
       "      <td>-110.10992</td>\n",
       "      <td>45.12659</td>\n",
       "      <td>77</td>\n",
       "      <td>16.6</td>\n",
       "      <td>16.6</td>\n",
       "      <td>16.6</td>\n",
       "      <td>13.4</td>\n",
       "      <td>3.2</td>\n",
       "      <td>10</td>\n",
       "      <td>(45.12659, -110.10992)</td>\n",
       "      <td>Park County</td>\n",
       "      <td>Montana</td>\n",
       "    </tr>\n",
       "    <tr>\n",
       "      <th>3</th>\n",
       "      <td>2010-01-01 00:00:50</td>\n",
       "      <td>-109.65312</td>\n",
       "      <td>44.74401</td>\n",
       "      <td>80</td>\n",
       "      <td>17.3</td>\n",
       "      <td>17.3</td>\n",
       "      <td>17.3</td>\n",
       "      <td>10.4</td>\n",
       "      <td>2.6</td>\n",
       "      <td>9</td>\n",
       "      <td>(44.74401, -109.65312)</td>\n",
       "      <td>Carbon County</td>\n",
       "      <td>Montana</td>\n",
       "    </tr>\n",
       "    <tr>\n",
       "      <th>4</th>\n",
       "      <td>2010-01-01 00:00:50</td>\n",
       "      <td>-110.00047</td>\n",
       "      <td>45.99929</td>\n",
       "      <td>59</td>\n",
       "      <td>18.3</td>\n",
       "      <td>18.3</td>\n",
       "      <td>18.3</td>\n",
       "      <td>1.2</td>\n",
       "      <td>3.7</td>\n",
       "      <td>6</td>\n",
       "      <td>(45.99929, -110.00047)</td>\n",
       "      <td>Sweet Grass County</td>\n",
       "      <td>Montana</td>\n",
       "    </tr>\n",
       "  </tbody>\n",
       "</table>\n",
       "</div>"
      ],
      "text/plain": [
       "               #ZTIME        LON       LAT  RANGE  BASE_HEIGHT  TOP_HEIGHT  \\\n",
       "0 2010-01-01 00:00:25  -95.20293  32.06692     73          7.7         7.7   \n",
       "1 2010-01-01 00:00:50 -109.95558  45.20309     69         14.3        14.3   \n",
       "2 2010-01-01 00:00:50 -110.10992  45.12659     77         16.6        16.6   \n",
       "3 2010-01-01 00:00:50 -109.65312  44.74401     80         17.3        17.3   \n",
       "4 2010-01-01 00:00:50 -110.00047  45.99929     59         18.3        18.3   \n",
       "\n",
       "   HEIGHT  RADIUS  AZDIA  SHEAR                location              county  \\\n",
       "0     7.7     1.8    4.1      5   (32.06692, -95.20293)        Smith County   \n",
       "1    14.3     2.3    2.9     11  (45.20309, -109.95558)   Stillwater County   \n",
       "2    16.6    13.4    3.2     10  (45.12659, -110.10992)         Park County   \n",
       "3    17.3    10.4    2.6      9  (44.74401, -109.65312)       Carbon County   \n",
       "4    18.3     1.2    3.7      6  (45.99929, -110.00047)  Sweet Grass County   \n",
       "\n",
       "     state  \n",
       "0    Texas  \n",
       "1  Montana  \n",
       "2  Montana  \n",
       "3  Montana  \n",
       "4  Montana  "
      ]
     },
     "execution_count": 52,
     "metadata": {},
     "output_type": "execute_result"
    }
   ],
   "source": [
    "meso_2010.head()"
   ]
  },
  {
   "cell_type": "code",
   "execution_count": 53,
   "metadata": {},
   "outputs": [],
   "source": [
    "meso_2010.to_csv('../weather_data/meso/meso-2010edited.csv', index=False)"
   ]
  },
  {
   "cell_type": "code",
   "execution_count": 54,
   "metadata": {},
   "outputs": [],
   "source": [
    "cols= meso_2010.columns.tolist()"
   ]
  },
  {
   "cell_type": "code",
   "execution_count": 55,
   "metadata": {},
   "outputs": [],
   "source": [
    "corr_matrix = meso_2010[cols[3:10]].corr()"
   ]
  },
  {
   "cell_type": "code",
   "execution_count": 56,
   "metadata": {},
   "outputs": [
    {
     "data": {
      "text/plain": [
       "<Axes: >"
      ]
     },
     "execution_count": 56,
     "metadata": {},
     "output_type": "execute_result"
    },
    {
     "data": {
      "image/png": "[encoded data removed]",
      "text/plain": [
       "<Figure size 960x720 with 2 Axes>"
      ]
     },
     "metadata": {},
     "output_type": "display_data"
    }
   ],
   "source": [
    "sns.heatmap(corr_matrix)"
   ]
  }
 ],
 "metadata": {
  "kernelspec": {
   "display_name": "base",
   "language": "python",
   "name": "python3"
  },
  "language_info": {
   "codemirror_mode": {
    "name": "ipython",
    "version": 3
   },
   "file_extension": ".py",
   "mimetype": "text/x-python",
   "name": "python",
   "nbconvert_exporter": "python",
   "pygments_lexer": "ipython3",
   "version": "3.12.2"
  }
 },
 "nbformat": 4,
 "nbformat_minor": 2
}
