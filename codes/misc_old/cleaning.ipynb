{
 "cells": [
  {
   "cell_type": "code",
   "execution_count": 14,
   "id": "4edc7dea-414c-42a0-8363-09ab674a80c1",
   "metadata": {},
   "outputs": [],
   "source": [
    "import pandas as pd\n",
    "import numpy as np\n",
    "import re"
   ]
  },
  {
   "cell_type": "markdown",
   "id": "e2a8744b-d931-452b-98ea-23e3c6546499",
   "metadata": {},
   "source": [
    "# Power data"
   ]
  },
  {
   "cell_type": "code",
   "execution_count": 15,
   "id": "2c40113b-5391-4433-8ecd-a928111ce27e",
   "metadata": {},
   "outputs": [
    {
     "name": "stdout",
     "output_type": "stream",
     "text": [
      "WARNING *** file size (96452) not 512 + multiple of sector size (512)\n"
     ]
    }
   ],
   "source": [
    "power_2023 = pd.read_excel('../power_data/2019_Annual_Summary.xls', skiprows=1)"
   ]
  },
  {
   "cell_type": "code",
   "execution_count": 5,
   "id": "af3e5f00-de86-4f5a-814e-7df58d370dab",
   "metadata": {},
   "outputs": [
    {
     "data": {
      "text/html": [
       "<div>\n",
       "<style scoped>\n",
       "    .dataframe tbody tr th:only-of-type {\n",
       "        vertical-align: middle;\n",
       "    }\n",
       "\n",
       "    .dataframe tbody tr th {\n",
       "        vertical-align: top;\n",
       "    }\n",
       "\n",
       "    .dataframe thead th {\n",
       "        text-align: right;\n",
       "    }\n",
       "</style>\n",
       "<table border=\"1\" class=\"dataframe\">\n",
       "  <thead>\n",
       "    <tr style=\"text-align: right;\">\n",
       "      <th></th>\n",
       "      <th>Month</th>\n",
       "      <th>Date Event Began</th>\n",
       "      <th>Time Event Began</th>\n",
       "      <th>Date of Restoration</th>\n",
       "      <th>Time of Restoration</th>\n",
       "      <th>Area Affected</th>\n",
       "      <th>NERC Region</th>\n",
       "      <th>Alert Criteria</th>\n",
       "      <th>Event Type</th>\n",
       "      <th>Demand Loss (MW)</th>\n",
       "      <th>Number of Customers Affected</th>\n",
       "    </tr>\n",
       "  </thead>\n",
       "  <tbody>\n",
       "    <tr>\n",
       "      <th>0</th>\n",
       "      <td>January</td>\n",
       "      <td>01/05/2019</td>\n",
       "      <td>13:19:00</td>\n",
       "      <td>01/05/2019</td>\n",
       "      <td>15:07:00</td>\n",
       "      <td>Washington:</td>\n",
       "      <td>WECC</td>\n",
       "      <td>Complete loss of Interpersonal Communication a...</td>\n",
       "      <td>System Operations</td>\n",
       "      <td>0</td>\n",
       "      <td>Unknown</td>\n",
       "    </tr>\n",
       "    <tr>\n",
       "      <th>1</th>\n",
       "      <td>January</td>\n",
       "      <td>01/06/2019</td>\n",
       "      <td>03:00:00</td>\n",
       "      <td>01/09/2019</td>\n",
       "      <td>07:00:00</td>\n",
       "      <td>Washington:</td>\n",
       "      <td>WECC</td>\n",
       "      <td>Loss of electric service to more than 50,000 c...</td>\n",
       "      <td>Severe Weather</td>\n",
       "      <td>230</td>\n",
       "      <td>230000</td>\n",
       "    </tr>\n",
       "    <tr>\n",
       "      <th>2</th>\n",
       "      <td>January</td>\n",
       "      <td>01/06/2019</td>\n",
       "      <td>17:56:00</td>\n",
       "      <td>01/06/2019</td>\n",
       "      <td>21:52:00</td>\n",
       "      <td>California: Sacramento County;</td>\n",
       "      <td>WECC</td>\n",
       "      <td>Loss of electric service to more than 50,000 c...</td>\n",
       "      <td>Severe Weather</td>\n",
       "      <td>300</td>\n",
       "      <td>90382</td>\n",
       "    </tr>\n",
       "    <tr>\n",
       "      <th>3</th>\n",
       "      <td>January</td>\n",
       "      <td>01/06/2019</td>\n",
       "      <td>01:00:00</td>\n",
       "      <td>01/06/2019</td>\n",
       "      <td>12:00:00</td>\n",
       "      <td>Washington: King County, Thurston County, Pier...</td>\n",
       "      <td>WECC</td>\n",
       "      <td>Loss of electric service to more than 50,000 c...</td>\n",
       "      <td>Severe Weather</td>\n",
       "      <td>Unknown</td>\n",
       "      <td>230000</td>\n",
       "    </tr>\n",
       "    <tr>\n",
       "      <th>4</th>\n",
       "      <td>January</td>\n",
       "      <td>01/07/2019</td>\n",
       "      <td>20:57:00</td>\n",
       "      <td>01/07/2019</td>\n",
       "      <td>21:32:00</td>\n",
       "      <td>Michigan:</td>\n",
       "      <td>RF</td>\n",
       "      <td>Complete loss of monitoring or control capabil...</td>\n",
       "      <td>System Operations</td>\n",
       "      <td>0</td>\n",
       "      <td>0</td>\n",
       "    </tr>\n",
       "  </tbody>\n",
       "</table>\n",
       "</div>"
      ],
      "text/plain": [
       "      Month Date Event Began Time Event Began Date of Restoration  \\\n",
       "0  January        01/05/2019         13:19:00          01/05/2019   \n",
       "1   January       01/06/2019         03:00:00          01/09/2019   \n",
       "2   January       01/06/2019         17:56:00          01/06/2019   \n",
       "3   January       01/06/2019         01:00:00          01/06/2019   \n",
       "4   January       01/07/2019         20:57:00          01/07/2019   \n",
       "\n",
       "  Time of Restoration                                      Area Affected  \\\n",
       "0            15:07:00                                        Washington:   \n",
       "1            07:00:00                                        Washington:   \n",
       "2            21:52:00                     California: Sacramento County;   \n",
       "3            12:00:00  Washington: King County, Thurston County, Pier...   \n",
       "4            21:32:00                                          Michigan:   \n",
       "\n",
       "  NERC Region                                     Alert Criteria  \\\n",
       "0        WECC  Complete loss of Interpersonal Communication a...   \n",
       "1        WECC  Loss of electric service to more than 50,000 c...   \n",
       "2        WECC  Loss of electric service to more than 50,000 c...   \n",
       "3        WECC  Loss of electric service to more than 50,000 c...   \n",
       "4          RF  Complete loss of monitoring or control capabil...   \n",
       "\n",
       "          Event Type Demand Loss (MW) Number of Customers Affected  \n",
       "0  System Operations                0                      Unknown  \n",
       "1     Severe Weather              230                       230000  \n",
       "2     Severe Weather              300                        90382  \n",
       "3     Severe Weather          Unknown                       230000  \n",
       "4  System Operations                0                            0  "
      ]
     },
     "execution_count": 5,
     "metadata": {},
     "output_type": "execute_result"
    }
   ],
   "source": [
    "power_2023.head()"
   ]
  },
  {
   "cell_type": "markdown",
   "id": "4966a42d-ebb6-4e23-a567-9e3607b00023",
   "metadata": {},
   "source": [
    "# Lightning "
   ]
  },
  {
   "cell_type": "code",
   "execution_count": 16,
   "id": "bc93c005-41a4-47f9-bdcc-0b52f18f7bcb",
   "metadata": {},
   "outputs": [],
   "source": [
    "lightning_2024 = pd.read_csv('../weather_data/lightning/tvs-tiles-202403.csv', skiprows=2)"
   ]
  },
  {
   "cell_type": "code",
   "execution_count": 4,
   "id": "bf1b19af-2e4d-4176-a0de-48d685bcb91b",
   "metadata": {},
   "outputs": [
    {
     "data": {
      "text/html": [
       "<div>\n",
       "<style scoped>\n",
       "    .dataframe tbody tr th:only-of-type {\n",
       "        vertical-align: middle;\n",
       "    }\n",
       "\n",
       "    .dataframe tbody tr th {\n",
       "        vertical-align: top;\n",
       "    }\n",
       "\n",
       "    .dataframe thead th {\n",
       "        text-align: right;\n",
       "    }\n",
       "</style>\n",
       "<table border=\"1\" class=\"dataframe\">\n",
       "  <thead>\n",
       "    <tr style=\"text-align: right;\">\n",
       "      <th></th>\n",
       "      <th>#ZDAY</th>\n",
       "      <th>CENTERLON</th>\n",
       "      <th>CENTERLAT</th>\n",
       "      <th>TOTAL_COUNT</th>\n",
       "    </tr>\n",
       "  </thead>\n",
       "  <tbody>\n",
       "    <tr>\n",
       "      <th>0</th>\n",
       "      <td>20240301</td>\n",
       "      <td>-90.0</td>\n",
       "      <td>29.5</td>\n",
       "      <td>1</td>\n",
       "    </tr>\n",
       "    <tr>\n",
       "      <th>1</th>\n",
       "      <td>20240301</td>\n",
       "      <td>-114.2</td>\n",
       "      <td>46.5</td>\n",
       "      <td>1</td>\n",
       "    </tr>\n",
       "    <tr>\n",
       "      <th>2</th>\n",
       "      <td>20240301</td>\n",
       "      <td>-90.0</td>\n",
       "      <td>29.6</td>\n",
       "      <td>2</td>\n",
       "    </tr>\n",
       "    <tr>\n",
       "      <th>3</th>\n",
       "      <td>20240301</td>\n",
       "      <td>-90.2</td>\n",
       "      <td>29.6</td>\n",
       "      <td>1</td>\n",
       "    </tr>\n",
       "    <tr>\n",
       "      <th>4</th>\n",
       "      <td>20240301</td>\n",
       "      <td>-90.1</td>\n",
       "      <td>29.6</td>\n",
       "      <td>1</td>\n",
       "    </tr>\n",
       "  </tbody>\n",
       "</table>\n",
       "</div>"
      ],
      "text/plain": [
       "      #ZDAY  CENTERLON  CENTERLAT  TOTAL_COUNT\n",
       "0  20240301      -90.0       29.5            1\n",
       "1  20240301     -114.2       46.5            1\n",
       "2  20240301      -90.0       29.6            2\n",
       "3  20240301      -90.2       29.6            1\n",
       "4  20240301      -90.1       29.6            1"
      ]
     },
     "execution_count": 4,
     "metadata": {},
     "output_type": "execute_result"
    }
   ],
   "source": [
    "lightning_2024.head()"
   ]
  },
  {
   "cell_type": "markdown",
   "id": "5add890f-33e9-404b-a46a-ccd14ca9d97a",
   "metadata": {},
   "source": [
    "# Next steps: \n",
    "0) Explore the weather data, and which file is which. Read the doc, such as tvtiles = lightning\n",
    "1) Create a county column in Lighnting (or other weather data) that will have the exact same format as in the power prediction table using the lat-long column (use for example geopy) \n",
    "2) Doing the same for other weather events data \n",
    "3) Merge power-outage and weather data based on date and place "
   ]
  },
  {
   "cell_type": "markdown",
   "id": "8d12c9a1-9534-46ab-9442-fd38aba65994",
   "metadata": {},
   "source": [
    "# Step 1\n",
    "Geopy: https://pypi.org/project/geopy/ \n",
    "How to use geopy to get a US county: https://stackoverflow.com/questions/68279913/identify-us-county-from-from-latitude-and-longitude-using-python\n",
    "https://www.geeksforgeeks.org/get-the-city-state-and-country-names-from-latitude-and-longitude-using-python/\n",
    "\n",
    "\n",
    "Useful pandas time issues\n",
    "https://stackoverflow.com/questions/70551906/merge-two-panda-dataframes-problem-different-formats-on-date"
   ]
  },
  {
   "cell_type": "code",
   "execution_count": 2,
   "id": "ce2ab09d-88ec-4c06-ab40-6c3ab1495b60",
   "metadata": {},
   "outputs": [],
   "source": [
    "from geopy.geocoders import Nominatim"
   ]
  },
  {
   "cell_type": "code",
   "execution_count": 22,
   "id": "672cd5d0-5398-425f-8d68-31eba343b1bb",
   "metadata": {},
   "outputs": [],
   "source": [
    "lightning_2024['address'] = lightning_2024['CENTERLAT'].apply(str)+\",\"+lightning_2024['CENTERLON'].apply(str)"
   ]
  },
  {
   "cell_type": "code",
   "execution_count": 3,
   "id": "0fb8c6cd-506e-4489-a4ba-6cf5a2b8f09f",
   "metadata": {},
   "outputs": [],
   "source": [
    "geolocator = Nominatim(user_agent=\"PowerPred\")"
   ]
  },
  {
   "cell_type": "code",
   "execution_count": 26,
   "id": "51c1cd17-3d06-4e1f-b2c3-fa348c8b41f1",
   "metadata": {},
   "outputs": [],
   "source": [
    "locations = lightning_2024['address'].apply(geolocator.reverse)"
   ]
  },
  {
   "cell_type": "code",
   "execution_count": 39,
   "id": "64e37340-90ea-443e-9419-878b0488a1cb",
   "metadata": {},
   "outputs": [],
   "source": [
    "states = [el for el in locations]"
   ]
  },
  {
   "cell_type": "code",
   "execution_count": 34,
   "id": "5bd2df8b-d1f6-421d-9a93-14a69267129f",
   "metadata": {},
   "outputs": [],
   "source": [
    "def get_address(location):\n",
    "    return location.raw['address']"
   ]
  },
  {
   "cell_type": "code",
   "execution_count": 36,
   "id": "bef19547-3b0f-421e-8af1-4553bceefd3f",
   "metadata": {},
   "outputs": [],
   "source": [
    "#locations = locations.apply(get_address)"
   ]
  },
  {
   "cell_type": "markdown",
   "id": "84dd5230-dfb5-4576-aea8-f67985681174",
   "metadata": {},
   "source": [
    "# Filter for Sever Weather"
   ]
  },
  {
   "cell_type": "code",
   "execution_count": null,
   "id": "874c7274-a6bc-4922-88a0-61dafbc6f4d0",
   "metadata": {},
   "outputs": [],
   "source": [
    "power_2023 = power_2023[power_2023['Event Type'].str.contains(r'Severe Weather', regex=True)]"
   ]
  }
 ],
 "metadata": {
  "kernelspec": {
   "display_name": "python_env",
   "language": "python",
   "name": "python_env"
  },
  "language_info": {
   "codemirror_mode": {
    "name": "ipython",
    "version": 3
   },
   "file_extension": ".py",
   "mimetype": "text/x-python",
   "name": "python",
   "nbconvert_exporter": "python",
   "pygments_lexer": "ipython3",
   "version": "3.11.6"
  }
 },
 "nbformat": 4,
 "nbformat_minor": 5
}
