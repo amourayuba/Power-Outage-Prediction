{
 "cells": [
  {
   "cell_type": "code",
   "execution_count": 2,
   "metadata": {},
   "outputs": [],
   "source": [
    "# import useful libraries\n",
    "import pandas as pd\n",
    "import numpy as np\n",
    "import matplotlib.pyplot as plt\n",
    "import matplotlib as mpl \n",
    "mpl.rcParams[\"figure.dpi\"] = 150\n",
    "import seaborn as sns\n",
    "import os\n",
    "\n",
    "# enable copy on write (default in pandas 3.0)\n",
    "pd.options.mode.copy_on_write = True"
   ]
  },
  {
   "cell_type": "code",
   "execution_count": 3,
   "metadata": {},
   "outputs": [],
   "source": [
    "from sklearn.model_selection import train_test_split\n",
    "from sklearn.neighbors import KNeighborsClassifier\n",
    "from sklearn.pipeline import Pipeline\n",
    "from sklearn.preprocessing import StandardScaler\n",
    "from sklearn.metrics import precision_score, recall_score\n",
    "from sklearn.metrics import accuracy_score\n",
    "from sklearn.linear_model import LogisticRegression\n",
    "from sklearn.metrics import accuracy_score\n",
    "from sklearn.model_selection import StratifiedKFold"
   ]
  },
  {
   "cell_type": "code",
   "execution_count": 4,
   "metadata": {},
   "outputs": [],
   "source": [
    "from sklearn.decomposition import PCA\n",
    "from sklearn.preprocessing import StandardScaler\n",
    "from sklearn.pipeline import Pipeline\n",
    "from sklearn.svm import SVC"
   ]
  },
  {
   "cell_type": "code",
   "execution_count": 5,
   "metadata": {},
   "outputs": [],
   "source": [
    "merge_meso_2019 = pd.read_csv('../merged/merged_meso_2019.csv', parse_dates=['DATE'])"
   ]
  },
  {
   "cell_type": "code",
   "execution_count": 6,
   "metadata": {},
   "outputs": [],
   "source": [
    "del merge_meso_2019['TVS_max']"
   ]
  },
  {
   "cell_type": "code",
   "execution_count": 7,
   "metadata": {},
   "outputs": [],
   "source": [
    "outage = merge_meso_2019[merge_meso_2019['power_outage']==True]\n",
    "no_outage = merge_meso_2019[merge_meso_2019['power_outage']==False]"
   ]
  },
  {
   "cell_type": "code",
   "execution_count": 8,
   "metadata": {},
   "outputs": [],
   "source": [
    "merge_meso_2019['y'] = 0\n",
    "\n",
    "merge_meso_2019.loc[merge_meso_2019.power_outage == True, 'y']=1"
   ]
  },
  {
   "cell_type": "code",
   "execution_count": 9,
   "metadata": {},
   "outputs": [
    {
     "data": {
      "text/html": [
       "<div>\n",
       "<style scoped>\n",
       "    .dataframe tbody tr th:only-of-type {\n",
       "        vertical-align: middle;\n",
       "    }\n",
       "\n",
       "    .dataframe tbody tr th {\n",
       "        vertical-align: top;\n",
       "    }\n",
       "\n",
       "    .dataframe thead th {\n",
       "        text-align: right;\n",
       "    }\n",
       "</style>\n",
       "<table border=\"1\" class=\"dataframe\">\n",
       "  <thead>\n",
       "    <tr style=\"text-align: right;\">\n",
       "      <th></th>\n",
       "      <th>Unnamed: 0</th>\n",
       "      <th>index</th>\n",
       "      <th>DATE</th>\n",
       "      <th>LAT_mean</th>\n",
       "      <th>LON_mean</th>\n",
       "      <th>STR_RANK_max</th>\n",
       "      <th>LL_ROT_VEL_max</th>\n",
       "      <th>LL_DV_max</th>\n",
       "      <th>LL_BASE_max</th>\n",
       "      <th>DEPTH_KFT_max</th>\n",
       "      <th>DPTH_STMRL_max</th>\n",
       "      <th>MAX_RV_KFT_max</th>\n",
       "      <th>MAX_RV_KTS_max</th>\n",
       "      <th>MSI_max</th>\n",
       "      <th>county</th>\n",
       "      <th>state</th>\n",
       "      <th>power_outage</th>\n",
       "      <th>y</th>\n",
       "    </tr>\n",
       "  </thead>\n",
       "  <tbody>\n",
       "    <tr>\n",
       "      <th>328699</th>\n",
       "      <td>328699</td>\n",
       "      <td>291105</td>\n",
       "      <td>2019-05-10</td>\n",
       "      <td>29.724230</td>\n",
       "      <td>-90.355040</td>\n",
       "      <td>4</td>\n",
       "      <td>52</td>\n",
       "      <td>84</td>\n",
       "      <td>11</td>\n",
       "      <td>10</td>\n",
       "      <td>0</td>\n",
       "      <td>11</td>\n",
       "      <td>52</td>\n",
       "      <td>4373</td>\n",
       "      <td>Saint Charles Parish</td>\n",
       "      <td>Louisiana</td>\n",
       "      <td>False</td>\n",
       "      <td>0</td>\n",
       "    </tr>\n",
       "    <tr>\n",
       "      <th>341511</th>\n",
       "      <td>341511</td>\n",
       "      <td>304199</td>\n",
       "      <td>2019-05-16</td>\n",
       "      <td>46.071940</td>\n",
       "      <td>-94.076160</td>\n",
       "      <td>7</td>\n",
       "      <td>56</td>\n",
       "      <td>73</td>\n",
       "      <td>14</td>\n",
       "      <td>13</td>\n",
       "      <td>100</td>\n",
       "      <td>14</td>\n",
       "      <td>56</td>\n",
       "      <td>3943</td>\n",
       "      <td>Morrison County</td>\n",
       "      <td>Minnesota</td>\n",
       "      <td>False</td>\n",
       "      <td>0</td>\n",
       "    </tr>\n",
       "    <tr>\n",
       "      <th>412137</th>\n",
       "      <td>412137</td>\n",
       "      <td>368099</td>\n",
       "      <td>2019-05-26</td>\n",
       "      <td>43.571104</td>\n",
       "      <td>-115.988581</td>\n",
       "      <td>8L</td>\n",
       "      <td>77</td>\n",
       "      <td>94</td>\n",
       "      <td>1</td>\n",
       "      <td>4</td>\n",
       "      <td>35</td>\n",
       "      <td>2</td>\n",
       "      <td>85</td>\n",
       "      <td>10835</td>\n",
       "      <td>Ada County</td>\n",
       "      <td>Idaho</td>\n",
       "      <td>False</td>\n",
       "      <td>0</td>\n",
       "    </tr>\n",
       "    <tr>\n",
       "      <th>705365</th>\n",
       "      <td>705365</td>\n",
       "      <td>649386</td>\n",
       "      <td>2019-08-30</td>\n",
       "      <td>40.163850</td>\n",
       "      <td>-95.024180</td>\n",
       "      <td>5</td>\n",
       "      <td>49</td>\n",
       "      <td>65</td>\n",
       "      <td>9</td>\n",
       "      <td>20</td>\n",
       "      <td>0</td>\n",
       "      <td>16</td>\n",
       "      <td>58</td>\n",
       "      <td>5199</td>\n",
       "      <td>Holt County</td>\n",
       "      <td>Missouri</td>\n",
       "      <td>False</td>\n",
       "      <td>0</td>\n",
       "    </tr>\n",
       "    <tr>\n",
       "      <th>484109</th>\n",
       "      <td>484109</td>\n",
       "      <td>438065</td>\n",
       "      <td>2019-06-16</td>\n",
       "      <td>38.904570</td>\n",
       "      <td>-86.076360</td>\n",
       "      <td>5</td>\n",
       "      <td>61</td>\n",
       "      <td>85</td>\n",
       "      <td>6</td>\n",
       "      <td>12</td>\n",
       "      <td>0</td>\n",
       "      <td>6</td>\n",
       "      <td>61</td>\n",
       "      <td>4251</td>\n",
       "      <td>Jackson County</td>\n",
       "      <td>Indiana</td>\n",
       "      <td>False</td>\n",
       "      <td>0</td>\n",
       "    </tr>\n",
       "  </tbody>\n",
       "</table>\n",
       "</div>"
      ],
      "text/plain": [
       "        Unnamed: 0   index       DATE   LAT_mean    LON_mean STR_RANK_max  \\\n",
       "328699      328699  291105 2019-05-10  29.724230  -90.355040            4   \n",
       "341511      341511  304199 2019-05-16  46.071940  -94.076160            7   \n",
       "412137      412137  368099 2019-05-26  43.571104 -115.988581           8L   \n",
       "705365      705365  649386 2019-08-30  40.163850  -95.024180            5   \n",
       "484109      484109  438065 2019-06-16  38.904570  -86.076360            5   \n",
       "\n",
       "        LL_ROT_VEL_max  LL_DV_max  LL_BASE_max  DEPTH_KFT_max  DPTH_STMRL_max  \\\n",
       "328699              52         84           11             10               0   \n",
       "341511              56         73           14             13             100   \n",
       "412137              77         94            1              4              35   \n",
       "705365              49         65            9             20               0   \n",
       "484109              61         85            6             12               0   \n",
       "\n",
       "        MAX_RV_KFT_max  MAX_RV_KTS_max  MSI_max                county  \\\n",
       "328699              11              52     4373  Saint Charles Parish   \n",
       "341511              14              56     3943       Morrison County   \n",
       "412137               2              85    10835            Ada County   \n",
       "705365              16              58     5199           Holt County   \n",
       "484109               6              61     4251        Jackson County   \n",
       "\n",
       "            state  power_outage  y  \n",
       "328699  Louisiana         False  0  \n",
       "341511  Minnesota         False  0  \n",
       "412137      Idaho         False  0  \n",
       "705365   Missouri         False  0  \n",
       "484109    Indiana         False  0  "
      ]
     },
     "execution_count": 9,
     "metadata": {},
     "output_type": "execute_result"
    }
   ],
   "source": [
    "merge_meso_2019.sample(5)"
   ]
  },
  {
   "cell_type": "code",
   "execution_count": 10,
   "metadata": {},
   "outputs": [],
   "source": [
    "merge_meso_2019['DATE'] = pd.to_datetime(merge_meso_2019['DATE'])\n",
    "merge_meso_2019['Month'] = merge_meso_2019['DATE'].dt.month"
   ]
  },
  {
   "cell_type": "code",
   "execution_count": 11,
   "metadata": {},
   "outputs": [],
   "source": [
    "all_features =([merge_meso_2019.columns[3], \n",
    "                merge_meso_2019.columns[4]] +\n",
    "                merge_meso_2019.columns[6:14].tolist() +\n",
    "                [merge_meso_2019.columns[18]])"
   ]
  },
  {
   "cell_type": "code",
   "execution_count": 12,
   "metadata": {},
   "outputs": [
    {
     "data": {
      "text/plain": [
       "['LAT_mean',\n",
       " 'LON_mean',\n",
       " 'LL_ROT_VEL_max',\n",
       " 'LL_DV_max',\n",
       " 'LL_BASE_max',\n",
       " 'DEPTH_KFT_max',\n",
       " 'DPTH_STMRL_max',\n",
       " 'MAX_RV_KFT_max',\n",
       " 'MAX_RV_KTS_max',\n",
       " 'MSI_max',\n",
       " 'Month']"
      ]
     },
     "execution_count": 12,
     "metadata": {},
     "output_type": "execute_result"
    }
   ],
   "source": [
    "all_features"
   ]
  },
  {
   "cell_type": "code",
   "execution_count": 13,
   "metadata": {},
   "outputs": [],
   "source": [
    "meso_train, meso_test = train_test_split(merge_meso_2019.copy(),\n",
    "                                              shuffle=True,\n",
    "                                              random_state=123,\n",
    "                                              test_size=.2,\n",
    "                                              stratify=merge_meso_2019.y.values)"
   ]
  },
  {
   "cell_type": "code",
   "execution_count": 14,
   "metadata": {},
   "outputs": [],
   "source": [
    "meso_tt, meso_val = train_test_split(meso_train.copy(),\n",
    "                                              shuffle=True,\n",
    "                                              random_state=123,\n",
    "                                              test_size=.2,\n",
    "                                              stratify=meso_train.y.values)"
   ]
  },
  {
   "cell_type": "code",
   "execution_count": 15,
   "metadata": {},
   "outputs": [],
   "source": [
    "outage = meso_tt[meso_tt['power_outage']==True]\n",
    "no_outage = meso_tt[meso_tt['power_outage']==False]\n",
    "no_outage= no_outage.sample(n=len(outage), random_state=101)\n",
    "meso_tt_balanced = pd.concat([outage,no_outage],axis=0)"
   ]
  },
  {
   "cell_type": "code",
   "execution_count": 16,
   "metadata": {},
   "outputs": [],
   "source": [
    "n_splits = 5\n",
    "\n",
    "kfold = StratifiedKFold(n_splits,\n",
    "                           shuffle=True,\n",
    "                           random_state=498)"
   ]
  },
  {
   "cell_type": "code",
   "execution_count": 17,
   "metadata": {},
   "outputs": [],
   "source": [
    "pca = Pipeline([('scale', StandardScaler()),\n",
    "                   ('pca', PCA(2))])\n",
    "\n",
    "pca_values = pca.fit_transform(meso_tt_balanced[all_features])"
   ]
  },
  {
   "cell_type": "code",
   "execution_count": 18,
   "metadata": {},
   "outputs": [],
   "source": [
    "n_splits=5\n",
    "kfold = StratifiedKFold(n_splits,\n",
    "                           shuffle=True,\n",
    "                           random_state=216)"
   ]
  },
  {
   "cell_type": "code",
   "execution_count": 22,
   "metadata": {},
   "outputs": [],
   "source": [
    "from sklearn.discriminant_analysis import LinearDiscriminantAnalysis, QuadraticDiscriminantAnalysis\n",
    "from sklearn.naive_bayes import GaussianNB"
   ]
  },
  {
   "cell_type": "code",
   "execution_count": 24,
   "metadata": {},
   "outputs": [
    {
     "name": "stdout",
     "output_type": "stream",
     "text": [
      "CV Split 0\n",
      "CV Split 1\n",
      "CV Split 2\n",
      "CV Split 3\n",
      "CV Split 4\n"
     ]
    }
   ],
   "source": [
    "bayes_accs = np.zeros((n_splits, 3))\n",
    "bayes_reccs = np.zeros((n_splits, 3))\n",
    "bayes_precis = np.zeros((n_splits, 3))\n",
    "\n",
    "for i, (train_index, test_index) in enumerate(kfold.split(meso_tt_balanced, meso_tt_balanced.y)):\n",
    "    print(\"CV Split\", i)\n",
    "    meso_bal_tt = meso_tt_balanced.iloc[train_index]\n",
    "    meso_ho = meso_tt_balanced.iloc[test_index]\n",
    "    \n",
    "    ## Linear Discriminant Analysis\n",
    "    lda = Pipeline([('scale', StandardScaler()),\n",
    "                    ('lda', LinearDiscriminantAnalysis())])\n",
    "    \n",
    "    lda.fit(meso_bal_tt[all_features].values,\n",
    "               meso_bal_tt.y.values)\n",
    "    lda_pred = lda.predict(meso_ho[all_features].values)\n",
    "    \n",
    "    bayes_accs[i, 0] = accuracy_score(meso_ho.y.values,\n",
    "                                         lda_pred)\n",
    "    \n",
    "    ## Quadratic Discriminant Analysis\n",
    "    qda = Pipeline([('scale', StandardScaler()),\n",
    "                    ('qda', QuadraticDiscriminantAnalysis())])\n",
    "    \n",
    "    qda.fit(meso_bal_tt[all_features].values,\n",
    "               meso_bal_tt.y.values)\n",
    "    \n",
    "    qda_pred = qda.predict(meso_ho[all_features].values)\n",
    "    \n",
    "    bayes_accs[i, 1] = accuracy_score(meso_ho.y.values,\n",
    "                                         qda_pred)\n",
    "    \n",
    "    \n",
    "    ## Gaussian Naive Bayes\n",
    "    nb = Pipeline([('scale', StandardScaler()),\n",
    "                    ('NB', GaussianNB())])\n",
    "    \n",
    "    nb.fit(meso_bal_tt[all_features].values,\n",
    "              meso_bal_tt.y.values)\n",
    "    \n",
    "    nb_pred = nb.predict(meso_ho[all_features].values)\n",
    "    \n",
    "    bayes_accs[i, 2] = accuracy_score(meso_ho.y.values,\n",
    "                                         nb_pred)\n",
    "    \n",
    "    bayes_reccs[i, 2] = recall_score(meso_ho.y.values,\n",
    "                                         nb_pred)\n",
    "    \n",
    "    bayes_precis[i, 2] = precision_score(meso_ho.y.values,\n",
    "                                         nb_pred)"
   ]
  },
  {
   "cell_type": "code",
   "execution_count": 25,
   "metadata": {},
   "outputs": [
    {
     "data": {
      "text/plain": [
       "array([0.69226683, 0.6286606 , 0.65072591])"
      ]
     },
     "execution_count": 25,
     "metadata": {},
     "output_type": "execute_result"
    }
   ],
   "source": [
    "np.mean(bayes_accs, axis=0)"
   ]
  },
  {
   "cell_type": "code",
   "execution_count": 26,
   "metadata": {},
   "outputs": [
    {
     "data": {
      "text/plain": [
       "array([0.        , 0.        , 0.66143254])"
      ]
     },
     "execution_count": 26,
     "metadata": {},
     "output_type": "execute_result"
    }
   ],
   "source": [
    "np.mean(bayes_reccs, axis=0)"
   ]
  },
  {
   "cell_type": "code",
   "execution_count": 27,
   "metadata": {},
   "outputs": [
    {
     "data": {
      "text/plain": [
       "array([0.        , 0.        , 0.64756736])"
      ]
     },
     "execution_count": 27,
     "metadata": {},
     "output_type": "execute_result"
    }
   ],
   "source": [
    "np.mean(bayes_precis, axis=0)"
   ]
  }
 ],
 "metadata": {
  "kernelspec": {
   "display_name": "Python 3",
   "language": "python",
   "name": "python3"
  },
  "language_info": {
   "codemirror_mode": {
    "name": "ipython",
    "version": 3
   },
   "file_extension": ".py",
   "mimetype": "text/x-python",
   "name": "python",
   "nbconvert_exporter": "python",
   "pygments_lexer": "ipython3",
   "version": "3.12.3"
  }
 },
 "nbformat": 4,
 "nbformat_minor": 2
}
