{
 "cells": [
  {
   "cell_type": "code",
   "execution_count": 1,
   "metadata": {},
   "outputs": [],
   "source": [
    "# import useful libraries\n",
    "import pandas as pd\n",
    "import numpy as np\n",
    "import matplotlib.pyplot as plt\n",
    "import matplotlib as mpl \n",
    "mpl.rcParams[\"figure.dpi\"] = 150\n",
    "import seaborn as sns\n",
    "import os\n",
    "\n",
    "# enable copy on write (default in pandas 3.0)\n",
    "pd.options.mode.copy_on_write = True"
   ]
  },
  {
   "cell_type": "code",
   "execution_count": 2,
   "metadata": {},
   "outputs": [],
   "source": [
    "from sklearn.model_selection import train_test_split\n",
    "from sklearn.neighbors import KNeighborsClassifier\n",
    "from sklearn.pipeline import Pipeline\n",
    "from sklearn.preprocessing import StandardScaler\n",
    "from sklearn.metrics import precision_score, recall_score\n",
    "from sklearn.metrics import accuracy_score\n",
    "from sklearn.linear_model import LogisticRegression\n",
    "from sklearn.metrics import accuracy_score\n",
    "from sklearn.model_selection import StratifiedKFold"
   ]
  },
  {
   "cell_type": "code",
   "execution_count": 3,
   "metadata": {},
   "outputs": [],
   "source": [
    "from sklearn.decomposition import PCA\n",
    "from sklearn.preprocessing import StandardScaler\n",
    "from sklearn.pipeline import Pipeline\n",
    "from sklearn.svm import SVC"
   ]
  },
  {
   "cell_type": "code",
   "execution_count": 4,
   "metadata": {},
   "outputs": [],
   "source": [
    "merge_meso_2019 = pd.read_csv('../merged/merged_meso_2019.csv', parse_dates=['DATE'])"
   ]
  },
  {
   "cell_type": "code",
   "execution_count": 5,
   "metadata": {},
   "outputs": [],
   "source": [
    "del merge_meso_2019['TVS_max']"
   ]
  },
  {
   "cell_type": "code",
   "execution_count": 6,
   "metadata": {},
   "outputs": [],
   "source": [
    "outage = merge_meso_2019[merge_meso_2019['power_outage']==True]\n",
    "no_outage = merge_meso_2019[merge_meso_2019['power_outage']==False]"
   ]
  },
  {
   "cell_type": "code",
   "execution_count": 7,
   "metadata": {},
   "outputs": [],
   "source": [
    "merge_meso_2019['y'] = 0\n",
    "\n",
    "merge_meso_2019.loc[merge_meso_2019.power_outage == True, 'y']=1"
   ]
  },
  {
   "cell_type": "code",
   "execution_count": 8,
   "metadata": {},
   "outputs": [
    {
     "data": {
      "text/html": [
       "<div>\n",
       "<style scoped>\n",
       "    .dataframe tbody tr th:only-of-type {\n",
       "        vertical-align: middle;\n",
       "    }\n",
       "\n",
       "    .dataframe tbody tr th {\n",
       "        vertical-align: top;\n",
       "    }\n",
       "\n",
       "    .dataframe thead th {\n",
       "        text-align: right;\n",
       "    }\n",
       "</style>\n",
       "<table border=\"1\" class=\"dataframe\">\n",
       "  <thead>\n",
       "    <tr style=\"text-align: right;\">\n",
       "      <th></th>\n",
       "      <th>Unnamed: 0</th>\n",
       "      <th>index</th>\n",
       "      <th>DATE</th>\n",
       "      <th>LAT_mean</th>\n",
       "      <th>LON_mean</th>\n",
       "      <th>STR_RANK_max</th>\n",
       "      <th>LL_ROT_VEL_max</th>\n",
       "      <th>LL_DV_max</th>\n",
       "      <th>LL_BASE_max</th>\n",
       "      <th>DEPTH_KFT_max</th>\n",
       "      <th>DPTH_STMRL_max</th>\n",
       "      <th>MAX_RV_KFT_max</th>\n",
       "      <th>MAX_RV_KTS_max</th>\n",
       "      <th>MSI_max</th>\n",
       "      <th>county</th>\n",
       "      <th>state</th>\n",
       "      <th>power_outage</th>\n",
       "      <th>y</th>\n",
       "    </tr>\n",
       "  </thead>\n",
       "  <tbody>\n",
       "    <tr>\n",
       "      <th>143126</th>\n",
       "      <td>143126</td>\n",
       "      <td>113462</td>\n",
       "      <td>2019-03-13</td>\n",
       "      <td>30.491070</td>\n",
       "      <td>-101.930030</td>\n",
       "      <td>5</td>\n",
       "      <td>36</td>\n",
       "      <td>26</td>\n",
       "      <td>11</td>\n",
       "      <td>18</td>\n",
       "      <td>96</td>\n",
       "      <td>11</td>\n",
       "      <td>36</td>\n",
       "      <td>3054</td>\n",
       "      <td>Pecos County</td>\n",
       "      <td>Texas</td>\n",
       "      <td>False</td>\n",
       "      <td>0</td>\n",
       "    </tr>\n",
       "    <tr>\n",
       "      <th>882015</th>\n",
       "      <td>882015</td>\n",
       "      <td>830040</td>\n",
       "      <td>2019-12-23</td>\n",
       "      <td>33.665450</td>\n",
       "      <td>-79.670450</td>\n",
       "      <td>5L</td>\n",
       "      <td>42</td>\n",
       "      <td>43</td>\n",
       "      <td>9</td>\n",
       "      <td>10</td>\n",
       "      <td>100</td>\n",
       "      <td>9</td>\n",
       "      <td>42</td>\n",
       "      <td>3508</td>\n",
       "      <td>Williamsburg County</td>\n",
       "      <td>South Carolina</td>\n",
       "      <td>False</td>\n",
       "      <td>0</td>\n",
       "    </tr>\n",
       "    <tr>\n",
       "      <th>128974</th>\n",
       "      <td>128974</td>\n",
       "      <td>109924</td>\n",
       "      <td>2019-03-13</td>\n",
       "      <td>31.594642</td>\n",
       "      <td>-99.737812</td>\n",
       "      <td>7</td>\n",
       "      <td>49</td>\n",
       "      <td>72</td>\n",
       "      <td>16</td>\n",
       "      <td>19</td>\n",
       "      <td>100</td>\n",
       "      <td>20</td>\n",
       "      <td>73</td>\n",
       "      <td>5621</td>\n",
       "      <td>Concho County</td>\n",
       "      <td>Texas</td>\n",
       "      <td>False</td>\n",
       "      <td>0</td>\n",
       "    </tr>\n",
       "    <tr>\n",
       "      <th>383200</th>\n",
       "      <td>383200</td>\n",
       "      <td>346088</td>\n",
       "      <td>2019-05-22</td>\n",
       "      <td>35.089280</td>\n",
       "      <td>-117.032950</td>\n",
       "      <td>7L</td>\n",
       "      <td>69</td>\n",
       "      <td>87</td>\n",
       "      <td>2</td>\n",
       "      <td>4</td>\n",
       "      <td>100</td>\n",
       "      <td>2</td>\n",
       "      <td>69</td>\n",
       "      <td>5237</td>\n",
       "      <td>San Bernardino County</td>\n",
       "      <td>California</td>\n",
       "      <td>False</td>\n",
       "      <td>0</td>\n",
       "    </tr>\n",
       "    <tr>\n",
       "      <th>169292</th>\n",
       "      <td>169292</td>\n",
       "      <td>137519</td>\n",
       "      <td>2019-03-30</td>\n",
       "      <td>38.683280</td>\n",
       "      <td>-90.556850</td>\n",
       "      <td>5L</td>\n",
       "      <td>30</td>\n",
       "      <td>32</td>\n",
       "      <td>1</td>\n",
       "      <td>1</td>\n",
       "      <td>27</td>\n",
       "      <td>2</td>\n",
       "      <td>40</td>\n",
       "      <td>4550</td>\n",
       "      <td>Saint Louis County</td>\n",
       "      <td>Missouri</td>\n",
       "      <td>False</td>\n",
       "      <td>0</td>\n",
       "    </tr>\n",
       "  </tbody>\n",
       "</table>\n",
       "</div>"
      ],
      "text/plain": [
       "        Unnamed: 0   index       DATE   LAT_mean    LON_mean STR_RANK_max  \\\n",
       "143126      143126  113462 2019-03-13  30.491070 -101.930030            5   \n",
       "882015      882015  830040 2019-12-23  33.665450  -79.670450           5L   \n",
       "128974      128974  109924 2019-03-13  31.594642  -99.737812            7   \n",
       "383200      383200  346088 2019-05-22  35.089280 -117.032950           7L   \n",
       "169292      169292  137519 2019-03-30  38.683280  -90.556850           5L   \n",
       "\n",
       "        LL_ROT_VEL_max  LL_DV_max  LL_BASE_max  DEPTH_KFT_max  DPTH_STMRL_max  \\\n",
       "143126              36         26           11             18              96   \n",
       "882015              42         43            9             10             100   \n",
       "128974              49         72           16             19             100   \n",
       "383200              69         87            2              4             100   \n",
       "169292              30         32            1              1              27   \n",
       "\n",
       "        MAX_RV_KFT_max  MAX_RV_KTS_max  MSI_max                 county  \\\n",
       "143126              11              36     3054           Pecos County   \n",
       "882015               9              42     3508    Williamsburg County   \n",
       "128974              20              73     5621          Concho County   \n",
       "383200               2              69     5237  San Bernardino County   \n",
       "169292               2              40     4550     Saint Louis County   \n",
       "\n",
       "                 state  power_outage  y  \n",
       "143126           Texas         False  0  \n",
       "882015  South Carolina         False  0  \n",
       "128974           Texas         False  0  \n",
       "383200      California         False  0  \n",
       "169292        Missouri         False  0  "
      ]
     },
     "execution_count": 8,
     "metadata": {},
     "output_type": "execute_result"
    }
   ],
   "source": [
    "merge_meso_2019.sample(5)"
   ]
  },
  {
   "cell_type": "code",
   "execution_count": 9,
   "metadata": {},
   "outputs": [],
   "source": [
    "merge_meso_2019['DATE'] = pd.to_datetime(merge_meso_2019['DATE'])\n",
    "merge_meso_2019['Month'] = merge_meso_2019['DATE'].dt.month"
   ]
  },
  {
   "cell_type": "code",
   "execution_count": 10,
   "metadata": {},
   "outputs": [],
   "source": [
    "all_features =([merge_meso_2019.columns[3], \n",
    "                merge_meso_2019.columns[4]] +\n",
    "                merge_meso_2019.columns[6:14].tolist() +\n",
    "                [merge_meso_2019.columns[18]])"
   ]
  },
  {
   "cell_type": "code",
   "execution_count": 11,
   "metadata": {},
   "outputs": [
    {
     "data": {
      "text/plain": [
       "['LAT_mean',\n",
       " 'LON_mean',\n",
       " 'LL_ROT_VEL_max',\n",
       " 'LL_DV_max',\n",
       " 'LL_BASE_max',\n",
       " 'DEPTH_KFT_max',\n",
       " 'DPTH_STMRL_max',\n",
       " 'MAX_RV_KFT_max',\n",
       " 'MAX_RV_KTS_max',\n",
       " 'MSI_max',\n",
       " 'Month']"
      ]
     },
     "execution_count": 11,
     "metadata": {},
     "output_type": "execute_result"
    }
   ],
   "source": [
    "all_features"
   ]
  },
  {
   "cell_type": "code",
   "execution_count": 12,
   "metadata": {},
   "outputs": [],
   "source": [
    "meso_train, meso_test = train_test_split(merge_meso_2019.copy(),\n",
    "                                              shuffle=True,\n",
    "                                              random_state=123,\n",
    "                                              test_size=.2,\n",
    "                                              stratify=merge_meso_2019.y.values)"
   ]
  },
  {
   "cell_type": "code",
   "execution_count": 13,
   "metadata": {},
   "outputs": [],
   "source": [
    "meso_tt, meso_val = train_test_split(meso_train.copy(),\n",
    "                                              shuffle=True,\n",
    "                                              random_state=123,\n",
    "                                              test_size=.2,\n",
    "                                              stratify=meso_train.y.values)"
   ]
  },
  {
   "cell_type": "code",
   "execution_count": 14,
   "metadata": {},
   "outputs": [],
   "source": [
    "outage = meso_tt[meso_tt['power_outage']==True]\n",
    "no_outage = meso_tt[meso_tt['power_outage']==False]\n",
    "no_outage= no_outage.sample(n=len(outage), random_state=101)\n",
    "meso_tt_balanced = pd.concat([outage,no_outage],axis=0)"
   ]
  },
  {
   "cell_type": "code",
   "execution_count": 17,
   "metadata": {},
   "outputs": [],
   "source": [
    "n_splits=5\n",
    "kfold = StratifiedKFold(n_splits,\n",
    "                           shuffle=True,\n",
    "                           random_state=216)"
   ]
  },
  {
   "cell_type": "code",
   "execution_count": 18,
   "metadata": {},
   "outputs": [
    {
     "name": "stdout",
     "output_type": "stream",
     "text": [
      "CV Split 0\n",
      "CV Split 1\n",
      "CV Split 2\n",
      "CV Split 3\n",
      "CV Split 4\n"
     ]
    }
   ],
   "source": [
    "neighbors = range(1, 56)\n",
    "\n",
    "pca_2_accs = np.zeros((n_splits, len(neighbors)))\n",
    "\n",
    "pca_2_reccs = np.zeros((n_splits, len(neighbors)))\n",
    "\n",
    "pca_2_precis = np.zeros((n_splits, len(neighbors)))\n",
    "\n",
    "# Note:  switching to using \"enumerate\" from this point in the bootcamp forward.\n",
    "for i,(train_index, test_index) in enumerate(kfold.split(meso_tt_balanced, meso_tt_balanced.y)):\n",
    "    print(\"CV Split\", i)\n",
    "    meso_bal_tt = meso_tt_balanced.iloc[train_index]\n",
    "    meso_ho = meso_tt_balanced.iloc[test_index]\n",
    "    \n",
    "    ## Note, putting the PCA here speeds up the loop\n",
    "    pca_pipe = Pipeline([('scale', StandardScaler()),\n",
    "                               ('pca', PCA(2))])\n",
    "    \n",
    "    \n",
    "    pca_tt = pca_pipe.fit_transform(meso_bal_tt[all_features].values)\n",
    "    pca_ho = pca_pipe.transform(meso_ho[all_features].values)\n",
    "    \n",
    "    \n",
    "    for j, n_neighbors in enumerate(neighbors):\n",
    "        # No need to scale knn first since PCA is handling that\n",
    "        knn = KNeighborsClassifier(n_neighbors)\n",
    "        \n",
    "        knn.fit(pca_tt, meso_bal_tt.y.values)\n",
    "        \n",
    "        pred = knn.predict(pca_ho)\n",
    "        \n",
    "        pca_2_accs[i,j] = accuracy_score(meso_ho.y.values, pred)\n",
    "\n",
    "        pca_2_reccs[i,j] = recall_score(meso_ho.y.values, pred)\n",
    "\n",
    "        pca_2_precis[i,j] = precision_score(meso_ho.y.values, pred)"
   ]
  },
  {
   "cell_type": "code",
   "execution_count": 19,
   "metadata": {},
   "outputs": [
    {
     "name": "stdout",
     "output_type": "stream",
     "text": [
      "The best mean CV accuracy of 0.618 was achieved with k = 55\n"
     ]
    }
   ],
   "source": [
    "print(f'The best mean CV accuracy of {np.max(np.mean(pca_2_accs, axis=0)):.3f} was achieved with k = {neighbors[np.argmax(np.mean(pca_2_accs, axis=0))]}' )"
   ]
  },
  {
   "cell_type": "code",
   "execution_count": 20,
   "metadata": {},
   "outputs": [
    {
     "name": "stdout",
     "output_type": "stream",
     "text": [
      "The best mean CV recall of 0.717 was achieved with k = 55\n"
     ]
    }
   ],
   "source": [
    "print(f'The best mean CV recall of {np.max(np.mean(pca_2_reccs, axis=0)):.3f} was achieved with k = {neighbors[np.argmax(np.mean(pca_2_reccs, axis=0))]}' )"
   ]
  },
  {
   "cell_type": "code",
   "execution_count": 21,
   "metadata": {},
   "outputs": [
    {
     "name": "stdout",
     "output_type": "stream",
     "text": [
      "The best mean CV precision of 0.606 was achieved with k = 4\n"
     ]
    }
   ],
   "source": [
    "print(f'The best mean CV precision of {np.max(np.mean(pca_2_precis, axis=0)):.3f} was achieved with k = {neighbors[np.argmax(np.mean(pca_2_precis, axis=0))]}' )"
   ]
  },
  {
   "cell_type": "code",
   "execution_count": 28,
   "metadata": {},
   "outputs": [
    {
     "name": "stdout",
     "output_type": "stream",
     "text": [
      "CV Split 0\n"
     ]
    },
    {
     "name": "stdout",
     "output_type": "stream",
     "text": [
      "CV Split 1\n",
      "CV Split 2\n",
      "CV Split 3\n",
      "CV Split 4\n"
     ]
    }
   ],
   "source": [
    "neighbors = range(1, 56)\n",
    "comps = range(2,6)\n",
    "\n",
    "pca_accs = np.zeros((n_splits, len(comps), len(neighbors)))\n",
    "\n",
    "pca_precis = np.zeros((n_splits, len(comps), len(neighbors)))\n",
    "\n",
    "pca_reccs = np.zeros((n_splits, len(comps), len(neighbors)))\n",
    "\n",
    "for i,(train_index, test_index) in enumerate(kfold.split(meso_tt_balanced, meso_tt_balanced.y)):\n",
    "    print(\"CV Split\", i)\n",
    "    meso_bal_tt = meso_tt_balanced.iloc[train_index]\n",
    "    meso_ho = meso_tt_balanced.iloc[test_index]\n",
    "    \n",
    "    for j, n_comps in enumerate(comps):\n",
    "        pca_pipe = Pipeline([('scale', StandardScaler()),\n",
    "                               ('pca', PCA(n_comps))])\n",
    "    \n",
    "    \n",
    "        pca_tt = pca_pipe.fit_transform(meso_bal_tt[all_features].values)\n",
    "        pca_ho = pca_pipe.transform(meso_ho[all_features].values)\n",
    "        \n",
    "        for k, n_neighbors in enumerate(neighbors):\n",
    "            knn = KNeighborsClassifier(n_neighbors)\n",
    "            \n",
    "            knn.fit(pca_tt,\n",
    "                    meso_bal_tt.y.values)\n",
    "\n",
    "            pred = knn.predict(pca_ho)\n",
    "\n",
    "            pca_accs[i,j,k] = accuracy_score(meso_ho.y.values, pred)\n",
    "\n",
    "            pca_reccs[i,j,k] = recall_score(meso_ho.y.values, pred)\n",
    "\n",
    "            pca_precis[i,j,k] = precision_score(meso_ho.y.values, pred)"
   ]
  },
  {
   "cell_type": "code",
   "execution_count": 23,
   "metadata": {},
   "outputs": [
    {
     "name": "stdout",
     "output_type": "stream",
     "text": [
      "The pair with the highest AVG CV Accuracy was k = 16 and number of components = 4.0\n",
      "The highest AVG CV Accuracy was 0.766\n"
     ]
    }
   ],
   "source": [
    "max_index = np.unravel_index(np.argmax(np.mean(pca_accs, axis=0), axis=None), \n",
    "                                       np.mean(pca_accs, axis=0).shape)\n",
    "\n",
    "\n",
    "print(f\"The pair with the highest AVG CV Accuracy was k = {neighbors[max_index[1]]} and number of components = {comps[max_index[0]]:.1f}\")\n",
    "print(f\"The highest AVG CV Accuracy was {np.max(np.mean(pca_accs, axis=0)):.3f}\")"
   ]
  },
  {
   "cell_type": "code",
   "execution_count": 24,
   "metadata": {},
   "outputs": [
    {
     "name": "stdout",
     "output_type": "stream",
     "text": [
      "The pair with the highest AVG CV recall was k = 17 and number of components = 4.0\n",
      "The highest AVG CV recall was 0.814\n"
     ]
    }
   ],
   "source": [
    "max_index = np.unravel_index(np.argmax(np.mean(pca_reccs, axis=0), axis=None), \n",
    "                                       np.mean(pca_reccs, axis=0).shape)\n",
    "\n",
    "\n",
    "print(f\"The pair with the highest AVG CV recall was k = {neighbors[max_index[1]]} and number of components = {comps[max_index[0]]:.1f}\")\n",
    "print(f\"The highest AVG CV recall was {np.max(np.mean(pca_reccs, axis=0)):.3f}\")"
   ]
  },
  {
   "cell_type": "code",
   "execution_count": 25,
   "metadata": {},
   "outputs": [
    {
     "name": "stdout",
     "output_type": "stream",
     "text": [
      "The pair with the highest AVG CV precision was k = 2 and number of components = 4.0\n",
      "The highest AVG CV precision was 0.776\n"
     ]
    }
   ],
   "source": [
    "max_index = np.unravel_index(np.argmax(np.mean(pca_precis, axis=0), axis=None), \n",
    "                                       np.mean(pca_precis, axis=0).shape)\n",
    "\n",
    "\n",
    "print(f\"The pair with the highest AVG CV precision was k = {neighbors[max_index[1]]} and number of components = {comps[max_index[0]]:.1f}\")\n",
    "print(f\"The highest AVG CV precision was {np.max(np.mean(pca_precis, axis=0)):.3f}\")"
   ]
  },
  {
   "cell_type": "code",
   "execution_count": 26,
   "metadata": {},
   "outputs": [
    {
     "name": "stdout",
     "output_type": "stream",
     "text": [
      "CV Split 0\n"
     ]
    },
    {
     "name": "stdout",
     "output_type": "stream",
     "text": [
      "CV Split 1\n",
      "CV Split 2\n",
      "CV Split 3\n",
      "CV Split 4\n"
     ]
    }
   ],
   "source": [
    "n_splits = 5\n",
    "\n",
    "## Make the kfold object\n",
    "kfold = StratifiedKFold(n_splits, \n",
    "                        random_state=2013, \n",
    "                        shuffle=True)\n",
    "\n",
    "\n",
    "## the values of C you will try\n",
    "Cs = [.01, .1, 1, 10, 25, 50, 75, 100, 125, 150]\n",
    "\n",
    "## this will hold the CV accuracies\n",
    "C_accs1 = np.zeros((n_splits, len(Cs)))\n",
    "\n",
    "C_reccs1 = np.zeros((n_splits, len(Cs)))\n",
    "\n",
    "C_precis1 = np.zeros((n_splits, len(Cs)))\n",
    "\n",
    "\n",
    "## the cross-validation\n",
    "for i,(train_index, test_index) in enumerate(kfold.split(meso_tt_balanced, meso_tt_balanced.y)):\n",
    "    print(\"CV Split\", i)\n",
    "    meso_bal_tt = meso_tt_balanced.iloc[train_index]\n",
    "    meso_ho = meso_tt_balanced.iloc[test_index]\n",
    "    \n",
    "    for j,C in enumerate(Cs):\n",
    "        pipe = Pipeline([('scale', StandardScaler()),\n",
    "                            ('svm', SVC(C=C))])\n",
    "    \n",
    "        pipe.fit(meso_bal_tt[all_features],\n",
    "                    meso_bal_tt.y)\n",
    "    \n",
    "        pred = pipe.predict(meso_ho[all_features])\n",
    "\n",
    "        C_accs1[i, j] = accuracy_score(meso_ho.y, pred)\n",
    "        C_reccs1[i, j] = recall_score(meso_ho.y, pred)\n",
    "        C_precis1[i, j] = precision_score(meso_ho.y, pred)"
   ]
  },
  {
   "cell_type": "code",
   "execution_count": 29,
   "metadata": {},
   "outputs": [
    {
     "name": "stdout",
     "output_type": "stream",
     "text": [
      "The optimal C was 150 which gave a mean CV accuracy of 0.842\n"
     ]
    }
   ],
   "source": [
    "mean_cv_accuracy = np.mean(C_accs1, axis=0)\n",
    "optimal_index = np.argmax(mean_cv_accuracy)\n",
    "optimal_C = Cs[optimal_index]\n",
    "optimal_accuracy = mean_cv_accuracy[optimal_index]\n",
    "\n",
    "print(f\"The optimal C was {optimal_C} which gave a mean CV accuracy of {optimal_accuracy:.3f}\")"
   ]
  },
  {
   "cell_type": "code",
   "execution_count": 30,
   "metadata": {},
   "outputs": [
    {
     "name": "stdout",
     "output_type": "stream",
     "text": [
      "The optimal C was 150 which gave a mean CV recall of 0.886\n"
     ]
    }
   ],
   "source": [
    "mean_cv_recall = np.mean(C_reccs1, axis=0)\n",
    "optimal_recall_index = np.argmax(mean_cv_recall)\n",
    "optimal_recall_C = Cs[optimal_recall_index]\n",
    "optimal_recall = mean_cv_recall[optimal_recall_index]\n",
    "\n",
    "print(f\"The optimal C was {optimal_recall_C} which gave a mean CV recall of {optimal_recall:.3f}\")"
   ]
  },
  {
   "cell_type": "code",
   "execution_count": 31,
   "metadata": {},
   "outputs": [
    {
     "name": "stdout",
     "output_type": "stream",
     "text": [
      "The optimal C was 150 which gave a mean CV precision of 0.815\n"
     ]
    }
   ],
   "source": [
    "mean_cv_precision = np.mean(C_precis1, axis=0)\n",
    "optimal_precision_index = np.argmax(mean_cv_precision)\n",
    "optimal_precision_C = Cs[optimal_precision_index]\n",
    "optimal_precision = mean_cv_precision[optimal_precision_index]\n",
    "\n",
    "print(f\"The optimal C was {optimal_precision_C} which gave a mean CV precision of {optimal_precision:.3f}\")"
   ]
  }
 ],
 "metadata": {
  "kernelspec": {
   "display_name": "Python 3",
   "language": "python",
   "name": "python3"
  },
  "language_info": {
   "codemirror_mode": {
    "name": "ipython",
    "version": 3
   },
   "file_extension": ".py",
   "mimetype": "text/x-python",
   "name": "python",
   "nbconvert_exporter": "python",
   "pygments_lexer": "ipython3",
   "version": "3.12.3"
  }
 },
 "nbformat": 4,
 "nbformat_minor": 2
}
