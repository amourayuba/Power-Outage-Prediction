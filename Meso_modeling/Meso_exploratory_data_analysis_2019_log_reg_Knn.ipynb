{
 "cells": [
  {
   "cell_type": "code",
   "execution_count": 57,
   "metadata": {},
   "outputs": [],
   "source": [
    "# import useful libraries\n",
    "import pandas as pd\n",
    "import numpy as np\n",
    "import matplotlib.pyplot as plt\n",
    "import matplotlib as mpl \n",
    "mpl.rcParams[\"figure.dpi\"] = 150\n",
    "import seaborn as sns\n",
    "import os\n",
    "\n",
    "# enable copy on write (default in pandas 3.0)\n",
    "pd.options.mode.copy_on_write = True"
   ]
  },
  {
   "cell_type": "code",
   "execution_count": 58,
   "metadata": {},
   "outputs": [],
   "source": [
    "from sklearn.model_selection import train_test_split\n",
    "from sklearn.neighbors import KNeighborsClassifier\n",
    "from sklearn.pipeline import Pipeline\n",
    "from sklearn.preprocessing import StandardScaler\n",
    "from sklearn.metrics import precision_score, recall_score\n",
    "from sklearn.metrics import accuracy_score\n",
    "from sklearn.linear_model import LogisticRegression\n",
    "from sklearn.metrics import accuracy_score\n",
    "from sklearn.model_selection import StratifiedKFold"
   ]
  },
  {
   "cell_type": "code",
   "execution_count": 59,
   "metadata": {},
   "outputs": [],
   "source": [
    "merge_meso_2019 = pd.read_csv('../merged/merged_meso_2019.csv', parse_dates=['DATE'])"
   ]
  },
  {
   "cell_type": "code",
   "execution_count": 60,
   "metadata": {},
   "outputs": [],
   "source": [
    "del merge_meso_2019['TVS_max']"
   ]
  },
  {
   "cell_type": "code",
   "execution_count": 61,
   "metadata": {},
   "outputs": [],
   "source": [
    "outage = merge_meso_2019[merge_meso_2019['power_outage']==True]\n",
    "no_outage = merge_meso_2019[merge_meso_2019['power_outage']==False]"
   ]
  },
  {
   "cell_type": "code",
   "execution_count": 62,
   "metadata": {},
   "outputs": [],
   "source": [
    "merge_meso_2019['y'] = 0\n",
    "\n",
    "merge_meso_2019.loc[merge_meso_2019.power_outage == True, 'y']=1"
   ]
  },
  {
   "cell_type": "code",
   "execution_count": 64,
   "metadata": {},
   "outputs": [],
   "source": [
    "merge_meso_2019['DATE'] = pd.to_datetime(merge_meso_2019['DATE'])\n",
    "merge_meso_2019['Month'] = merge_meso_2019['DATE'].dt.month"
   ]
  },
  {
   "cell_type": "code",
   "execution_count": 91,
   "metadata": {},
   "outputs": [],
   "source": [
    "all_features =([merge_meso_2019.columns[3], \n",
    "                merge_meso_2019.columns[4]] +\n",
    "                merge_meso_2019.columns[6:14].tolist() +\n",
    "                [merge_meso_2019.columns[18]])"
   ]
  },
  {
   "cell_type": "code",
   "execution_count": null,
   "metadata": {},
   "outputs": [],
   "source": [
    "all_features"
   ]
  },
  {
   "cell_type": "code",
   "execution_count": 65,
   "metadata": {},
   "outputs": [
    {
     "data": {
      "text/html": [
       "<div>\n",
       "<style scoped>\n",
       "    .dataframe tbody tr th:only-of-type {\n",
       "        vertical-align: middle;\n",
       "    }\n",
       "\n",
       "    .dataframe tbody tr th {\n",
       "        vertical-align: top;\n",
       "    }\n",
       "\n",
       "    .dataframe thead th {\n",
       "        text-align: right;\n",
       "    }\n",
       "</style>\n",
       "<table border=\"1\" class=\"dataframe\">\n",
       "  <thead>\n",
       "    <tr style=\"text-align: right;\">\n",
       "      <th></th>\n",
       "      <th>Unnamed: 0</th>\n",
       "      <th>index</th>\n",
       "      <th>DATE</th>\n",
       "      <th>LAT_mean</th>\n",
       "      <th>LON_mean</th>\n",
       "      <th>STR_RANK_max</th>\n",
       "      <th>LL_ROT_VEL_max</th>\n",
       "      <th>LL_DV_max</th>\n",
       "      <th>LL_BASE_max</th>\n",
       "      <th>DEPTH_KFT_max</th>\n",
       "      <th>DPTH_STMRL_max</th>\n",
       "      <th>MAX_RV_KFT_max</th>\n",
       "      <th>MAX_RV_KTS_max</th>\n",
       "      <th>MSI_max</th>\n",
       "      <th>county</th>\n",
       "      <th>state</th>\n",
       "      <th>power_outage</th>\n",
       "      <th>y</th>\n",
       "      <th>Month</th>\n",
       "    </tr>\n",
       "  </thead>\n",
       "  <tbody>\n",
       "    <tr>\n",
       "      <th>0</th>\n",
       "      <td>0</td>\n",
       "      <td>0</td>\n",
       "      <td>2019-01-01</td>\n",
       "      <td>35.30391</td>\n",
       "      <td>-106.70199</td>\n",
       "      <td>9</td>\n",
       "      <td>52</td>\n",
       "      <td>61</td>\n",
       "      <td>14</td>\n",
       "      <td>12</td>\n",
       "      <td>100</td>\n",
       "      <td>24</td>\n",
       "      <td>63</td>\n",
       "      <td>5559</td>\n",
       "      <td>Sandoval County</td>\n",
       "      <td>New Mexico</td>\n",
       "      <td>False</td>\n",
       "      <td>0</td>\n",
       "      <td>1</td>\n",
       "    </tr>\n",
       "    <tr>\n",
       "      <th>1</th>\n",
       "      <td>1</td>\n",
       "      <td>1</td>\n",
       "      <td>2019-01-01</td>\n",
       "      <td>35.79095</td>\n",
       "      <td>-106.68525</td>\n",
       "      <td>6L</td>\n",
       "      <td>35</td>\n",
       "      <td>44</td>\n",
       "      <td>7</td>\n",
       "      <td>12</td>\n",
       "      <td>100</td>\n",
       "      <td>11</td>\n",
       "      <td>46</td>\n",
       "      <td>3419</td>\n",
       "      <td>Sandoval County</td>\n",
       "      <td>New Mexico</td>\n",
       "      <td>False</td>\n",
       "      <td>0</td>\n",
       "      <td>1</td>\n",
       "    </tr>\n",
       "    <tr>\n",
       "      <th>2</th>\n",
       "      <td>2</td>\n",
       "      <td>2</td>\n",
       "      <td>2019-01-01</td>\n",
       "      <td>35.35228</td>\n",
       "      <td>-106.68135</td>\n",
       "      <td>5L</td>\n",
       "      <td>33</td>\n",
       "      <td>47</td>\n",
       "      <td>9</td>\n",
       "      <td>8</td>\n",
       "      <td>100</td>\n",
       "      <td>16</td>\n",
       "      <td>62</td>\n",
       "      <td>4740</td>\n",
       "      <td>Sandoval County</td>\n",
       "      <td>New Mexico</td>\n",
       "      <td>False</td>\n",
       "      <td>0</td>\n",
       "      <td>1</td>\n",
       "    </tr>\n",
       "    <tr>\n",
       "      <th>3</th>\n",
       "      <td>3</td>\n",
       "      <td>3</td>\n",
       "      <td>2019-01-01</td>\n",
       "      <td>34.96357</td>\n",
       "      <td>-107.08421</td>\n",
       "      <td>5L</td>\n",
       "      <td>31</td>\n",
       "      <td>43</td>\n",
       "      <td>9</td>\n",
       "      <td>4</td>\n",
       "      <td>100</td>\n",
       "      <td>12</td>\n",
       "      <td>46</td>\n",
       "      <td>3480</td>\n",
       "      <td>Cibola County</td>\n",
       "      <td>New Mexico</td>\n",
       "      <td>False</td>\n",
       "      <td>0</td>\n",
       "      <td>1</td>\n",
       "    </tr>\n",
       "    <tr>\n",
       "      <th>4</th>\n",
       "      <td>4</td>\n",
       "      <td>4</td>\n",
       "      <td>2019-01-01</td>\n",
       "      <td>35.44015</td>\n",
       "      <td>-106.72896</td>\n",
       "      <td>5L</td>\n",
       "      <td>40</td>\n",
       "      <td>45</td>\n",
       "      <td>10</td>\n",
       "      <td>3</td>\n",
       "      <td>100</td>\n",
       "      <td>10</td>\n",
       "      <td>40</td>\n",
       "      <td>2431</td>\n",
       "      <td>Sandoval County</td>\n",
       "      <td>New Mexico</td>\n",
       "      <td>False</td>\n",
       "      <td>0</td>\n",
       "      <td>1</td>\n",
       "    </tr>\n",
       "  </tbody>\n",
       "</table>\n",
       "</div>"
      ],
      "text/plain": [
       "   Unnamed: 0  index       DATE  LAT_mean   LON_mean STR_RANK_max  \\\n",
       "0           0      0 2019-01-01  35.30391 -106.70199            9   \n",
       "1           1      1 2019-01-01  35.79095 -106.68525           6L   \n",
       "2           2      2 2019-01-01  35.35228 -106.68135           5L   \n",
       "3           3      3 2019-01-01  34.96357 -107.08421           5L   \n",
       "4           4      4 2019-01-01  35.44015 -106.72896           5L   \n",
       "\n",
       "   LL_ROT_VEL_max  LL_DV_max  LL_BASE_max  DEPTH_KFT_max  DPTH_STMRL_max  \\\n",
       "0              52         61           14             12             100   \n",
       "1              35         44            7             12             100   \n",
       "2              33         47            9              8             100   \n",
       "3              31         43            9              4             100   \n",
       "4              40         45           10              3             100   \n",
       "\n",
       "   MAX_RV_KFT_max  MAX_RV_KTS_max  MSI_max           county       state  \\\n",
       "0              24              63     5559  Sandoval County  New Mexico   \n",
       "1              11              46     3419  Sandoval County  New Mexico   \n",
       "2              16              62     4740  Sandoval County  New Mexico   \n",
       "3              12              46     3480    Cibola County  New Mexico   \n",
       "4              10              40     2431  Sandoval County  New Mexico   \n",
       "\n",
       "   power_outage  y  Month  \n",
       "0         False  0      1  \n",
       "1         False  0      1  \n",
       "2         False  0      1  \n",
       "3         False  0      1  \n",
       "4         False  0      1  "
      ]
     },
     "execution_count": 65,
     "metadata": {},
     "output_type": "execute_result"
    }
   ],
   "source": [
    "merge_meso_2019.head()"
   ]
  },
  {
   "cell_type": "code",
   "execution_count": 66,
   "metadata": {},
   "outputs": [],
   "source": [
    "meso_train, meso_test = train_test_split(merge_meso_2019.copy(),\n",
    "                                              shuffle=True,\n",
    "                                              random_state=123,\n",
    "                                              test_size=.2,\n",
    "                                              stratify=merge_meso_2019.y.values)"
   ]
  },
  {
   "cell_type": "code",
   "execution_count": 67,
   "metadata": {},
   "outputs": [],
   "source": [
    "meso_tt, meso_val = train_test_split(meso_train.copy(),\n",
    "                                              shuffle=True,\n",
    "                                              random_state=123,\n",
    "                                              test_size=.2,\n",
    "                                              stratify=meso_train.y.values)"
   ]
  },
  {
   "cell_type": "code",
   "execution_count": 68,
   "metadata": {},
   "outputs": [],
   "source": [
    "outage = meso_tt[meso_tt['power_outage']==True]\n",
    "no_outage = meso_tt[meso_tt['power_outage']==False]\n",
    "no_outage= no_outage.sample(n=len(outage), random_state=101)\n",
    "meso_tt_balanced = pd.concat([outage,no_outage],axis=0)"
   ]
  },
  {
   "cell_type": "code",
   "execution_count": 69,
   "metadata": {},
   "outputs": [],
   "source": [
    "n_splits = 5\n",
    "\n",
    "kfold = StratifiedKFold(n_splits,\n",
    "                           shuffle=True,\n",
    "                           random_state=498)"
   ]
  },
  {
   "cell_type": "code",
   "execution_count": 70,
   "metadata": {},
   "outputs": [],
   "source": [
    "all_features =([merge_meso_2019.columns[3], \n",
    "                merge_meso_2019.columns[4]] +\n",
    "                merge_meso_2019.columns[6:14].tolist() +\n",
    "                [merge_meso_2019.columns[18]])"
   ]
  },
  {
   "cell_type": "code",
   "execution_count": null,
   "metadata": {},
   "outputs": [],
   "source": [
    "for col in meso_tt_balanced.columns[6:14]:\n",
    "    plt.figure(figsize=(8,5))\n",
    "\n",
    "\n",
    "    plt.hist(meso_tt_balanced.loc[meso_tt_balanced.y==0, col].values,\n",
    "                color='blue',\n",
    "                alpha=.8,\n",
    "                label=\"$y=0$\")\n",
    "\n",
    "    plt.hist(meso_tt_balanced.loc[meso_tt_balanced.y==1, col].values,\n",
    "                color='red',\n",
    "                alpha=.4,\n",
    "                hatch = '\\\\',\n",
    "                edgecolor='black',\n",
    "                label=\"$y=1$\")\n",
    "\n",
    "    plt.xlabel(col, fontsize=14)\n",
    "    plt.legend(fontsize=14)\n",
    "\n",
    "    plt.show()"
   ]
  },
  {
   "cell_type": "code",
   "execution_count": 74,
   "metadata": {},
   "outputs": [
    {
     "name": "stderr",
     "output_type": "stream",
     "text": [
      "C:\\Users\\squis\\AppData\\Local\\Packages\\PythonSoftwareFoundation.Python.3.12_qbz5n2kfra8p0\\LocalCache\\local-packages\\Python312\\site-packages\\sklearn\\linear_model\\_logistic.py:469: ConvergenceWarning: lbfgs failed to converge (status=1):\n",
      "STOP: TOTAL NO. of ITERATIONS REACHED LIMIT.\n",
      "\n",
      "Increase the number of iterations (max_iter) or scale the data as shown in:\n",
      "    https://scikit-learn.org/stable/modules/preprocessing.html\n",
      "Please also refer to the documentation for alternative solver options:\n",
      "    https://scikit-learn.org/stable/modules/linear_model.html#logistic-regression\n",
      "  n_iter_i = _check_optimize_result(\n",
      "C:\\Users\\squis\\AppData\\Local\\Packages\\PythonSoftwareFoundation.Python.3.12_qbz5n2kfra8p0\\LocalCache\\local-packages\\Python312\\site-packages\\sklearn\\linear_model\\_logistic.py:469: ConvergenceWarning: lbfgs failed to converge (status=1):\n",
      "STOP: TOTAL NO. of ITERATIONS REACHED LIMIT.\n",
      "\n",
      "Increase the number of iterations (max_iter) or scale the data as shown in:\n",
      "    https://scikit-learn.org/stable/modules/preprocessing.html\n",
      "Please also refer to the documentation for alternative solver options:\n",
      "    https://scikit-learn.org/stable/modules/linear_model.html#logistic-regression\n",
      "  n_iter_i = _check_optimize_result(\n",
      "C:\\Users\\squis\\AppData\\Local\\Packages\\PythonSoftwareFoundation.Python.3.12_qbz5n2kfra8p0\\LocalCache\\local-packages\\Python312\\site-packages\\sklearn\\linear_model\\_logistic.py:469: ConvergenceWarning: lbfgs failed to converge (status=1):\n",
      "STOP: TOTAL NO. of ITERATIONS REACHED LIMIT.\n",
      "\n",
      "Increase the number of iterations (max_iter) or scale the data as shown in:\n",
      "    https://scikit-learn.org/stable/modules/preprocessing.html\n",
      "Please also refer to the documentation for alternative solver options:\n",
      "    https://scikit-learn.org/stable/modules/linear_model.html#logistic-regression\n",
      "  n_iter_i = _check_optimize_result(\n",
      "C:\\Users\\squis\\AppData\\Local\\Packages\\PythonSoftwareFoundation.Python.3.12_qbz5n2kfra8p0\\LocalCache\\local-packages\\Python312\\site-packages\\sklearn\\linear_model\\_logistic.py:469: ConvergenceWarning: lbfgs failed to converge (status=1):\n",
      "STOP: TOTAL NO. of ITERATIONS REACHED LIMIT.\n",
      "\n",
      "Increase the number of iterations (max_iter) or scale the data as shown in:\n",
      "    https://scikit-learn.org/stable/modules/preprocessing.html\n",
      "Please also refer to the documentation for alternative solver options:\n",
      "    https://scikit-learn.org/stable/modules/linear_model.html#logistic-regression\n",
      "  n_iter_i = _check_optimize_result(\n",
      "C:\\Users\\squis\\AppData\\Local\\Packages\\PythonSoftwareFoundation.Python.3.12_qbz5n2kfra8p0\\LocalCache\\local-packages\\Python312\\site-packages\\sklearn\\linear_model\\_logistic.py:469: ConvergenceWarning: lbfgs failed to converge (status=1):\n",
      "STOP: TOTAL NO. of ITERATIONS REACHED LIMIT.\n",
      "\n",
      "Increase the number of iterations (max_iter) or scale the data as shown in:\n",
      "    https://scikit-learn.org/stable/modules/preprocessing.html\n",
      "Please also refer to the documentation for alternative solver options:\n",
      "    https://scikit-learn.org/stable/modules/linear_model.html#logistic-regression\n",
      "  n_iter_i = _check_optimize_result(\n"
     ]
    }
   ],
   "source": [
    "log_accs = np.zeros(5)\n",
    "\n",
    "i = 0\n",
    "for train_index, test_index in kfold.split(meso_tt_balanced, meso_tt_balanced.y):\n",
    "    meso_tt_tt = meso_tt_balanced.iloc[train_index]\n",
    "    meso_ho = meso_tt_balanced.iloc[test_index]\n",
    "    \n",
    "    log_reg = LogisticRegression(penalty=None, max_iter = 1000)\n",
    "        \n",
    "    log_reg.fit(meso_tt_tt[all_features].values,\n",
    "                   meso_tt_tt.y.values)\n",
    "        \n",
    "    pred = log_reg.predict(meso_ho[all_features].values)\n",
    "    \n",
    "    log_accs[i] = accuracy_score(meso_ho.y.values,\n",
    "                                              pred)\n",
    "    \n",
    "    i = i + 1"
   ]
  },
  {
   "cell_type": "code",
   "execution_count": 75,
   "metadata": {},
   "outputs": [
    {
     "data": {
      "text/plain": [
       "0.6922264592441627"
      ]
     },
     "execution_count": 75,
     "metadata": {},
     "output_type": "execute_result"
    }
   ],
   "source": [
    "np.mean(log_accs)"
   ]
  },
  {
   "cell_type": "code",
   "execution_count": 76,
   "metadata": {},
   "outputs": [
    {
     "name": "stderr",
     "output_type": "stream",
     "text": [
      "C:\\Users\\squis\\AppData\\Local\\Packages\\PythonSoftwareFoundation.Python.3.12_qbz5n2kfra8p0\\LocalCache\\local-packages\\Python312\\site-packages\\sklearn\\linear_model\\_logistic.py:469: ConvergenceWarning: lbfgs failed to converge (status=1):\n",
      "STOP: TOTAL NO. of ITERATIONS REACHED LIMIT.\n",
      "\n",
      "Increase the number of iterations (max_iter) or scale the data as shown in:\n",
      "    https://scikit-learn.org/stable/modules/preprocessing.html\n",
      "Please also refer to the documentation for alternative solver options:\n",
      "    https://scikit-learn.org/stable/modules/linear_model.html#logistic-regression\n",
      "  n_iter_i = _check_optimize_result(\n",
      "C:\\Users\\squis\\AppData\\Local\\Packages\\PythonSoftwareFoundation.Python.3.12_qbz5n2kfra8p0\\LocalCache\\local-packages\\Python312\\site-packages\\sklearn\\linear_model\\_logistic.py:469: ConvergenceWarning: lbfgs failed to converge (status=1):\n",
      "STOP: TOTAL NO. of ITERATIONS REACHED LIMIT.\n",
      "\n",
      "Increase the number of iterations (max_iter) or scale the data as shown in:\n",
      "    https://scikit-learn.org/stable/modules/preprocessing.html\n",
      "Please also refer to the documentation for alternative solver options:\n",
      "    https://scikit-learn.org/stable/modules/linear_model.html#logistic-regression\n",
      "  n_iter_i = _check_optimize_result(\n",
      "C:\\Users\\squis\\AppData\\Local\\Packages\\PythonSoftwareFoundation.Python.3.12_qbz5n2kfra8p0\\LocalCache\\local-packages\\Python312\\site-packages\\sklearn\\linear_model\\_logistic.py:469: ConvergenceWarning: lbfgs failed to converge (status=1):\n",
      "STOP: TOTAL NO. of ITERATIONS REACHED LIMIT.\n",
      "\n",
      "Increase the number of iterations (max_iter) or scale the data as shown in:\n",
      "    https://scikit-learn.org/stable/modules/preprocessing.html\n",
      "Please also refer to the documentation for alternative solver options:\n",
      "    https://scikit-learn.org/stable/modules/linear_model.html#logistic-regression\n",
      "  n_iter_i = _check_optimize_result(\n",
      "C:\\Users\\squis\\AppData\\Local\\Packages\\PythonSoftwareFoundation.Python.3.12_qbz5n2kfra8p0\\LocalCache\\local-packages\\Python312\\site-packages\\sklearn\\linear_model\\_logistic.py:469: ConvergenceWarning: lbfgs failed to converge (status=1):\n",
      "STOP: TOTAL NO. of ITERATIONS REACHED LIMIT.\n",
      "\n",
      "Increase the number of iterations (max_iter) or scale the data as shown in:\n",
      "    https://scikit-learn.org/stable/modules/preprocessing.html\n",
      "Please also refer to the documentation for alternative solver options:\n",
      "    https://scikit-learn.org/stable/modules/linear_model.html#logistic-regression\n",
      "  n_iter_i = _check_optimize_result(\n",
      "C:\\Users\\squis\\AppData\\Local\\Packages\\PythonSoftwareFoundation.Python.3.12_qbz5n2kfra8p0\\LocalCache\\local-packages\\Python312\\site-packages\\sklearn\\linear_model\\_logistic.py:469: ConvergenceWarning: lbfgs failed to converge (status=1):\n",
      "STOP: TOTAL NO. of ITERATIONS REACHED LIMIT.\n",
      "\n",
      "Increase the number of iterations (max_iter) or scale the data as shown in:\n",
      "    https://scikit-learn.org/stable/modules/preprocessing.html\n",
      "Please also refer to the documentation for alternative solver options:\n",
      "    https://scikit-learn.org/stable/modules/linear_model.html#logistic-regression\n",
      "  n_iter_i = _check_optimize_result(\n"
     ]
    }
   ],
   "source": [
    "log_recs = np.zeros(5)\n",
    "log_precis = np.zeros(5)\n",
    "\n",
    "i = 0\n",
    "for train_index, test_index in kfold.split(meso_tt_balanced, meso_tt_balanced.y):\n",
    "    meso_tt_tt = meso_tt_balanced.iloc[train_index]\n",
    "    meso_ho = meso_tt_balanced.iloc[test_index]\n",
    "    \n",
    "    log_reg = LogisticRegression(penalty=None, max_iter = 1000)\n",
    "        \n",
    "    log_reg.fit(meso_tt_tt[all_features].values,\n",
    "                   meso_tt_tt.y.values)\n",
    "        \n",
    "    pred = log_reg.predict(meso_ho[all_features].values)\n",
    "    \n",
    "    log_recs[i] = recall_score(meso_ho.y.values,\n",
    "                                              pred)\n",
    "    log_precis[i] = precision_score(meso_ho.y.values,\n",
    "                                              pred)\n",
    "    \n",
    "    i = i + 1"
   ]
  },
  {
   "cell_type": "code",
   "execution_count": 77,
   "metadata": {},
   "outputs": [
    {
     "data": {
      "text/plain": [
       "0.7424755343384332"
      ]
     },
     "execution_count": 77,
     "metadata": {},
     "output_type": "execute_result"
    }
   ],
   "source": [
    "np.mean(log_recs)"
   ]
  },
  {
   "cell_type": "code",
   "execution_count": 78,
   "metadata": {},
   "outputs": [
    {
     "data": {
      "text/plain": [
       "0.6746349263367858"
      ]
     },
     "execution_count": 78,
     "metadata": {},
     "output_type": "execute_result"
    }
   ],
   "source": [
    "np.mean(log_precis)"
   ]
  },
  {
   "cell_type": "code",
   "execution_count": 79,
   "metadata": {},
   "outputs": [],
   "source": [
    "ks = range(1,56)\n",
    "\n",
    "\n",
    "k_all_accs = np.zeros((5, len(ks)))\n",
    "k_all_recs = np.zeros((5, len(ks))) \n",
    "k_all_precis = np.zeros((5, len(ks))) \n",
    "\n",
    "i = 0\n",
    "for train_index, test_index in kfold.split(meso_tt_balanced, meso_tt_balanced.y):\n",
    "    meso_bal_tt = meso_tt_balanced.iloc[train_index]\n",
    "    meso_ho = meso_tt_balanced.iloc[test_index]\n",
    "    \n",
    "    j = 0\n",
    "    for k in ks:\n",
    "        knn = Pipeline([('scale', StandardScaler()),('knn_cls', KNeighborsClassifier(k))])\n",
    "        \n",
    "        knn.fit(meso_bal_tt[all_features].values,\n",
    "                   meso_bal_tt.y.values)\n",
    "        \n",
    "        pred = knn.predict(meso_ho[all_features].values)\n",
    "        \n",
    "        k_all_accs[i,j] = accuracy_score(meso_ho.y.values, pred)\n",
    "\n",
    "        k_all_recs[i] = recall_score(meso_ho.y.values,\n",
    "                                              pred)\n",
    "        \n",
    "        k_all_precis[i] = precision_score(meso_ho.y.values,\n",
    "                                              pred)\n",
    "        \n",
    "        j = j + 1\n",
    "    i = i + 1"
   ]
  },
  {
   "cell_type": "code",
   "execution_count": 80,
   "metadata": {},
   "outputs": [
    {
     "data": {
      "text/plain": [
       "0.8189735537426536"
      ]
     },
     "execution_count": 80,
     "metadata": {},
     "output_type": "execute_result"
    }
   ],
   "source": [
    "np.mean(k_all_accs)"
   ]
  },
  {
   "cell_type": "code",
   "execution_count": 81,
   "metadata": {},
   "outputs": [
    {
     "data": {
      "text/plain": [
       "0.8745816973261702"
      ]
     },
     "execution_count": 81,
     "metadata": {},
     "output_type": "execute_result"
    }
   ],
   "source": [
    "np.mean(k_all_recs)"
   ]
  },
  {
   "cell_type": "code",
   "execution_count": 82,
   "metadata": {},
   "outputs": [
    {
     "data": {
      "text/plain": [
       "0.7719033184046648"
      ]
     },
     "execution_count": 82,
     "metadata": {},
     "output_type": "execute_result"
    }
   ],
   "source": [
    "np.mean(k_all_precis)"
   ]
  },
  {
   "cell_type": "code",
   "execution_count": 83,
   "metadata": {},
   "outputs": [
    {
     "data": {
      "image/png": "[encoded data removed]",
      "text/plain": [
       "<Figure size 1050x750 with 1 Axes>"
      ]
     },
     "metadata": {},
     "output_type": "display_data"
    }
   ],
   "source": [
    "plt.figure(figsize=(7,5))\n",
    "\n",
    "\n",
    "plt.plot(ks, \n",
    "         np.mean(k_all_accs, axis=0),\n",
    "         '-o')\n",
    "\n",
    "\n",
    "plt.xticks(fontsize=10)\n",
    "plt.yticks(fontsize=10)\n",
    "plt.xlabel(\"$k$\", fontsize=12)\n",
    "plt.ylabel(\"Avg. CV Accuracy\", fontsize=12)\n",
    "\n",
    "plt.show()"
   ]
  },
  {
   "cell_type": "code",
   "execution_count": 84,
   "metadata": {},
   "outputs": [
    {
     "name": "stdout",
     "output_type": "stream",
     "text": [
      "The optimal value of k was 10 which achieved a mean CV accuracy of  0.8311241046820271\n"
     ]
    }
   ],
   "source": [
    "best_k = np.argmax(np.mean(k_all_accs, axis=0))\n",
    "best_k_acc = np.mean(k_all_accs, axis=0)[best_k]\n",
    "\n",
    "print(\"The optimal value of k was\", best_k + 1, \"which achieved a mean CV accuracy of \", best_k_acc)"
   ]
  },
  {
   "cell_type": "code",
   "execution_count": 92,
   "metadata": {},
   "outputs": [],
   "source": [
    "knn_best = KNeighborsClassifier(n_neighbors=10)"
   ]
  },
  {
   "cell_type": "code",
   "execution_count": 93,
   "metadata": {},
   "outputs": [],
   "source": [
    "knn_best.fit(meso_tt_balanced[all_features].values,\n",
    "                   meso_tt_balanced.y.values)\n",
    "\n",
    "pred_best = knn_best.predict(meso_val[all_features].values)"
   ]
  },
  {
   "cell_type": "code",
   "execution_count": 94,
   "metadata": {},
   "outputs": [
    {
     "name": "stdout",
     "output_type": "stream",
     "text": [
      "accuracy score: 0.6655794722800352\n",
      "recall score: 0.6207177814029364\n",
      "precision score: 0.07708202499848064\n"
     ]
    }
   ],
   "source": [
    "print(\"accuracy score:\", accuracy_score(meso_val.y.values, pred_best))\n",
    "print(\"recall score:\", recall_score(meso_val.y.values, pred_best))\n",
    "print(\"precision score:\", precision_score(meso_val.y.values, pred_best))"
   ]
  },
  {
   "cell_type": "code",
   "execution_count": 95,
   "metadata": {},
   "outputs": [],
   "source": [
    "outage_train = meso_train[meso_train['power_outage']==True]\n",
    "no_outage_train = meso_train[meso_train['power_outage']==False]\n",
    "no_outage_train= no_outage_train.sample(n=len(outage_train), random_state=101)\n",
    "meso_train_balanced = pd.concat([outage_train,no_outage_train],axis=0)"
   ]
  },
  {
   "cell_type": "code",
   "execution_count": 96,
   "metadata": {},
   "outputs": [],
   "source": [
    "knn_best.fit(meso_train_balanced[all_features].values,\n",
    "                   meso_train_balanced.y.values)\n",
    "\n",
    "pred_test_best = knn_best.predict(meso_test[all_features].values)"
   ]
  },
  {
   "cell_type": "code",
   "execution_count": 97,
   "metadata": {},
   "outputs": [
    {
     "name": "stdout",
     "output_type": "stream",
     "text": [
      "accuracy score: 0.6683447127579926\n",
      "recall score: 0.6335160532498042\n",
      "precision score: 0.07904893738294927\n"
     ]
    }
   ],
   "source": [
    "print(\"accuracy score:\", accuracy_score(meso_test.y.values, pred_test_best))\n",
    "print(\"recall score:\", recall_score(meso_test.y.values, pred_test_best))\n",
    "print(\"precision score:\", precision_score(meso_test.y.values, pred_test_best))"
   ]
  }
 ],
 "metadata": {
  "kernelspec": {
   "display_name": "Python 3",
   "language": "python",
   "name": "python3"
  },
  "language_info": {
   "codemirror_mode": {
    "name": "ipython",
    "version": 3
   },
   "file_extension": ".py",
   "mimetype": "text/x-python",
   "name": "python",
   "nbconvert_exporter": "python",
   "pygments_lexer": "ipython3",
   "version": "3.12.3"
  }
 },
 "nbformat": 4,
 "nbformat_minor": 2
}
